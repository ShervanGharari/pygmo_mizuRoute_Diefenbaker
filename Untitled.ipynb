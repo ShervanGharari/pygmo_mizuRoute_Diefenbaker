{
 "cells": [
  {
   "cell_type": "code",
   "execution_count": 1,
   "id": "d8c6009e-9aa1-4d28-9dd0-6acb95837630",
   "metadata": {},
   "outputs": [
    {
     "name": "stderr",
     "output_type": "stream",
     "text": [
      "<frozen importlib._bootstrap>:219: RuntimeWarning: mpi4py.MPI.Status size changed, may indicate binary incompatibility. Expected 48 from C header, got 56 from PyObject\n",
      "<frozen importlib._bootstrap>:219: RuntimeWarning: mpi4py.MPI.Datatype size changed, may indicate binary incompatibility. Expected 32 from C header, got 40 from PyObject\n",
      "<frozen importlib._bootstrap>:219: RuntimeWarning: mpi4py.MPI.Request size changed, may indicate binary incompatibility. Expected 40 from C header, got 48 from PyObject\n",
      "<frozen importlib._bootstrap>:219: RuntimeWarning: mpi4py.MPI.Prequest size changed, may indicate binary incompatibility. Expected 40 from C header, got 48 from PyObject\n",
      "<frozen importlib._bootstrap>:219: RuntimeWarning: mpi4py.MPI.Grequest size changed, may indicate binary incompatibility. Expected 48 from C header, got 56 from PyObject\n",
      "<frozen importlib._bootstrap>:219: RuntimeWarning: mpi4py.MPI.Message size changed, may indicate binary incompatibility. Expected 40 from C header, got 48 from PyObject\n",
      "<frozen importlib._bootstrap>:219: RuntimeWarning: mpi4py.MPI.Op size changed, may indicate binary incompatibility. Expected 48 from C header, got 56 from PyObject\n",
      "<frozen importlib._bootstrap>:219: RuntimeWarning: mpi4py.MPI.Group size changed, may indicate binary incompatibility. Expected 32 from C header, got 40 from PyObject\n",
      "<frozen importlib._bootstrap>:219: RuntimeWarning: mpi4py.MPI.Info size changed, may indicate binary incompatibility. Expected 32 from C header, got 40 from PyObject\n",
      "<frozen importlib._bootstrap>:219: RuntimeWarning: mpi4py.MPI.Errhandler size changed, may indicate binary incompatibility. Expected 32 from C header, got 40 from PyObject\n",
      "<frozen importlib._bootstrap>:219: RuntimeWarning: mpi4py.MPI.Comm size changed, may indicate binary incompatibility. Expected 32 from C header, got 40 from PyObject\n",
      "<frozen importlib._bootstrap>:219: RuntimeWarning: mpi4py.MPI.Intracomm size changed, may indicate binary incompatibility. Expected 32 from C header, got 40 from PyObject\n",
      "<frozen importlib._bootstrap>:219: RuntimeWarning: mpi4py.MPI.Topocomm size changed, may indicate binary incompatibility. Expected 32 from C header, got 40 from PyObject\n",
      "<frozen importlib._bootstrap>:219: RuntimeWarning: mpi4py.MPI.Cartcomm size changed, may indicate binary incompatibility. Expected 32 from C header, got 40 from PyObject\n",
      "<frozen importlib._bootstrap>:219: RuntimeWarning: mpi4py.MPI.Graphcomm size changed, may indicate binary incompatibility. Expected 32 from C header, got 40 from PyObject\n",
      "<frozen importlib._bootstrap>:219: RuntimeWarning: mpi4py.MPI.Distgraphcomm size changed, may indicate binary incompatibility. Expected 32 from C header, got 40 from PyObject\n",
      "<frozen importlib._bootstrap>:219: RuntimeWarning: mpi4py.MPI.Intercomm size changed, may indicate binary incompatibility. Expected 32 from C header, got 40 from PyObject\n",
      "<frozen importlib._bootstrap>:219: RuntimeWarning: mpi4py.MPI.Win size changed, may indicate binary incompatibility. Expected 40 from C header, got 48 from PyObject\n",
      "<frozen importlib._bootstrap>:219: RuntimeWarning: mpi4py.MPI.File size changed, may indicate binary incompatibility. Expected 32 from C header, got 40 from PyObject\n"
     ]
    }
   ],
   "source": [
    "import os\n",
    "from datetime import datetime\n",
    "import pandas as pd\n",
    "import pygmo as pg\n",
    "import numpy as np\n",
    "import shutil\n",
    "from mizuRoute_call import *\n",
    "from assets import *\n",
    "#from functions import run_mizuRoute  # Import only necessary functions\n",
    "\n",
    "\n",
    "class UDP:\n",
    "    \n",
    "    def __init__(self,\n",
    "                 CaseName = 'CaseName',\n",
    "                 ParametersDictionary = None,\n",
    "                 NumberObj = 1,\n",
    "                 WorkingFolder = None,\n",
    "                 ModelSetupFolder = None):\n",
    "        \n",
    "        self.CaseName = CaseName\n",
    "        self.NumberObj = NumberObj\n",
    "        self.WorkingFolder = WorkingFolder\n",
    "        self.ModelSetupFolder = ModelSetupFolder\n",
    "        \n",
    "        if not ParametersDictionary is None:\n",
    "            self.ParametersNames = list(ParametersDictionary.keys())\n",
    "            self.ParametersFile = list([param['file'] for param in ParametersDictionary.values()])\n",
    "            self.ParametersLower = np.array([param['lower'] for param in ParametersDictionary.values()])\n",
    "            self.ParametersHigher = np.array([param['upper'] for param in ParametersDictionary.values()])\n",
    "            self.ParametersDim = len(self.ParametersHigher)\n",
    "            \n",
    "        # remove the working directory\n",
    "        shutil.rmtree(self.WorkingFolder, ignore_errors=True)\n",
    "\n",
    "    def get_nobj(self):\n",
    "        return self.NumberObj\n",
    "\n",
    "    def get_bounds(self):\n",
    "        return self.ParametersLower, self.ParametersHigher\n",
    "\n",
    "    def get_name(self):\n",
    "        return self.CaseName\n",
    "\n",
    "    def get_extra_info(self):\n",
    "        return f\"\\tDimensions: {self.ParametersDim}\"\n",
    "\n",
    "    def fitness(self, x):\n",
    "        f1 = run_mizuRoute(self, x, str(os.getpid())) \n",
    "        return [f1]\n",
    "    "
   ]
  },
  {
   "cell_type": "code",
   "execution_count": null,
   "id": "c1981161-affc-42c6-a050-b25397ef672a",
   "metadata": {},
   "outputs": [
    {
     "name": "stdout",
     "output_type": "stream",
     "text": [
      "Running within a SLURM job.\n",
      "SLURM environment variables found: ['SLURM_JOBID', 'SLURM_JOB_NAME', 'SLURM_NODELIST']\n",
      "number of network is:  4\n",
      "[0.80586204] 4446\n",
      "HYPE\n",
      "['param_temp']\n",
      "['param_temp']\n",
      "<class 'list'>\n",
      "/home/shg096/pygmo_mizuRoute_Diefenbaker/HYPE_run/4446/\n"
     ]
    },
    {
     "name": "stderr",
     "output_type": "stream",
     "text": [
      "Restoring modules from user's fhimp-mods\n"
     ]
    },
    {
     "name": "stdout",
     "output_type": "stream",
     "text": [
      "start at Wed 17 Apr 2024 10:38:30 PM EDT\n",
      " ---------------------------------------------\n",
      "    HYPE version 5.24.0                  \n",
      " ---------------------------------------------\n",
      " New versions of HYPE at the HYPE Open Source \n",
      " Community website (hypecode.smhi.se), as well\n",
      " as information on up-coming courses.         \n",
      " ---------------------------------------------\n"
     ]
    },
    {
     "name": "stderr",
     "output_type": "stream",
     "text": [
      " -> Simulation will halt: successfully\n",
      "Note: The following floating-point exceptions are signalling: IEEE_UNDERFLOW_FLAG IEEE_DENORMAL\n",
      "STOP 0\n"
     ]
    },
    {
     "name": "stdout",
     "output_type": "stream",
     "text": [
      "end at Wed 17 Apr 2024 10:38:37 PM EDT\n",
      "[0.72398599] 4446\n",
      "HYPE\n",
      "['param_temp']\n",
      "['param_temp']\n",
      "<class 'list'>\n",
      "/home/shg096/pygmo_mizuRoute_Diefenbaker/HYPE_run/4446/\n"
     ]
    },
    {
     "name": "stderr",
     "output_type": "stream",
     "text": [
      "Restoring modules from user's fhimp-mods\n"
     ]
    },
    {
     "name": "stdout",
     "output_type": "stream",
     "text": [
      "start at Wed 17 Apr 2024 10:38:43 PM EDT\n",
      " ---------------------------------------------\n",
      "    HYPE version 5.24.0                  \n",
      " ---------------------------------------------\n",
      " New versions of HYPE at the HYPE Open Source \n",
      " Community website (hypecode.smhi.se), as well\n",
      " as information on up-coming courses.         \n",
      " ---------------------------------------------\n"
     ]
    },
    {
     "name": "stderr",
     "output_type": "stream",
     "text": [
      " -> Simulation will halt: successfully\n",
      "Note: The following floating-point exceptions are signalling: IEEE_UNDERFLOW_FLAG IEEE_DENORMAL\n",
      "STOP 0\n"
     ]
    },
    {
     "name": "stdout",
     "output_type": "stream",
     "text": [
      "end at Wed 17 Apr 2024 10:38:50 PM EDT\n",
      "[0.41073292] 4446\n",
      "HYPE\n",
      "['param_temp']\n",
      "['param_temp']\n",
      "<class 'list'>\n",
      "/home/shg096/pygmo_mizuRoute_Diefenbaker/HYPE_run/4446/\n"
     ]
    },
    {
     "name": "stderr",
     "output_type": "stream",
     "text": [
      "Restoring modules from user's fhimp-mods\n"
     ]
    },
    {
     "name": "stdout",
     "output_type": "stream",
     "text": [
      "start at Wed 17 Apr 2024 10:38:56 PM EDT\n",
      " ---------------------------------------------\n",
      "    HYPE version 5.24.0                  \n",
      " ---------------------------------------------\n",
      " New versions of HYPE at the HYPE Open Source \n",
      " Community website (hypecode.smhi.se), as well\n",
      " as information on up-coming courses.         \n",
      " ---------------------------------------------\n"
     ]
    },
    {
     "name": "stderr",
     "output_type": "stream",
     "text": [
      " -> Simulation will halt: successfully\n",
      "Note: The following floating-point exceptions are signalling: IEEE_UNDERFLOW_FLAG IEEE_DENORMAL\n",
      "STOP 0\n"
     ]
    },
    {
     "name": "stdout",
     "output_type": "stream",
     "text": [
      "end at Wed 17 Apr 2024 10:39:02 PM EDT\n",
      "[0.76109744] 4446\n",
      "HYPE\n",
      "['param_temp']\n",
      "['param_temp']\n",
      "<class 'list'>\n",
      "/home/shg096/pygmo_mizuRoute_Diefenbaker/HYPE_run/4446/\n"
     ]
    },
    {
     "name": "stderr",
     "output_type": "stream",
     "text": [
      "Restoring modules from user's fhimp-mods\n"
     ]
    },
    {
     "name": "stdout",
     "output_type": "stream",
     "text": [
      "start at Wed 17 Apr 2024 10:39:09 PM EDT\n",
      " ---------------------------------------------\n",
      "    HYPE version 5.24.0                  \n",
      " ---------------------------------------------\n",
      " New versions of HYPE at the HYPE Open Source \n",
      " Community website (hypecode.smhi.se), as well\n",
      " as information on up-coming courses.         \n",
      " ---------------------------------------------\n"
     ]
    },
    {
     "name": "stderr",
     "output_type": "stream",
     "text": [
      " -> Simulation will halt: successfully\n",
      "Note: The following floating-point exceptions are signalling: IEEE_UNDERFLOW_FLAG IEEE_DENORMAL\n",
      "STOP 0\n"
     ]
    },
    {
     "name": "stdout",
     "output_type": "stream",
     "text": [
      "end at Wed 17 Apr 2024 10:39:15 PM EDT\n",
      "[0.61872465] 4446\n",
      "HYPE\n",
      "['param_temp']\n",
      "['param_temp']\n",
      "<class 'list'>\n",
      "/home/shg096/pygmo_mizuRoute_Diefenbaker/HYPE_run/4446/\n"
     ]
    },
    {
     "name": "stderr",
     "output_type": "stream",
     "text": [
      "Restoring modules from user's fhimp-mods\n"
     ]
    },
    {
     "name": "stdout",
     "output_type": "stream",
     "text": [
      "start at Wed 17 Apr 2024 10:39:21 PM EDT\n",
      " ---------------------------------------------\n",
      "    HYPE version 5.24.0                  \n",
      " ---------------------------------------------\n",
      " New versions of HYPE at the HYPE Open Source \n",
      " Community website (hypecode.smhi.se), as well\n",
      " as information on up-coming courses.         \n",
      " ---------------------------------------------\n"
     ]
    },
    {
     "name": "stderr",
     "output_type": "stream",
     "text": [
      " -> Simulation will halt: successfully\n",
      "Note: The following floating-point exceptions are signalling: IEEE_UNDERFLOW_FLAG IEEE_DENORMAL\n",
      "STOP 0\n"
     ]
    },
    {
     "name": "stdout",
     "output_type": "stream",
     "text": [
      "end at Wed 17 Apr 2024 10:39:27 PM EDT\n",
      "[0.41489495] 4446\n",
      "HYPE\n",
      "['param_temp']\n",
      "['param_temp']\n",
      "<class 'list'>\n",
      "/home/shg096/pygmo_mizuRoute_Diefenbaker/HYPE_run/4446/\n"
     ]
    },
    {
     "name": "stderr",
     "output_type": "stream",
     "text": [
      "Restoring modules from user's fhimp-mods\n"
     ]
    },
    {
     "name": "stdout",
     "output_type": "stream",
     "text": [
      "start at Wed 17 Apr 2024 10:39:34 PM EDT\n",
      " ---------------------------------------------\n",
      "    HYPE version 5.24.0                  \n",
      " ---------------------------------------------\n",
      " New versions of HYPE at the HYPE Open Source \n",
      " Community website (hypecode.smhi.se), as well\n",
      " as information on up-coming courses.         \n",
      " ---------------------------------------------\n"
     ]
    },
    {
     "name": "stderr",
     "output_type": "stream",
     "text": [
      " -> Simulation will halt: successfully\n",
      "Note: The following floating-point exceptions are signalling: IEEE_UNDERFLOW_FLAG IEEE_DENORMAL\n",
      "STOP 0\n"
     ]
    },
    {
     "name": "stdout",
     "output_type": "stream",
     "text": [
      "end at Wed 17 Apr 2024 10:39:40 PM EDT\n",
      "[0.63710832] 4446\n",
      "HYPE\n",
      "['param_temp']\n",
      "['param_temp']\n",
      "<class 'list'>\n",
      "/home/shg096/pygmo_mizuRoute_Diefenbaker/HYPE_run/4446/\n"
     ]
    },
    {
     "name": "stderr",
     "output_type": "stream",
     "text": [
      "Restoring modules from user's fhimp-mods\n"
     ]
    },
    {
     "name": "stdout",
     "output_type": "stream",
     "text": [
      "start at Wed 17 Apr 2024 10:39:46 PM EDT\n",
      " ---------------------------------------------\n",
      "    HYPE version 5.24.0                  \n",
      " ---------------------------------------------\n",
      " New versions of HYPE at the HYPE Open Source \n",
      " Community website (hypecode.smhi.se), as well\n",
      " as information on up-coming courses.         \n",
      " ---------------------------------------------\n"
     ]
    },
    {
     "name": "stderr",
     "output_type": "stream",
     "text": [
      " -> Simulation will halt: successfully\n",
      "Note: The following floating-point exceptions are signalling: IEEE_UNDERFLOW_FLAG IEEE_DENORMAL\n",
      "STOP 0\n"
     ]
    },
    {
     "name": "stdout",
     "output_type": "stream",
     "text": [
      "end at Wed 17 Apr 2024 10:39:52 PM EDT\n",
      "[0.32707342] 4446\n",
      "HYPE\n",
      "['param_temp']\n",
      "['param_temp']\n",
      "<class 'list'>\n",
      "/home/shg096/pygmo_mizuRoute_Diefenbaker/HYPE_run/4446/\n"
     ]
    },
    {
     "name": "stderr",
     "output_type": "stream",
     "text": [
      "Restoring modules from user's fhimp-mods\n"
     ]
    },
    {
     "name": "stdout",
     "output_type": "stream",
     "text": [
      "start at Wed 17 Apr 2024 10:39:59 PM EDT\n",
      " ---------------------------------------------\n",
      "    HYPE version 5.24.0                  \n",
      " ---------------------------------------------\n",
      " New versions of HYPE at the HYPE Open Source \n",
      " Community website (hypecode.smhi.se), as well\n",
      " as information on up-coming courses.         \n",
      " ---------------------------------------------\n"
     ]
    },
    {
     "name": "stderr",
     "output_type": "stream",
     "text": [
      " -> Simulation will halt: successfully\n",
      "Note: The following floating-point exceptions are signalling: IEEE_UNDERFLOW_FLAG IEEE_DENORMAL\n",
      "STOP 0\n"
     ]
    },
    {
     "name": "stdout",
     "output_type": "stream",
     "text": [
      "end at Wed 17 Apr 2024 10:40:05 PM EDT\n",
      "[0.34720327] 4446\n",
      "HYPE\n",
      "['param_temp']\n",
      "['param_temp']\n",
      "<class 'list'>\n",
      "/home/shg096/pygmo_mizuRoute_Diefenbaker/HYPE_run/4446/\n"
     ]
    },
    {
     "name": "stderr",
     "output_type": "stream",
     "text": [
      "Restoring modules from user's fhimp-mods\n"
     ]
    },
    {
     "name": "stdout",
     "output_type": "stream",
     "text": [
      "start at Wed 17 Apr 2024 10:40:11 PM EDT\n",
      " ---------------------------------------------\n",
      "    HYPE version 5.24.0                  \n",
      " ---------------------------------------------\n",
      " New versions of HYPE at the HYPE Open Source \n",
      " Community website (hypecode.smhi.se), as well\n",
      " as information on up-coming courses.         \n",
      " ---------------------------------------------\n"
     ]
    },
    {
     "name": "stderr",
     "output_type": "stream",
     "text": [
      " -> Simulation will halt: successfully\n",
      "Note: The following floating-point exceptions are signalling: IEEE_UNDERFLOW_FLAG IEEE_DENORMAL\n",
      "STOP 0\n"
     ]
    },
    {
     "name": "stdout",
     "output_type": "stream",
     "text": [
      "end at Wed 17 Apr 2024 10:40:18 PM EDT\n",
      "[0.70846967] 4446\n",
      "HYPE\n",
      "['param_temp']\n",
      "['param_temp']\n",
      "<class 'list'>\n",
      "/home/shg096/pygmo_mizuRoute_Diefenbaker/HYPE_run/4446/\n"
     ]
    },
    {
     "name": "stderr",
     "output_type": "stream",
     "text": [
      "Restoring modules from user's fhimp-mods\n"
     ]
    },
    {
     "name": "stdout",
     "output_type": "stream",
     "text": [
      "start at Wed 17 Apr 2024 10:40:24 PM EDT\n",
      " ---------------------------------------------\n",
      "    HYPE version 5.24.0                  \n",
      " ---------------------------------------------\n",
      " New versions of HYPE at the HYPE Open Source \n",
      " Community website (hypecode.smhi.se), as well\n",
      " as information on up-coming courses.         \n",
      " ---------------------------------------------\n"
     ]
    },
    {
     "name": "stderr",
     "output_type": "stream",
     "text": [
      " -> Simulation will halt: successfully\n",
      "Note: The following floating-point exceptions are signalling: IEEE_UNDERFLOW_FLAG IEEE_DENORMAL\n",
      "STOP 0\n"
     ]
    },
    {
     "name": "stdout",
     "output_type": "stream",
     "text": [
      "end at Wed 17 Apr 2024 10:40:30 PM EDT\n",
      "[0.74175344] 4446\n",
      "HYPE\n",
      "['param_temp']\n",
      "['param_temp']\n",
      "<class 'list'>\n",
      "/home/shg096/pygmo_mizuRoute_Diefenbaker/HYPE_run/4446/\n"
     ]
    },
    {
     "name": "stderr",
     "output_type": "stream",
     "text": [
      "Restoring modules from user's fhimp-mods\n"
     ]
    },
    {
     "name": "stdout",
     "output_type": "stream",
     "text": [
      "start at Wed 17 Apr 2024 10:40:36 PM EDT\n",
      " ---------------------------------------------\n",
      "    HYPE version 5.24.0                  \n",
      " ---------------------------------------------\n",
      " New versions of HYPE at the HYPE Open Source \n",
      " Community website (hypecode.smhi.se), as well\n",
      " as information on up-coming courses.         \n",
      " ---------------------------------------------\n"
     ]
    },
    {
     "name": "stderr",
     "output_type": "stream",
     "text": [
      " -> Simulation will halt: successfully\n",
      "Note: The following floating-point exceptions are signalling: IEEE_UNDERFLOW_FLAG IEEE_DENORMAL\n",
      "STOP 0\n"
     ]
    },
    {
     "name": "stdout",
     "output_type": "stream",
     "text": [
      "end at Wed 17 Apr 2024 10:40:43 PM EDT\n",
      "[0.82050402] 4446\n",
      "HYPE\n",
      "['param_temp']\n",
      "['param_temp']\n",
      "<class 'list'>\n",
      "/home/shg096/pygmo_mizuRoute_Diefenbaker/HYPE_run/4446/\n"
     ]
    },
    {
     "name": "stderr",
     "output_type": "stream",
     "text": [
      "Restoring modules from user's fhimp-mods\n"
     ]
    },
    {
     "name": "stdout",
     "output_type": "stream",
     "text": [
      "start at Wed 17 Apr 2024 10:40:49 PM EDT\n",
      " ---------------------------------------------\n",
      "    HYPE version 5.24.0                  \n",
      " ---------------------------------------------\n",
      " New versions of HYPE at the HYPE Open Source \n",
      " Community website (hypecode.smhi.se), as well\n",
      " as information on up-coming courses.         \n",
      " ---------------------------------------------\n"
     ]
    },
    {
     "name": "stderr",
     "output_type": "stream",
     "text": [
      " -> Simulation will halt: successfully\n",
      "Note: The following floating-point exceptions are signalling: IEEE_UNDERFLOW_FLAG IEEE_DENORMAL\n",
      "STOP 0\n"
     ]
    },
    {
     "name": "stdout",
     "output_type": "stream",
     "text": [
      "end at Wed 17 Apr 2024 10:40:55 PM EDT\n",
      "[0.50601686] 4446\n",
      "HYPE\n",
      "['param_temp']\n",
      "['param_temp']\n",
      "<class 'list'>\n",
      "/home/shg096/pygmo_mizuRoute_Diefenbaker/HYPE_run/4446/\n"
     ]
    },
    {
     "name": "stderr",
     "output_type": "stream",
     "text": [
      "Restoring modules from user's fhimp-mods\n"
     ]
    },
    {
     "name": "stdout",
     "output_type": "stream",
     "text": [
      "start at Wed 17 Apr 2024 10:41:02 PM EDT\n",
      " ---------------------------------------------\n",
      "    HYPE version 5.24.0                  \n",
      " ---------------------------------------------\n",
      " New versions of HYPE at the HYPE Open Source \n",
      " Community website (hypecode.smhi.se), as well\n",
      " as information on up-coming courses.         \n",
      " ---------------------------------------------\n"
     ]
    },
    {
     "name": "stderr",
     "output_type": "stream",
     "text": [
      " -> Simulation will halt: successfully\n",
      "Note: The following floating-point exceptions are signalling: IEEE_UNDERFLOW_FLAG IEEE_DENORMAL\n",
      "STOP 0\n"
     ]
    },
    {
     "name": "stdout",
     "output_type": "stream",
     "text": [
      "end at Wed 17 Apr 2024 10:41:08 PM EDT\n",
      "[0.55485708] 4446\n",
      "HYPE\n",
      "['param_temp']\n",
      "['param_temp']\n",
      "<class 'list'>\n",
      "/home/shg096/pygmo_mizuRoute_Diefenbaker/HYPE_run/4446/\n"
     ]
    },
    {
     "name": "stderr",
     "output_type": "stream",
     "text": [
      "Restoring modules from user's fhimp-mods\n"
     ]
    },
    {
     "name": "stdout",
     "output_type": "stream",
     "text": [
      "start at Wed 17 Apr 2024 10:41:14 PM EDT\n",
      " ---------------------------------------------\n",
      "    HYPE version 5.24.0                  \n",
      " ---------------------------------------------\n",
      " New versions of HYPE at the HYPE Open Source \n",
      " Community website (hypecode.smhi.se), as well\n",
      " as information on up-coming courses.         \n",
      " ---------------------------------------------\n"
     ]
    },
    {
     "name": "stderr",
     "output_type": "stream",
     "text": [
      " -> Simulation will halt: successfully\n",
      "Note: The following floating-point exceptions are signalling: IEEE_UNDERFLOW_FLAG IEEE_DENORMAL\n",
      "STOP 0\n"
     ]
    },
    {
     "name": "stdout",
     "output_type": "stream",
     "text": [
      "end at Wed 17 Apr 2024 10:41:20 PM EDT\n",
      "[0.81002217] 4446\n",
      "HYPE\n",
      "['param_temp']\n",
      "['param_temp']\n",
      "<class 'list'>\n",
      "/home/shg096/pygmo_mizuRoute_Diefenbaker/HYPE_run/4446/\n"
     ]
    },
    {
     "name": "stderr",
     "output_type": "stream",
     "text": [
      "Restoring modules from user's fhimp-mods\n"
     ]
    },
    {
     "name": "stdout",
     "output_type": "stream",
     "text": [
      "start at Wed 17 Apr 2024 10:41:26 PM EDT\n",
      " ---------------------------------------------\n",
      "    HYPE version 5.24.0                  \n",
      " ---------------------------------------------\n",
      " New versions of HYPE at the HYPE Open Source \n",
      " Community website (hypecode.smhi.se), as well\n",
      " as information on up-coming courses.         \n",
      " ---------------------------------------------\n"
     ]
    },
    {
     "name": "stderr",
     "output_type": "stream",
     "text": [
      " -> Simulation will halt: successfully\n",
      "Note: The following floating-point exceptions are signalling: IEEE_UNDERFLOW_FLAG IEEE_DENORMAL\n",
      "STOP 0\n"
     ]
    },
    {
     "name": "stdout",
     "output_type": "stream",
     "text": [
      "end at Wed 17 Apr 2024 10:41:33 PM EDT\n",
      "[0.51995706] 4446\n",
      "HYPE\n",
      "['param_temp']\n",
      "['param_temp']\n",
      "<class 'list'>\n",
      "/home/shg096/pygmo_mizuRoute_Diefenbaker/HYPE_run/4446/\n"
     ]
    },
    {
     "name": "stderr",
     "output_type": "stream",
     "text": [
      "Restoring modules from user's fhimp-mods\n"
     ]
    },
    {
     "name": "stdout",
     "output_type": "stream",
     "text": [
      "start at Wed 17 Apr 2024 10:41:39 PM EDT\n",
      " ---------------------------------------------\n",
      "    HYPE version 5.24.0                  \n",
      " ---------------------------------------------\n",
      " New versions of HYPE at the HYPE Open Source \n",
      " Community website (hypecode.smhi.se), as well\n",
      " as information on up-coming courses.         \n",
      " ---------------------------------------------\n"
     ]
    },
    {
     "name": "stderr",
     "output_type": "stream",
     "text": [
      " -> Simulation will halt: successfully\n",
      "Note: The following floating-point exceptions are signalling: IEEE_UNDERFLOW_FLAG IEEE_DENORMAL\n",
      "STOP 0\n"
     ]
    },
    {
     "name": "stdout",
     "output_type": "stream",
     "text": [
      "end at Wed 17 Apr 2024 10:41:45 PM EDT\n",
      "[0.68679882] 4446\n",
      "HYPE\n",
      "['param_temp']\n",
      "['param_temp']\n",
      "<class 'list'>\n",
      "/home/shg096/pygmo_mizuRoute_Diefenbaker/HYPE_run/4446/\n"
     ]
    },
    {
     "name": "stderr",
     "output_type": "stream",
     "text": [
      "Restoring modules from user's fhimp-mods\n"
     ]
    },
    {
     "name": "stdout",
     "output_type": "stream",
     "text": [
      "start at Wed 17 Apr 2024 10:41:52 PM EDT\n",
      " ---------------------------------------------\n",
      "    HYPE version 5.24.0                  \n",
      " ---------------------------------------------\n",
      " New versions of HYPE at the HYPE Open Source \n",
      " Community website (hypecode.smhi.se), as well\n",
      " as information on up-coming courses.         \n",
      " ---------------------------------------------\n"
     ]
    },
    {
     "name": "stderr",
     "output_type": "stream",
     "text": [
      " -> Simulation will halt: successfully\n",
      "Note: The following floating-point exceptions are signalling: IEEE_UNDERFLOW_FLAG IEEE_DENORMAL\n",
      "STOP 0\n"
     ]
    },
    {
     "name": "stdout",
     "output_type": "stream",
     "text": [
      "end at Wed 17 Apr 2024 10:41:58 PM EDT\n",
      "[0.64167925] 4446\n",
      "HYPE\n",
      "['param_temp']\n",
      "['param_temp']\n",
      "<class 'list'>\n",
      "/home/shg096/pygmo_mizuRoute_Diefenbaker/HYPE_run/4446/\n"
     ]
    },
    {
     "name": "stderr",
     "output_type": "stream",
     "text": [
      "Restoring modules from user's fhimp-mods\n"
     ]
    },
    {
     "name": "stdout",
     "output_type": "stream",
     "text": [
      "start at Wed 17 Apr 2024 10:42:04 PM EDT\n",
      " ---------------------------------------------\n",
      "    HYPE version 5.24.0                  \n",
      " ---------------------------------------------\n",
      " New versions of HYPE at the HYPE Open Source \n",
      " Community website (hypecode.smhi.se), as well\n",
      " as information on up-coming courses.         \n",
      " ---------------------------------------------\n"
     ]
    },
    {
     "name": "stderr",
     "output_type": "stream",
     "text": [
      " -> Simulation will halt: successfully\n",
      "Note: The following floating-point exceptions are signalling: IEEE_UNDERFLOW_FLAG IEEE_DENORMAL\n",
      "STOP 0\n"
     ]
    },
    {
     "name": "stdout",
     "output_type": "stream",
     "text": [
      "end at Wed 17 Apr 2024 10:42:10 PM EDT\n",
      "[0.76404888] 4446\n",
      "HYPE\n",
      "['param_temp']\n",
      "['param_temp']\n",
      "<class 'list'>\n",
      "/home/shg096/pygmo_mizuRoute_Diefenbaker/HYPE_run/4446/\n"
     ]
    },
    {
     "name": "stderr",
     "output_type": "stream",
     "text": [
      "Restoring modules from user's fhimp-mods\n"
     ]
    },
    {
     "name": "stdout",
     "output_type": "stream",
     "text": [
      "start at Wed 17 Apr 2024 10:42:17 PM EDT\n",
      " ---------------------------------------------\n",
      "    HYPE version 5.24.0                  \n",
      " ---------------------------------------------\n",
      " New versions of HYPE at the HYPE Open Source \n",
      " Community website (hypecode.smhi.se), as well\n",
      " as information on up-coming courses.         \n",
      " ---------------------------------------------\n"
     ]
    },
    {
     "name": "stderr",
     "output_type": "stream",
     "text": [
      " -> Simulation will halt: successfully\n",
      "Note: The following floating-point exceptions are signalling: IEEE_UNDERFLOW_FLAG IEEE_DENORMAL\n",
      "STOP 0\n"
     ]
    },
    {
     "name": "stdout",
     "output_type": "stream",
     "text": [
      "end at Wed 17 Apr 2024 10:42:23 PM EDT\n",
      "[0.29998784] 4446\n",
      "HYPE\n",
      "['param_temp']\n",
      "['param_temp']\n",
      "<class 'list'>\n",
      "/home/shg096/pygmo_mizuRoute_Diefenbaker/HYPE_run/4446/\n"
     ]
    },
    {
     "name": "stderr",
     "output_type": "stream",
     "text": [
      "Restoring modules from user's fhimp-mods\n"
     ]
    },
    {
     "name": "stdout",
     "output_type": "stream",
     "text": [
      "start at Wed 17 Apr 2024 10:42:29 PM EDT\n",
      " ---------------------------------------------\n",
      "    HYPE version 5.24.0                  \n",
      " ---------------------------------------------\n",
      " New versions of HYPE at the HYPE Open Source \n",
      " Community website (hypecode.smhi.se), as well\n",
      " as information on up-coming courses.         \n",
      " ---------------------------------------------\n"
     ]
    },
    {
     "name": "stderr",
     "output_type": "stream",
     "text": [
      " -> Simulation will halt: successfully\n",
      "Note: The following floating-point exceptions are signalling: IEEE_UNDERFLOW_FLAG IEEE_DENORMAL\n",
      "STOP 0\n"
     ]
    },
    {
     "name": "stdout",
     "output_type": "stream",
     "text": [
      "end at Wed 17 Apr 2024 10:42:35 PM EDT\n",
      "[0.69190318] 4446\n",
      "HYPE\n",
      "['param_temp']\n",
      "['param_temp']\n",
      "<class 'list'>\n",
      "/home/shg096/pygmo_mizuRoute_Diefenbaker/HYPE_run/4446/\n"
     ]
    },
    {
     "name": "stderr",
     "output_type": "stream",
     "text": [
      "Restoring modules from user's fhimp-mods\n"
     ]
    },
    {
     "name": "stdout",
     "output_type": "stream",
     "text": [
      "start at Wed 17 Apr 2024 10:42:42 PM EDT\n",
      " ---------------------------------------------\n",
      "    HYPE version 5.24.0                  \n",
      " ---------------------------------------------\n",
      " New versions of HYPE at the HYPE Open Source \n",
      " Community website (hypecode.smhi.se), as well\n",
      " as information on up-coming courses.         \n",
      " ---------------------------------------------\n"
     ]
    },
    {
     "name": "stderr",
     "output_type": "stream",
     "text": [
      " -> Simulation will halt: successfully\n",
      "Note: The following floating-point exceptions are signalling: IEEE_UNDERFLOW_FLAG IEEE_DENORMAL\n",
      "STOP 0\n"
     ]
    },
    {
     "name": "stdout",
     "output_type": "stream",
     "text": [
      "end at Wed 17 Apr 2024 10:42:48 PM EDT\n",
      "[0.58512196] 4446\n",
      "HYPE\n",
      "['param_temp']\n",
      "['param_temp']\n",
      "<class 'list'>\n",
      "/home/shg096/pygmo_mizuRoute_Diefenbaker/HYPE_run/4446/\n"
     ]
    },
    {
     "name": "stderr",
     "output_type": "stream",
     "text": [
      "Restoring modules from user's fhimp-mods\n"
     ]
    },
    {
     "name": "stdout",
     "output_type": "stream",
     "text": [
      "start at Wed 17 Apr 2024 10:42:54 PM EDT\n",
      " ---------------------------------------------\n",
      "    HYPE version 5.24.0                  \n",
      " ---------------------------------------------\n",
      " New versions of HYPE at the HYPE Open Source \n",
      " Community website (hypecode.smhi.se), as well\n",
      " as information on up-coming courses.         \n",
      " ---------------------------------------------\n"
     ]
    },
    {
     "name": "stderr",
     "output_type": "stream",
     "text": [
      " -> Simulation will halt: successfully\n",
      "Note: The following floating-point exceptions are signalling: IEEE_UNDERFLOW_FLAG IEEE_DENORMAL\n",
      "STOP 0\n"
     ]
    },
    {
     "name": "stdout",
     "output_type": "stream",
     "text": [
      "end at Wed 17 Apr 2024 10:43:00 PM EDT\n",
      "[0.56389496] 4446\n",
      "HYPE\n",
      "['param_temp']\n",
      "['param_temp']\n",
      "<class 'list'>\n",
      "/home/shg096/pygmo_mizuRoute_Diefenbaker/HYPE_run/4446/\n"
     ]
    },
    {
     "name": "stderr",
     "output_type": "stream",
     "text": [
      "Restoring modules from user's fhimp-mods\n"
     ]
    },
    {
     "name": "stdout",
     "output_type": "stream",
     "text": [
      "start at Wed 17 Apr 2024 10:43:07 PM EDT\n",
      " ---------------------------------------------\n",
      "    HYPE version 5.24.0                  \n",
      " ---------------------------------------------\n",
      " New versions of HYPE at the HYPE Open Source \n",
      " Community website (hypecode.smhi.se), as well\n",
      " as information on up-coming courses.         \n",
      " ---------------------------------------------\n"
     ]
    },
    {
     "name": "stderr",
     "output_type": "stream",
     "text": [
      " -> Simulation will halt: successfully\n",
      "Note: The following floating-point exceptions are signalling: IEEE_UNDERFLOW_FLAG IEEE_DENORMAL\n",
      "STOP 0\n"
     ]
    },
    {
     "name": "stdout",
     "output_type": "stream",
     "text": [
      "end at Wed 17 Apr 2024 10:43:13 PM EDT\n",
      "[0.43356218] 4446\n",
      "HYPE\n",
      "['param_temp']\n",
      "['param_temp']\n",
      "<class 'list'>\n",
      "/home/shg096/pygmo_mizuRoute_Diefenbaker/HYPE_run/4446/\n"
     ]
    },
    {
     "name": "stderr",
     "output_type": "stream",
     "text": [
      "Restoring modules from user's fhimp-mods\n"
     ]
    },
    {
     "name": "stdout",
     "output_type": "stream",
     "text": [
      "start at Wed 17 Apr 2024 10:43:20 PM EDT\n",
      " ---------------------------------------------\n",
      "    HYPE version 5.24.0                  \n",
      " ---------------------------------------------\n",
      " New versions of HYPE at the HYPE Open Source \n",
      " Community website (hypecode.smhi.se), as well\n",
      " as information on up-coming courses.         \n",
      " ---------------------------------------------\n"
     ]
    },
    {
     "name": "stderr",
     "output_type": "stream",
     "text": [
      " -> Simulation will halt: successfully\n",
      "Note: The following floating-point exceptions are signalling: IEEE_UNDERFLOW_FLAG IEEE_DENORMAL\n",
      "STOP 0\n"
     ]
    },
    {
     "name": "stdout",
     "output_type": "stream",
     "text": [
      "end at Wed 17 Apr 2024 10:43:26 PM EDT\n",
      "[0.68776745] 4446\n",
      "HYPE\n",
      "['param_temp']\n",
      "['param_temp']\n",
      "<class 'list'>\n",
      "/home/shg096/pygmo_mizuRoute_Diefenbaker/HYPE_run/4446/\n"
     ]
    },
    {
     "name": "stderr",
     "output_type": "stream",
     "text": [
      "Restoring modules from user's fhimp-mods\n"
     ]
    },
    {
     "name": "stdout",
     "output_type": "stream",
     "text": [
      "start at Wed 17 Apr 2024 10:43:32 PM EDT\n",
      " ---------------------------------------------\n",
      "    HYPE version 5.24.0                  \n",
      " ---------------------------------------------\n",
      " New versions of HYPE at the HYPE Open Source \n",
      " Community website (hypecode.smhi.se), as well\n",
      " as information on up-coming courses.         \n",
      " ---------------------------------------------\n"
     ]
    },
    {
     "name": "stderr",
     "output_type": "stream",
     "text": [
      " -> Simulation will halt: successfully\n",
      "Note: The following floating-point exceptions are signalling: IEEE_UNDERFLOW_FLAG IEEE_DENORMAL\n",
      "STOP 0\n"
     ]
    },
    {
     "name": "stdout",
     "output_type": "stream",
     "text": [
      "end at Wed 17 Apr 2024 10:43:38 PM EDT\n",
      "[0.83449006] 4446\n",
      "HYPE\n",
      "['param_temp']\n",
      "['param_temp']\n",
      "<class 'list'>\n",
      "/home/shg096/pygmo_mizuRoute_Diefenbaker/HYPE_run/4446/\n"
     ]
    },
    {
     "name": "stderr",
     "output_type": "stream",
     "text": [
      "Restoring modules from user's fhimp-mods\n"
     ]
    },
    {
     "name": "stdout",
     "output_type": "stream",
     "text": [
      "start at Wed 17 Apr 2024 10:43:45 PM EDT\n",
      " ---------------------------------------------\n",
      "    HYPE version 5.24.0                  \n",
      " ---------------------------------------------\n",
      " New versions of HYPE at the HYPE Open Source \n",
      " Community website (hypecode.smhi.se), as well\n",
      " as information on up-coming courses.         \n",
      " ---------------------------------------------\n"
     ]
    },
    {
     "name": "stderr",
     "output_type": "stream",
     "text": [
      " -> Simulation will halt: successfully\n",
      "Note: The following floating-point exceptions are signalling: IEEE_UNDERFLOW_FLAG IEEE_DENORMAL\n",
      "STOP 0\n"
     ]
    },
    {
     "name": "stdout",
     "output_type": "stream",
     "text": [
      "end at Wed 17 Apr 2024 10:43:51 PM EDT\n",
      "[0.67437319] 4446\n",
      "HYPE\n",
      "['param_temp']\n",
      "['param_temp']\n",
      "<class 'list'>\n",
      "/home/shg096/pygmo_mizuRoute_Diefenbaker/HYPE_run/4446/\n"
     ]
    },
    {
     "name": "stderr",
     "output_type": "stream",
     "text": [
      "Restoring modules from user's fhimp-mods\n"
     ]
    },
    {
     "name": "stdout",
     "output_type": "stream",
     "text": [
      "start at Wed 17 Apr 2024 10:43:58 PM EDT\n",
      " ---------------------------------------------\n",
      "    HYPE version 5.24.0                  \n",
      " ---------------------------------------------\n",
      " New versions of HYPE at the HYPE Open Source \n",
      " Community website (hypecode.smhi.se), as well\n",
      " as information on up-coming courses.         \n",
      " ---------------------------------------------\n"
     ]
    },
    {
     "name": "stderr",
     "output_type": "stream",
     "text": [
      " -> Simulation will halt: successfully\n",
      "Note: The following floating-point exceptions are signalling: IEEE_UNDERFLOW_FLAG IEEE_DENORMAL\n",
      "STOP 0\n"
     ]
    },
    {
     "name": "stdout",
     "output_type": "stream",
     "text": [
      "end at Wed 17 Apr 2024 10:44:04 PM EDT\n",
      "[0.74038186] 4446\n",
      "HYPE\n",
      "['param_temp']\n",
      "['param_temp']\n",
      "<class 'list'>\n",
      "/home/shg096/pygmo_mizuRoute_Diefenbaker/HYPE_run/4446/\n"
     ]
    },
    {
     "name": "stderr",
     "output_type": "stream",
     "text": [
      "Restoring modules from user's fhimp-mods\n"
     ]
    },
    {
     "name": "stdout",
     "output_type": "stream",
     "text": [
      "start at Wed 17 Apr 2024 10:44:10 PM EDT\n",
      " ---------------------------------------------\n",
      "    HYPE version 5.24.0                  \n",
      " ---------------------------------------------\n",
      " New versions of HYPE at the HYPE Open Source \n",
      " Community website (hypecode.smhi.se), as well\n",
      " as information on up-coming courses.         \n",
      " ---------------------------------------------\n"
     ]
    },
    {
     "name": "stderr",
     "output_type": "stream",
     "text": [
      " -> Simulation will halt: successfully\n",
      "Note: The following floating-point exceptions are signalling: IEEE_UNDERFLOW_FLAG IEEE_DENORMAL\n",
      "STOP 0\n"
     ]
    },
    {
     "name": "stdout",
     "output_type": "stream",
     "text": [
      "end at Wed 17 Apr 2024 10:44:17 PM EDT\n",
      "[0.56869331] 4446\n",
      "HYPE\n",
      "['param_temp']\n",
      "['param_temp']\n",
      "<class 'list'>\n",
      "/home/shg096/pygmo_mizuRoute_Diefenbaker/HYPE_run/4446/\n"
     ]
    },
    {
     "name": "stderr",
     "output_type": "stream",
     "text": [
      "Restoring modules from user's fhimp-mods\n"
     ]
    },
    {
     "name": "stdout",
     "output_type": "stream",
     "text": [
      "start at Wed 17 Apr 2024 10:44:23 PM EDT\n",
      " ---------------------------------------------\n",
      "    HYPE version 5.24.0                  \n",
      " ---------------------------------------------\n",
      " New versions of HYPE at the HYPE Open Source \n",
      " Community website (hypecode.smhi.se), as well\n",
      " as information on up-coming courses.         \n",
      " ---------------------------------------------\n"
     ]
    },
    {
     "name": "stderr",
     "output_type": "stream",
     "text": [
      " -> Simulation will halt: successfully\n",
      "Note: The following floating-point exceptions are signalling: IEEE_UNDERFLOW_FLAG IEEE_DENORMAL\n",
      "STOP 0\n"
     ]
    },
    {
     "name": "stdout",
     "output_type": "stream",
     "text": [
      "end at Wed 17 Apr 2024 10:44:29 PM EDT\n",
      "[0.60816461] 4446\n",
      "HYPE\n",
      "['param_temp']\n",
      "['param_temp']\n",
      "<class 'list'>\n",
      "/home/shg096/pygmo_mizuRoute_Diefenbaker/HYPE_run/4446/\n"
     ]
    },
    {
     "name": "stderr",
     "output_type": "stream",
     "text": [
      "Restoring modules from user's fhimp-mods\n"
     ]
    },
    {
     "name": "stdout",
     "output_type": "stream",
     "text": [
      "start at Wed 17 Apr 2024 10:44:36 PM EDT\n",
      " ---------------------------------------------\n",
      "    HYPE version 5.24.0                  \n",
      " ---------------------------------------------\n",
      " New versions of HYPE at the HYPE Open Source \n",
      " Community website (hypecode.smhi.se), as well\n",
      " as information on up-coming courses.         \n",
      " ---------------------------------------------\n"
     ]
    },
    {
     "name": "stderr",
     "output_type": "stream",
     "text": [
      " -> Simulation will halt: successfully\n",
      "Note: The following floating-point exceptions are signalling: IEEE_UNDERFLOW_FLAG IEEE_DENORMAL\n",
      "STOP 0\n"
     ]
    },
    {
     "name": "stdout",
     "output_type": "stream",
     "text": [
      "end at Wed 17 Apr 2024 10:44:42 PM EDT\n",
      "[0.51945433] 4446\n",
      "HYPE\n",
      "['param_temp']\n",
      "['param_temp']\n",
      "<class 'list'>\n",
      "/home/shg096/pygmo_mizuRoute_Diefenbaker/HYPE_run/4446/\n"
     ]
    },
    {
     "name": "stderr",
     "output_type": "stream",
     "text": [
      "Restoring modules from user's fhimp-mods\n"
     ]
    },
    {
     "name": "stdout",
     "output_type": "stream",
     "text": [
      "start at Wed 17 Apr 2024 10:44:49 PM EDT\n",
      " ---------------------------------------------\n",
      "    HYPE version 5.24.0                  \n",
      " ---------------------------------------------\n",
      " New versions of HYPE at the HYPE Open Source \n",
      " Community website (hypecode.smhi.se), as well\n",
      " as information on up-coming courses.         \n",
      " ---------------------------------------------\n"
     ]
    },
    {
     "name": "stderr",
     "output_type": "stream",
     "text": [
      " -> Simulation will halt: successfully\n",
      "Note: The following floating-point exceptions are signalling: IEEE_UNDERFLOW_FLAG IEEE_DENORMAL\n",
      "STOP 0\n"
     ]
    },
    {
     "name": "stdout",
     "output_type": "stream",
     "text": [
      "end at Wed 17 Apr 2024 10:44:55 PM EDT\n",
      "[0.32041669] 4446\n",
      "HYPE\n",
      "['param_temp']\n",
      "['param_temp']\n",
      "<class 'list'>\n",
      "/home/shg096/pygmo_mizuRoute_Diefenbaker/HYPE_run/4446/\n"
     ]
    },
    {
     "name": "stderr",
     "output_type": "stream",
     "text": [
      "Restoring modules from user's fhimp-mods\n"
     ]
    },
    {
     "name": "stdout",
     "output_type": "stream",
     "text": [
      "start at Wed 17 Apr 2024 10:45:02 PM EDT\n",
      " ---------------------------------------------\n",
      "    HYPE version 5.24.0                  \n",
      " ---------------------------------------------\n",
      " New versions of HYPE at the HYPE Open Source \n",
      " Community website (hypecode.smhi.se), as well\n",
      " as information on up-coming courses.         \n",
      " ---------------------------------------------\n"
     ]
    },
    {
     "name": "stderr",
     "output_type": "stream",
     "text": [
      " -> Simulation will halt: successfully\n",
      "Note: The following floating-point exceptions are signalling: IEEE_UNDERFLOW_FLAG IEEE_DENORMAL\n",
      "STOP 0\n"
     ]
    },
    {
     "name": "stdout",
     "output_type": "stream",
     "text": [
      "end at Wed 17 Apr 2024 10:45:08 PM EDT\n",
      "[0.34171775] 4446\n",
      "HYPE\n",
      "['param_temp']\n",
      "['param_temp']\n",
      "<class 'list'>\n",
      "/home/shg096/pygmo_mizuRoute_Diefenbaker/HYPE_run/4446/\n"
     ]
    },
    {
     "name": "stderr",
     "output_type": "stream",
     "text": [
      "Restoring modules from user's fhimp-mods\n"
     ]
    },
    {
     "name": "stdout",
     "output_type": "stream",
     "text": [
      "start at Wed 17 Apr 2024 10:45:15 PM EDT\n",
      " ---------------------------------------------\n",
      "    HYPE version 5.24.0                  \n",
      " ---------------------------------------------\n",
      " New versions of HYPE at the HYPE Open Source \n",
      " Community website (hypecode.smhi.se), as well\n",
      " as information on up-coming courses.         \n",
      " ---------------------------------------------\n"
     ]
    },
    {
     "name": "stderr",
     "output_type": "stream",
     "text": [
      " -> Simulation will halt: successfully\n",
      "Note: The following floating-point exceptions are signalling: IEEE_UNDERFLOW_FLAG IEEE_DENORMAL\n",
      "STOP 0\n"
     ]
    },
    {
     "name": "stdout",
     "output_type": "stream",
     "text": [
      "end at Wed 17 Apr 2024 10:45:21 PM EDT\n",
      "[0.87010376] 4446\n",
      "HYPE\n",
      "['param_temp']\n",
      "['param_temp']\n",
      "<class 'list'>\n",
      "/home/shg096/pygmo_mizuRoute_Diefenbaker/HYPE_run/4446/\n"
     ]
    },
    {
     "name": "stderr",
     "output_type": "stream",
     "text": [
      "Restoring modules from user's fhimp-mods\n"
     ]
    },
    {
     "name": "stdout",
     "output_type": "stream",
     "text": [
      "start at Wed 17 Apr 2024 10:45:28 PM EDT\n",
      " ---------------------------------------------\n",
      "    HYPE version 5.24.0                  \n",
      " ---------------------------------------------\n",
      " New versions of HYPE at the HYPE Open Source \n",
      " Community website (hypecode.smhi.se), as well\n",
      " as information on up-coming courses.         \n",
      " ---------------------------------------------\n"
     ]
    },
    {
     "name": "stderr",
     "output_type": "stream",
     "text": [
      " -> Simulation will halt: successfully\n",
      "Note: The following floating-point exceptions are signalling: IEEE_UNDERFLOW_FLAG IEEE_DENORMAL\n",
      "STOP 0\n"
     ]
    },
    {
     "name": "stdout",
     "output_type": "stream",
     "text": [
      "end at Wed 17 Apr 2024 10:45:34 PM EDT\n",
      "[0.71168366] 4446\n",
      "HYPE\n",
      "['param_temp']\n",
      "['param_temp']\n",
      "<class 'list'>\n",
      "/home/shg096/pygmo_mizuRoute_Diefenbaker/HYPE_run/4446/\n"
     ]
    },
    {
     "name": "stderr",
     "output_type": "stream",
     "text": [
      "Restoring modules from user's fhimp-mods\n"
     ]
    },
    {
     "name": "stdout",
     "output_type": "stream",
     "text": [
      "start at Wed 17 Apr 2024 10:45:40 PM EDT\n",
      " ---------------------------------------------\n",
      "    HYPE version 5.24.0                  \n",
      " ---------------------------------------------\n",
      " New versions of HYPE at the HYPE Open Source \n",
      " Community website (hypecode.smhi.se), as well\n",
      " as information on up-coming courses.         \n",
      " ---------------------------------------------\n"
     ]
    },
    {
     "name": "stderr",
     "output_type": "stream",
     "text": [
      " -> Simulation will halt: successfully\n",
      "Note: The following floating-point exceptions are signalling: IEEE_UNDERFLOW_FLAG IEEE_DENORMAL\n",
      "STOP 0\n"
     ]
    },
    {
     "name": "stdout",
     "output_type": "stream",
     "text": [
      "end at Wed 17 Apr 2024 10:45:46 PM EDT\n",
      "[0.71153776] 4446\n",
      "HYPE\n",
      "['param_temp']\n",
      "['param_temp']\n",
      "<class 'list'>\n",
      "/home/shg096/pygmo_mizuRoute_Diefenbaker/HYPE_run/4446/\n"
     ]
    },
    {
     "name": "stderr",
     "output_type": "stream",
     "text": [
      "Restoring modules from user's fhimp-mods\n"
     ]
    },
    {
     "name": "stdout",
     "output_type": "stream",
     "text": [
      "start at Wed 17 Apr 2024 10:45:53 PM EDT\n",
      " ---------------------------------------------\n",
      "    HYPE version 5.24.0                  \n",
      " ---------------------------------------------\n",
      " New versions of HYPE at the HYPE Open Source \n",
      " Community website (hypecode.smhi.se), as well\n",
      " as information on up-coming courses.         \n",
      " ---------------------------------------------\n"
     ]
    },
    {
     "name": "stderr",
     "output_type": "stream",
     "text": [
      " -> Simulation will halt: successfully\n",
      "Note: The following floating-point exceptions are signalling: IEEE_UNDERFLOW_FLAG IEEE_DENORMAL\n",
      "STOP 0\n"
     ]
    },
    {
     "name": "stdout",
     "output_type": "stream",
     "text": [
      "end at Wed 17 Apr 2024 10:45:59 PM EDT\n",
      "[0.66438893] 4446\n",
      "HYPE\n",
      "['param_temp']\n",
      "['param_temp']\n",
      "<class 'list'>\n",
      "/home/shg096/pygmo_mizuRoute_Diefenbaker/HYPE_run/4446/\n"
     ]
    },
    {
     "name": "stderr",
     "output_type": "stream",
     "text": [
      "Restoring modules from user's fhimp-mods\n"
     ]
    },
    {
     "name": "stdout",
     "output_type": "stream",
     "text": [
      "start at Wed 17 Apr 2024 10:46:05 PM EDT\n",
      " ---------------------------------------------\n",
      "    HYPE version 5.24.0                  \n",
      " ---------------------------------------------\n",
      " New versions of HYPE at the HYPE Open Source \n",
      " Community website (hypecode.smhi.se), as well\n",
      " as information on up-coming courses.         \n",
      " ---------------------------------------------\n"
     ]
    },
    {
     "name": "stderr",
     "output_type": "stream",
     "text": [
      " -> Simulation will halt: successfully\n",
      "Note: The following floating-point exceptions are signalling: IEEE_UNDERFLOW_FLAG IEEE_DENORMAL\n",
      "STOP 0\n"
     ]
    },
    {
     "name": "stdout",
     "output_type": "stream",
     "text": [
      "end at Wed 17 Apr 2024 10:46:12 PM EDT\n",
      "[0.30907152] 4446\n",
      "HYPE\n",
      "['param_temp']\n",
      "['param_temp']\n",
      "<class 'list'>\n",
      "/home/shg096/pygmo_mizuRoute_Diefenbaker/HYPE_run/4446/\n"
     ]
    },
    {
     "name": "stderr",
     "output_type": "stream",
     "text": [
      "Restoring modules from user's fhimp-mods\n"
     ]
    },
    {
     "name": "stdout",
     "output_type": "stream",
     "text": [
      "start at Wed 17 Apr 2024 10:46:18 PM EDT\n",
      " ---------------------------------------------\n",
      "    HYPE version 5.24.0                  \n",
      " ---------------------------------------------\n",
      " New versions of HYPE at the HYPE Open Source \n",
      " Community website (hypecode.smhi.se), as well\n",
      " as information on up-coming courses.         \n",
      " ---------------------------------------------\n"
     ]
    },
    {
     "name": "stderr",
     "output_type": "stream",
     "text": [
      " -> Simulation will halt: successfully\n",
      "Note: The following floating-point exceptions are signalling: IEEE_UNDERFLOW_FLAG IEEE_DENORMAL\n",
      "STOP 0\n"
     ]
    },
    {
     "name": "stdout",
     "output_type": "stream",
     "text": [
      "end at Wed 17 Apr 2024 10:46:24 PM EDT\n",
      "[0.98194301] 4446\n",
      "HYPE\n",
      "['param_temp']\n",
      "['param_temp']\n",
      "<class 'list'>\n",
      "/home/shg096/pygmo_mizuRoute_Diefenbaker/HYPE_run/4446/\n"
     ]
    },
    {
     "name": "stderr",
     "output_type": "stream",
     "text": [
      "Restoring modules from user's fhimp-mods\n"
     ]
    },
    {
     "name": "stdout",
     "output_type": "stream",
     "text": [
      "start at Wed 17 Apr 2024 10:46:31 PM EDT\n",
      " ---------------------------------------------\n",
      "    HYPE version 5.24.0                  \n",
      " ---------------------------------------------\n",
      " New versions of HYPE at the HYPE Open Source \n",
      " Community website (hypecode.smhi.se), as well\n",
      " as information on up-coming courses.         \n",
      " ---------------------------------------------\n"
     ]
    },
    {
     "name": "stderr",
     "output_type": "stream",
     "text": [
      " -> Simulation will halt: successfully\n",
      "Note: The following floating-point exceptions are signalling: IEEE_UNDERFLOW_FLAG IEEE_DENORMAL\n",
      "STOP 0\n"
     ]
    },
    {
     "name": "stdout",
     "output_type": "stream",
     "text": [
      "end at Wed 17 Apr 2024 10:46:37 PM EDT\n",
      "[0.89797591] 4446\n",
      "HYPE\n",
      "['param_temp']\n",
      "['param_temp']\n",
      "<class 'list'>\n",
      "/home/shg096/pygmo_mizuRoute_Diefenbaker/HYPE_run/4446/\n"
     ]
    },
    {
     "name": "stderr",
     "output_type": "stream",
     "text": [
      "Restoring modules from user's fhimp-mods\n"
     ]
    },
    {
     "name": "stdout",
     "output_type": "stream",
     "text": [
      "start at Wed 17 Apr 2024 10:46:44 PM EDT\n",
      " ---------------------------------------------\n",
      "    HYPE version 5.24.0                  \n",
      " ---------------------------------------------\n",
      " New versions of HYPE at the HYPE Open Source \n",
      " Community website (hypecode.smhi.se), as well\n",
      " as information on up-coming courses.         \n",
      " ---------------------------------------------\n"
     ]
    },
    {
     "name": "stderr",
     "output_type": "stream",
     "text": [
      " -> Simulation will halt: successfully\n",
      "Note: The following floating-point exceptions are signalling: IEEE_UNDERFLOW_FLAG IEEE_DENORMAL\n",
      "STOP 0\n"
     ]
    },
    {
     "name": "stdout",
     "output_type": "stream",
     "text": [
      "end at Wed 17 Apr 2024 10:46:50 PM EDT\n",
      "[0.67991641] 4446\n",
      "HYPE\n",
      "['param_temp']\n",
      "['param_temp']\n",
      "<class 'list'>\n",
      "/home/shg096/pygmo_mizuRoute_Diefenbaker/HYPE_run/4446/\n"
     ]
    },
    {
     "name": "stderr",
     "output_type": "stream",
     "text": [
      "Restoring modules from user's fhimp-mods\n"
     ]
    },
    {
     "name": "stdout",
     "output_type": "stream",
     "text": [
      "start at Wed 17 Apr 2024 10:46:56 PM EDT\n",
      " ---------------------------------------------\n",
      "    HYPE version 5.24.0                  \n",
      " ---------------------------------------------\n",
      " New versions of HYPE at the HYPE Open Source \n",
      " Community website (hypecode.smhi.se), as well\n",
      " as information on up-coming courses.         \n",
      " ---------------------------------------------\n"
     ]
    },
    {
     "name": "stderr",
     "output_type": "stream",
     "text": [
      " -> Simulation will halt: successfully\n",
      "Note: The following floating-point exceptions are signalling: IEEE_UNDERFLOW_FLAG IEEE_DENORMAL\n",
      "STOP 0\n"
     ]
    },
    {
     "name": "stdout",
     "output_type": "stream",
     "text": [
      "end at Wed 17 Apr 2024 10:47:02 PM EDT\n",
      "[0.9335531] 4446\n",
      "HYPE\n",
      "['param_temp']\n",
      "['param_temp']\n",
      "<class 'list'>\n",
      "/home/shg096/pygmo_mizuRoute_Diefenbaker/HYPE_run/4446/\n"
     ]
    },
    {
     "name": "stderr",
     "output_type": "stream",
     "text": [
      "Restoring modules from user's fhimp-mods\n"
     ]
    },
    {
     "name": "stdout",
     "output_type": "stream",
     "text": [
      "start at Wed 17 Apr 2024 10:47:09 PM EDT\n",
      " ---------------------------------------------\n",
      "    HYPE version 5.24.0                  \n",
      " ---------------------------------------------\n",
      " New versions of HYPE at the HYPE Open Source \n",
      " Community website (hypecode.smhi.se), as well\n",
      " as information on up-coming courses.         \n",
      " ---------------------------------------------\n"
     ]
    },
    {
     "name": "stderr",
     "output_type": "stream",
     "text": [
      " -> Simulation will halt: successfully\n",
      "Note: The following floating-point exceptions are signalling: IEEE_UNDERFLOW_FLAG IEEE_DENORMAL\n",
      "STOP 0\n"
     ]
    },
    {
     "name": "stdout",
     "output_type": "stream",
     "text": [
      "end at Wed 17 Apr 2024 10:47:15 PM EDT\n",
      "[0.59668708] 4446\n",
      "HYPE\n",
      "['param_temp']\n",
      "['param_temp']\n",
      "<class 'list'>\n",
      "/home/shg096/pygmo_mizuRoute_Diefenbaker/HYPE_run/4446/\n"
     ]
    },
    {
     "name": "stderr",
     "output_type": "stream",
     "text": [
      "Restoring modules from user's fhimp-mods\n"
     ]
    },
    {
     "name": "stdout",
     "output_type": "stream",
     "text": [
      "start at Wed 17 Apr 2024 10:47:21 PM EDT\n",
      " ---------------------------------------------\n",
      "    HYPE version 5.24.0                  \n",
      " ---------------------------------------------\n",
      " New versions of HYPE at the HYPE Open Source \n",
      " Community website (hypecode.smhi.se), as well\n",
      " as information on up-coming courses.         \n",
      " ---------------------------------------------\n"
     ]
    },
    {
     "name": "stderr",
     "output_type": "stream",
     "text": [
      " -> Simulation will halt: successfully\n",
      "Note: The following floating-point exceptions are signalling: IEEE_UNDERFLOW_FLAG IEEE_DENORMAL\n",
      "STOP 0\n"
     ]
    },
    {
     "name": "stdout",
     "output_type": "stream",
     "text": [
      "end at Wed 17 Apr 2024 10:47:27 PM EDT\n",
      "[0.22818806] 4446\n",
      "HYPE\n",
      "['param_temp']\n",
      "['param_temp']\n",
      "<class 'list'>\n",
      "/home/shg096/pygmo_mizuRoute_Diefenbaker/HYPE_run/4446/\n"
     ]
    },
    {
     "name": "stderr",
     "output_type": "stream",
     "text": [
      "Restoring modules from user's fhimp-mods\n"
     ]
    },
    {
     "name": "stdout",
     "output_type": "stream",
     "text": [
      "start at Wed 17 Apr 2024 10:47:34 PM EDT\n",
      " ---------------------------------------------\n",
      "    HYPE version 5.24.0                  \n",
      " ---------------------------------------------\n",
      " New versions of HYPE at the HYPE Open Source \n",
      " Community website (hypecode.smhi.se), as well\n",
      " as information on up-coming courses.         \n",
      " ---------------------------------------------\n"
     ]
    },
    {
     "name": "stderr",
     "output_type": "stream",
     "text": [
      " -> Simulation will halt: successfully\n",
      "Note: The following floating-point exceptions are signalling: IEEE_UNDERFLOW_FLAG IEEE_DENORMAL\n",
      "STOP 0\n"
     ]
    },
    {
     "name": "stdout",
     "output_type": "stream",
     "text": [
      "end at Wed 17 Apr 2024 10:47:40 PM EDT\n",
      "[0.98429115] 4446\n",
      "HYPE\n",
      "['param_temp']\n",
      "['param_temp']\n",
      "<class 'list'>\n",
      "/home/shg096/pygmo_mizuRoute_Diefenbaker/HYPE_run/4446/\n"
     ]
    },
    {
     "name": "stderr",
     "output_type": "stream",
     "text": [
      "Restoring modules from user's fhimp-mods\n"
     ]
    },
    {
     "name": "stdout",
     "output_type": "stream",
     "text": [
      "start at Wed 17 Apr 2024 10:47:46 PM EDT\n",
      " ---------------------------------------------\n",
      "    HYPE version 5.24.0                  \n",
      " ---------------------------------------------\n",
      " New versions of HYPE at the HYPE Open Source \n",
      " Community website (hypecode.smhi.se), as well\n",
      " as information on up-coming courses.         \n",
      " ---------------------------------------------\n"
     ]
    },
    {
     "name": "stderr",
     "output_type": "stream",
     "text": [
      " -> Simulation will halt: successfully\n",
      "Note: The following floating-point exceptions are signalling: IEEE_UNDERFLOW_FLAG IEEE_DENORMAL\n",
      "STOP 0\n"
     ]
    },
    {
     "name": "stdout",
     "output_type": "stream",
     "text": [
      "end at Wed 17 Apr 2024 10:47:53 PM EDT\n",
      "[0.73117459] 4446\n",
      "HYPE\n",
      "['param_temp']\n",
      "['param_temp']\n",
      "<class 'list'>\n",
      "/home/shg096/pygmo_mizuRoute_Diefenbaker/HYPE_run/4446/\n"
     ]
    },
    {
     "name": "stderr",
     "output_type": "stream",
     "text": [
      "Restoring modules from user's fhimp-mods\n"
     ]
    },
    {
     "name": "stdout",
     "output_type": "stream",
     "text": [
      "start at Wed 17 Apr 2024 10:47:59 PM EDT\n",
      " ---------------------------------------------\n",
      "    HYPE version 5.24.0                  \n",
      " ---------------------------------------------\n",
      " New versions of HYPE at the HYPE Open Source \n",
      " Community website (hypecode.smhi.se), as well\n",
      " as information on up-coming courses.         \n",
      " ---------------------------------------------\n"
     ]
    },
    {
     "name": "stderr",
     "output_type": "stream",
     "text": [
      " -> Simulation will halt: successfully\n",
      "Note: The following floating-point exceptions are signalling: IEEE_UNDERFLOW_FLAG IEEE_DENORMAL\n",
      "STOP 0\n"
     ]
    },
    {
     "name": "stdout",
     "output_type": "stream",
     "text": [
      "end at Wed 17 Apr 2024 10:48:05 PM EDT\n",
      "[0.90234906] 4446\n",
      "HYPE\n",
      "['param_temp']\n",
      "['param_temp']\n",
      "<class 'list'>\n",
      "/home/shg096/pygmo_mizuRoute_Diefenbaker/HYPE_run/4446/\n"
     ]
    },
    {
     "name": "stderr",
     "output_type": "stream",
     "text": [
      "Restoring modules from user's fhimp-mods\n"
     ]
    },
    {
     "name": "stdout",
     "output_type": "stream",
     "text": [
      "start at Wed 17 Apr 2024 10:48:12 PM EDT\n",
      " ---------------------------------------------\n",
      "    HYPE version 5.24.0                  \n",
      " ---------------------------------------------\n",
      " New versions of HYPE at the HYPE Open Source \n",
      " Community website (hypecode.smhi.se), as well\n",
      " as information on up-coming courses.         \n",
      " ---------------------------------------------\n"
     ]
    },
    {
     "name": "stderr",
     "output_type": "stream",
     "text": [
      " -> Simulation will halt: successfully\n",
      "Note: The following floating-point exceptions are signalling: IEEE_UNDERFLOW_FLAG IEEE_DENORMAL\n",
      "STOP 0\n"
     ]
    },
    {
     "name": "stdout",
     "output_type": "stream",
     "text": [
      "end at Wed 17 Apr 2024 10:48:18 PM EDT\n",
      "[0.80066788] 4446\n",
      "HYPE\n",
      "['param_temp']\n",
      "['param_temp']\n",
      "<class 'list'>\n",
      "/home/shg096/pygmo_mizuRoute_Diefenbaker/HYPE_run/4446/\n"
     ]
    },
    {
     "name": "stderr",
     "output_type": "stream",
     "text": [
      "Restoring modules from user's fhimp-mods\n"
     ]
    },
    {
     "name": "stdout",
     "output_type": "stream",
     "text": [
      "start at Wed 17 Apr 2024 10:48:24 PM EDT\n",
      " ---------------------------------------------\n",
      "    HYPE version 5.24.0                  \n",
      " ---------------------------------------------\n",
      " New versions of HYPE at the HYPE Open Source \n",
      " Community website (hypecode.smhi.se), as well\n",
      " as information on up-coming courses.         \n",
      " ---------------------------------------------\n"
     ]
    },
    {
     "name": "stderr",
     "output_type": "stream",
     "text": [
      " -> Simulation will halt: successfully\n",
      "Note: The following floating-point exceptions are signalling: IEEE_UNDERFLOW_FLAG IEEE_DENORMAL\n",
      "STOP 0\n"
     ]
    },
    {
     "name": "stdout",
     "output_type": "stream",
     "text": [
      "end at Wed 17 Apr 2024 10:48:30 PM EDT\n",
      "[0.29965267] 4446\n",
      "HYPE\n",
      "['param_temp']\n",
      "['param_temp']\n",
      "<class 'list'>\n",
      "/home/shg096/pygmo_mizuRoute_Diefenbaker/HYPE_run/4446/\n"
     ]
    },
    {
     "name": "stderr",
     "output_type": "stream",
     "text": [
      "Restoring modules from user's fhimp-mods\n"
     ]
    },
    {
     "name": "stdout",
     "output_type": "stream",
     "text": [
      "start at Wed 17 Apr 2024 10:48:37 PM EDT\n",
      " ---------------------------------------------\n",
      "    HYPE version 5.24.0                  \n",
      " ---------------------------------------------\n",
      " New versions of HYPE at the HYPE Open Source \n",
      " Community website (hypecode.smhi.se), as well\n",
      " as information on up-coming courses.         \n",
      " ---------------------------------------------\n"
     ]
    },
    {
     "name": "stderr",
     "output_type": "stream",
     "text": [
      " -> Simulation will halt: successfully\n",
      "Note: The following floating-point exceptions are signalling: IEEE_UNDERFLOW_FLAG IEEE_DENORMAL\n",
      "STOP 0\n"
     ]
    },
    {
     "name": "stdout",
     "output_type": "stream",
     "text": [
      "end at Wed 17 Apr 2024 10:48:43 PM EDT\n",
      "[0.59230659] 4446\n",
      "HYPE\n",
      "['param_temp']\n",
      "['param_temp']\n",
      "<class 'list'>\n",
      "/home/shg096/pygmo_mizuRoute_Diefenbaker/HYPE_run/4446/\n"
     ]
    },
    {
     "name": "stderr",
     "output_type": "stream",
     "text": [
      "Restoring modules from user's fhimp-mods\n"
     ]
    },
    {
     "name": "stdout",
     "output_type": "stream",
     "text": [
      "start at Wed 17 Apr 2024 10:48:50 PM EDT\n",
      " ---------------------------------------------\n",
      "    HYPE version 5.24.0                  \n",
      " ---------------------------------------------\n",
      " New versions of HYPE at the HYPE Open Source \n",
      " Community website (hypecode.smhi.se), as well\n",
      " as information on up-coming courses.         \n",
      " ---------------------------------------------\n"
     ]
    },
    {
     "name": "stderr",
     "output_type": "stream",
     "text": [
      " -> Simulation will halt: successfully\n",
      "Note: The following floating-point exceptions are signalling: IEEE_UNDERFLOW_FLAG IEEE_DENORMAL\n",
      "STOP 0\n"
     ]
    },
    {
     "name": "stdout",
     "output_type": "stream",
     "text": [
      "end at Wed 17 Apr 2024 10:48:56 PM EDT\n",
      "[0.22038039] 4446\n",
      "HYPE\n",
      "['param_temp']\n",
      "['param_temp']\n",
      "<class 'list'>\n",
      "/home/shg096/pygmo_mizuRoute_Diefenbaker/HYPE_run/4446/\n"
     ]
    },
    {
     "name": "stderr",
     "output_type": "stream",
     "text": [
      "Restoring modules from user's fhimp-mods\n"
     ]
    },
    {
     "name": "stdout",
     "output_type": "stream",
     "text": [
      "start at Wed 17 Apr 2024 10:49:03 PM EDT\n",
      " ---------------------------------------------\n",
      "    HYPE version 5.24.0                  \n",
      " ---------------------------------------------\n",
      " New versions of HYPE at the HYPE Open Source \n",
      " Community website (hypecode.smhi.se), as well\n",
      " as information on up-coming courses.         \n",
      " ---------------------------------------------\n"
     ]
    },
    {
     "name": "stderr",
     "output_type": "stream",
     "text": [
      " -> Simulation will halt: successfully\n",
      "Note: The following floating-point exceptions are signalling: IEEE_UNDERFLOW_FLAG IEEE_DENORMAL\n",
      "STOP 0\n"
     ]
    },
    {
     "name": "stdout",
     "output_type": "stream",
     "text": [
      "end at Wed 17 Apr 2024 10:49:09 PM EDT\n",
      "[0.99013876] 4446\n",
      "HYPE\n",
      "['param_temp']\n",
      "['param_temp']\n",
      "<class 'list'>\n",
      "/home/shg096/pygmo_mizuRoute_Diefenbaker/HYPE_run/4446/\n"
     ]
    },
    {
     "name": "stderr",
     "output_type": "stream",
     "text": [
      "Restoring modules from user's fhimp-mods\n"
     ]
    },
    {
     "name": "stdout",
     "output_type": "stream",
     "text": [
      "start at Wed 17 Apr 2024 10:49:15 PM EDT\n",
      " ---------------------------------------------\n",
      "    HYPE version 5.24.0                  \n",
      " ---------------------------------------------\n",
      " New versions of HYPE at the HYPE Open Source \n",
      " Community website (hypecode.smhi.se), as well\n",
      " as information on up-coming courses.         \n",
      " ---------------------------------------------\n"
     ]
    },
    {
     "name": "stderr",
     "output_type": "stream",
     "text": [
      " -> Simulation will halt: successfully\n",
      "Note: The following floating-point exceptions are signalling: IEEE_UNDERFLOW_FLAG IEEE_DENORMAL\n",
      "STOP 0\n"
     ]
    },
    {
     "name": "stdout",
     "output_type": "stream",
     "text": [
      "end at Wed 17 Apr 2024 10:49:22 PM EDT\n",
      "[0.36274767] 4446\n",
      "HYPE\n",
      "['param_temp']\n",
      "['param_temp']\n",
      "<class 'list'>\n",
      "/home/shg096/pygmo_mizuRoute_Diefenbaker/HYPE_run/4446/\n"
     ]
    },
    {
     "name": "stderr",
     "output_type": "stream",
     "text": [
      "Restoring modules from user's fhimp-mods\n"
     ]
    },
    {
     "name": "stdout",
     "output_type": "stream",
     "text": [
      "start at Wed 17 Apr 2024 10:49:28 PM EDT\n",
      " ---------------------------------------------\n",
      "    HYPE version 5.24.0                  \n",
      " ---------------------------------------------\n",
      " New versions of HYPE at the HYPE Open Source \n",
      " Community website (hypecode.smhi.se), as well\n",
      " as information on up-coming courses.         \n",
      " ---------------------------------------------\n"
     ]
    },
    {
     "name": "stderr",
     "output_type": "stream",
     "text": [
      " -> Simulation will halt: successfully\n",
      "Note: The following floating-point exceptions are signalling: IEEE_UNDERFLOW_FLAG IEEE_DENORMAL\n",
      "STOP 0\n"
     ]
    },
    {
     "name": "stdout",
     "output_type": "stream",
     "text": [
      "end at Wed 17 Apr 2024 10:49:35 PM EDT\n",
      "[0.72961396] 4446\n",
      "HYPE\n",
      "['param_temp']\n",
      "['param_temp']\n",
      "<class 'list'>\n",
      "/home/shg096/pygmo_mizuRoute_Diefenbaker/HYPE_run/4446/\n"
     ]
    },
    {
     "name": "stderr",
     "output_type": "stream",
     "text": [
      "Restoring modules from user's fhimp-mods\n"
     ]
    },
    {
     "name": "stdout",
     "output_type": "stream",
     "text": [
      "start at Wed 17 Apr 2024 10:49:41 PM EDT\n",
      " ---------------------------------------------\n",
      "    HYPE version 5.24.0                  \n",
      " ---------------------------------------------\n",
      " New versions of HYPE at the HYPE Open Source \n",
      " Community website (hypecode.smhi.se), as well\n",
      " as information on up-coming courses.         \n",
      " ---------------------------------------------\n"
     ]
    },
    {
     "name": "stderr",
     "output_type": "stream",
     "text": [
      " -> Simulation will halt: successfully\n",
      "Note: The following floating-point exceptions are signalling: IEEE_UNDERFLOW_FLAG IEEE_DENORMAL\n",
      "STOP 0\n"
     ]
    },
    {
     "name": "stdout",
     "output_type": "stream",
     "text": [
      "end at Wed 17 Apr 2024 10:49:47 PM EDT\n",
      "[0.61010598] 4446\n",
      "HYPE\n",
      "['param_temp']\n",
      "['param_temp']\n",
      "<class 'list'>\n",
      "/home/shg096/pygmo_mizuRoute_Diefenbaker/HYPE_run/4446/\n"
     ]
    },
    {
     "name": "stderr",
     "output_type": "stream",
     "text": [
      "Restoring modules from user's fhimp-mods\n"
     ]
    },
    {
     "name": "stdout",
     "output_type": "stream",
     "text": [
      "start at Wed 17 Apr 2024 10:49:54 PM EDT\n",
      " ---------------------------------------------\n",
      "    HYPE version 5.24.0                  \n",
      " ---------------------------------------------\n",
      " New versions of HYPE at the HYPE Open Source \n",
      " Community website (hypecode.smhi.se), as well\n",
      " as information on up-coming courses.         \n",
      " ---------------------------------------------\n"
     ]
    },
    {
     "name": "stderr",
     "output_type": "stream",
     "text": [
      " -> Simulation will halt: successfully\n",
      "Note: The following floating-point exceptions are signalling: IEEE_UNDERFLOW_FLAG IEEE_DENORMAL\n",
      "STOP 0\n"
     ]
    },
    {
     "name": "stdout",
     "output_type": "stream",
     "text": [
      "end at Wed 17 Apr 2024 10:50:00 PM EDT\n",
      "[0.86959819] 4446\n",
      "HYPE\n",
      "['param_temp']\n",
      "['param_temp']\n",
      "<class 'list'>\n",
      "/home/shg096/pygmo_mizuRoute_Diefenbaker/HYPE_run/4446/\n"
     ]
    },
    {
     "name": "stderr",
     "output_type": "stream",
     "text": [
      "Restoring modules from user's fhimp-mods\n"
     ]
    },
    {
     "name": "stdout",
     "output_type": "stream",
     "text": [
      "start at Wed 17 Apr 2024 10:50:07 PM EDT\n",
      " ---------------------------------------------\n",
      "    HYPE version 5.24.0                  \n",
      " ---------------------------------------------\n",
      " New versions of HYPE at the HYPE Open Source \n",
      " Community website (hypecode.smhi.se), as well\n",
      " as information on up-coming courses.         \n",
      " ---------------------------------------------\n"
     ]
    },
    {
     "name": "stderr",
     "output_type": "stream",
     "text": [
      " -> Simulation will halt: successfully\n",
      "Note: The following floating-point exceptions are signalling: IEEE_UNDERFLOW_FLAG IEEE_DENORMAL\n",
      "STOP 0\n"
     ]
    },
    {
     "name": "stdout",
     "output_type": "stream",
     "text": [
      "end at Wed 17 Apr 2024 10:50:13 PM EDT\n",
      "[0.66773159] 4446\n",
      "HYPE\n",
      "['param_temp']\n",
      "['param_temp']\n",
      "<class 'list'>\n",
      "/home/shg096/pygmo_mizuRoute_Diefenbaker/HYPE_run/4446/\n"
     ]
    },
    {
     "name": "stderr",
     "output_type": "stream",
     "text": [
      "Restoring modules from user's fhimp-mods\n"
     ]
    },
    {
     "name": "stdout",
     "output_type": "stream",
     "text": [
      "start at Wed 17 Apr 2024 10:50:20 PM EDT\n",
      " ---------------------------------------------\n",
      "    HYPE version 5.24.0                  \n",
      " ---------------------------------------------\n",
      " New versions of HYPE at the HYPE Open Source \n",
      " Community website (hypecode.smhi.se), as well\n",
      " as information on up-coming courses.         \n",
      " ---------------------------------------------\n"
     ]
    },
    {
     "name": "stderr",
     "output_type": "stream",
     "text": [
      " -> Simulation will halt: successfully\n",
      "Note: The following floating-point exceptions are signalling: IEEE_UNDERFLOW_FLAG IEEE_DENORMAL\n",
      "STOP 0\n"
     ]
    },
    {
     "name": "stdout",
     "output_type": "stream",
     "text": [
      "end at Wed 17 Apr 2024 10:50:26 PM EDT\n",
      "[0.91197949] 4446\n",
      "HYPE\n",
      "['param_temp']\n",
      "['param_temp']\n",
      "<class 'list'>\n",
      "/home/shg096/pygmo_mizuRoute_Diefenbaker/HYPE_run/4446/\n"
     ]
    },
    {
     "name": "stderr",
     "output_type": "stream",
     "text": [
      "Restoring modules from user's fhimp-mods\n"
     ]
    },
    {
     "name": "stdout",
     "output_type": "stream",
     "text": [
      "start at Wed 17 Apr 2024 10:50:32 PM EDT\n",
      " ---------------------------------------------\n",
      "    HYPE version 5.24.0                  \n",
      " ---------------------------------------------\n",
      " New versions of HYPE at the HYPE Open Source \n",
      " Community website (hypecode.smhi.se), as well\n",
      " as information on up-coming courses.         \n",
      " ---------------------------------------------\n"
     ]
    },
    {
     "name": "stderr",
     "output_type": "stream",
     "text": [
      " -> Simulation will halt: successfully\n",
      "Note: The following floating-point exceptions are signalling: IEEE_UNDERFLOW_FLAG IEEE_DENORMAL\n",
      "STOP 0\n"
     ]
    },
    {
     "name": "stdout",
     "output_type": "stream",
     "text": [
      "end at Wed 17 Apr 2024 10:50:38 PM EDT\n",
      "[0.81570791] 4446\n",
      "HYPE\n",
      "['param_temp']\n",
      "['param_temp']\n",
      "<class 'list'>\n",
      "/home/shg096/pygmo_mizuRoute_Diefenbaker/HYPE_run/4446/\n"
     ]
    },
    {
     "name": "stderr",
     "output_type": "stream",
     "text": [
      "Restoring modules from user's fhimp-mods\n"
     ]
    },
    {
     "name": "stdout",
     "output_type": "stream",
     "text": [
      "start at Wed 17 Apr 2024 10:50:45 PM EDT\n",
      " ---------------------------------------------\n",
      "    HYPE version 5.24.0                  \n",
      " ---------------------------------------------\n",
      " New versions of HYPE at the HYPE Open Source \n",
      " Community website (hypecode.smhi.se), as well\n",
      " as information on up-coming courses.         \n",
      " ---------------------------------------------\n"
     ]
    },
    {
     "name": "stderr",
     "output_type": "stream",
     "text": [
      " -> Simulation will halt: successfully\n",
      "Note: The following floating-point exceptions are signalling: IEEE_UNDERFLOW_FLAG IEEE_DENORMAL\n",
      "STOP 0\n"
     ]
    },
    {
     "name": "stdout",
     "output_type": "stream",
     "text": [
      "end at Wed 17 Apr 2024 10:50:51 PM EDT\n",
      "[0.56134304] 4446\n",
      "HYPE\n",
      "['param_temp']\n",
      "['param_temp']\n",
      "<class 'list'>\n",
      "/home/shg096/pygmo_mizuRoute_Diefenbaker/HYPE_run/4446/\n"
     ]
    },
    {
     "name": "stderr",
     "output_type": "stream",
     "text": [
      "Restoring modules from user's fhimp-mods\n"
     ]
    },
    {
     "name": "stdout",
     "output_type": "stream",
     "text": [
      "start at Wed 17 Apr 2024 10:50:58 PM EDT\n",
      " ---------------------------------------------\n",
      "    HYPE version 5.24.0                  \n",
      " ---------------------------------------------\n",
      " New versions of HYPE at the HYPE Open Source \n",
      " Community website (hypecode.smhi.se), as well\n",
      " as information on up-coming courses.         \n",
      " ---------------------------------------------\n"
     ]
    },
    {
     "name": "stderr",
     "output_type": "stream",
     "text": [
      " -> Simulation will halt: successfully\n",
      "Note: The following floating-point exceptions are signalling: IEEE_UNDERFLOW_FLAG IEEE_DENORMAL\n",
      "STOP 0\n"
     ]
    },
    {
     "name": "stdout",
     "output_type": "stream",
     "text": [
      "end at Wed 17 Apr 2024 10:51:04 PM EDT\n",
      "[0.88001595] 4446\n",
      "HYPE\n",
      "['param_temp']\n",
      "['param_temp']\n",
      "<class 'list'>\n",
      "/home/shg096/pygmo_mizuRoute_Diefenbaker/HYPE_run/4446/\n"
     ]
    },
    {
     "name": "stderr",
     "output_type": "stream",
     "text": [
      "Restoring modules from user's fhimp-mods\n"
     ]
    },
    {
     "name": "stdout",
     "output_type": "stream",
     "text": [
      "start at Wed 17 Apr 2024 10:51:10 PM EDT\n",
      " ---------------------------------------------\n",
      "    HYPE version 5.24.0                  \n",
      " ---------------------------------------------\n",
      " New versions of HYPE at the HYPE Open Source \n",
      " Community website (hypecode.smhi.se), as well\n",
      " as information on up-coming courses.         \n",
      " ---------------------------------------------\n"
     ]
    },
    {
     "name": "stderr",
     "output_type": "stream",
     "text": [
      " -> Simulation will halt: successfully\n",
      "Note: The following floating-point exceptions are signalling: IEEE_UNDERFLOW_FLAG IEEE_DENORMAL\n",
      "STOP 0\n"
     ]
    },
    {
     "name": "stdout",
     "output_type": "stream",
     "text": [
      "end at Wed 17 Apr 2024 10:51:16 PM EDT\n",
      "[0.62783802] 4446\n",
      "HYPE\n",
      "['param_temp']\n",
      "['param_temp']\n",
      "<class 'list'>\n",
      "/home/shg096/pygmo_mizuRoute_Diefenbaker/HYPE_run/4446/\n"
     ]
    },
    {
     "name": "stderr",
     "output_type": "stream",
     "text": [
      "Restoring modules from user's fhimp-mods\n"
     ]
    },
    {
     "name": "stdout",
     "output_type": "stream",
     "text": [
      "start at Wed 17 Apr 2024 10:51:23 PM EDT\n",
      " ---------------------------------------------\n",
      "    HYPE version 5.24.0                  \n",
      " ---------------------------------------------\n",
      " New versions of HYPE at the HYPE Open Source \n",
      " Community website (hypecode.smhi.se), as well\n",
      " as information on up-coming courses.         \n",
      " ---------------------------------------------\n"
     ]
    },
    {
     "name": "stderr",
     "output_type": "stream",
     "text": [
      " -> Simulation will halt: successfully\n",
      "Note: The following floating-point exceptions are signalling: IEEE_UNDERFLOW_FLAG IEEE_DENORMAL\n",
      "STOP 0\n"
     ]
    },
    {
     "name": "stdout",
     "output_type": "stream",
     "text": [
      "end at Wed 17 Apr 2024 10:51:29 PM EDT\n",
      "[0.67792278] 4446\n",
      "HYPE\n",
      "['param_temp']\n",
      "['param_temp']\n",
      "<class 'list'>\n",
      "/home/shg096/pygmo_mizuRoute_Diefenbaker/HYPE_run/4446/\n"
     ]
    },
    {
     "name": "stderr",
     "output_type": "stream",
     "text": [
      "Restoring modules from user's fhimp-mods\n"
     ]
    },
    {
     "name": "stdout",
     "output_type": "stream",
     "text": [
      "start at Wed 17 Apr 2024 10:51:35 PM EDT\n",
      " ---------------------------------------------\n",
      "    HYPE version 5.24.0                  \n",
      " ---------------------------------------------\n",
      " New versions of HYPE at the HYPE Open Source \n",
      " Community website (hypecode.smhi.se), as well\n",
      " as information on up-coming courses.         \n",
      " ---------------------------------------------\n"
     ]
    },
    {
     "name": "stderr",
     "output_type": "stream",
     "text": [
      " -> Simulation will halt: successfully\n",
      "Note: The following floating-point exceptions are signalling: IEEE_UNDERFLOW_FLAG IEEE_DENORMAL\n",
      "STOP 0\n"
     ]
    },
    {
     "name": "stdout",
     "output_type": "stream",
     "text": [
      "end at Wed 17 Apr 2024 10:51:41 PM EDT\n",
      "[0.39741141] 4446\n",
      "HYPE\n",
      "['param_temp']\n",
      "['param_temp']\n",
      "<class 'list'>\n",
      "/home/shg096/pygmo_mizuRoute_Diefenbaker/HYPE_run/4446/\n"
     ]
    },
    {
     "name": "stderr",
     "output_type": "stream",
     "text": [
      "Restoring modules from user's fhimp-mods\n"
     ]
    },
    {
     "name": "stdout",
     "output_type": "stream",
     "text": [
      "start at Wed 17 Apr 2024 10:51:48 PM EDT\n",
      " ---------------------------------------------\n",
      "    HYPE version 5.24.0                  \n",
      " ---------------------------------------------\n",
      " New versions of HYPE at the HYPE Open Source \n",
      " Community website (hypecode.smhi.se), as well\n",
      " as information on up-coming courses.         \n",
      " ---------------------------------------------\n"
     ]
    },
    {
     "name": "stderr",
     "output_type": "stream",
     "text": [
      " -> Simulation will halt: successfully\n",
      "Note: The following floating-point exceptions are signalling: IEEE_UNDERFLOW_FLAG IEEE_DENORMAL\n",
      "STOP 0\n"
     ]
    },
    {
     "name": "stdout",
     "output_type": "stream",
     "text": [
      "end at Wed 17 Apr 2024 10:51:54 PM EDT\n",
      "[0.21322312] 4446\n",
      "HYPE\n",
      "['param_temp']\n",
      "['param_temp']\n",
      "<class 'list'>\n",
      "/home/shg096/pygmo_mizuRoute_Diefenbaker/HYPE_run/4446/\n"
     ]
    },
    {
     "name": "stderr",
     "output_type": "stream",
     "text": [
      "Restoring modules from user's fhimp-mods\n"
     ]
    },
    {
     "name": "stdout",
     "output_type": "stream",
     "text": [
      "start at Wed 17 Apr 2024 10:52:01 PM EDT\n",
      " ---------------------------------------------\n",
      "    HYPE version 5.24.0                  \n",
      " ---------------------------------------------\n",
      " New versions of HYPE at the HYPE Open Source \n",
      " Community website (hypecode.smhi.se), as well\n",
      " as information on up-coming courses.         \n",
      " ---------------------------------------------\n"
     ]
    },
    {
     "name": "stderr",
     "output_type": "stream",
     "text": [
      " -> Simulation will halt: successfully\n",
      "Note: The following floating-point exceptions are signalling: IEEE_UNDERFLOW_FLAG IEEE_DENORMAL\n",
      "STOP 0\n"
     ]
    },
    {
     "name": "stdout",
     "output_type": "stream",
     "text": [
      "end at Wed 17 Apr 2024 10:52:07 PM EDT\n",
      "[0.58207591] 4446\n",
      "HYPE\n",
      "['param_temp']\n",
      "['param_temp']\n",
      "<class 'list'>\n",
      "/home/shg096/pygmo_mizuRoute_Diefenbaker/HYPE_run/4446/\n"
     ]
    },
    {
     "name": "stderr",
     "output_type": "stream",
     "text": [
      "Restoring modules from user's fhimp-mods\n"
     ]
    },
    {
     "name": "stdout",
     "output_type": "stream",
     "text": [
      "start at Wed 17 Apr 2024 10:52:13 PM EDT\n",
      " ---------------------------------------------\n",
      "    HYPE version 5.24.0                  \n",
      " ---------------------------------------------\n",
      " New versions of HYPE at the HYPE Open Source \n",
      " Community website (hypecode.smhi.se), as well\n",
      " as information on up-coming courses.         \n",
      " ---------------------------------------------\n"
     ]
    },
    {
     "name": "stderr",
     "output_type": "stream",
     "text": [
      " -> Simulation will halt: successfully\n",
      "Note: The following floating-point exceptions are signalling: IEEE_UNDERFLOW_FLAG IEEE_DENORMAL\n",
      "STOP 0\n"
     ]
    },
    {
     "name": "stdout",
     "output_type": "stream",
     "text": [
      "end at Wed 17 Apr 2024 10:52:19 PM EDT\n",
      "[0.44520341] 4446\n",
      "HYPE\n",
      "['param_temp']\n",
      "['param_temp']\n",
      "<class 'list'>\n",
      "/home/shg096/pygmo_mizuRoute_Diefenbaker/HYPE_run/4446/\n"
     ]
    },
    {
     "name": "stderr",
     "output_type": "stream",
     "text": [
      "Restoring modules from user's fhimp-mods\n"
     ]
    },
    {
     "name": "stdout",
     "output_type": "stream",
     "text": [
      "start at Wed 17 Apr 2024 10:52:26 PM EDT\n",
      " ---------------------------------------------\n",
      "    HYPE version 5.24.0                  \n",
      " ---------------------------------------------\n",
      " New versions of HYPE at the HYPE Open Source \n",
      " Community website (hypecode.smhi.se), as well\n",
      " as information on up-coming courses.         \n",
      " ---------------------------------------------\n"
     ]
    },
    {
     "name": "stderr",
     "output_type": "stream",
     "text": [
      " -> Simulation will halt: successfully\n",
      "Note: The following floating-point exceptions are signalling: IEEE_UNDERFLOW_FLAG IEEE_DENORMAL\n",
      "STOP 0\n"
     ]
    },
    {
     "name": "stdout",
     "output_type": "stream",
     "text": [
      "end at Wed 17 Apr 2024 10:52:32 PM EDT\n",
      "[0.62519062] 4446\n",
      "HYPE\n",
      "['param_temp']\n",
      "['param_temp']\n",
      "<class 'list'>\n",
      "/home/shg096/pygmo_mizuRoute_Diefenbaker/HYPE_run/4446/\n"
     ]
    },
    {
     "name": "stderr",
     "output_type": "stream",
     "text": [
      "Restoring modules from user's fhimp-mods\n"
     ]
    },
    {
     "name": "stdout",
     "output_type": "stream",
     "text": [
      "start at Wed 17 Apr 2024 10:52:39 PM EDT\n",
      " ---------------------------------------------\n",
      "    HYPE version 5.24.0                  \n",
      " ---------------------------------------------\n",
      " New versions of HYPE at the HYPE Open Source \n",
      " Community website (hypecode.smhi.se), as well\n",
      " as information on up-coming courses.         \n",
      " ---------------------------------------------\n"
     ]
    },
    {
     "name": "stderr",
     "output_type": "stream",
     "text": [
      " -> Simulation will halt: successfully\n",
      "Note: The following floating-point exceptions are signalling: IEEE_UNDERFLOW_FLAG IEEE_DENORMAL\n",
      "STOP 0\n"
     ]
    },
    {
     "name": "stdout",
     "output_type": "stream",
     "text": [
      "end at Wed 17 Apr 2024 10:52:45 PM EDT\n",
      "[0.34421997] 4446\n",
      "HYPE\n",
      "['param_temp']\n",
      "['param_temp']\n",
      "<class 'list'>\n",
      "/home/shg096/pygmo_mizuRoute_Diefenbaker/HYPE_run/4446/\n"
     ]
    },
    {
     "name": "stderr",
     "output_type": "stream",
     "text": [
      "Restoring modules from user's fhimp-mods\n"
     ]
    },
    {
     "name": "stdout",
     "output_type": "stream",
     "text": [
      "start at Wed 17 Apr 2024 10:52:51 PM EDT\n",
      " ---------------------------------------------\n",
      "    HYPE version 5.24.0                  \n",
      " ---------------------------------------------\n",
      " New versions of HYPE at the HYPE Open Source \n",
      " Community website (hypecode.smhi.se), as well\n",
      " as information on up-coming courses.         \n",
      " ---------------------------------------------\n"
     ]
    },
    {
     "name": "stderr",
     "output_type": "stream",
     "text": [
      " -> Simulation will halt: successfully\n",
      "Note: The following floating-point exceptions are signalling: IEEE_UNDERFLOW_FLAG IEEE_DENORMAL\n",
      "STOP 0\n"
     ]
    },
    {
     "name": "stdout",
     "output_type": "stream",
     "text": [
      "end at Wed 17 Apr 2024 10:52:57 PM EDT\n",
      "[0.84014415] 4446\n",
      "HYPE\n",
      "['param_temp']\n",
      "['param_temp']\n",
      "<class 'list'>\n",
      "/home/shg096/pygmo_mizuRoute_Diefenbaker/HYPE_run/4446/\n"
     ]
    },
    {
     "name": "stderr",
     "output_type": "stream",
     "text": [
      "Restoring modules from user's fhimp-mods\n"
     ]
    },
    {
     "name": "stdout",
     "output_type": "stream",
     "text": [
      "start at Wed 17 Apr 2024 10:53:04 PM EDT\n",
      " ---------------------------------------------\n",
      "    HYPE version 5.24.0                  \n",
      " ---------------------------------------------\n",
      " New versions of HYPE at the HYPE Open Source \n",
      " Community website (hypecode.smhi.se), as well\n",
      " as information on up-coming courses.         \n",
      " ---------------------------------------------\n"
     ]
    },
    {
     "name": "stderr",
     "output_type": "stream",
     "text": [
      " -> Simulation will halt: successfully\n",
      "Note: The following floating-point exceptions are signalling: IEEE_UNDERFLOW_FLAG IEEE_DENORMAL\n",
      "STOP 0\n"
     ]
    },
    {
     "name": "stdout",
     "output_type": "stream",
     "text": [
      "end at Wed 17 Apr 2024 10:53:10 PM EDT\n",
      "[0.26165295] 4446\n",
      "HYPE\n",
      "['param_temp']\n",
      "['param_temp']\n",
      "<class 'list'>\n",
      "/home/shg096/pygmo_mizuRoute_Diefenbaker/HYPE_run/4446/\n"
     ]
    },
    {
     "name": "stderr",
     "output_type": "stream",
     "text": [
      "Restoring modules from user's fhimp-mods\n"
     ]
    },
    {
     "name": "stdout",
     "output_type": "stream",
     "text": [
      "start at Wed 17 Apr 2024 10:53:16 PM EDT\n",
      " ---------------------------------------------\n",
      "    HYPE version 5.24.0                  \n",
      " ---------------------------------------------\n",
      " New versions of HYPE at the HYPE Open Source \n",
      " Community website (hypecode.smhi.se), as well\n",
      " as information on up-coming courses.         \n",
      " ---------------------------------------------\n"
     ]
    },
    {
     "name": "stderr",
     "output_type": "stream",
     "text": [
      " -> Simulation will halt: successfully\n",
      "Note: The following floating-point exceptions are signalling: IEEE_UNDERFLOW_FLAG IEEE_DENORMAL\n",
      "STOP 0\n"
     ]
    },
    {
     "name": "stdout",
     "output_type": "stream",
     "text": [
      "end at Wed 17 Apr 2024 10:53:23 PM EDT\n",
      "[0.71736258] 4446\n",
      "HYPE\n",
      "['param_temp']\n",
      "['param_temp']\n",
      "<class 'list'>\n",
      "/home/shg096/pygmo_mizuRoute_Diefenbaker/HYPE_run/4446/\n"
     ]
    },
    {
     "name": "stderr",
     "output_type": "stream",
     "text": [
      "Restoring modules from user's fhimp-mods\n"
     ]
    },
    {
     "name": "stdout",
     "output_type": "stream",
     "text": [
      "start at Wed 17 Apr 2024 10:53:29 PM EDT\n",
      " ---------------------------------------------\n",
      "    HYPE version 5.24.0                  \n",
      " ---------------------------------------------\n",
      " New versions of HYPE at the HYPE Open Source \n",
      " Community website (hypecode.smhi.se), as well\n",
      " as information on up-coming courses.         \n",
      " ---------------------------------------------\n"
     ]
    },
    {
     "name": "stderr",
     "output_type": "stream",
     "text": [
      " -> Simulation will halt: successfully\n",
      "Note: The following floating-point exceptions are signalling: IEEE_UNDERFLOW_FLAG IEEE_DENORMAL\n",
      "STOP 0\n"
     ]
    },
    {
     "name": "stdout",
     "output_type": "stream",
     "text": [
      "end at Wed 17 Apr 2024 10:53:35 PM EDT\n",
      "[0.60855521] 4446\n",
      "HYPE\n",
      "['param_temp']\n",
      "['param_temp']\n",
      "<class 'list'>\n",
      "/home/shg096/pygmo_mizuRoute_Diefenbaker/HYPE_run/4446/\n"
     ]
    },
    {
     "name": "stderr",
     "output_type": "stream",
     "text": [
      "Restoring modules from user's fhimp-mods\n"
     ]
    },
    {
     "name": "stdout",
     "output_type": "stream",
     "text": [
      "start at Wed 17 Apr 2024 10:53:42 PM EDT\n",
      " ---------------------------------------------\n",
      "    HYPE version 5.24.0                  \n",
      " ---------------------------------------------\n",
      " New versions of HYPE at the HYPE Open Source \n",
      " Community website (hypecode.smhi.se), as well\n",
      " as information on up-coming courses.         \n",
      " ---------------------------------------------\n"
     ]
    },
    {
     "name": "stderr",
     "output_type": "stream",
     "text": [
      " -> Simulation will halt: successfully\n",
      "Note: The following floating-point exceptions are signalling: IEEE_UNDERFLOW_FLAG IEEE_DENORMAL\n",
      "STOP 0\n"
     ]
    },
    {
     "name": "stdout",
     "output_type": "stream",
     "text": [
      "end at Wed 17 Apr 2024 10:53:48 PM EDT\n",
      "[0.83501244] 4446\n",
      "HYPE\n",
      "['param_temp']\n",
      "['param_temp']\n",
      "<class 'list'>\n",
      "/home/shg096/pygmo_mizuRoute_Diefenbaker/HYPE_run/4446/\n"
     ]
    },
    {
     "name": "stderr",
     "output_type": "stream",
     "text": [
      "Restoring modules from user's fhimp-mods\n"
     ]
    },
    {
     "name": "stdout",
     "output_type": "stream",
     "text": [
      "start at Wed 17 Apr 2024 10:53:54 PM EDT\n",
      " ---------------------------------------------\n",
      "    HYPE version 5.24.0                  \n",
      " ---------------------------------------------\n",
      " New versions of HYPE at the HYPE Open Source \n",
      " Community website (hypecode.smhi.se), as well\n",
      " as information on up-coming courses.         \n",
      " ---------------------------------------------\n"
     ]
    },
    {
     "name": "stderr",
     "output_type": "stream",
     "text": [
      " -> Simulation will halt: successfully\n",
      "Note: The following floating-point exceptions are signalling: IEEE_UNDERFLOW_FLAG IEEE_DENORMAL\n",
      "STOP 0\n"
     ]
    },
    {
     "name": "stdout",
     "output_type": "stream",
     "text": [
      "end at Wed 17 Apr 2024 10:54:00 PM EDT\n",
      "[0.61745156] 4446\n",
      "HYPE\n",
      "['param_temp']\n",
      "['param_temp']\n",
      "<class 'list'>\n",
      "/home/shg096/pygmo_mizuRoute_Diefenbaker/HYPE_run/4446/\n"
     ]
    },
    {
     "name": "stderr",
     "output_type": "stream",
     "text": [
      "Restoring modules from user's fhimp-mods\n"
     ]
    },
    {
     "name": "stdout",
     "output_type": "stream",
     "text": [
      "start at Wed 17 Apr 2024 10:54:07 PM EDT\n",
      " ---------------------------------------------\n",
      "    HYPE version 5.24.0                  \n",
      " ---------------------------------------------\n",
      " New versions of HYPE at the HYPE Open Source \n",
      " Community website (hypecode.smhi.se), as well\n",
      " as information on up-coming courses.         \n",
      " ---------------------------------------------\n"
     ]
    },
    {
     "name": "stderr",
     "output_type": "stream",
     "text": [
      " -> Simulation will halt: successfully\n",
      "Note: The following floating-point exceptions are signalling: IEEE_UNDERFLOW_FLAG IEEE_DENORMAL\n",
      "STOP 0\n"
     ]
    },
    {
     "name": "stdout",
     "output_type": "stream",
     "text": [
      "end at Wed 17 Apr 2024 10:54:13 PM EDT\n",
      "[0.40156615] 4446\n",
      "HYPE\n",
      "['param_temp']\n",
      "['param_temp']\n",
      "<class 'list'>\n",
      "/home/shg096/pygmo_mizuRoute_Diefenbaker/HYPE_run/4446/\n"
     ]
    },
    {
     "name": "stderr",
     "output_type": "stream",
     "text": [
      "Restoring modules from user's fhimp-mods\n"
     ]
    },
    {
     "name": "stdout",
     "output_type": "stream",
     "text": [
      "start at Wed 17 Apr 2024 10:54:19 PM EDT\n",
      " ---------------------------------------------\n",
      "    HYPE version 5.24.0                  \n",
      " ---------------------------------------------\n",
      " New versions of HYPE at the HYPE Open Source \n",
      " Community website (hypecode.smhi.se), as well\n",
      " as information on up-coming courses.         \n",
      " ---------------------------------------------\n"
     ]
    },
    {
     "name": "stderr",
     "output_type": "stream",
     "text": [
      " -> Simulation will halt: successfully\n",
      "Note: The following floating-point exceptions are signalling: IEEE_UNDERFLOW_FLAG IEEE_DENORMAL\n",
      "STOP 0\n"
     ]
    },
    {
     "name": "stdout",
     "output_type": "stream",
     "text": [
      "end at Wed 17 Apr 2024 10:54:25 PM EDT\n",
      "[0.26765671] 4446\n",
      "HYPE\n",
      "['param_temp']\n",
      "['param_temp']\n",
      "<class 'list'>\n",
      "/home/shg096/pygmo_mizuRoute_Diefenbaker/HYPE_run/4446/\n"
     ]
    },
    {
     "name": "stderr",
     "output_type": "stream",
     "text": [
      "Restoring modules from user's fhimp-mods\n"
     ]
    },
    {
     "name": "stdout",
     "output_type": "stream",
     "text": [
      "start at Wed 17 Apr 2024 10:54:32 PM EDT\n",
      " ---------------------------------------------\n",
      "    HYPE version 5.24.0                  \n",
      " ---------------------------------------------\n",
      " New versions of HYPE at the HYPE Open Source \n",
      " Community website (hypecode.smhi.se), as well\n",
      " as information on up-coming courses.         \n",
      " ---------------------------------------------\n"
     ]
    },
    {
     "name": "stderr",
     "output_type": "stream",
     "text": [
      " -> Simulation will halt: successfully\n",
      "Note: The following floating-point exceptions are signalling: IEEE_UNDERFLOW_FLAG IEEE_DENORMAL\n",
      "STOP 0\n"
     ]
    },
    {
     "name": "stdout",
     "output_type": "stream",
     "text": [
      "end at Wed 17 Apr 2024 10:54:38 PM EDT\n",
      "[0.21692762] 4446\n",
      "HYPE\n",
      "['param_temp']\n",
      "['param_temp']\n",
      "<class 'list'>\n",
      "/home/shg096/pygmo_mizuRoute_Diefenbaker/HYPE_run/4446/\n"
     ]
    },
    {
     "name": "stderr",
     "output_type": "stream",
     "text": [
      "Restoring modules from user's fhimp-mods\n"
     ]
    },
    {
     "name": "stdout",
     "output_type": "stream",
     "text": [
      "start at Wed 17 Apr 2024 10:54:44 PM EDT\n",
      " ---------------------------------------------\n",
      "    HYPE version 5.24.0                  \n",
      " ---------------------------------------------\n",
      " New versions of HYPE at the HYPE Open Source \n",
      " Community website (hypecode.smhi.se), as well\n",
      " as information on up-coming courses.         \n",
      " ---------------------------------------------\n"
     ]
    },
    {
     "name": "stderr",
     "output_type": "stream",
     "text": [
      " -> Simulation will halt: successfully\n",
      "Note: The following floating-point exceptions are signalling: IEEE_UNDERFLOW_FLAG IEEE_DENORMAL\n",
      "STOP 0\n"
     ]
    },
    {
     "name": "stdout",
     "output_type": "stream",
     "text": [
      "end at Wed 17 Apr 2024 10:54:51 PM EDT\n",
      "[0.84994208] 4446\n",
      "HYPE\n",
      "['param_temp']\n",
      "['param_temp']\n",
      "<class 'list'>\n",
      "/home/shg096/pygmo_mizuRoute_Diefenbaker/HYPE_run/4446/\n"
     ]
    },
    {
     "name": "stderr",
     "output_type": "stream",
     "text": [
      "Restoring modules from user's fhimp-mods\n"
     ]
    },
    {
     "name": "stdout",
     "output_type": "stream",
     "text": [
      "start at Wed 17 Apr 2024 10:54:57 PM EDT\n",
      " ---------------------------------------------\n",
      "    HYPE version 5.24.0                  \n",
      " ---------------------------------------------\n",
      " New versions of HYPE at the HYPE Open Source \n",
      " Community website (hypecode.smhi.se), as well\n",
      " as information on up-coming courses.         \n",
      " ---------------------------------------------\n"
     ]
    },
    {
     "name": "stderr",
     "output_type": "stream",
     "text": [
      " -> Simulation will halt: successfully\n",
      "Note: The following floating-point exceptions are signalling: IEEE_UNDERFLOW_FLAG IEEE_DENORMAL\n",
      "STOP 0\n"
     ]
    },
    {
     "name": "stdout",
     "output_type": "stream",
     "text": [
      "end at Wed 17 Apr 2024 10:55:03 PM EDT\n",
      "[0.68187631] 4446\n",
      "HYPE\n",
      "['param_temp']\n",
      "['param_temp']\n",
      "<class 'list'>\n",
      "/home/shg096/pygmo_mizuRoute_Diefenbaker/HYPE_run/4446/\n"
     ]
    },
    {
     "name": "stderr",
     "output_type": "stream",
     "text": [
      "Restoring modules from user's fhimp-mods\n"
     ]
    },
    {
     "name": "stdout",
     "output_type": "stream",
     "text": [
      "start at Wed 17 Apr 2024 10:55:10 PM EDT\n",
      " ---------------------------------------------\n",
      "    HYPE version 5.24.0                  \n",
      " ---------------------------------------------\n",
      " New versions of HYPE at the HYPE Open Source \n",
      " Community website (hypecode.smhi.se), as well\n",
      " as information on up-coming courses.         \n",
      " ---------------------------------------------\n"
     ]
    },
    {
     "name": "stderr",
     "output_type": "stream",
     "text": [
      " -> Simulation will halt: successfully\n",
      "Note: The following floating-point exceptions are signalling: IEEE_UNDERFLOW_FLAG IEEE_DENORMAL\n",
      "STOP 0\n"
     ]
    },
    {
     "name": "stdout",
     "output_type": "stream",
     "text": [
      "end at Wed 17 Apr 2024 10:55:16 PM EDT\n"
     ]
    },
    {
     "name": "stderr",
     "output_type": "stream",
     "text": [
      "Restoring modules from user's fhimp-mods\n",
      "Restoring modules from user's fhimp-mods\n",
      "Restoring modules from user's fhimp-mods\n",
      "Restoring modules from user's fhimp-mods\n"
     ]
    },
    {
     "name": "stdout",
     "output_type": "stream",
     "text": [
      "start at Wed 17 Apr 2024 10:55:27 PM EDT\n",
      " ---------------------------------------------\n",
      "    HYPE version 5.24.0                  \n",
      " ---------------------------------------------\n",
      " New versions of HYPE at the HYPE Open Source \n",
      " Community website (hypecode.smhi.se), as well\n",
      " as information on up-coming courses.         \n",
      " ---------------------------------------------\n",
      "start at Wed 17 Apr 2024 10:55:27 PM EDT\n",
      " ---------------------------------------------\n",
      "    HYPE version 5.24.0                  \n",
      " ---------------------------------------------\n",
      " New versions of HYPE at the HYPE Open Source \n",
      " Community website (hypecode.smhi.se), as well\n",
      " as information on up-coming courses.         \n",
      " ---------------------------------------------\n",
      "start at Wed 17 Apr 2024 10:55:27 PM EDT\n",
      " ---------------------------------------------\n",
      "    HYPE version 5.24.0                  \n",
      " ---------------------------------------------\n",
      " New versions of HYPE at the HYPE Open Source \n",
      " Community website (hypecode.smhi.se), as well\n",
      " as information on up-coming courses.         \n",
      " ---------------------------------------------\n",
      "start at Wed 17 Apr 2024 10:55:27 PM EDT\n",
      " ---------------------------------------------\n",
      "    HYPE version 5.24.0                  \n",
      " ---------------------------------------------\n",
      " New versions of HYPE at the HYPE Open Source \n",
      " Community website (hypecode.smhi.se), as well\n",
      " as information on up-coming courses.         \n",
      " ---------------------------------------------\n"
     ]
    },
    {
     "name": "stderr",
     "output_type": "stream",
     "text": [
      " -> Simulation will halt: successfully\n",
      "Note: The following floating-point exceptions are signalling: IEEE_UNDERFLOW_FLAG IEEE_DENORMAL\n",
      "STOP 0\n",
      " -> Simulation will halt: successfully\n",
      "Note: The following floating-point exceptions are signalling: IEEE_UNDERFLOW_FLAG IEEE_DENORMAL\n",
      "STOP 0\n",
      " -> Simulation will halt: successfully\n",
      "Note: The following floating-point exceptions are signalling: IEEE_UNDERFLOW_FLAG IEEE_DENORMAL\n",
      "STOP 0\n",
      " -> Simulation will halt: successfully\n",
      "Note: The following floating-point exceptions are signalling: IEEE_UNDERFLOW_FLAG IEEE_DENORMAL\n",
      "STOP 0\n"
     ]
    },
    {
     "name": "stdout",
     "output_type": "stream",
     "text": [
      "end at Wed 17 Apr 2024 10:55:33 PM EDT\n",
      "end at Wed 17 Apr 2024 10:55:33 PM EDT\n",
      "end at Wed 17 Apr 2024 10:55:33 PM EDT\n",
      "end at Wed 17 Apr 2024 10:55:33 PM EDT\n"
     ]
    },
    {
     "name": "stderr",
     "output_type": "stream",
     "text": [
      "Restoring modules from user's fhimp-mods\n",
      "Restoring modules from user's fhimp-mods\n",
      "Restoring modules from user's fhimp-mods\n",
      "Restoring modules from user's fhimp-mods\n"
     ]
    },
    {
     "name": "stdout",
     "output_type": "stream",
     "text": [
      "start at Wed 17 Apr 2024 10:55:39 PM EDT\n",
      " ---------------------------------------------\n",
      "    HYPE version 5.24.0                  \n",
      " ---------------------------------------------\n",
      " New versions of HYPE at the HYPE Open Source \n",
      " Community website (hypecode.smhi.se), as well\n",
      " as information on up-coming courses.         \n",
      " ---------------------------------------------\n",
      "start at Wed 17 Apr 2024 10:55:39 PM EDT\n",
      "start at Wed 17 Apr 2024 10:55:39 PM EDT\n",
      " ---------------------------------------------\n",
      "    HYPE version 5.24.0                  \n",
      " ---------------------------------------------\n",
      " New versions of HYPE at the HYPE Open Source \n",
      " Community website (hypecode.smhi.se), as well\n",
      " as information on up-coming courses.         \n",
      " ---------------------------------------------\n",
      " ---------------------------------------------\n",
      "    HYPE version 5.24.0                  \n",
      " ---------------------------------------------\n",
      " New versions of HYPE at the HYPE Open Source \n",
      " Community website (hypecode.smhi.se), as well\n",
      " as information on up-coming courses.         \n",
      " ---------------------------------------------\n",
      "start at Wed 17 Apr 2024 10:55:39 PM EDT\n",
      " ---------------------------------------------\n",
      "    HYPE version 5.24.0                  \n",
      " ---------------------------------------------\n",
      " New versions of HYPE at the HYPE Open Source \n",
      " Community website (hypecode.smhi.se), as well\n",
      " as information on up-coming courses.         \n",
      " ---------------------------------------------\n"
     ]
    },
    {
     "name": "stderr",
     "output_type": "stream",
     "text": [
      " -> Simulation will halt: successfully\n",
      " -> Simulation will halt: successfully\n",
      "Note: The following floating-point exceptions are signalling: IEEE_UNDERFLOW_FLAG IEEE_DENORMAL\n",
      "STOP 0\n",
      "Note: The following floating-point exceptions are signalling: IEEE_UNDERFLOW_FLAG IEEE_DENORMAL\n",
      "STOP 0\n",
      " -> Simulation will halt: successfully\n",
      "Note: The following floating-point exceptions are signalling: IEEE_UNDERFLOW_FLAG IEEE_DENORMAL\n",
      "STOP 0\n",
      " -> Simulation will halt: successfully\n",
      "Note: The following floating-point exceptions are signalling: IEEE_UNDERFLOW_FLAG IEEE_DENORMAL\n",
      "STOP 0\n"
     ]
    },
    {
     "name": "stdout",
     "output_type": "stream",
     "text": [
      "end at Wed 17 Apr 2024 10:55:45 PM EDT\n",
      "end at Wed 17 Apr 2024 10:55:45 PM EDT\n",
      "end at Wed 17 Apr 2024 10:55:45 PM EDT\n",
      "end at Wed 17 Apr 2024 10:55:45 PM EDT\n"
     ]
    },
    {
     "name": "stderr",
     "output_type": "stream",
     "text": [
      "Restoring modules from user's fhimp-mods\n",
      "Restoring modules from user's fhimp-mods\n",
      "Restoring modules from user's fhimp-mods\n",
      "Restoring modules from user's fhimp-mods\n"
     ]
    },
    {
     "name": "stdout",
     "output_type": "stream",
     "text": [
      "start at Wed 17 Apr 2024 10:55:52 PM EDT\n",
      "start at Wed 17 Apr 2024 10:55:52 PM EDT\n",
      " ---------------------------------------------\n",
      "    HYPE version 5.24.0                  \n",
      " ---------------------------------------------\n",
      " New versions of HYPE at the HYPE Open Source \n",
      " Community website (hypecode.smhi.se), as well\n",
      " as information on up-coming courses.         \n",
      " ---------------------------------------------\n",
      "start at Wed 17 Apr 2024 10:55:52 PM EDT\n",
      " ---------------------------------------------\n",
      "    HYPE version 5.24.0                  \n",
      " ---------------------------------------------\n",
      " New versions of HYPE at the HYPE Open Source \n",
      " Community website (hypecode.smhi.se), as well\n",
      " as information on up-coming courses.         \n",
      " ---------------------------------------------\n",
      " ---------------------------------------------\n",
      "    HYPE version 5.24.0                  \n",
      " ---------------------------------------------\n",
      " New versions of HYPE at the HYPE Open Source \n",
      " Community website (hypecode.smhi.se), as well\n",
      " as information on up-coming courses.         \n",
      " ---------------------------------------------\n",
      "start at Wed 17 Apr 2024 10:55:52 PM EDT\n",
      " ---------------------------------------------\n",
      "    HYPE version 5.24.0                  \n",
      " ---------------------------------------------\n",
      " New versions of HYPE at the HYPE Open Source \n",
      " Community website (hypecode.smhi.se), as well\n",
      " as information on up-coming courses.         \n",
      " ---------------------------------------------\n"
     ]
    },
    {
     "name": "stderr",
     "output_type": "stream",
     "text": [
      " -> Simulation will halt: successfully\n",
      " -> Simulation will halt: successfully\n",
      "Note: The following floating-point exceptions are signalling: IEEE_UNDERFLOW_FLAG IEEE_DENORMAL\n",
      "STOP 0\n",
      "Note: The following floating-point exceptions are signalling: IEEE_UNDERFLOW_FLAG IEEE_DENORMAL\n",
      "STOP 0\n",
      " -> Simulation will halt: successfully\n",
      "Note: The following floating-point exceptions are signalling: IEEE_UNDERFLOW_FLAG IEEE_DENORMAL\n",
      "STOP 0\n",
      " -> Simulation will halt: successfully\n",
      "Note: The following floating-point exceptions are signalling: IEEE_UNDERFLOW_FLAG IEEE_DENORMAL\n",
      "STOP 0\n"
     ]
    },
    {
     "name": "stdout",
     "output_type": "stream",
     "text": [
      "end at Wed 17 Apr 2024 10:55:57 PM EDT\n",
      "end at Wed 17 Apr 2024 10:55:57 PM EDT\n",
      "end at Wed 17 Apr 2024 10:55:58 PM EDT\n",
      "end at Wed 17 Apr 2024 10:55:58 PM EDT\n"
     ]
    },
    {
     "name": "stderr",
     "output_type": "stream",
     "text": [
      "Restoring modules from user's fhimp-mods\n",
      "Restoring modules from user's fhimp-mods\n",
      "Restoring modules from user's fhimp-mods\n",
      "Restoring modules from user's fhimp-mods\n"
     ]
    },
    {
     "name": "stdout",
     "output_type": "stream",
     "text": [
      "start at Wed 17 Apr 2024 10:56:04 PM EDT\n",
      " ---------------------------------------------\n",
      "    HYPE version 5.24.0                  \n",
      " ---------------------------------------------\n",
      " New versions of HYPE at the HYPE Open Source \n",
      " Community website (hypecode.smhi.se), as well\n",
      " as information on up-coming courses.         \n",
      " ---------------------------------------------\n",
      "start at Wed 17 Apr 2024 10:56:04 PM EDT\n",
      " ---------------------------------------------\n",
      "    HYPE version 5.24.0                  \n",
      " ---------------------------------------------\n",
      " New versions of HYPE at the HYPE Open Source \n",
      " Community website (hypecode.smhi.se), as well\n",
      " as information on up-coming courses.         \n",
      " ---------------------------------------------\n",
      "start at Wed 17 Apr 2024 10:56:04 PM EDT\n",
      " ---------------------------------------------\n",
      "    HYPE version 5.24.0                  \n",
      " ---------------------------------------------\n",
      " New versions of HYPE at the HYPE Open Source \n",
      " Community website (hypecode.smhi.se), as well\n",
      " as information on up-coming courses.         \n",
      " ---------------------------------------------\n",
      "start at Wed 17 Apr 2024 10:56:04 PM EDT\n",
      " ---------------------------------------------\n",
      "    HYPE version 5.24.0                  \n",
      " ---------------------------------------------\n",
      " New versions of HYPE at the HYPE Open Source \n",
      " Community website (hypecode.smhi.se), as well\n",
      " as information on up-coming courses.         \n",
      " ---------------------------------------------\n"
     ]
    },
    {
     "name": "stderr",
     "output_type": "stream",
     "text": [
      " -> Simulation will halt: successfully\n",
      "Note: The following floating-point exceptions are signalling: IEEE_UNDERFLOW_FLAG IEEE_DENORMAL\n",
      "STOP 0\n",
      " -> Simulation will halt: successfully\n",
      "Note: The following floating-point exceptions are signalling: IEEE_UNDERFLOW_FLAG IEEE_DENORMAL\n",
      "STOP 0\n",
      " -> Simulation will halt: successfully\n",
      "Note: The following floating-point exceptions are signalling: IEEE_UNDERFLOW_FLAG IEEE_DENORMAL\n",
      "STOP 0\n"
     ]
    },
    {
     "name": "stdout",
     "output_type": "stream",
     "text": [
      "end at Wed 17 Apr 2024 10:56:10 PM EDT\n",
      "end at Wed 17 Apr 2024 10:56:10 PM EDT\n",
      "end at Wed 17 Apr 2024 10:56:10 PM EDT\n",
      "end at Wed 17 Apr 2024 10:56:10 PM EDT\n"
     ]
    },
    {
     "name": "stderr",
     "output_type": "stream",
     "text": [
      " -> Simulation will halt: successfully\n",
      "Note: The following floating-point exceptions are signalling: IEEE_UNDERFLOW_FLAG IEEE_DENORMAL\n",
      "STOP 0\n",
      "Restoring modules from user's fhimp-mods\n",
      "Restoring modules from user's fhimp-mods\n",
      "Restoring modules from user's fhimp-mods\n",
      "Restoring modules from user's fhimp-mods\n"
     ]
    },
    {
     "name": "stdout",
     "output_type": "stream",
     "text": [
      "start at Wed 17 Apr 2024 10:56:16 PM EDT\n",
      " ---------------------------------------------\n",
      "    HYPE version 5.24.0                  \n",
      " ---------------------------------------------\n",
      " New versions of HYPE at the HYPE Open Source \n",
      " Community website (hypecode.smhi.se), as well\n",
      " as information on up-coming courses.         \n",
      " ---------------------------------------------\n",
      "start at Wed 17 Apr 2024 10:56:16 PM EDT\n",
      " ---------------------------------------------\n",
      "    HYPE version 5.24.0                  \n",
      " ---------------------------------------------\n",
      " New versions of HYPE at the HYPE Open Source \n",
      " Community website (hypecode.smhi.se), as well\n",
      " as information on up-coming courses.         \n",
      " ---------------------------------------------\n",
      "start at Wed 17 Apr 2024 10:56:16 PM EDT\n",
      " ---------------------------------------------\n",
      "    HYPE version 5.24.0                  \n",
      " ---------------------------------------------\n",
      " New versions of HYPE at the HYPE Open Source \n",
      " Community website (hypecode.smhi.se), as well\n",
      " as information on up-coming courses.         \n",
      " ---------------------------------------------\n",
      "start at Wed 17 Apr 2024 10:56:16 PM EDT\n",
      " ---------------------------------------------\n",
      "    HYPE version 5.24.0                  \n",
      " ---------------------------------------------\n",
      " New versions of HYPE at the HYPE Open Source \n",
      " Community website (hypecode.smhi.se), as well\n",
      " as information on up-coming courses.         \n",
      " ---------------------------------------------\n"
     ]
    },
    {
     "name": "stderr",
     "output_type": "stream",
     "text": [
      " -> Simulation will halt: successfully\n",
      "Note: The following floating-point exceptions are signalling: IEEE_UNDERFLOW_FLAG IEEE_DENORMAL\n",
      "STOP 0\n",
      " -> Simulation will halt: successfully\n",
      "Note: The following floating-point exceptions are signalling: IEEE_UNDERFLOW_FLAG IEEE_DENORMAL\n",
      "STOP 0\n"
     ]
    },
    {
     "name": "stdout",
     "output_type": "stream",
     "text": [
      "end at Wed 17 Apr 2024 10:56:22 PM EDT\n",
      "end at Wed 17 Apr 2024 10:56:22 PM EDT\n"
     ]
    },
    {
     "name": "stderr",
     "output_type": "stream",
     "text": [
      " -> Simulation will halt: successfully\n",
      "Note: The following floating-point exceptions are signalling: IEEE_UNDERFLOW_FLAG IEEE_DENORMAL\n",
      "STOP 0\n",
      " -> Simulation will halt: successfully\n",
      "Note: The following floating-point exceptions are signalling: IEEE_UNDERFLOW_FLAG IEEE_DENORMAL\n",
      "STOP 0\n",
      "Restoring modules from user's fhimp-mods\n"
     ]
    },
    {
     "name": "stdout",
     "output_type": "stream",
     "text": [
      "end at Wed 17 Apr 2024 10:56:22 PM EDT\n",
      "end at Wed 17 Apr 2024 10:56:22 PM EDT\n"
     ]
    },
    {
     "name": "stderr",
     "output_type": "stream",
     "text": [
      "Restoring modules from user's fhimp-mods\n",
      "Restoring modules from user's fhimp-mods\n",
      "Restoring modules from user's fhimp-mods\n"
     ]
    },
    {
     "name": "stdout",
     "output_type": "stream",
     "text": [
      "start at Wed 17 Apr 2024 10:56:28 PM EDT\n",
      " ---------------------------------------------\n",
      "    HYPE version 5.24.0                  \n",
      " ---------------------------------------------\n",
      " New versions of HYPE at the HYPE Open Source \n",
      " Community website (hypecode.smhi.se), as well\n",
      " as information on up-coming courses.         \n",
      " ---------------------------------------------\n",
      "start at Wed 17 Apr 2024 10:56:28 PM EDT\n",
      " ---------------------------------------------\n",
      "    HYPE version 5.24.0                  \n",
      " ---------------------------------------------\n",
      " New versions of HYPE at the HYPE Open Source \n",
      " Community website (hypecode.smhi.se), as well\n",
      " as information on up-coming courses.         \n",
      " ---------------------------------------------\n",
      "start at Wed 17 Apr 2024 10:56:28 PM EDT\n",
      " ---------------------------------------------\n",
      "    HYPE version 5.24.0                  \n",
      " ---------------------------------------------\n",
      " New versions of HYPE at the HYPE Open Source \n",
      " Community website (hypecode.smhi.se), as well\n",
      " as information on up-coming courses.         \n",
      " ---------------------------------------------\n",
      "start at Wed 17 Apr 2024 10:56:29 PM EDT\n",
      " ---------------------------------------------\n",
      "    HYPE version 5.24.0                  \n",
      " ---------------------------------------------\n",
      " New versions of HYPE at the HYPE Open Source \n",
      " Community website (hypecode.smhi.se), as well\n",
      " as information on up-coming courses.         \n",
      " ---------------------------------------------\n"
     ]
    },
    {
     "name": "stderr",
     "output_type": "stream",
     "text": [
      " -> Simulation will halt: successfully\n",
      "Note: The following floating-point exceptions are signalling: IEEE_UNDERFLOW_FLAG IEEE_DENORMAL\n",
      "STOP 0\n",
      " -> Simulation will halt: successfully\n",
      " -> Simulation will halt: successfully\n",
      "Note: The following floating-point exceptions are signalling: IEEE_UNDERFLOW_FLAG IEEE_DENORMAL\n",
      "STOP 0\n",
      "Note: The following floating-point exceptions are signalling: IEEE_UNDERFLOW_FLAG IEEE_DENORMAL\n",
      "STOP 0\n"
     ]
    },
    {
     "name": "stdout",
     "output_type": "stream",
     "text": [
      "end at Wed 17 Apr 2024 10:56:34 PM EDT\n",
      "end at Wed 17 Apr 2024 10:56:34 PM EDT\n",
      "end at Wed 17 Apr 2024 10:56:34 PM EDT\n"
     ]
    },
    {
     "name": "stderr",
     "output_type": "stream",
     "text": [
      "Restoring modules from user's fhimp-mods\n",
      "Restoring modules from user's fhimp-mods\n",
      "Restoring modules from user's fhimp-mods\n",
      " -> Simulation will halt: successfully\n",
      "Note: The following floating-point exceptions are signalling: IEEE_UNDERFLOW_FLAG IEEE_DENORMAL\n",
      "STOP 0\n"
     ]
    },
    {
     "name": "stdout",
     "output_type": "stream",
     "text": [
      "end at Wed 17 Apr 2024 10:56:35 PM EDT\n"
     ]
    },
    {
     "name": "stderr",
     "output_type": "stream",
     "text": [
      "Restoring modules from user's fhimp-mods\n"
     ]
    },
    {
     "name": "stdout",
     "output_type": "stream",
     "text": [
      "start at Wed 17 Apr 2024 10:56:41 PM EDT\n",
      " ---------------------------------------------\n",
      "    HYPE version 5.24.0                  \n",
      " ---------------------------------------------\n",
      " New versions of HYPE at the HYPE Open Source \n",
      " Community website (hypecode.smhi.se), as well\n",
      " as information on up-coming courses.         \n",
      " ---------------------------------------------\n",
      "start at Wed 17 Apr 2024 10:56:41 PM EDT\n",
      "start at Wed 17 Apr 2024 10:56:41 PM EDT\n",
      " ---------------------------------------------\n",
      "    HYPE version 5.24.0                  \n",
      " ---------------------------------------------\n",
      " New versions of HYPE at the HYPE Open Source \n",
      " Community website (hypecode.smhi.se), as well\n",
      " as information on up-coming courses.         \n",
      " ---------------------------------------------\n",
      " ---------------------------------------------\n",
      "    HYPE version 5.24.0                  \n",
      " ---------------------------------------------\n",
      " New versions of HYPE at the HYPE Open Source \n",
      " Community website (hypecode.smhi.se), as well\n",
      " as information on up-coming courses.         \n",
      " ---------------------------------------------\n",
      "start at Wed 17 Apr 2024 10:56:42 PM EDT\n",
      " ---------------------------------------------\n",
      "    HYPE version 5.24.0                  \n",
      " ---------------------------------------------\n",
      " New versions of HYPE at the HYPE Open Source \n",
      " Community website (hypecode.smhi.se), as well\n",
      " as information on up-coming courses.         \n",
      " ---------------------------------------------\n"
     ]
    },
    {
     "name": "stderr",
     "output_type": "stream",
     "text": [
      " -> Simulation will halt: successfully\n",
      "Note: The following floating-point exceptions are signalling: IEEE_UNDERFLOW_FLAG IEEE_DENORMAL\n",
      "STOP 0\n",
      " -> Simulation will halt: successfully\n",
      "Note: The following floating-point exceptions are signalling: IEEE_UNDERFLOW_FLAG IEEE_DENORMAL\n",
      "STOP 0\n",
      " -> Simulation will halt: successfully\n",
      "Note: The following floating-point exceptions are signalling: IEEE_UNDERFLOW_FLAG IEEE_DENORMAL\n",
      "STOP 0\n"
     ]
    },
    {
     "name": "stdout",
     "output_type": "stream",
     "text": [
      "end at Wed 17 Apr 2024 10:56:47 PM EDT\n",
      "end at Wed 17 Apr 2024 10:56:47 PM EDT\n",
      "end at Wed 17 Apr 2024 10:56:47 PM EDT\n"
     ]
    },
    {
     "name": "stderr",
     "output_type": "stream",
     "text": [
      "Restoring modules from user's fhimp-mods\n",
      "Restoring modules from user's fhimp-mods\n",
      "Restoring modules from user's fhimp-mods\n",
      " -> Simulation will halt: successfully\n",
      "Note: The following floating-point exceptions are signalling: IEEE_UNDERFLOW_FLAG IEEE_DENORMAL\n",
      "STOP 0\n"
     ]
    },
    {
     "name": "stdout",
     "output_type": "stream",
     "text": [
      "end at Wed 17 Apr 2024 10:56:48 PM EDT\n"
     ]
    },
    {
     "name": "stderr",
     "output_type": "stream",
     "text": [
      "Restoring modules from user's fhimp-mods\n"
     ]
    },
    {
     "name": "stdout",
     "output_type": "stream",
     "text": [
      "start at Wed 17 Apr 2024 10:56:53 PM EDT\n",
      "start at Wed 17 Apr 2024 10:56:53 PM EDT\n",
      " ---------------------------------------------\n",
      "    HYPE version 5.24.0                  \n",
      " ---------------------------------------------\n",
      " New versions of HYPE at the HYPE Open Source \n",
      " Community website (hypecode.smhi.se), as well\n",
      " as information on up-coming courses.         \n",
      " ---------------------------------------------\n",
      " ---------------------------------------------\n",
      "    HYPE version 5.24.0                  \n",
      " ---------------------------------------------\n",
      " New versions of HYPE at the HYPE Open Source \n",
      " Community website (hypecode.smhi.se), as well\n",
      " as information on up-coming courses.         \n",
      " ---------------------------------------------\n",
      "start at Wed 17 Apr 2024 10:56:53 PM EDT\n",
      " ---------------------------------------------\n",
      "    HYPE version 5.24.0                  \n",
      " ---------------------------------------------\n",
      " New versions of HYPE at the HYPE Open Source \n",
      " Community website (hypecode.smhi.se), as well\n",
      " as information on up-coming courses.         \n",
      " ---------------------------------------------\n",
      "start at Wed 17 Apr 2024 10:56:54 PM EDT\n",
      " ---------------------------------------------\n",
      "    HYPE version 5.24.0                  \n",
      " ---------------------------------------------\n",
      " New versions of HYPE at the HYPE Open Source \n",
      " Community website (hypecode.smhi.se), as well\n",
      " as information on up-coming courses.         \n",
      " ---------------------------------------------\n"
     ]
    },
    {
     "name": "stderr",
     "output_type": "stream",
     "text": [
      " -> Simulation will halt: successfully\n",
      "Note: The following floating-point exceptions are signalling: IEEE_UNDERFLOW_FLAG IEEE_DENORMAL\n",
      "STOP 0\n",
      " -> Simulation will halt: successfully\n",
      "Note: The following floating-point exceptions are signalling: IEEE_UNDERFLOW_FLAG IEEE_DENORMAL\n",
      "STOP 0\n",
      " -> Simulation will halt: successfully\n",
      "Note: The following floating-point exceptions are signalling: IEEE_UNDERFLOW_FLAG IEEE_DENORMAL\n",
      "STOP 0\n"
     ]
    },
    {
     "name": "stdout",
     "output_type": "stream",
     "text": [
      "end at Wed 17 Apr 2024 10:56:59 PM EDT\n",
      "end at Wed 17 Apr 2024 10:56:59 PM EDT\n",
      "end at Wed 17 Apr 2024 10:56:59 PM EDT\n"
     ]
    },
    {
     "name": "stderr",
     "output_type": "stream",
     "text": [
      "Restoring modules from user's fhimp-mods\n",
      "Restoring modules from user's fhimp-mods\n",
      "Restoring modules from user's fhimp-mods\n",
      " -> Simulation will halt: successfully\n",
      "Note: The following floating-point exceptions are signalling: IEEE_UNDERFLOW_FLAG IEEE_DENORMAL\n",
      "STOP 0\n"
     ]
    },
    {
     "name": "stdout",
     "output_type": "stream",
     "text": [
      "end at Wed 17 Apr 2024 10:57:00 PM EDT\n"
     ]
    },
    {
     "name": "stderr",
     "output_type": "stream",
     "text": [
      "Restoring modules from user's fhimp-mods\n"
     ]
    },
    {
     "name": "stdout",
     "output_type": "stream",
     "text": [
      "start at Wed 17 Apr 2024 10:57:05 PM EDT\n",
      " ---------------------------------------------\n",
      "    HYPE version 5.24.0                  \n",
      " ---------------------------------------------\n",
      " New versions of HYPE at the HYPE Open Source \n",
      " Community website (hypecode.smhi.se), as well\n",
      " as information on up-coming courses.         \n",
      " ---------------------------------------------\n",
      "start at Wed 17 Apr 2024 10:57:05 PM EDT\n",
      " ---------------------------------------------\n",
      "    HYPE version 5.24.0                  \n",
      " ---------------------------------------------\n",
      " New versions of HYPE at the HYPE Open Source \n",
      " Community website (hypecode.smhi.se), as well\n",
      " as information on up-coming courses.         \n",
      " ---------------------------------------------\n",
      "start at Wed 17 Apr 2024 10:57:05 PM EDT\n",
      " ---------------------------------------------\n",
      "    HYPE version 5.24.0                  \n",
      " ---------------------------------------------\n",
      " New versions of HYPE at the HYPE Open Source \n",
      " Community website (hypecode.smhi.se), as well\n",
      " as information on up-coming courses.         \n",
      " ---------------------------------------------\n",
      "start at Wed 17 Apr 2024 10:57:07 PM EDT\n",
      " ---------------------------------------------\n",
      "    HYPE version 5.24.0                  \n",
      " ---------------------------------------------\n",
      " New versions of HYPE at the HYPE Open Source \n",
      " Community website (hypecode.smhi.se), as well\n",
      " as information on up-coming courses.         \n",
      " ---------------------------------------------\n"
     ]
    },
    {
     "name": "stderr",
     "output_type": "stream",
     "text": [
      " -> Simulation will halt: successfully\n",
      "Note: The following floating-point exceptions are signalling: IEEE_UNDERFLOW_FLAG IEEE_DENORMAL\n",
      "STOP 0\n",
      " -> Simulation will halt: successfully\n",
      "Note: The following floating-point exceptions are signalling: IEEE_UNDERFLOW_FLAG IEEE_DENORMAL\n",
      "STOP 0\n",
      " -> Simulation will halt: successfully\n",
      "Note: The following floating-point exceptions are signalling: IEEE_UNDERFLOW_FLAG IEEE_DENORMAL\n",
      "STOP 0\n"
     ]
    },
    {
     "name": "stdout",
     "output_type": "stream",
     "text": [
      "end at Wed 17 Apr 2024 10:57:11 PM EDT\n",
      "end at Wed 17 Apr 2024 10:57:11 PM EDT\n",
      "end at Wed 17 Apr 2024 10:57:11 PM EDT\n"
     ]
    },
    {
     "name": "stderr",
     "output_type": "stream",
     "text": [
      "Restoring modules from user's fhimp-mods\n",
      "Restoring modules from user's fhimp-mods\n",
      "Restoring modules from user's fhimp-mods\n",
      " -> Simulation will halt: successfully\n",
      "Note: The following floating-point exceptions are signalling: IEEE_UNDERFLOW_FLAG IEEE_DENORMAL\n",
      "STOP 0\n"
     ]
    },
    {
     "name": "stdout",
     "output_type": "stream",
     "text": [
      "end at Wed 17 Apr 2024 10:57:13 PM EDT\n"
     ]
    },
    {
     "name": "stderr",
     "output_type": "stream",
     "text": [
      "Restoring modules from user's fhimp-mods\n"
     ]
    },
    {
     "name": "stdout",
     "output_type": "stream",
     "text": [
      "start at Wed 17 Apr 2024 10:57:18 PM EDT\n",
      " ---------------------------------------------\n",
      "    HYPE version 5.24.0                  \n",
      " ---------------------------------------------\n",
      " New versions of HYPE at the HYPE Open Source \n",
      " Community website (hypecode.smhi.se), as well\n",
      " as information on up-coming courses.         \n",
      " ---------------------------------------------\n",
      "start at Wed 17 Apr 2024 10:57:18 PM EDT\n",
      " ---------------------------------------------\n",
      "    HYPE version 5.24.0                  \n",
      " ---------------------------------------------\n",
      " New versions of HYPE at the HYPE Open Source \n",
      " Community website (hypecode.smhi.se), as well\n",
      " as information on up-coming courses.         \n",
      " ---------------------------------------------\n",
      "start at Wed 17 Apr 2024 10:57:18 PM EDT\n",
      " ---------------------------------------------\n",
      "    HYPE version 5.24.0                  \n",
      " ---------------------------------------------\n",
      " New versions of HYPE at the HYPE Open Source \n",
      " Community website (hypecode.smhi.se), as well\n",
      " as information on up-coming courses.         \n",
      " ---------------------------------------------\n",
      "start at Wed 17 Apr 2024 10:57:20 PM EDT\n",
      " ---------------------------------------------\n",
      "    HYPE version 5.24.0                  \n",
      " ---------------------------------------------\n",
      " New versions of HYPE at the HYPE Open Source \n",
      " Community website (hypecode.smhi.se), as well\n",
      " as information on up-coming courses.         \n",
      " ---------------------------------------------\n"
     ]
    },
    {
     "name": "stderr",
     "output_type": "stream",
     "text": [
      " -> Simulation will halt: successfully\n",
      "Note: The following floating-point exceptions are signalling: IEEE_UNDERFLOW_FLAG IEEE_DENORMAL\n",
      "STOP 0\n",
      " -> Simulation will halt: successfully\n",
      "Note: The following floating-point exceptions are signalling: IEEE_UNDERFLOW_FLAG IEEE_DENORMAL\n",
      "STOP 0\n",
      " -> Simulation will halt: successfully\n",
      "Note: The following floating-point exceptions are signalling: IEEE_UNDERFLOW_FLAG IEEE_DENORMAL\n",
      "STOP 0\n"
     ]
    },
    {
     "name": "stdout",
     "output_type": "stream",
     "text": [
      "end at Wed 17 Apr 2024 10:57:24 PM EDT\n",
      "end at Wed 17 Apr 2024 10:57:24 PM EDT\n",
      "end at Wed 17 Apr 2024 10:57:24 PM EDT\n"
     ]
    },
    {
     "name": "stderr",
     "output_type": "stream",
     "text": [
      "Restoring modules from user's fhimp-mods\n",
      "Restoring modules from user's fhimp-mods\n",
      "Restoring modules from user's fhimp-mods\n",
      " -> Simulation will halt: successfully\n",
      "Note: The following floating-point exceptions are signalling: IEEE_UNDERFLOW_FLAG IEEE_DENORMAL\n",
      "STOP 0\n"
     ]
    },
    {
     "name": "stdout",
     "output_type": "stream",
     "text": [
      "end at Wed 17 Apr 2024 10:57:26 PM EDT\n"
     ]
    },
    {
     "name": "stderr",
     "output_type": "stream",
     "text": [
      "Restoring modules from user's fhimp-mods\n"
     ]
    },
    {
     "name": "stdout",
     "output_type": "stream",
     "text": [
      "start at Wed 17 Apr 2024 10:57:30 PM EDT\n",
      " ---------------------------------------------\n",
      "    HYPE version 5.24.0                  \n",
      " ---------------------------------------------\n",
      " New versions of HYPE at the HYPE Open Source \n",
      " Community website (hypecode.smhi.se), as well\n",
      " as information on up-coming courses.         \n",
      " ---------------------------------------------\n",
      "start at Wed 17 Apr 2024 10:57:30 PM EDT\n",
      " ---------------------------------------------\n",
      "    HYPE version 5.24.0                  \n",
      " ---------------------------------------------\n",
      " New versions of HYPE at the HYPE Open Source \n",
      " Community website (hypecode.smhi.se), as well\n",
      " as information on up-coming courses.         \n",
      " ---------------------------------------------\n",
      "start at Wed 17 Apr 2024 10:57:30 PM EDT\n",
      " ---------------------------------------------\n",
      "    HYPE version 5.24.0                  \n",
      " ---------------------------------------------\n",
      " New versions of HYPE at the HYPE Open Source \n",
      " Community website (hypecode.smhi.se), as well\n",
      " as information on up-coming courses.         \n",
      " ---------------------------------------------\n",
      "start at Wed 17 Apr 2024 10:57:32 PM EDT\n",
      " ---------------------------------------------\n",
      "    HYPE version 5.24.0                  \n",
      " ---------------------------------------------\n",
      " New versions of HYPE at the HYPE Open Source \n",
      " Community website (hypecode.smhi.se), as well\n",
      " as information on up-coming courses.         \n",
      " ---------------------------------------------\n"
     ]
    },
    {
     "name": "stderr",
     "output_type": "stream",
     "text": [
      " -> Simulation will halt: successfully\n",
      " -> Simulation will halt: successfully\n",
      "Note: The following floating-point exceptions are signalling: IEEE_UNDERFLOW_FLAG IEEE_DENORMAL\n",
      "STOP 0\n",
      "Note: The following floating-point exceptions are signalling: IEEE_UNDERFLOW_FLAG IEEE_DENORMAL\n",
      "STOP 0\n",
      " -> Simulation will halt: successfully\n",
      "Note: The following floating-point exceptions are signalling: IEEE_UNDERFLOW_FLAG IEEE_DENORMAL\n",
      "STOP 0\n"
     ]
    },
    {
     "name": "stdout",
     "output_type": "stream",
     "text": [
      "end at Wed 17 Apr 2024 10:57:36 PM EDT\n",
      "end at Wed 17 Apr 2024 10:57:36 PM EDT\n",
      "end at Wed 17 Apr 2024 10:57:36 PM EDT\n"
     ]
    },
    {
     "name": "stderr",
     "output_type": "stream",
     "text": [
      "Restoring modules from user's fhimp-mods\n",
      "Restoring modules from user's fhimp-mods\n",
      "Restoring modules from user's fhimp-mods\n",
      " -> Simulation will halt: successfully\n",
      "Note: The following floating-point exceptions are signalling: IEEE_UNDERFLOW_FLAG IEEE_DENORMAL\n",
      "STOP 0\n"
     ]
    },
    {
     "name": "stdout",
     "output_type": "stream",
     "text": [
      "end at Wed 17 Apr 2024 10:57:38 PM EDT\n"
     ]
    },
    {
     "name": "stderr",
     "output_type": "stream",
     "text": [
      "Restoring modules from user's fhimp-mods\n"
     ]
    },
    {
     "name": "stdout",
     "output_type": "stream",
     "text": [
      "start at Wed 17 Apr 2024 10:57:43 PM EDT\n",
      " ---------------------------------------------\n",
      "    HYPE version 5.24.0                  \n",
      " ---------------------------------------------\n",
      " New versions of HYPE at the HYPE Open Source \n",
      " Community website (hypecode.smhi.se), as well\n",
      " as information on up-coming courses.         \n",
      " ---------------------------------------------\n",
      "start at Wed 17 Apr 2024 10:57:43 PM EDT\n",
      " ---------------------------------------------\n",
      "    HYPE version 5.24.0                  \n",
      " ---------------------------------------------\n",
      " New versions of HYPE at the HYPE Open Source \n",
      " Community website (hypecode.smhi.se), as well\n",
      " as information on up-coming courses.         \n",
      " ---------------------------------------------\n",
      "start at Wed 17 Apr 2024 10:57:43 PM EDT\n",
      " ---------------------------------------------\n",
      "    HYPE version 5.24.0                  \n",
      " ---------------------------------------------\n",
      " New versions of HYPE at the HYPE Open Source \n",
      " Community website (hypecode.smhi.se), as well\n",
      " as information on up-coming courses.         \n",
      " ---------------------------------------------\n",
      "start at Wed 17 Apr 2024 10:57:45 PM EDT\n",
      " ---------------------------------------------\n",
      "    HYPE version 5.24.0                  \n",
      " ---------------------------------------------\n",
      " New versions of HYPE at the HYPE Open Source \n",
      " Community website (hypecode.smhi.se), as well\n",
      " as information on up-coming courses.         \n",
      " ---------------------------------------------\n"
     ]
    },
    {
     "name": "stderr",
     "output_type": "stream",
     "text": [
      " -> Simulation will halt: successfully\n",
      " -> Simulation will halt: successfully\n",
      "Note: The following floating-point exceptions are signalling: IEEE_UNDERFLOW_FLAG IEEE_DENORMAL\n",
      "STOP 0\n",
      "Note: The following floating-point exceptions are signalling: IEEE_UNDERFLOW_FLAG IEEE_DENORMAL\n",
      "STOP 0\n",
      " -> Simulation will halt: successfully\n",
      "Note: The following floating-point exceptions are signalling: IEEE_UNDERFLOW_FLAG IEEE_DENORMAL\n",
      "STOP 0\n"
     ]
    },
    {
     "name": "stdout",
     "output_type": "stream",
     "text": [
      "end at Wed 17 Apr 2024 10:57:49 PM EDT\n",
      "end at Wed 17 Apr 2024 10:57:49 PM EDT\n",
      "end at Wed 17 Apr 2024 10:57:49 PM EDT\n"
     ]
    },
    {
     "name": "stderr",
     "output_type": "stream",
     "text": [
      "Restoring modules from user's fhimp-mods\n",
      "Restoring modules from user's fhimp-mods\n",
      "Restoring modules from user's fhimp-mods\n",
      " -> Simulation will halt: successfully\n",
      "Note: The following floating-point exceptions are signalling: IEEE_UNDERFLOW_FLAG IEEE_DENORMAL\n",
      "STOP 0\n"
     ]
    },
    {
     "name": "stdout",
     "output_type": "stream",
     "text": [
      "end at Wed 17 Apr 2024 10:57:51 PM EDT\n"
     ]
    },
    {
     "name": "stderr",
     "output_type": "stream",
     "text": [
      "Restoring modules from user's fhimp-mods\n"
     ]
    },
    {
     "name": "stdout",
     "output_type": "stream",
     "text": [
      "start at Wed 17 Apr 2024 10:57:55 PM EDT\n",
      " ---------------------------------------------\n",
      "    HYPE version 5.24.0                  \n",
      " ---------------------------------------------\n",
      " New versions of HYPE at the HYPE Open Source \n",
      " Community website (hypecode.smhi.se), as well\n",
      " as information on up-coming courses.         \n",
      " ---------------------------------------------\n",
      "start at Wed 17 Apr 2024 10:57:55 PM EDT\n",
      " ---------------------------------------------\n",
      "    HYPE version 5.24.0                  \n",
      " ---------------------------------------------\n",
      " New versions of HYPE at the HYPE Open Source \n",
      " Community website (hypecode.smhi.se), as well\n",
      " as information on up-coming courses.         \n",
      " ---------------------------------------------\n",
      "start at Wed 17 Apr 2024 10:57:55 PM EDT\n",
      " ---------------------------------------------\n",
      "    HYPE version 5.24.0                  \n",
      " ---------------------------------------------\n",
      " New versions of HYPE at the HYPE Open Source \n",
      " Community website (hypecode.smhi.se), as well\n",
      " as information on up-coming courses.         \n",
      " ---------------------------------------------\n",
      "start at Wed 17 Apr 2024 10:57:58 PM EDT\n",
      " ---------------------------------------------\n",
      "    HYPE version 5.24.0                  \n",
      " ---------------------------------------------\n",
      " New versions of HYPE at the HYPE Open Source \n",
      " Community website (hypecode.smhi.se), as well\n",
      " as information on up-coming courses.         \n",
      " ---------------------------------------------\n"
     ]
    },
    {
     "name": "stderr",
     "output_type": "stream",
     "text": [
      " -> Simulation will halt: successfully\n",
      "Note: The following floating-point exceptions are signalling: IEEE_UNDERFLOW_FLAG IEEE_DENORMAL\n",
      "STOP 0\n",
      " -> Simulation will halt: successfully\n",
      "Note: The following floating-point exceptions are signalling: IEEE_UNDERFLOW_FLAG IEEE_DENORMAL\n",
      "STOP 0\n",
      " -> Simulation will halt: successfully\n",
      "Note: The following floating-point exceptions are signalling: IEEE_UNDERFLOW_FLAG IEEE_DENORMAL\n",
      "STOP 0\n"
     ]
    },
    {
     "name": "stdout",
     "output_type": "stream",
     "text": [
      "end at Wed 17 Apr 2024 10:58:01 PM EDT\n",
      "end at Wed 17 Apr 2024 10:58:01 PM EDT\n",
      "end at Wed 17 Apr 2024 10:58:01 PM EDT\n"
     ]
    },
    {
     "name": "stderr",
     "output_type": "stream",
     "text": [
      "Restoring modules from user's fhimp-mods\n",
      "Restoring modules from user's fhimp-mods\n",
      "Restoring modules from user's fhimp-mods\n",
      " -> Simulation will halt: successfully\n",
      "Note: The following floating-point exceptions are signalling: IEEE_UNDERFLOW_FLAG IEEE_DENORMAL\n",
      "STOP 0\n"
     ]
    },
    {
     "name": "stdout",
     "output_type": "stream",
     "text": [
      "end at Wed 17 Apr 2024 10:58:04 PM EDT\n"
     ]
    },
    {
     "name": "stderr",
     "output_type": "stream",
     "text": [
      "Restoring modules from user's fhimp-mods\n"
     ]
    },
    {
     "name": "stdout",
     "output_type": "stream",
     "text": [
      "start at Wed 17 Apr 2024 10:58:07 PM EDT\n",
      " ---------------------------------------------\n",
      "    HYPE version 5.24.0                  \n",
      " ---------------------------------------------\n",
      " New versions of HYPE at the HYPE Open Source \n",
      " Community website (hypecode.smhi.se), as well\n",
      " as information on up-coming courses.         \n",
      " ---------------------------------------------\n",
      "start at Wed 17 Apr 2024 10:58:07 PM EDT\n",
      " ---------------------------------------------\n",
      "    HYPE version 5.24.0                  \n",
      " ---------------------------------------------\n",
      " New versions of HYPE at the HYPE Open Source \n",
      " Community website (hypecode.smhi.se), as well\n",
      " as information on up-coming courses.         \n",
      " ---------------------------------------------\n",
      "start at Wed 17 Apr 2024 10:58:07 PM EDT\n",
      " ---------------------------------------------\n",
      "    HYPE version 5.24.0                  \n",
      " ---------------------------------------------\n",
      " New versions of HYPE at the HYPE Open Source \n",
      " Community website (hypecode.smhi.se), as well\n",
      " as information on up-coming courses.         \n",
      " ---------------------------------------------\n",
      "start at Wed 17 Apr 2024 10:58:10 PM EDT\n",
      " ---------------------------------------------\n",
      "    HYPE version 5.24.0                  \n",
      " ---------------------------------------------\n",
      " New versions of HYPE at the HYPE Open Source \n",
      " Community website (hypecode.smhi.se), as well\n",
      " as information on up-coming courses.         \n",
      " ---------------------------------------------\n"
     ]
    },
    {
     "name": "stderr",
     "output_type": "stream",
     "text": [
      " -> Simulation will halt: successfully\n",
      "Note: The following floating-point exceptions are signalling: IEEE_UNDERFLOW_FLAG IEEE_DENORMAL\n",
      "STOP 0\n"
     ]
    },
    {
     "name": "stdout",
     "output_type": "stream",
     "text": [
      "end at Wed 17 Apr 2024 10:58:13 PM EDT\n"
     ]
    },
    {
     "name": "stderr",
     "output_type": "stream",
     "text": [
      " -> Simulation will halt: successfully\n",
      "Note: The following floating-point exceptions are signalling: IEEE_UNDERFLOW_FLAG IEEE_DENORMAL\n",
      "STOP 0\n",
      "Restoring modules from user's fhimp-mods\n",
      " -> Simulation will halt: successfully\n",
      "Note: The following floating-point exceptions are signalling: IEEE_UNDERFLOW_FLAG IEEE_DENORMAL\n",
      "STOP 0\n"
     ]
    },
    {
     "name": "stdout",
     "output_type": "stream",
     "text": [
      "end at Wed 17 Apr 2024 10:58:13 PM EDT\n",
      "end at Wed 17 Apr 2024 10:58:13 PM EDT\n"
     ]
    },
    {
     "name": "stderr",
     "output_type": "stream",
     "text": [
      "Restoring modules from user's fhimp-mods\n",
      "Restoring modules from user's fhimp-mods\n",
      " -> Simulation will halt: successfully\n",
      "Note: The following floating-point exceptions are signalling: IEEE_UNDERFLOW_FLAG IEEE_DENORMAL\n",
      "STOP 0\n"
     ]
    },
    {
     "name": "stdout",
     "output_type": "stream",
     "text": [
      "end at Wed 17 Apr 2024 10:58:16 PM EDT\n"
     ]
    },
    {
     "name": "stderr",
     "output_type": "stream",
     "text": [
      "Restoring modules from user's fhimp-mods\n"
     ]
    },
    {
     "name": "stdout",
     "output_type": "stream",
     "text": [
      "start at Wed 17 Apr 2024 10:58:19 PM EDT\n",
      " ---------------------------------------------\n",
      "    HYPE version 5.24.0                  \n",
      " ---------------------------------------------\n",
      " New versions of HYPE at the HYPE Open Source \n",
      " Community website (hypecode.smhi.se), as well\n",
      " as information on up-coming courses.         \n",
      " ---------------------------------------------\n",
      "start at Wed 17 Apr 2024 10:58:20 PM EDT\n",
      " ---------------------------------------------\n",
      "    HYPE version 5.24.0                  \n",
      " ---------------------------------------------\n",
      " New versions of HYPE at the HYPE Open Source \n",
      " Community website (hypecode.smhi.se), as well\n",
      " as information on up-coming courses.         \n",
      " ---------------------------------------------\n",
      "start at Wed 17 Apr 2024 10:58:20 PM EDT\n",
      " ---------------------------------------------\n",
      "    HYPE version 5.24.0                  \n",
      " ---------------------------------------------\n",
      " New versions of HYPE at the HYPE Open Source \n",
      " Community website (hypecode.smhi.se), as well\n",
      " as information on up-coming courses.         \n",
      " ---------------------------------------------\n",
      "start at Wed 17 Apr 2024 10:58:23 PM EDT\n",
      " ---------------------------------------------\n",
      "    HYPE version 5.24.0                  \n",
      " ---------------------------------------------\n",
      " New versions of HYPE at the HYPE Open Source \n",
      " Community website (hypecode.smhi.se), as well\n",
      " as information on up-coming courses.         \n",
      " ---------------------------------------------\n"
     ]
    },
    {
     "name": "stderr",
     "output_type": "stream",
     "text": [
      " -> Simulation will halt: successfully\n",
      "Note: The following floating-point exceptions are signalling: IEEE_UNDERFLOW_FLAG IEEE_DENORMAL\n",
      "STOP 0\n"
     ]
    },
    {
     "name": "stdout",
     "output_type": "stream",
     "text": [
      "end at Wed 17 Apr 2024 10:58:25 PM EDT\n"
     ]
    },
    {
     "name": "stderr",
     "output_type": "stream",
     "text": [
      " -> Simulation will halt: successfully\n",
      "Note: The following floating-point exceptions are signalling: IEEE_UNDERFLOW_FLAG IEEE_DENORMAL\n",
      "STOP 0\n",
      "Restoring modules from user's fhimp-mods\n",
      " -> Simulation will halt: successfully\n",
      "Note: The following floating-point exceptions are signalling: IEEE_UNDERFLOW_FLAG IEEE_DENORMAL\n",
      "STOP 0\n"
     ]
    },
    {
     "name": "stdout",
     "output_type": "stream",
     "text": [
      "end at Wed 17 Apr 2024 10:58:26 PM EDT\n",
      "end at Wed 17 Apr 2024 10:58:26 PM EDT\n"
     ]
    },
    {
     "name": "stderr",
     "output_type": "stream",
     "text": [
      "Restoring modules from user's fhimp-mods\n",
      "Restoring modules from user's fhimp-mods\n",
      " -> Simulation will halt: successfully\n",
      "Note: The following floating-point exceptions are signalling: IEEE_UNDERFLOW_FLAG IEEE_DENORMAL\n",
      "STOP 0\n"
     ]
    },
    {
     "name": "stdout",
     "output_type": "stream",
     "text": [
      "end at Wed 17 Apr 2024 10:58:29 PM EDT\n"
     ]
    },
    {
     "name": "stderr",
     "output_type": "stream",
     "text": [
      "Restoring modules from user's fhimp-mods\n"
     ]
    },
    {
     "name": "stdout",
     "output_type": "stream",
     "text": [
      "start at Wed 17 Apr 2024 10:58:32 PM EDT\n",
      " ---------------------------------------------\n",
      "    HYPE version 5.24.0                  \n",
      " ---------------------------------------------\n",
      " New versions of HYPE at the HYPE Open Source \n",
      " Community website (hypecode.smhi.se), as well\n",
      " as information on up-coming courses.         \n",
      " ---------------------------------------------\n",
      "start at Wed 17 Apr 2024 10:58:32 PM EDT\n",
      " ---------------------------------------------\n",
      "    HYPE version 5.24.0                  \n",
      " ---------------------------------------------\n",
      " New versions of HYPE at the HYPE Open Source \n",
      " Community website (hypecode.smhi.se), as well\n",
      " as information on up-coming courses.         \n",
      " ---------------------------------------------\n",
      "start at Wed 17 Apr 2024 10:58:32 PM EDT\n",
      " ---------------------------------------------\n",
      "    HYPE version 5.24.0                  \n",
      " ---------------------------------------------\n",
      " New versions of HYPE at the HYPE Open Source \n",
      " Community website (hypecode.smhi.se), as well\n",
      " as information on up-coming courses.         \n",
      " ---------------------------------------------\n",
      "start at Wed 17 Apr 2024 10:58:36 PM EDT\n",
      " ---------------------------------------------\n",
      "    HYPE version 5.24.0                  \n",
      " ---------------------------------------------\n",
      " New versions of HYPE at the HYPE Open Source \n",
      " Community website (hypecode.smhi.se), as well\n",
      " as information on up-coming courses.         \n",
      " ---------------------------------------------\n"
     ]
    },
    {
     "name": "stderr",
     "output_type": "stream",
     "text": [
      " -> Simulation will halt: successfully\n",
      "Note: The following floating-point exceptions are signalling: IEEE_UNDERFLOW_FLAG IEEE_DENORMAL\n",
      "STOP 0\n"
     ]
    },
    {
     "name": "stdout",
     "output_type": "stream",
     "text": [
      "end at Wed 17 Apr 2024 10:58:38 PM EDT\n"
     ]
    },
    {
     "name": "stderr",
     "output_type": "stream",
     "text": [
      " -> Simulation will halt: successfully\n",
      "Note: The following floating-point exceptions are signalling: IEEE_UNDERFLOW_FLAG IEEE_DENORMAL\n",
      "STOP 0\n",
      "Restoring modules from user's fhimp-mods\n"
     ]
    },
    {
     "name": "stdout",
     "output_type": "stream",
     "text": [
      "end at Wed 17 Apr 2024 10:58:38 PM EDT\n"
     ]
    },
    {
     "name": "stderr",
     "output_type": "stream",
     "text": [
      "Restoring modules from user's fhimp-mods\n",
      " -> Simulation will halt: successfully\n",
      "Note: The following floating-point exceptions are signalling: IEEE_UNDERFLOW_FLAG IEEE_DENORMAL\n",
      "STOP 0\n"
     ]
    },
    {
     "name": "stdout",
     "output_type": "stream",
     "text": [
      "end at Wed 17 Apr 2024 10:58:39 PM EDT\n"
     ]
    },
    {
     "name": "stderr",
     "output_type": "stream",
     "text": [
      "Restoring modules from user's fhimp-mods\n",
      " -> Simulation will halt: successfully\n",
      "Note: The following floating-point exceptions are signalling: IEEE_UNDERFLOW_FLAG IEEE_DENORMAL\n",
      "STOP 0\n"
     ]
    },
    {
     "name": "stdout",
     "output_type": "stream",
     "text": [
      "end at Wed 17 Apr 2024 10:58:42 PM EDT\n"
     ]
    },
    {
     "name": "stderr",
     "output_type": "stream",
     "text": [
      "Restoring modules from user's fhimp-mods\n"
     ]
    },
    {
     "name": "stdout",
     "output_type": "stream",
     "text": [
      "start at Wed 17 Apr 2024 10:58:44 PM EDT\n",
      " ---------------------------------------------\n",
      "    HYPE version 5.24.0                  \n",
      " ---------------------------------------------\n",
      " New versions of HYPE at the HYPE Open Source \n",
      " Community website (hypecode.smhi.se), as well\n",
      " as information on up-coming courses.         \n",
      " ---------------------------------------------\n",
      "start at Wed 17 Apr 2024 10:58:45 PM EDT\n",
      " ---------------------------------------------\n",
      "    HYPE version 5.24.0                  \n",
      " ---------------------------------------------\n",
      " New versions of HYPE at the HYPE Open Source \n",
      " Community website (hypecode.smhi.se), as well\n",
      " as information on up-coming courses.         \n",
      " ---------------------------------------------\n",
      "start at Wed 17 Apr 2024 10:58:45 PM EDT\n",
      " ---------------------------------------------\n",
      "    HYPE version 5.24.0                  \n",
      " ---------------------------------------------\n",
      " New versions of HYPE at the HYPE Open Source \n",
      " Community website (hypecode.smhi.se), as well\n",
      " as information on up-coming courses.         \n",
      " ---------------------------------------------\n",
      "start at Wed 17 Apr 2024 10:58:49 PM EDT\n",
      " ---------------------------------------------\n",
      "    HYPE version 5.24.0                  \n",
      " ---------------------------------------------\n",
      " New versions of HYPE at the HYPE Open Source \n",
      " Community website (hypecode.smhi.se), as well\n",
      " as information on up-coming courses.         \n",
      " ---------------------------------------------\n"
     ]
    },
    {
     "name": "stderr",
     "output_type": "stream",
     "text": [
      " -> Simulation will halt: successfully\n",
      "Note: The following floating-point exceptions are signalling: IEEE_UNDERFLOW_FLAG IEEE_DENORMAL\n",
      "STOP 0\n"
     ]
    },
    {
     "name": "stdout",
     "output_type": "stream",
     "text": [
      "end at Wed 17 Apr 2024 10:58:50 PM EDT\n"
     ]
    },
    {
     "name": "stderr",
     "output_type": "stream",
     "text": [
      " -> Simulation will halt: successfully\n",
      "Note: The following floating-point exceptions are signalling: IEEE_UNDERFLOW_FLAG IEEE_DENORMAL\n",
      "STOP 0\n",
      "Restoring modules from user's fhimp-mods\n"
     ]
    },
    {
     "name": "stdout",
     "output_type": "stream",
     "text": [
      "end at Wed 17 Apr 2024 10:58:51 PM EDT\n"
     ]
    },
    {
     "name": "stderr",
     "output_type": "stream",
     "text": [
      " -> Simulation will halt: successfully\n",
      "Note: The following floating-point exceptions are signalling: IEEE_UNDERFLOW_FLAG IEEE_DENORMAL\n",
      "STOP 0\n",
      "Restoring modules from user's fhimp-mods\n"
     ]
    },
    {
     "name": "stdout",
     "output_type": "stream",
     "text": [
      "end at Wed 17 Apr 2024 10:58:51 PM EDT\n"
     ]
    },
    {
     "name": "stderr",
     "output_type": "stream",
     "text": [
      "Restoring modules from user's fhimp-mods\n",
      " -> Simulation will halt: successfully\n",
      "Note: The following floating-point exceptions are signalling: IEEE_UNDERFLOW_FLAG IEEE_DENORMAL\n",
      "STOP 0\n"
     ]
    },
    {
     "name": "stdout",
     "output_type": "stream",
     "text": [
      "end at Wed 17 Apr 2024 10:58:55 PM EDT\n"
     ]
    },
    {
     "name": "stderr",
     "output_type": "stream",
     "text": [
      "Restoring modules from user's fhimp-mods\n"
     ]
    },
    {
     "name": "stdout",
     "output_type": "stream",
     "text": [
      "start at Wed 17 Apr 2024 10:58:57 PM EDT\n",
      " ---------------------------------------------\n",
      "    HYPE version 5.24.0                  \n",
      " ---------------------------------------------\n",
      " New versions of HYPE at the HYPE Open Source \n",
      " Community website (hypecode.smhi.se), as well\n",
      " as information on up-coming courses.         \n",
      " ---------------------------------------------\n",
      "start at Wed 17 Apr 2024 10:58:57 PM EDT\n",
      " ---------------------------------------------\n",
      "    HYPE version 5.24.0                  \n",
      " ---------------------------------------------\n",
      " New versions of HYPE at the HYPE Open Source \n",
      " Community website (hypecode.smhi.se), as well\n",
      " as information on up-coming courses.         \n",
      " ---------------------------------------------\n",
      "start at Wed 17 Apr 2024 10:58:57 PM EDT\n",
      " ---------------------------------------------\n",
      "    HYPE version 5.24.0                  \n",
      " ---------------------------------------------\n",
      " New versions of HYPE at the HYPE Open Source \n",
      " Community website (hypecode.smhi.se), as well\n",
      " as information on up-coming courses.         \n",
      " ---------------------------------------------\n",
      "start at Wed 17 Apr 2024 10:59:01 PM EDT\n",
      " ---------------------------------------------\n",
      "    HYPE version 5.24.0                  \n",
      " ---------------------------------------------\n",
      " New versions of HYPE at the HYPE Open Source \n",
      " Community website (hypecode.smhi.se), as well\n",
      " as information on up-coming courses.         \n",
      " ---------------------------------------------\n"
     ]
    },
    {
     "name": "stderr",
     "output_type": "stream",
     "text": [
      " -> Simulation will halt: successfully\n",
      "Note: The following floating-point exceptions are signalling: IEEE_UNDERFLOW_FLAG IEEE_DENORMAL\n",
      "STOP 0\n"
     ]
    },
    {
     "name": "stdout",
     "output_type": "stream",
     "text": [
      "end at Wed 17 Apr 2024 10:59:03 PM EDT\n"
     ]
    },
    {
     "name": "stderr",
     "output_type": "stream",
     "text": [
      " -> Simulation will halt: successfully\n",
      "Note: The following floating-point exceptions are signalling: IEEE_UNDERFLOW_FLAG IEEE_DENORMAL\n",
      "STOP 0\n",
      "Restoring modules from user's fhimp-mods\n"
     ]
    },
    {
     "name": "stdout",
     "output_type": "stream",
     "text": [
      "end at Wed 17 Apr 2024 10:59:03 PM EDT\n"
     ]
    },
    {
     "name": "stderr",
     "output_type": "stream",
     "text": [
      " -> Simulation will halt: successfully\n",
      "Note: The following floating-point exceptions are signalling: IEEE_UNDERFLOW_FLAG IEEE_DENORMAL\n",
      "STOP 0\n",
      "Restoring modules from user's fhimp-mods\n"
     ]
    },
    {
     "name": "stdout",
     "output_type": "stream",
     "text": [
      "end at Wed 17 Apr 2024 10:59:03 PM EDT\n"
     ]
    },
    {
     "name": "stderr",
     "output_type": "stream",
     "text": [
      "Restoring modules from user's fhimp-mods\n",
      " -> Simulation will halt: successfully\n",
      "Note: The following floating-point exceptions are signalling: IEEE_UNDERFLOW_FLAG IEEE_DENORMAL\n",
      "STOP 0\n"
     ]
    },
    {
     "name": "stdout",
     "output_type": "stream",
     "text": [
      "end at Wed 17 Apr 2024 10:59:07 PM EDT\n"
     ]
    },
    {
     "name": "stderr",
     "output_type": "stream",
     "text": [
      "Restoring modules from user's fhimp-mods\n"
     ]
    },
    {
     "name": "stdout",
     "output_type": "stream",
     "text": [
      "start at Wed 17 Apr 2024 10:59:09 PM EDT\n",
      " ---------------------------------------------\n",
      "    HYPE version 5.24.0                  \n",
      " ---------------------------------------------\n",
      " New versions of HYPE at the HYPE Open Source \n",
      " Community website (hypecode.smhi.se), as well\n",
      " as information on up-coming courses.         \n",
      " ---------------------------------------------\n",
      "start at Wed 17 Apr 2024 10:59:09 PM EDT\n",
      " ---------------------------------------------\n",
      "    HYPE version 5.24.0                  \n",
      " ---------------------------------------------\n",
      " New versions of HYPE at the HYPE Open Source \n",
      " Community website (hypecode.smhi.se), as well\n",
      " as information on up-coming courses.         \n",
      " ---------------------------------------------\n",
      "start at Wed 17 Apr 2024 10:59:10 PM EDT\n",
      " ---------------------------------------------\n",
      "    HYPE version 5.24.0                  \n",
      " ---------------------------------------------\n",
      " New versions of HYPE at the HYPE Open Source \n",
      " Community website (hypecode.smhi.se), as well\n",
      " as information on up-coming courses.         \n",
      " ---------------------------------------------\n",
      "start at Wed 17 Apr 2024 10:59:14 PM EDT\n",
      " ---------------------------------------------\n",
      "    HYPE version 5.24.0                  \n",
      " ---------------------------------------------\n",
      " New versions of HYPE at the HYPE Open Source \n",
      " Community website (hypecode.smhi.se), as well\n",
      " as information on up-coming courses.         \n",
      " ---------------------------------------------\n"
     ]
    },
    {
     "name": "stderr",
     "output_type": "stream",
     "text": [
      " -> Simulation will halt: successfully\n",
      "Note: The following floating-point exceptions are signalling: IEEE_UNDERFLOW_FLAG IEEE_DENORMAL\n",
      "STOP 0\n"
     ]
    },
    {
     "name": "stdout",
     "output_type": "stream",
     "text": [
      "end at Wed 17 Apr 2024 10:59:15 PM EDT\n"
     ]
    },
    {
     "name": "stderr",
     "output_type": "stream",
     "text": [
      "Restoring modules from user's fhimp-mods\n",
      " -> Simulation will halt: successfully\n",
      "Note: The following floating-point exceptions are signalling: IEEE_UNDERFLOW_FLAG IEEE_DENORMAL\n",
      "STOP 0\n"
     ]
    },
    {
     "name": "stdout",
     "output_type": "stream",
     "text": [
      "end at Wed 17 Apr 2024 10:59:15 PM EDT\n",
      "end at Wed 17 Apr 2024 10:59:16 PM EDT\n"
     ]
    },
    {
     "name": "stderr",
     "output_type": "stream",
     "text": [
      " -> Simulation will halt: successfully\n",
      "Note: The following floating-point exceptions are signalling: IEEE_UNDERFLOW_FLAG IEEE_DENORMAL\n",
      "STOP 0\n",
      "Restoring modules from user's fhimp-mods\n",
      "Restoring modules from user's fhimp-mods\n",
      " -> Simulation will halt: successfully\n",
      "Note: The following floating-point exceptions are signalling: IEEE_UNDERFLOW_FLAG IEEE_DENORMAL\n",
      "STOP 0\n"
     ]
    },
    {
     "name": "stdout",
     "output_type": "stream",
     "text": [
      "end at Wed 17 Apr 2024 10:59:20 PM EDT\n"
     ]
    },
    {
     "name": "stderr",
     "output_type": "stream",
     "text": [
      "Restoring modules from user's fhimp-mods\n"
     ]
    },
    {
     "name": "stdout",
     "output_type": "stream",
     "text": [
      "start at Wed 17 Apr 2024 10:59:21 PM EDT\n",
      " ---------------------------------------------\n",
      "    HYPE version 5.24.0                  \n",
      " ---------------------------------------------\n",
      " New versions of HYPE at the HYPE Open Source \n",
      " Community website (hypecode.smhi.se), as well\n",
      " as information on up-coming courses.         \n",
      " ---------------------------------------------\n",
      "start at Wed 17 Apr 2024 10:59:22 PM EDT\n",
      " ---------------------------------------------\n",
      "    HYPE version 5.24.0                  \n",
      " ---------------------------------------------\n",
      " New versions of HYPE at the HYPE Open Source \n",
      " Community website (hypecode.smhi.se), as well\n",
      " as information on up-coming courses.         \n",
      " ---------------------------------------------\n",
      "start at Wed 17 Apr 2024 10:59:22 PM EDT\n",
      " ---------------------------------------------\n",
      "    HYPE version 5.24.0                  \n",
      " ---------------------------------------------\n",
      " New versions of HYPE at the HYPE Open Source \n",
      " Community website (hypecode.smhi.se), as well\n",
      " as information on up-coming courses.         \n",
      " ---------------------------------------------\n"
     ]
    },
    {
     "name": "stderr",
     "output_type": "stream",
     "text": [
      " -> Simulation will halt: successfully\n",
      "Note: The following floating-point exceptions are signalling: IEEE_UNDERFLOW_FLAG IEEE_DENORMAL\n",
      "STOP 0\n"
     ]
    },
    {
     "name": "stdout",
     "output_type": "stream",
     "text": [
      "end at Wed 17 Apr 2024 10:59:27 PM EDT\n",
      "start at Wed 17 Apr 2024 10:59:27 PM EDT\n",
      " ---------------------------------------------\n",
      "    HYPE version 5.24.0                  \n",
      " ---------------------------------------------\n",
      " New versions of HYPE at the HYPE Open Source \n",
      " Community website (hypecode.smhi.se), as well\n",
      " as information on up-coming courses.         \n",
      " ---------------------------------------------\n"
     ]
    },
    {
     "name": "stderr",
     "output_type": "stream",
     "text": [
      "Restoring modules from user's fhimp-mods\n",
      " -> Simulation will halt: successfully\n",
      "Note: The following floating-point exceptions are signalling: IEEE_UNDERFLOW_FLAG IEEE_DENORMAL\n",
      "STOP 0\n"
     ]
    },
    {
     "name": "stdout",
     "output_type": "stream",
     "text": [
      "end at Wed 17 Apr 2024 10:59:28 PM EDT\n",
      "end at Wed 17 Apr 2024 10:59:28 PM EDT\n"
     ]
    },
    {
     "name": "stderr",
     "output_type": "stream",
     "text": [
      " -> Simulation will halt: successfully\n",
      "Note: The following floating-point exceptions are signalling: IEEE_UNDERFLOW_FLAG IEEE_DENORMAL\n",
      "STOP 0\n",
      "Restoring modules from user's fhimp-mods\n",
      "Restoring modules from user's fhimp-mods\n",
      " -> Simulation will halt: successfully\n",
      "Note: The following floating-point exceptions are signalling: IEEE_UNDERFLOW_FLAG IEEE_DENORMAL\n",
      "STOP 0\n"
     ]
    },
    {
     "name": "stdout",
     "output_type": "stream",
     "text": [
      "end at Wed 17 Apr 2024 10:59:34 PM EDT\n"
     ]
    },
    {
     "name": "stderr",
     "output_type": "stream",
     "text": [
      "Restoring modules from user's fhimp-mods\n"
     ]
    },
    {
     "name": "stdout",
     "output_type": "stream",
     "text": [
      "start at Wed 17 Apr 2024 10:59:34 PM EDT\n",
      " ---------------------------------------------\n",
      "    HYPE version 5.24.0                  \n",
      " ---------------------------------------------\n",
      " New versions of HYPE at the HYPE Open Source \n",
      " Community website (hypecode.smhi.se), as well\n",
      " as information on up-coming courses.         \n",
      " ---------------------------------------------\n",
      "start at Wed 17 Apr 2024 10:59:34 PM EDT\n",
      " ---------------------------------------------\n",
      "    HYPE version 5.24.0                  \n",
      " ---------------------------------------------\n",
      " New versions of HYPE at the HYPE Open Source \n",
      " Community website (hypecode.smhi.se), as well\n",
      " as information on up-coming courses.         \n",
      " ---------------------------------------------\n",
      "start at Wed 17 Apr 2024 10:59:35 PM EDT\n",
      " ---------------------------------------------\n",
      "    HYPE version 5.24.0                  \n",
      " ---------------------------------------------\n",
      " New versions of HYPE at the HYPE Open Source \n",
      " Community website (hypecode.smhi.se), as well\n",
      " as information on up-coming courses.         \n",
      " ---------------------------------------------\n"
     ]
    },
    {
     "name": "stderr",
     "output_type": "stream",
     "text": [
      " -> Simulation will halt: successfully\n",
      "Note: The following floating-point exceptions are signalling: IEEE_UNDERFLOW_FLAG IEEE_DENORMAL\n",
      "STOP 0\n"
     ]
    },
    {
     "name": "stdout",
     "output_type": "stream",
     "text": [
      "end at Wed 17 Apr 2024 10:59:40 PM EDT\n"
     ]
    },
    {
     "name": "stderr",
     "output_type": "stream",
     "text": [
      "Restoring modules from user's fhimp-mods\n",
      " -> Simulation will halt: successfully\n",
      "Note: The following floating-point exceptions are signalling: IEEE_UNDERFLOW_FLAG IEEE_DENORMAL\n",
      "STOP 0\n"
     ]
    },
    {
     "name": "stdout",
     "output_type": "stream",
     "text": [
      "end at Wed 17 Apr 2024 10:59:40 PM EDT\n"
     ]
    },
    {
     "name": "stderr",
     "output_type": "stream",
     "text": [
      " -> Simulation will halt: successfully\n",
      "Note: The following floating-point exceptions are signalling: IEEE_UNDERFLOW_FLAG IEEE_DENORMAL\n",
      "STOP 0\n",
      "Restoring modules from user's fhimp-mods\n"
     ]
    },
    {
     "name": "stdout",
     "output_type": "stream",
     "text": [
      "end at Wed 17 Apr 2024 10:59:41 PM EDT\n",
      "start at Wed 17 Apr 2024 10:59:41 PM EDT\n",
      " ---------------------------------------------\n",
      "    HYPE version 5.24.0                  \n",
      " ---------------------------------------------\n",
      " New versions of HYPE at the HYPE Open Source \n",
      " Community website (hypecode.smhi.se), as well\n",
      " as information on up-coming courses.         \n",
      " ---------------------------------------------\n"
     ]
    },
    {
     "name": "stderr",
     "output_type": "stream",
     "text": [
      "Restoring modules from user's fhimp-mods\n"
     ]
    },
    {
     "name": "stdout",
     "output_type": "stream",
     "text": [
      "start at Wed 17 Apr 2024 10:59:46 PM EDT\n",
      " ---------------------------------------------\n",
      "    HYPE version 5.24.0                  \n",
      " ---------------------------------------------\n",
      " New versions of HYPE at the HYPE Open Source \n",
      " Community website (hypecode.smhi.se), as well\n",
      " as information on up-coming courses.         \n",
      " ---------------------------------------------\n",
      "start at Wed 17 Apr 2024 10:59:47 PM EDT\n",
      " ---------------------------------------------\n",
      "    HYPE version 5.24.0                  \n",
      " ---------------------------------------------\n",
      " New versions of HYPE at the HYPE Open Source \n",
      " Community website (hypecode.smhi.se), as well\n",
      " as information on up-coming courses.         \n",
      " ---------------------------------------------\n",
      "end at Wed 17 Apr 2024 10:59:47 PM EDT\n"
     ]
    },
    {
     "name": "stderr",
     "output_type": "stream",
     "text": [
      " -> Simulation will halt: successfully\n",
      "Note: The following floating-point exceptions are signalling: IEEE_UNDERFLOW_FLAG IEEE_DENORMAL\n",
      "STOP 0\n"
     ]
    },
    {
     "name": "stdout",
     "output_type": "stream",
     "text": [
      "start at Wed 17 Apr 2024 10:59:47 PM EDT\n",
      " ---------------------------------------------\n",
      "    HYPE version 5.24.0                  \n",
      " ---------------------------------------------\n",
      " New versions of HYPE at the HYPE Open Source \n",
      " Community website (hypecode.smhi.se), as well\n",
      " as information on up-coming courses.         \n",
      " ---------------------------------------------\n"
     ]
    },
    {
     "name": "stderr",
     "output_type": "stream",
     "text": [
      "Restoring modules from user's fhimp-mods\n",
      " -> Simulation will halt: successfully\n",
      "Note: The following floating-point exceptions are signalling: IEEE_UNDERFLOW_FLAG IEEE_DENORMAL\n",
      "STOP 0\n",
      " -> Simulation will halt: successfully\n",
      "Note: The following floating-point exceptions are signalling: IEEE_UNDERFLOW_FLAG IEEE_DENORMAL\n",
      "STOP 0\n"
     ]
    },
    {
     "name": "stdout",
     "output_type": "stream",
     "text": [
      "end at Wed 17 Apr 2024 10:59:53 PM EDT\n",
      "end at Wed 17 Apr 2024 10:59:53 PM EDT\n"
     ]
    },
    {
     "name": "stderr",
     "output_type": "stream",
     "text": [
      "Restoring modules from user's fhimp-mods\n",
      "Restoring modules from user's fhimp-mods\n",
      " -> Simulation will halt: successfully\n",
      "Note: The following floating-point exceptions are signalling: IEEE_UNDERFLOW_FLAG IEEE_DENORMAL\n",
      "STOP 0\n"
     ]
    },
    {
     "name": "stdout",
     "output_type": "stream",
     "text": [
      "end at Wed 17 Apr 2024 10:59:53 PM EDT\n"
     ]
    },
    {
     "name": "stderr",
     "output_type": "stream",
     "text": [
      "Restoring modules from user's fhimp-mods\n"
     ]
    },
    {
     "name": "stdout",
     "output_type": "stream",
     "text": [
      "start at Wed 17 Apr 2024 10:59:54 PM EDT\n",
      " ---------------------------------------------\n",
      "    HYPE version 5.24.0                  \n",
      " ---------------------------------------------\n",
      " New versions of HYPE at the HYPE Open Source \n",
      " Community website (hypecode.smhi.se), as well\n",
      " as information on up-coming courses.         \n",
      " ---------------------------------------------\n",
      "start at Wed 17 Apr 2024 10:59:59 PM EDT\n",
      " ---------------------------------------------\n",
      "    HYPE version 5.24.0                  \n",
      " ---------------------------------------------\n",
      " New versions of HYPE at the HYPE Open Source \n",
      " Community website (hypecode.smhi.se), as well\n",
      " as information on up-coming courses.         \n",
      " ---------------------------------------------\n",
      "start at Wed 17 Apr 2024 10:59:59 PM EDT\n",
      " ---------------------------------------------\n",
      "    HYPE version 5.24.0                  \n",
      " ---------------------------------------------\n",
      " New versions of HYPE at the HYPE Open Source \n",
      " Community website (hypecode.smhi.se), as well\n",
      " as information on up-coming courses.         \n",
      " ---------------------------------------------\n",
      "start at Wed 17 Apr 2024 11:00:00 PM EDT\n",
      " ---------------------------------------------\n",
      "    HYPE version 5.24.0                  \n",
      " ---------------------------------------------\n",
      " New versions of HYPE at the HYPE Open Source \n",
      " Community website (hypecode.smhi.se), as well\n",
      " as information on up-coming courses.         \n",
      " ---------------------------------------------\n",
      "end at Wed 17 Apr 2024 11:00:00 PM EDT\n"
     ]
    },
    {
     "name": "stderr",
     "output_type": "stream",
     "text": [
      " -> Simulation will halt: successfully\n",
      "Note: The following floating-point exceptions are signalling: IEEE_UNDERFLOW_FLAG IEEE_DENORMAL\n",
      "STOP 0\n",
      "Restoring modules from user's fhimp-mods\n",
      " -> Simulation will halt: successfully\n",
      "Note: The following floating-point exceptions are signalling: IEEE_UNDERFLOW_FLAG IEEE_DENORMAL\n",
      "STOP 0\n"
     ]
    },
    {
     "name": "stdout",
     "output_type": "stream",
     "text": [
      "end at Wed 17 Apr 2024 11:00:05 PM EDT\n"
     ]
    },
    {
     "name": "stderr",
     "output_type": "stream",
     "text": [
      " -> Simulation will halt: successfully\n",
      "Note: The following floating-point exceptions are signalling: IEEE_UNDERFLOW_FLAG IEEE_DENORMAL\n",
      "STOP 0\n",
      "Restoring modules from user's fhimp-mods\n"
     ]
    },
    {
     "name": "stdout",
     "output_type": "stream",
     "text": [
      "end at Wed 17 Apr 2024 11:00:05 PM EDT\n"
     ]
    },
    {
     "name": "stderr",
     "output_type": "stream",
     "text": [
      "Restoring modules from user's fhimp-mods\n",
      " -> Simulation will halt: successfully\n",
      "Note: The following floating-point exceptions are signalling: IEEE_UNDERFLOW_FLAG IEEE_DENORMAL\n",
      "STOP 0\n"
     ]
    },
    {
     "name": "stdout",
     "output_type": "stream",
     "text": [
      "end at Wed 17 Apr 2024 11:00:06 PM EDT\n"
     ]
    },
    {
     "name": "stderr",
     "output_type": "stream",
     "text": [
      "Restoring modules from user's fhimp-mods\n"
     ]
    },
    {
     "name": "stdout",
     "output_type": "stream",
     "text": [
      "start at Wed 17 Apr 2024 11:00:06 PM EDT\n",
      " ---------------------------------------------\n",
      "    HYPE version 5.24.0                  \n",
      " ---------------------------------------------\n",
      " New versions of HYPE at the HYPE Open Source \n",
      " Community website (hypecode.smhi.se), as well\n",
      " as information on up-coming courses.         \n",
      " ---------------------------------------------\n",
      "start at Wed 17 Apr 2024 11:00:11 PM EDT\n",
      " ---------------------------------------------\n",
      "    HYPE version 5.24.0                  \n",
      " ---------------------------------------------\n",
      " New versions of HYPE at the HYPE Open Source \n",
      " Community website (hypecode.smhi.se), as well\n",
      " as information on up-coming courses.         \n",
      " ---------------------------------------------\n",
      "start at Wed 17 Apr 2024 11:00:11 PM EDT\n",
      " ---------------------------------------------\n",
      "    HYPE version 5.24.0                  \n",
      " ---------------------------------------------\n",
      " New versions of HYPE at the HYPE Open Source \n",
      " Community website (hypecode.smhi.se), as well\n",
      " as information on up-coming courses.         \n",
      " ---------------------------------------------\n",
      "start at Wed 17 Apr 2024 11:00:12 PM EDT\n",
      " ---------------------------------------------\n",
      "    HYPE version 5.24.0                  \n",
      " ---------------------------------------------\n",
      " New versions of HYPE at the HYPE Open Source \n",
      " Community website (hypecode.smhi.se), as well\n",
      " as information on up-coming courses.         \n",
      " ---------------------------------------------\n"
     ]
    },
    {
     "name": "stderr",
     "output_type": "stream",
     "text": [
      " -> Simulation will halt: successfully\n",
      "Note: The following floating-point exceptions are signalling: IEEE_UNDERFLOW_FLAG IEEE_DENORMAL\n",
      "STOP 0\n"
     ]
    },
    {
     "name": "stdout",
     "output_type": "stream",
     "text": [
      "end at Wed 17 Apr 2024 11:00:13 PM EDT\n"
     ]
    },
    {
     "name": "stderr",
     "output_type": "stream",
     "text": [
      "Restoring modules from user's fhimp-mods\n",
      " -> Simulation will halt: successfully\n",
      "Note: The following floating-point exceptions are signalling: IEEE_UNDERFLOW_FLAG IEEE_DENORMAL\n",
      "STOP 0\n",
      " -> Simulation will halt: successfully\n",
      "Note: The following floating-point exceptions are signalling: IEEE_UNDERFLOW_FLAG IEEE_DENORMAL\n",
      "STOP 0\n"
     ]
    },
    {
     "name": "stdout",
     "output_type": "stream",
     "text": [
      "end at Wed 17 Apr 2024 11:00:17 PM EDT\n",
      "end at Wed 17 Apr 2024 11:00:18 PM EDT\n"
     ]
    },
    {
     "name": "stderr",
     "output_type": "stream",
     "text": [
      "Restoring modules from user's fhimp-mods\n",
      "Restoring modules from user's fhimp-mods\n",
      " -> Simulation will halt: successfully\n",
      "Note: The following floating-point exceptions are signalling: IEEE_UNDERFLOW_FLAG IEEE_DENORMAL\n",
      "STOP 0\n"
     ]
    },
    {
     "name": "stdout",
     "output_type": "stream",
     "text": [
      "end at Wed 17 Apr 2024 11:00:18 PM EDT\n"
     ]
    },
    {
     "name": "stderr",
     "output_type": "stream",
     "text": [
      "Restoring modules from user's fhimp-mods\n"
     ]
    },
    {
     "name": "stdout",
     "output_type": "stream",
     "text": [
      "start at Wed 17 Apr 2024 11:00:20 PM EDT\n",
      " ---------------------------------------------\n",
      "    HYPE version 5.24.0                  \n",
      " ---------------------------------------------\n",
      " New versions of HYPE at the HYPE Open Source \n",
      " Community website (hypecode.smhi.se), as well\n",
      " as information on up-coming courses.         \n",
      " ---------------------------------------------\n",
      "start at Wed 17 Apr 2024 11:00:24 PM EDT\n",
      " ---------------------------------------------\n",
      "    HYPE version 5.24.0                  \n",
      " ---------------------------------------------\n",
      " New versions of HYPE at the HYPE Open Source \n",
      " Community website (hypecode.smhi.se), as well\n",
      " as information on up-coming courses.         \n",
      " ---------------------------------------------\n",
      "start at Wed 17 Apr 2024 11:00:24 PM EDT\n",
      " ---------------------------------------------\n",
      "    HYPE version 5.24.0                  \n",
      " ---------------------------------------------\n",
      " New versions of HYPE at the HYPE Open Source \n",
      " Community website (hypecode.smhi.se), as well\n",
      " as information on up-coming courses.         \n",
      " ---------------------------------------------\n",
      "start at Wed 17 Apr 2024 11:00:25 PM EDT\n",
      " ---------------------------------------------\n",
      "    HYPE version 5.24.0                  \n",
      " ---------------------------------------------\n",
      " New versions of HYPE at the HYPE Open Source \n",
      " Community website (hypecode.smhi.se), as well\n",
      " as information on up-coming courses.         \n",
      " ---------------------------------------------\n"
     ]
    },
    {
     "name": "stderr",
     "output_type": "stream",
     "text": [
      " -> Simulation will halt: successfully\n",
      "Note: The following floating-point exceptions are signalling: IEEE_UNDERFLOW_FLAG IEEE_DENORMAL\n",
      "STOP 0\n"
     ]
    },
    {
     "name": "stdout",
     "output_type": "stream",
     "text": [
      "end at Wed 17 Apr 2024 11:00:26 PM EDT\n"
     ]
    },
    {
     "name": "stderr",
     "output_type": "stream",
     "text": [
      "Restoring modules from user's fhimp-mods\n",
      " -> Simulation will halt: successfully\n",
      "Note: The following floating-point exceptions are signalling: IEEE_UNDERFLOW_FLAG IEEE_DENORMAL\n",
      "STOP 0\n",
      " -> Simulation will halt: successfully\n",
      "Note: The following floating-point exceptions are signalling: IEEE_UNDERFLOW_FLAG IEEE_DENORMAL\n",
      "STOP 0\n"
     ]
    },
    {
     "name": "stdout",
     "output_type": "stream",
     "text": [
      "end at Wed 17 Apr 2024 11:00:30 PM EDT\n",
      "end at Wed 17 Apr 2024 11:00:30 PM EDT\n"
     ]
    },
    {
     "name": "stderr",
     "output_type": "stream",
     "text": [
      "Restoring modules from user's fhimp-mods\n",
      "Restoring modules from user's fhimp-mods\n",
      " -> Simulation will halt: successfully\n",
      "Note: The following floating-point exceptions are signalling: IEEE_UNDERFLOW_FLAG IEEE_DENORMAL\n",
      "STOP 0\n"
     ]
    },
    {
     "name": "stdout",
     "output_type": "stream",
     "text": [
      "end at Wed 17 Apr 2024 11:00:31 PM EDT\n"
     ]
    },
    {
     "name": "stderr",
     "output_type": "stream",
     "text": [
      "Restoring modules from user's fhimp-mods\n"
     ]
    },
    {
     "name": "stdout",
     "output_type": "stream",
     "text": [
      "start at Wed 17 Apr 2024 11:00:33 PM EDT\n",
      " ---------------------------------------------\n",
      "    HYPE version 5.24.0                  \n",
      " ---------------------------------------------\n",
      " New versions of HYPE at the HYPE Open Source \n",
      " Community website (hypecode.smhi.se), as well\n",
      " as information on up-coming courses.         \n",
      " ---------------------------------------------\n",
      "start at Wed 17 Apr 2024 11:00:37 PM EDT\n",
      " ---------------------------------------------\n",
      "    HYPE version 5.24.0                  \n",
      " ---------------------------------------------\n",
      " New versions of HYPE at the HYPE Open Source \n",
      " Community website (hypecode.smhi.se), as well\n",
      " as information on up-coming courses.         \n",
      " ---------------------------------------------\n",
      "start at Wed 17 Apr 2024 11:00:37 PM EDT\n",
      " ---------------------------------------------\n",
      "    HYPE version 5.24.0                  \n",
      " ---------------------------------------------\n",
      " New versions of HYPE at the HYPE Open Source \n",
      " Community website (hypecode.smhi.se), as well\n",
      " as information on up-coming courses.         \n",
      " ---------------------------------------------\n",
      "start at Wed 17 Apr 2024 11:00:37 PM EDT\n",
      " ---------------------------------------------\n",
      "    HYPE version 5.24.0                  \n",
      " ---------------------------------------------\n",
      " New versions of HYPE at the HYPE Open Source \n",
      " Community website (hypecode.smhi.se), as well\n",
      " as information on up-coming courses.         \n",
      " ---------------------------------------------\n"
     ]
    },
    {
     "name": "stderr",
     "output_type": "stream",
     "text": [
      " -> Simulation will halt: successfully\n",
      "Note: The following floating-point exceptions are signalling: IEEE_UNDERFLOW_FLAG IEEE_DENORMAL\n",
      "STOP 0\n"
     ]
    },
    {
     "name": "stdout",
     "output_type": "stream",
     "text": [
      "end at Wed 17 Apr 2024 11:00:39 PM EDT\n"
     ]
    },
    {
     "name": "stderr",
     "output_type": "stream",
     "text": [
      "Restoring modules from user's fhimp-mods\n",
      " -> Simulation will halt: successfully\n",
      "Note: The following floating-point exceptions are signalling: IEEE_UNDERFLOW_FLAG IEEE_DENORMAL\n",
      "STOP 0\n",
      " -> Simulation will halt: successfully\n",
      "Note: The following floating-point exceptions are signalling: IEEE_UNDERFLOW_FLAG IEEE_DENORMAL\n",
      "STOP 0\n"
     ]
    },
    {
     "name": "stdout",
     "output_type": "stream",
     "text": [
      "end at Wed 17 Apr 2024 11:00:43 PM EDT\n",
      "end at Wed 17 Apr 2024 11:00:43 PM EDT\n"
     ]
    },
    {
     "name": "stderr",
     "output_type": "stream",
     "text": [
      "Restoring modules from user's fhimp-mods\n",
      "Restoring modules from user's fhimp-mods\n",
      " -> Simulation will halt: successfully\n",
      "Note: The following floating-point exceptions are signalling: IEEE_UNDERFLOW_FLAG IEEE_DENORMAL\n",
      "STOP 0\n"
     ]
    },
    {
     "name": "stdout",
     "output_type": "stream",
     "text": [
      "end at Wed 17 Apr 2024 11:00:44 PM EDT\n"
     ]
    },
    {
     "name": "stderr",
     "output_type": "stream",
     "text": [
      "Restoring modules from user's fhimp-mods\n"
     ]
    },
    {
     "name": "stdout",
     "output_type": "stream",
     "text": [
      "start at Wed 17 Apr 2024 11:00:46 PM EDT\n",
      " ---------------------------------------------\n",
      "    HYPE version 5.24.0                  \n",
      " ---------------------------------------------\n",
      " New versions of HYPE at the HYPE Open Source \n",
      " Community website (hypecode.smhi.se), as well\n",
      " as information on up-coming courses.         \n",
      " ---------------------------------------------\n",
      "start at Wed 17 Apr 2024 11:00:49 PM EDT\n",
      " ---------------------------------------------\n",
      "    HYPE version 5.24.0                  \n",
      " ---------------------------------------------\n",
      " New versions of HYPE at the HYPE Open Source \n",
      " Community website (hypecode.smhi.se), as well\n",
      " as information on up-coming courses.         \n",
      " ---------------------------------------------\n",
      "start at Wed 17 Apr 2024 11:00:49 PM EDT\n",
      " ---------------------------------------------\n",
      "    HYPE version 5.24.0                  \n",
      " ---------------------------------------------\n",
      " New versions of HYPE at the HYPE Open Source \n",
      " Community website (hypecode.smhi.se), as well\n",
      " as information on up-coming courses.         \n",
      " ---------------------------------------------\n",
      "start at Wed 17 Apr 2024 11:00:50 PM EDT\n",
      " ---------------------------------------------\n",
      "    HYPE version 5.24.0                  \n",
      " ---------------------------------------------\n",
      " New versions of HYPE at the HYPE Open Source \n",
      " Community website (hypecode.smhi.se), as well\n",
      " as information on up-coming courses.         \n",
      " ---------------------------------------------\n"
     ]
    },
    {
     "name": "stderr",
     "output_type": "stream",
     "text": [
      " -> Simulation will halt: successfully\n",
      "Note: The following floating-point exceptions are signalling: IEEE_UNDERFLOW_FLAG IEEE_DENORMAL\n",
      "STOP 0\n"
     ]
    },
    {
     "name": "stdout",
     "output_type": "stream",
     "text": [
      "end at Wed 17 Apr 2024 11:00:52 PM EDT\n"
     ]
    },
    {
     "name": "stderr",
     "output_type": "stream",
     "text": [
      "Restoring modules from user's fhimp-mods\n",
      " -> Simulation will halt: successfully\n",
      "Note: The following floating-point exceptions are signalling: IEEE_UNDERFLOW_FLAG IEEE_DENORMAL\n",
      "STOP 0\n"
     ]
    },
    {
     "name": "stdout",
     "output_type": "stream",
     "text": [
      "end at Wed 17 Apr 2024 11:00:55 PM EDT\n",
      "end at Wed 17 Apr 2024 11:00:55 PM EDT\n"
     ]
    },
    {
     "name": "stderr",
     "output_type": "stream",
     "text": [
      " -> Simulation will halt: successfully\n",
      "Note: The following floating-point exceptions are signalling: IEEE_UNDERFLOW_FLAG IEEE_DENORMAL\n",
      "STOP 0\n",
      "Restoring modules from user's fhimp-mods\n",
      "Restoring modules from user's fhimp-mods\n",
      " -> Simulation will halt: successfully\n",
      "Note: The following floating-point exceptions are signalling: IEEE_UNDERFLOW_FLAG IEEE_DENORMAL\n",
      "STOP 0\n"
     ]
    },
    {
     "name": "stdout",
     "output_type": "stream",
     "text": [
      "end at Wed 17 Apr 2024 11:00:56 PM EDT\n"
     ]
    },
    {
     "name": "stderr",
     "output_type": "stream",
     "text": [
      "Restoring modules from user's fhimp-mods\n"
     ]
    },
    {
     "name": "stdout",
     "output_type": "stream",
     "text": [
      "start at Wed 17 Apr 2024 11:00:59 PM EDT\n",
      " ---------------------------------------------\n",
      "    HYPE version 5.24.0                  \n",
      " ---------------------------------------------\n",
      " New versions of HYPE at the HYPE Open Source \n",
      " Community website (hypecode.smhi.se), as well\n",
      " as information on up-coming courses.         \n",
      " ---------------------------------------------\n",
      "start at Wed 17 Apr 2024 11:01:02 PM EDT\n",
      " ---------------------------------------------\n",
      "    HYPE version 5.24.0                  \n",
      " ---------------------------------------------\n",
      " New versions of HYPE at the HYPE Open Source \n",
      " Community website (hypecode.smhi.se), as well\n",
      " as information on up-coming courses.         \n",
      " ---------------------------------------------\n",
      "start at Wed 17 Apr 2024 11:01:02 PM EDT\n",
      " ---------------------------------------------\n",
      "    HYPE version 5.24.0                  \n",
      " ---------------------------------------------\n",
      " New versions of HYPE at the HYPE Open Source \n",
      " Community website (hypecode.smhi.se), as well\n",
      " as information on up-coming courses.         \n",
      " ---------------------------------------------\n",
      "start at Wed 17 Apr 2024 11:01:02 PM EDT\n",
      " ---------------------------------------------\n",
      "    HYPE version 5.24.0                  \n",
      " ---------------------------------------------\n",
      " New versions of HYPE at the HYPE Open Source \n",
      " Community website (hypecode.smhi.se), as well\n",
      " as information on up-coming courses.         \n",
      " ---------------------------------------------\n"
     ]
    },
    {
     "name": "stderr",
     "output_type": "stream",
     "text": [
      " -> Simulation will halt: successfully\n",
      "Note: The following floating-point exceptions are signalling: IEEE_UNDERFLOW_FLAG IEEE_DENORMAL\n",
      "STOP 0\n"
     ]
    },
    {
     "name": "stdout",
     "output_type": "stream",
     "text": [
      "end at Wed 17 Apr 2024 11:01:05 PM EDT\n"
     ]
    },
    {
     "name": "stderr",
     "output_type": "stream",
     "text": [
      "Restoring modules from user's fhimp-mods\n",
      " -> Simulation will halt: successfully\n",
      "Note: The following floating-point exceptions are signalling: IEEE_UNDERFLOW_FLAG IEEE_DENORMAL\n",
      "STOP 0\n"
     ]
    },
    {
     "name": "stdout",
     "output_type": "stream",
     "text": [
      "end at Wed 17 Apr 2024 11:01:08 PM EDT\n"
     ]
    },
    {
     "name": "stderr",
     "output_type": "stream",
     "text": [
      " -> Simulation will halt: successfully\n",
      "Note: The following floating-point exceptions are signalling: IEEE_UNDERFLOW_FLAG IEEE_DENORMAL\n",
      "STOP 0\n",
      "Restoring modules from user's fhimp-mods\n"
     ]
    },
    {
     "name": "stdout",
     "output_type": "stream",
     "text": [
      "end at Wed 17 Apr 2024 11:01:08 PM EDT\n"
     ]
    },
    {
     "name": "stderr",
     "output_type": "stream",
     "text": [
      "Restoring modules from user's fhimp-mods\n",
      " -> Simulation will halt: successfully\n",
      "Note: The following floating-point exceptions are signalling: IEEE_UNDERFLOW_FLAG IEEE_DENORMAL\n",
      "STOP 0\n"
     ]
    },
    {
     "name": "stdout",
     "output_type": "stream",
     "text": [
      "end at Wed 17 Apr 2024 11:01:08 PM EDT\n"
     ]
    },
    {
     "name": "stderr",
     "output_type": "stream",
     "text": [
      "Restoring modules from user's fhimp-mods\n"
     ]
    },
    {
     "name": "stdout",
     "output_type": "stream",
     "text": [
      "start at Wed 17 Apr 2024 11:01:11 PM EDT\n",
      " ---------------------------------------------\n",
      "    HYPE version 5.24.0                  \n",
      " ---------------------------------------------\n",
      " New versions of HYPE at the HYPE Open Source \n",
      " Community website (hypecode.smhi.se), as well\n",
      " as information on up-coming courses.         \n",
      " ---------------------------------------------\n",
      "start at Wed 17 Apr 2024 11:01:14 PM EDT\n",
      " ---------------------------------------------\n",
      "    HYPE version 5.24.0                  \n",
      " ---------------------------------------------\n",
      " New versions of HYPE at the HYPE Open Source \n",
      " Community website (hypecode.smhi.se), as well\n",
      " as information on up-coming courses.         \n",
      " ---------------------------------------------\n",
      "start at Wed 17 Apr 2024 11:01:14 PM EDT\n",
      " ---------------------------------------------\n",
      "    HYPE version 5.24.0                  \n",
      " ---------------------------------------------\n",
      " New versions of HYPE at the HYPE Open Source \n",
      " Community website (hypecode.smhi.se), as well\n",
      " as information on up-coming courses.         \n",
      " ---------------------------------------------\n",
      "start at Wed 17 Apr 2024 11:01:15 PM EDT\n",
      " ---------------------------------------------\n",
      "    HYPE version 5.24.0                  \n",
      " ---------------------------------------------\n",
      " New versions of HYPE at the HYPE Open Source \n",
      " Community website (hypecode.smhi.se), as well\n",
      " as information on up-coming courses.         \n",
      " ---------------------------------------------\n"
     ]
    },
    {
     "name": "stderr",
     "output_type": "stream",
     "text": [
      " -> Simulation will halt: successfully\n",
      "Note: The following floating-point exceptions are signalling: IEEE_UNDERFLOW_FLAG IEEE_DENORMAL\n",
      "STOP 0\n"
     ]
    },
    {
     "name": "stdout",
     "output_type": "stream",
     "text": [
      "end at Wed 17 Apr 2024 11:01:17 PM EDT\n"
     ]
    },
    {
     "name": "stderr",
     "output_type": "stream",
     "text": [
      "Restoring modules from user's fhimp-mods\n",
      " -> Simulation will halt: successfully\n",
      "Note: The following floating-point exceptions are signalling: IEEE_UNDERFLOW_FLAG IEEE_DENORMAL\n",
      "STOP 0\n"
     ]
    },
    {
     "name": "stdout",
     "output_type": "stream",
     "text": [
      "end at Wed 17 Apr 2024 11:01:20 PM EDT\n"
     ]
    },
    {
     "name": "stderr",
     "output_type": "stream",
     "text": [
      "Restoring modules from user's fhimp-mods\n",
      " -> Simulation will halt: successfully\n",
      "Note: The following floating-point exceptions are signalling: IEEE_UNDERFLOW_FLAG IEEE_DENORMAL\n",
      "STOP 0\n"
     ]
    },
    {
     "name": "stdout",
     "output_type": "stream",
     "text": [
      "end at Wed 17 Apr 2024 11:01:20 PM EDT\n"
     ]
    },
    {
     "name": "stderr",
     "output_type": "stream",
     "text": [
      "Restoring modules from user's fhimp-mods\n",
      " -> Simulation will halt: successfully\n",
      "Note: The following floating-point exceptions are signalling: IEEE_UNDERFLOW_FLAG IEEE_DENORMAL\n",
      "STOP 0\n"
     ]
    },
    {
     "name": "stdout",
     "output_type": "stream",
     "text": [
      "end at Wed 17 Apr 2024 11:01:21 PM EDT\n"
     ]
    },
    {
     "name": "stderr",
     "output_type": "stream",
     "text": [
      "Restoring modules from user's fhimp-mods\n"
     ]
    },
    {
     "name": "stdout",
     "output_type": "stream",
     "text": [
      "start at Wed 17 Apr 2024 11:01:24 PM EDT\n",
      " ---------------------------------------------\n",
      "    HYPE version 5.24.0                  \n",
      " ---------------------------------------------\n",
      " New versions of HYPE at the HYPE Open Source \n",
      " Community website (hypecode.smhi.se), as well\n",
      " as information on up-coming courses.         \n",
      " ---------------------------------------------\n",
      "start at Wed 17 Apr 2024 11:01:26 PM EDT\n",
      " ---------------------------------------------\n",
      "    HYPE version 5.24.0                  \n",
      " ---------------------------------------------\n",
      " New versions of HYPE at the HYPE Open Source \n",
      " Community website (hypecode.smhi.se), as well\n",
      " as information on up-coming courses.         \n",
      " ---------------------------------------------\n",
      "start at Wed 17 Apr 2024 11:01:27 PM EDT\n",
      " ---------------------------------------------\n",
      "    HYPE version 5.24.0                  \n",
      " ---------------------------------------------\n",
      " New versions of HYPE at the HYPE Open Source \n",
      " Community website (hypecode.smhi.se), as well\n",
      " as information on up-coming courses.         \n",
      " ---------------------------------------------\n",
      "start at Wed 17 Apr 2024 11:01:27 PM EDT\n",
      " ---------------------------------------------\n",
      "    HYPE version 5.24.0                  \n",
      " ---------------------------------------------\n",
      " New versions of HYPE at the HYPE Open Source \n",
      " Community website (hypecode.smhi.se), as well\n",
      " as information on up-coming courses.         \n",
      " ---------------------------------------------\n"
     ]
    },
    {
     "name": "stderr",
     "output_type": "stream",
     "text": [
      " -> Simulation will halt: successfully\n",
      "Note: The following floating-point exceptions are signalling: IEEE_UNDERFLOW_FLAG IEEE_DENORMAL\n",
      "STOP 0\n"
     ]
    },
    {
     "name": "stdout",
     "output_type": "stream",
     "text": [
      "end at Wed 17 Apr 2024 11:01:30 PM EDT\n"
     ]
    },
    {
     "name": "stderr",
     "output_type": "stream",
     "text": [
      "Restoring modules from user's fhimp-mods\n",
      " -> Simulation will halt: successfully\n",
      "Note: The following floating-point exceptions are signalling: IEEE_UNDERFLOW_FLAG IEEE_DENORMAL\n",
      "STOP 0\n"
     ]
    },
    {
     "name": "stdout",
     "output_type": "stream",
     "text": [
      "end at Wed 17 Apr 2024 11:01:32 PM EDT\n"
     ]
    },
    {
     "name": "stderr",
     "output_type": "stream",
     "text": [
      "Restoring modules from user's fhimp-mods\n",
      " -> Simulation will halt: successfully\n",
      "Note: The following floating-point exceptions are signalling: IEEE_UNDERFLOW_FLAG IEEE_DENORMAL\n",
      "STOP 0\n"
     ]
    },
    {
     "name": "stdout",
     "output_type": "stream",
     "text": [
      "end at Wed 17 Apr 2024 11:01:33 PM EDT\n"
     ]
    },
    {
     "name": "stderr",
     "output_type": "stream",
     "text": [
      " -> Simulation will halt: successfully\n",
      "Note: The following floating-point exceptions are signalling: IEEE_UNDERFLOW_FLAG IEEE_DENORMAL\n",
      "STOP 0\n",
      "Restoring modules from user's fhimp-mods\n"
     ]
    },
    {
     "name": "stdout",
     "output_type": "stream",
     "text": [
      "end at Wed 17 Apr 2024 11:01:33 PM EDT\n"
     ]
    },
    {
     "name": "stderr",
     "output_type": "stream",
     "text": [
      "Restoring modules from user's fhimp-mods\n"
     ]
    },
    {
     "name": "stdout",
     "output_type": "stream",
     "text": [
      "start at Wed 17 Apr 2024 11:01:37 PM EDT\n",
      " ---------------------------------------------\n",
      "    HYPE version 5.24.0                  \n",
      " ---------------------------------------------\n",
      " New versions of HYPE at the HYPE Open Source \n",
      " Community website (hypecode.smhi.se), as well\n",
      " as information on up-coming courses.         \n",
      " ---------------------------------------------\n",
      "start at Wed 17 Apr 2024 11:01:39 PM EDT\n",
      " ---------------------------------------------\n",
      "    HYPE version 5.24.0                  \n",
      " ---------------------------------------------\n",
      " New versions of HYPE at the HYPE Open Source \n",
      " Community website (hypecode.smhi.se), as well\n",
      " as information on up-coming courses.         \n",
      " ---------------------------------------------\n",
      "start at Wed 17 Apr 2024 11:01:40 PM EDT\n",
      " ---------------------------------------------\n",
      "    HYPE version 5.24.0                  \n",
      " ---------------------------------------------\n",
      " New versions of HYPE at the HYPE Open Source \n",
      " Community website (hypecode.smhi.se), as well\n",
      " as information on up-coming courses.         \n",
      " ---------------------------------------------\n",
      "start at Wed 17 Apr 2024 11:01:40 PM EDT\n",
      " ---------------------------------------------\n",
      "    HYPE version 5.24.0                  \n",
      " ---------------------------------------------\n",
      " New versions of HYPE at the HYPE Open Source \n",
      " Community website (hypecode.smhi.se), as well\n",
      " as information on up-coming courses.         \n",
      " ---------------------------------------------\n"
     ]
    },
    {
     "name": "stderr",
     "output_type": "stream",
     "text": [
      " -> Simulation will halt: successfully\n",
      "Note: The following floating-point exceptions are signalling: IEEE_UNDERFLOW_FLAG IEEE_DENORMAL\n",
      "STOP 0\n"
     ]
    },
    {
     "name": "stdout",
     "output_type": "stream",
     "text": [
      "end at Wed 17 Apr 2024 11:01:43 PM EDT\n"
     ]
    },
    {
     "name": "stderr",
     "output_type": "stream",
     "text": [
      "Restoring modules from user's fhimp-mods\n",
      " -> Simulation will halt: successfully\n",
      "Note: The following floating-point exceptions are signalling: IEEE_UNDERFLOW_FLAG IEEE_DENORMAL\n",
      "STOP 0\n"
     ]
    },
    {
     "name": "stdout",
     "output_type": "stream",
     "text": [
      "end at Wed 17 Apr 2024 11:01:45 PM EDT\n"
     ]
    },
    {
     "name": "stderr",
     "output_type": "stream",
     "text": [
      "Restoring modules from user's fhimp-mods\n",
      " -> Simulation will halt: successfully\n",
      "Note: The following floating-point exceptions are signalling: IEEE_UNDERFLOW_FLAG IEEE_DENORMAL\n",
      "STOP 0\n"
     ]
    },
    {
     "name": "stdout",
     "output_type": "stream",
     "text": [
      "end at Wed 17 Apr 2024 11:01:46 PM EDT\n"
     ]
    },
    {
     "name": "stderr",
     "output_type": "stream",
     "text": [
      " -> Simulation will halt: successfully\n",
      "Note: The following floating-point exceptions are signalling: IEEE_UNDERFLOW_FLAG IEEE_DENORMAL\n",
      "STOP 0\n",
      "Restoring modules from user's fhimp-mods\n"
     ]
    },
    {
     "name": "stdout",
     "output_type": "stream",
     "text": [
      "end at Wed 17 Apr 2024 11:01:46 PM EDT\n"
     ]
    },
    {
     "name": "stderr",
     "output_type": "stream",
     "text": [
      "Restoring modules from user's fhimp-mods\n"
     ]
    },
    {
     "name": "stdout",
     "output_type": "stream",
     "text": [
      "start at Wed 17 Apr 2024 11:01:49 PM EDT\n",
      " ---------------------------------------------\n",
      "    HYPE version 5.24.0                  \n",
      " ---------------------------------------------\n",
      " New versions of HYPE at the HYPE Open Source \n",
      " Community website (hypecode.smhi.se), as well\n",
      " as information on up-coming courses.         \n",
      " ---------------------------------------------\n",
      "start at Wed 17 Apr 2024 11:01:51 PM EDT\n",
      " ---------------------------------------------\n",
      "    HYPE version 5.24.0                  \n",
      " ---------------------------------------------\n",
      " New versions of HYPE at the HYPE Open Source \n",
      " Community website (hypecode.smhi.se), as well\n",
      " as information on up-coming courses.         \n",
      " ---------------------------------------------\n",
      "start at Wed 17 Apr 2024 11:01:52 PM EDT\n",
      " ---------------------------------------------\n",
      "    HYPE version 5.24.0                  \n",
      " ---------------------------------------------\n",
      " New versions of HYPE at the HYPE Open Source \n",
      " Community website (hypecode.smhi.se), as well\n",
      " as information on up-coming courses.         \n",
      " ---------------------------------------------\n",
      "start at Wed 17 Apr 2024 11:01:52 PM EDT\n",
      " ---------------------------------------------\n",
      "    HYPE version 5.24.0                  \n",
      " ---------------------------------------------\n",
      " New versions of HYPE at the HYPE Open Source \n",
      " Community website (hypecode.smhi.se), as well\n",
      " as information on up-coming courses.         \n",
      " ---------------------------------------------\n"
     ]
    },
    {
     "name": "stderr",
     "output_type": "stream",
     "text": [
      " -> Simulation will halt: successfully\n",
      "Note: The following floating-point exceptions are signalling: IEEE_UNDERFLOW_FLAG IEEE_DENORMAL\n",
      "STOP 0\n"
     ]
    },
    {
     "name": "stdout",
     "output_type": "stream",
     "text": [
      "end at Wed 17 Apr 2024 11:01:56 PM EDT\n"
     ]
    },
    {
     "name": "stderr",
     "output_type": "stream",
     "text": [
      "Restoring modules from user's fhimp-mods\n",
      " -> Simulation will halt: successfully\n",
      "Note: The following floating-point exceptions are signalling: IEEE_UNDERFLOW_FLAG IEEE_DENORMAL\n",
      "STOP 0\n"
     ]
    },
    {
     "name": "stdout",
     "output_type": "stream",
     "text": [
      "end at Wed 17 Apr 2024 11:01:57 PM EDT\n"
     ]
    },
    {
     "name": "stderr",
     "output_type": "stream",
     "text": [
      "Restoring modules from user's fhimp-mods\n",
      " -> Simulation will halt: successfully\n",
      "Note: The following floating-point exceptions are signalling: IEEE_UNDERFLOW_FLAG IEEE_DENORMAL\n",
      "STOP 0\n",
      " -> Simulation will halt: successfully\n",
      "Note: The following floating-point exceptions are signalling: IEEE_UNDERFLOW_FLAG IEEE_DENORMAL\n",
      "STOP 0\n"
     ]
    },
    {
     "name": "stdout",
     "output_type": "stream",
     "text": [
      "end at Wed 17 Apr 2024 11:01:58 PM EDT\n",
      "end at Wed 17 Apr 2024 11:01:58 PM EDT\n"
     ]
    },
    {
     "name": "stderr",
     "output_type": "stream",
     "text": [
      "Restoring modules from user's fhimp-mods\n",
      "Restoring modules from user's fhimp-mods\n"
     ]
    },
    {
     "name": "stdout",
     "output_type": "stream",
     "text": [
      "start at Wed 17 Apr 2024 11:02:02 PM EDT\n",
      " ---------------------------------------------\n",
      "    HYPE version 5.24.0                  \n",
      " ---------------------------------------------\n",
      " New versions of HYPE at the HYPE Open Source \n",
      " Community website (hypecode.smhi.se), as well\n",
      " as information on up-coming courses.         \n",
      " ---------------------------------------------\n",
      "start at Wed 17 Apr 2024 11:02:04 PM EDT\n",
      " ---------------------------------------------\n",
      "    HYPE version 5.24.0                  \n",
      " ---------------------------------------------\n",
      " New versions of HYPE at the HYPE Open Source \n",
      " Community website (hypecode.smhi.se), as well\n",
      " as information on up-coming courses.         \n",
      " ---------------------------------------------\n",
      "start at Wed 17 Apr 2024 11:02:05 PM EDT\n",
      " ---------------------------------------------\n",
      "    HYPE version 5.24.0                  \n",
      " ---------------------------------------------\n",
      " New versions of HYPE at the HYPE Open Source \n",
      " Community website (hypecode.smhi.se), as well\n",
      " as information on up-coming courses.         \n",
      " ---------------------------------------------\n",
      "start at Wed 17 Apr 2024 11:02:05 PM EDT\n",
      " ---------------------------------------------\n",
      "    HYPE version 5.24.0                  \n",
      " ---------------------------------------------\n",
      " New versions of HYPE at the HYPE Open Source \n",
      " Community website (hypecode.smhi.se), as well\n",
      " as information on up-coming courses.         \n",
      " ---------------------------------------------\n"
     ]
    },
    {
     "name": "stderr",
     "output_type": "stream",
     "text": [
      " -> Simulation will halt: successfully\n",
      "Note: The following floating-point exceptions are signalling: IEEE_UNDERFLOW_FLAG IEEE_DENORMAL\n",
      "STOP 0\n"
     ]
    },
    {
     "name": "stdout",
     "output_type": "stream",
     "text": [
      "end at Wed 17 Apr 2024 11:02:08 PM EDT\n"
     ]
    },
    {
     "name": "stderr",
     "output_type": "stream",
     "text": [
      "Restoring modules from user's fhimp-mods\n",
      " -> Simulation will halt: successfully\n",
      "Note: The following floating-point exceptions are signalling: IEEE_UNDERFLOW_FLAG IEEE_DENORMAL\n",
      "STOP 0\n"
     ]
    },
    {
     "name": "stdout",
     "output_type": "stream",
     "text": [
      "end at Wed 17 Apr 2024 11:02:10 PM EDT\n"
     ]
    },
    {
     "name": "stderr",
     "output_type": "stream",
     "text": [
      "Restoring modules from user's fhimp-mods\n",
      " -> Simulation will halt: successfully\n",
      "Note: The following floating-point exceptions are signalling: IEEE_UNDERFLOW_FLAG IEEE_DENORMAL\n",
      "STOP 0\n"
     ]
    },
    {
     "name": "stdout",
     "output_type": "stream",
     "text": [
      "end at Wed 17 Apr 2024 11:02:11 PM EDT\n"
     ]
    },
    {
     "name": "stderr",
     "output_type": "stream",
     "text": [
      "Restoring modules from user's fhimp-mods\n",
      " -> Simulation will halt: successfully\n",
      "Note: The following floating-point exceptions are signalling: IEEE_UNDERFLOW_FLAG IEEE_DENORMAL\n",
      "STOP 0\n"
     ]
    },
    {
     "name": "stdout",
     "output_type": "stream",
     "text": [
      "end at Wed 17 Apr 2024 11:02:11 PM EDT\n"
     ]
    },
    {
     "name": "stderr",
     "output_type": "stream",
     "text": [
      "Restoring modules from user's fhimp-mods\n"
     ]
    },
    {
     "name": "stdout",
     "output_type": "stream",
     "text": [
      "start at Wed 17 Apr 2024 11:02:14 PM EDT\n",
      " ---------------------------------------------\n",
      "    HYPE version 5.24.0                  \n",
      " ---------------------------------------------\n",
      " New versions of HYPE at the HYPE Open Source \n",
      " Community website (hypecode.smhi.se), as well\n",
      " as information on up-coming courses.         \n",
      " ---------------------------------------------\n",
      "start at Wed 17 Apr 2024 11:02:16 PM EDT\n",
      " ---------------------------------------------\n",
      "    HYPE version 5.24.0                  \n",
      " ---------------------------------------------\n",
      " New versions of HYPE at the HYPE Open Source \n",
      " Community website (hypecode.smhi.se), as well\n",
      " as information on up-coming courses.         \n",
      " ---------------------------------------------\n",
      "start at Wed 17 Apr 2024 11:02:17 PM EDT\n",
      " ---------------------------------------------\n",
      "    HYPE version 5.24.0                  \n",
      " ---------------------------------------------\n",
      " New versions of HYPE at the HYPE Open Source \n",
      " Community website (hypecode.smhi.se), as well\n",
      " as information on up-coming courses.         \n",
      " ---------------------------------------------\n",
      "start at Wed 17 Apr 2024 11:02:17 PM EDT\n",
      " ---------------------------------------------\n",
      "    HYPE version 5.24.0                  \n",
      " ---------------------------------------------\n",
      " New versions of HYPE at the HYPE Open Source \n",
      " Community website (hypecode.smhi.se), as well\n",
      " as information on up-coming courses.         \n",
      " ---------------------------------------------\n"
     ]
    },
    {
     "name": "stderr",
     "output_type": "stream",
     "text": [
      " -> Simulation will halt: successfully\n",
      "Note: The following floating-point exceptions are signalling: IEEE_UNDERFLOW_FLAG IEEE_DENORMAL\n",
      "STOP 0\n"
     ]
    },
    {
     "name": "stdout",
     "output_type": "stream",
     "text": [
      "end at Wed 17 Apr 2024 11:02:21 PM EDT\n"
     ]
    },
    {
     "name": "stderr",
     "output_type": "stream",
     "text": [
      "Restoring modules from user's fhimp-mods\n",
      " -> Simulation will halt: successfully\n",
      "Note: The following floating-point exceptions are signalling: IEEE_UNDERFLOW_FLAG IEEE_DENORMAL\n",
      "STOP 0\n"
     ]
    },
    {
     "name": "stdout",
     "output_type": "stream",
     "text": [
      "end at Wed 17 Apr 2024 11:02:22 PM EDT\n"
     ]
    },
    {
     "name": "stderr",
     "output_type": "stream",
     "text": [
      "Restoring modules from user's fhimp-mods\n",
      " -> Simulation will halt: successfully\n",
      "Note: The following floating-point exceptions are signalling: IEEE_UNDERFLOW_FLAG IEEE_DENORMAL\n",
      "STOP 0\n"
     ]
    },
    {
     "name": "stdout",
     "output_type": "stream",
     "text": [
      "end at Wed 17 Apr 2024 11:02:23 PM EDT\n"
     ]
    },
    {
     "name": "stderr",
     "output_type": "stream",
     "text": [
      "Restoring modules from user's fhimp-mods\n",
      " -> Simulation will halt: successfully\n",
      "Note: The following floating-point exceptions are signalling: IEEE_UNDERFLOW_FLAG IEEE_DENORMAL\n",
      "STOP 0\n"
     ]
    },
    {
     "name": "stdout",
     "output_type": "stream",
     "text": [
      "end at Wed 17 Apr 2024 11:02:23 PM EDT\n"
     ]
    },
    {
     "name": "stderr",
     "output_type": "stream",
     "text": [
      "Restoring modules from user's fhimp-mods\n"
     ]
    },
    {
     "name": "stdout",
     "output_type": "stream",
     "text": [
      "start at Wed 17 Apr 2024 11:02:27 PM EDT\n",
      " ---------------------------------------------\n",
      "    HYPE version 5.24.0                  \n",
      " ---------------------------------------------\n",
      " New versions of HYPE at the HYPE Open Source \n",
      " Community website (hypecode.smhi.se), as well\n",
      " as information on up-coming courses.         \n",
      " ---------------------------------------------\n",
      "start at Wed 17 Apr 2024 11:02:29 PM EDT\n",
      " ---------------------------------------------\n",
      "    HYPE version 5.24.0                  \n",
      " ---------------------------------------------\n",
      " New versions of HYPE at the HYPE Open Source \n",
      " Community website (hypecode.smhi.se), as well\n",
      " as information on up-coming courses.         \n",
      " ---------------------------------------------\n",
      "start at Wed 17 Apr 2024 11:02:29 PM EDT\n",
      " ---------------------------------------------\n",
      "    HYPE version 5.24.0                  \n",
      " ---------------------------------------------\n",
      " New versions of HYPE at the HYPE Open Source \n",
      " Community website (hypecode.smhi.se), as well\n",
      " as information on up-coming courses.         \n",
      " ---------------------------------------------\n",
      "start at Wed 17 Apr 2024 11:02:30 PM EDT\n",
      " ---------------------------------------------\n",
      "    HYPE version 5.24.0                  \n",
      " ---------------------------------------------\n",
      " New versions of HYPE at the HYPE Open Source \n",
      " Community website (hypecode.smhi.se), as well\n",
      " as information on up-coming courses.         \n",
      " ---------------------------------------------\n"
     ]
    },
    {
     "name": "stderr",
     "output_type": "stream",
     "text": [
      " -> Simulation will halt: successfully\n",
      "Note: The following floating-point exceptions are signalling: IEEE_UNDERFLOW_FLAG IEEE_DENORMAL\n",
      "STOP 0\n"
     ]
    },
    {
     "name": "stdout",
     "output_type": "stream",
     "text": [
      "end at Wed 17 Apr 2024 11:02:33 PM EDT\n"
     ]
    },
    {
     "name": "stderr",
     "output_type": "stream",
     "text": [
      "Restoring modules from user's fhimp-mods\n",
      " -> Simulation will halt: successfully\n",
      "Note: The following floating-point exceptions are signalling: IEEE_UNDERFLOW_FLAG IEEE_DENORMAL\n",
      "STOP 0\n"
     ]
    },
    {
     "name": "stdout",
     "output_type": "stream",
     "text": [
      "end at Wed 17 Apr 2024 11:02:35 PM EDT\n"
     ]
    },
    {
     "name": "stderr",
     "output_type": "stream",
     "text": [
      "Restoring modules from user's fhimp-mods\n",
      " -> Simulation will halt: successfully\n",
      "Note: The following floating-point exceptions are signalling: IEEE_UNDERFLOW_FLAG IEEE_DENORMAL\n",
      "STOP 0\n"
     ]
    },
    {
     "name": "stdout",
     "output_type": "stream",
     "text": [
      "end at Wed 17 Apr 2024 11:02:36 PM EDT\n"
     ]
    },
    {
     "name": "stderr",
     "output_type": "stream",
     "text": [
      "Restoring modules from user's fhimp-mods\n",
      " -> Simulation will halt: successfully\n",
      "Note: The following floating-point exceptions are signalling: IEEE_UNDERFLOW_FLAG IEEE_DENORMAL\n",
      "STOP 0\n"
     ]
    },
    {
     "name": "stdout",
     "output_type": "stream",
     "text": [
      "end at Wed 17 Apr 2024 11:02:36 PM EDT\n"
     ]
    },
    {
     "name": "stderr",
     "output_type": "stream",
     "text": [
      "Restoring modules from user's fhimp-mods\n"
     ]
    },
    {
     "name": "stdout",
     "output_type": "stream",
     "text": [
      "start at Wed 17 Apr 2024 11:02:40 PM EDT\n",
      " ---------------------------------------------\n",
      "    HYPE version 5.24.0                  \n",
      " ---------------------------------------------\n",
      " New versions of HYPE at the HYPE Open Source \n",
      " Community website (hypecode.smhi.se), as well\n",
      " as information on up-coming courses.         \n",
      " ---------------------------------------------\n",
      "start at Wed 17 Apr 2024 11:02:41 PM EDT\n",
      " ---------------------------------------------\n",
      "    HYPE version 5.24.0                  \n",
      " ---------------------------------------------\n",
      " New versions of HYPE at the HYPE Open Source \n",
      " Community website (hypecode.smhi.se), as well\n",
      " as information on up-coming courses.         \n",
      " ---------------------------------------------\n",
      "start at Wed 17 Apr 2024 11:02:42 PM EDT\n",
      " ---------------------------------------------\n",
      "    HYPE version 5.24.0                  \n",
      " ---------------------------------------------\n",
      " New versions of HYPE at the HYPE Open Source \n",
      " Community website (hypecode.smhi.se), as well\n",
      " as information on up-coming courses.         \n",
      " ---------------------------------------------\n",
      "start at Wed 17 Apr 2024 11:02:43 PM EDT\n",
      " ---------------------------------------------\n",
      "    HYPE version 5.24.0                  \n",
      " ---------------------------------------------\n",
      " New versions of HYPE at the HYPE Open Source \n",
      " Community website (hypecode.smhi.se), as well\n",
      " as information on up-coming courses.         \n",
      " ---------------------------------------------\n"
     ]
    },
    {
     "name": "stderr",
     "output_type": "stream",
     "text": [
      " -> Simulation will halt: successfully\n",
      "Note: The following floating-point exceptions are signalling: IEEE_UNDERFLOW_FLAG IEEE_DENORMAL\n",
      "STOP 0\n"
     ]
    },
    {
     "name": "stdout",
     "output_type": "stream",
     "text": [
      "end at Wed 17 Apr 2024 11:02:46 PM EDT\n"
     ]
    },
    {
     "name": "stderr",
     "output_type": "stream",
     "text": [
      "Restoring modules from user's fhimp-mods\n",
      " -> Simulation will halt: successfully\n",
      "Note: The following floating-point exceptions are signalling: IEEE_UNDERFLOW_FLAG IEEE_DENORMAL\n",
      "STOP 0\n"
     ]
    },
    {
     "name": "stdout",
     "output_type": "stream",
     "text": [
      "end at Wed 17 Apr 2024 11:02:47 PM EDT\n"
     ]
    },
    {
     "name": "stderr",
     "output_type": "stream",
     "text": [
      "Restoring modules from user's fhimp-mods\n",
      " -> Simulation will halt: successfully\n",
      "Note: The following floating-point exceptions are signalling: IEEE_UNDERFLOW_FLAG IEEE_DENORMAL\n",
      "STOP 0\n"
     ]
    },
    {
     "name": "stdout",
     "output_type": "stream",
     "text": [
      "end at Wed 17 Apr 2024 11:02:48 PM EDT\n"
     ]
    },
    {
     "name": "stderr",
     "output_type": "stream",
     "text": [
      "Restoring modules from user's fhimp-mods\n",
      " -> Simulation will halt: successfully\n",
      "Note: The following floating-point exceptions are signalling: IEEE_UNDERFLOW_FLAG IEEE_DENORMAL\n",
      "STOP 0\n"
     ]
    },
    {
     "name": "stdout",
     "output_type": "stream",
     "text": [
      "end at Wed 17 Apr 2024 11:02:49 PM EDT\n"
     ]
    },
    {
     "name": "stderr",
     "output_type": "stream",
     "text": [
      "Restoring modules from user's fhimp-mods\n"
     ]
    },
    {
     "name": "stdout",
     "output_type": "stream",
     "text": [
      "start at Wed 17 Apr 2024 11:02:52 PM EDT\n",
      " ---------------------------------------------\n",
      "    HYPE version 5.24.0                  \n",
      " ---------------------------------------------\n",
      " New versions of HYPE at the HYPE Open Source \n",
      " Community website (hypecode.smhi.se), as well\n",
      " as information on up-coming courses.         \n",
      " ---------------------------------------------\n",
      "start at Wed 17 Apr 2024 11:02:54 PM EDT\n",
      " ---------------------------------------------\n",
      "    HYPE version 5.24.0                  \n",
      " ---------------------------------------------\n",
      " New versions of HYPE at the HYPE Open Source \n",
      " Community website (hypecode.smhi.se), as well\n",
      " as information on up-coming courses.         \n",
      " ---------------------------------------------\n",
      "start at Wed 17 Apr 2024 11:02:54 PM EDT\n",
      " ---------------------------------------------\n",
      "    HYPE version 5.24.0                  \n",
      " ---------------------------------------------\n",
      " New versions of HYPE at the HYPE Open Source \n",
      " Community website (hypecode.smhi.se), as well\n",
      " as information on up-coming courses.         \n",
      " ---------------------------------------------\n",
      "start at Wed 17 Apr 2024 11:02:55 PM EDT\n",
      " ---------------------------------------------\n",
      "    HYPE version 5.24.0                  \n",
      " ---------------------------------------------\n",
      " New versions of HYPE at the HYPE Open Source \n",
      " Community website (hypecode.smhi.se), as well\n",
      " as information on up-coming courses.         \n",
      " ---------------------------------------------\n"
     ]
    },
    {
     "name": "stderr",
     "output_type": "stream",
     "text": [
      " -> Simulation will halt: successfully\n",
      "Note: The following floating-point exceptions are signalling: IEEE_UNDERFLOW_FLAG IEEE_DENORMAL\n",
      "STOP 0\n"
     ]
    },
    {
     "name": "stdout",
     "output_type": "stream",
     "text": [
      "end at Wed 17 Apr 2024 11:02:58 PM EDT\n"
     ]
    },
    {
     "name": "stderr",
     "output_type": "stream",
     "text": [
      "Restoring modules from user's fhimp-mods\n",
      " -> Simulation will halt: successfully\n",
      "Note: The following floating-point exceptions are signalling: IEEE_UNDERFLOW_FLAG IEEE_DENORMAL\n",
      "STOP 0\n"
     ]
    },
    {
     "name": "stdout",
     "output_type": "stream",
     "text": [
      "end at Wed 17 Apr 2024 11:03:00 PM EDT\n"
     ]
    },
    {
     "name": "stderr",
     "output_type": "stream",
     "text": [
      "Restoring modules from user's fhimp-mods\n",
      " -> Simulation will halt: successfully\n",
      "Note: The following floating-point exceptions are signalling: IEEE_UNDERFLOW_FLAG IEEE_DENORMAL\n",
      "STOP 0\n"
     ]
    },
    {
     "name": "stdout",
     "output_type": "stream",
     "text": [
      "end at Wed 17 Apr 2024 11:03:01 PM EDT\n"
     ]
    },
    {
     "name": "stderr",
     "output_type": "stream",
     "text": [
      "Restoring modules from user's fhimp-mods\n",
      " -> Simulation will halt: successfully\n",
      "Note: The following floating-point exceptions are signalling: IEEE_UNDERFLOW_FLAG IEEE_DENORMAL\n",
      "STOP 0\n"
     ]
    },
    {
     "name": "stdout",
     "output_type": "stream",
     "text": [
      "end at Wed 17 Apr 2024 11:03:01 PM EDT\n"
     ]
    },
    {
     "name": "stderr",
     "output_type": "stream",
     "text": [
      "Restoring modules from user's fhimp-mods\n"
     ]
    },
    {
     "name": "stdout",
     "output_type": "stream",
     "text": [
      "start at Wed 17 Apr 2024 11:03:05 PM EDT\n",
      " ---------------------------------------------\n",
      "    HYPE version 5.24.0                  \n",
      " ---------------------------------------------\n",
      " New versions of HYPE at the HYPE Open Source \n",
      " Community website (hypecode.smhi.se), as well\n",
      " as information on up-coming courses.         \n",
      " ---------------------------------------------\n",
      "start at Wed 17 Apr 2024 11:03:06 PM EDT\n",
      " ---------------------------------------------\n",
      "    HYPE version 5.24.0                  \n",
      " ---------------------------------------------\n",
      " New versions of HYPE at the HYPE Open Source \n",
      " Community website (hypecode.smhi.se), as well\n",
      " as information on up-coming courses.         \n",
      " ---------------------------------------------\n",
      "start at Wed 17 Apr 2024 11:03:07 PM EDT\n",
      " ---------------------------------------------\n",
      "    HYPE version 5.24.0                  \n",
      " ---------------------------------------------\n",
      " New versions of HYPE at the HYPE Open Source \n",
      " Community website (hypecode.smhi.se), as well\n",
      " as information on up-coming courses.         \n",
      " ---------------------------------------------\n",
      "start at Wed 17 Apr 2024 11:03:08 PM EDT\n",
      " ---------------------------------------------\n",
      "    HYPE version 5.24.0                  \n",
      " ---------------------------------------------\n",
      " New versions of HYPE at the HYPE Open Source \n",
      " Community website (hypecode.smhi.se), as well\n",
      " as information on up-coming courses.         \n",
      " ---------------------------------------------\n"
     ]
    },
    {
     "name": "stderr",
     "output_type": "stream",
     "text": [
      " -> Simulation will halt: successfully\n",
      "Note: The following floating-point exceptions are signalling: IEEE_UNDERFLOW_FLAG IEEE_DENORMAL\n",
      "STOP 0\n"
     ]
    },
    {
     "name": "stdout",
     "output_type": "stream",
     "text": [
      "end at Wed 17 Apr 2024 11:03:11 PM EDT\n"
     ]
    },
    {
     "name": "stderr",
     "output_type": "stream",
     "text": [
      "Restoring modules from user's fhimp-mods\n",
      " -> Simulation will halt: successfully\n",
      "Note: The following floating-point exceptions are signalling: IEEE_UNDERFLOW_FLAG IEEE_DENORMAL\n",
      "STOP 0\n"
     ]
    },
    {
     "name": "stdout",
     "output_type": "stream",
     "text": [
      "end at Wed 17 Apr 2024 11:03:12 PM EDT\n"
     ]
    },
    {
     "name": "stderr",
     "output_type": "stream",
     "text": [
      "Restoring modules from user's fhimp-mods\n",
      " -> Simulation will halt: successfully\n",
      "Note: The following floating-point exceptions are signalling: IEEE_UNDERFLOW_FLAG IEEE_DENORMAL\n",
      "STOP 0\n"
     ]
    },
    {
     "name": "stdout",
     "output_type": "stream",
     "text": [
      "end at Wed 17 Apr 2024 11:03:13 PM EDT\n"
     ]
    },
    {
     "name": "stderr",
     "output_type": "stream",
     "text": [
      "Restoring modules from user's fhimp-mods\n",
      " -> Simulation will halt: successfully\n",
      "Note: The following floating-point exceptions are signalling: IEEE_UNDERFLOW_FLAG IEEE_DENORMAL\n",
      "STOP 0\n"
     ]
    },
    {
     "name": "stdout",
     "output_type": "stream",
     "text": [
      "end at Wed 17 Apr 2024 11:03:14 PM EDT\n"
     ]
    },
    {
     "name": "stderr",
     "output_type": "stream",
     "text": [
      "Restoring modules from user's fhimp-mods\n"
     ]
    },
    {
     "name": "stdout",
     "output_type": "stream",
     "text": [
      "start at Wed 17 Apr 2024 11:03:17 PM EDT\n",
      " ---------------------------------------------\n",
      "    HYPE version 5.24.0                  \n",
      " ---------------------------------------------\n",
      " New versions of HYPE at the HYPE Open Source \n",
      " Community website (hypecode.smhi.se), as well\n",
      " as information on up-coming courses.         \n",
      " ---------------------------------------------\n",
      "start at Wed 17 Apr 2024 11:03:18 PM EDT\n",
      " ---------------------------------------------\n",
      "    HYPE version 5.24.0                  \n",
      " ---------------------------------------------\n",
      " New versions of HYPE at the HYPE Open Source \n",
      " Community website (hypecode.smhi.se), as well\n",
      " as information on up-coming courses.         \n",
      " ---------------------------------------------\n",
      "start at Wed 17 Apr 2024 11:03:19 PM EDT\n",
      " ---------------------------------------------\n",
      "    HYPE version 5.24.0                  \n",
      " ---------------------------------------------\n",
      " New versions of HYPE at the HYPE Open Source \n",
      " Community website (hypecode.smhi.se), as well\n",
      " as information on up-coming courses.         \n",
      " ---------------------------------------------\n",
      "start at Wed 17 Apr 2024 11:03:20 PM EDT\n",
      " ---------------------------------------------\n",
      "    HYPE version 5.24.0                  \n",
      " ---------------------------------------------\n",
      " New versions of HYPE at the HYPE Open Source \n",
      " Community website (hypecode.smhi.se), as well\n",
      " as information on up-coming courses.         \n",
      " ---------------------------------------------\n"
     ]
    },
    {
     "name": "stderr",
     "output_type": "stream",
     "text": [
      " -> Simulation will halt: successfully\n",
      "Note: The following floating-point exceptions are signalling: IEEE_UNDERFLOW_FLAG IEEE_DENORMAL\n",
      "STOP 0\n"
     ]
    },
    {
     "name": "stdout",
     "output_type": "stream",
     "text": [
      "end at Wed 17 Apr 2024 11:03:23 PM EDT\n"
     ]
    },
    {
     "name": "stderr",
     "output_type": "stream",
     "text": [
      "Restoring modules from user's fhimp-mods\n",
      " -> Simulation will halt: successfully\n",
      "Note: The following floating-point exceptions are signalling: IEEE_UNDERFLOW_FLAG IEEE_DENORMAL\n",
      "STOP 0\n"
     ]
    },
    {
     "name": "stdout",
     "output_type": "stream",
     "text": [
      "end at Wed 17 Apr 2024 11:03:24 PM EDT\n"
     ]
    },
    {
     "name": "stderr",
     "output_type": "stream",
     "text": [
      "Restoring modules from user's fhimp-mods\n",
      " -> Simulation will halt: successfully\n",
      "Note: The following floating-point exceptions are signalling: IEEE_UNDERFLOW_FLAG IEEE_DENORMAL\n",
      "STOP 0\n"
     ]
    },
    {
     "name": "stdout",
     "output_type": "stream",
     "text": [
      "end at Wed 17 Apr 2024 11:03:25 PM EDT\n"
     ]
    },
    {
     "name": "stderr",
     "output_type": "stream",
     "text": [
      "Restoring modules from user's fhimp-mods\n",
      " -> Simulation will halt: successfully\n",
      "Note: The following floating-point exceptions are signalling: IEEE_UNDERFLOW_FLAG IEEE_DENORMAL\n",
      "STOP 0\n"
     ]
    },
    {
     "name": "stdout",
     "output_type": "stream",
     "text": [
      "end at Wed 17 Apr 2024 11:03:26 PM EDT\n"
     ]
    },
    {
     "name": "stderr",
     "output_type": "stream",
     "text": [
      "Restoring modules from user's fhimp-mods\n"
     ]
    },
    {
     "name": "stdout",
     "output_type": "stream",
     "text": [
      "start at Wed 17 Apr 2024 11:03:30 PM EDT\n",
      " ---------------------------------------------\n",
      "    HYPE version 5.24.0                  \n",
      " ---------------------------------------------\n",
      " New versions of HYPE at the HYPE Open Source \n",
      " Community website (hypecode.smhi.se), as well\n",
      " as information on up-coming courses.         \n",
      " ---------------------------------------------\n",
      "start at Wed 17 Apr 2024 11:03:31 PM EDT\n",
      " ---------------------------------------------\n",
      "    HYPE version 5.24.0                  \n",
      " ---------------------------------------------\n",
      " New versions of HYPE at the HYPE Open Source \n",
      " Community website (hypecode.smhi.se), as well\n",
      " as information on up-coming courses.         \n",
      " ---------------------------------------------\n",
      "start at Wed 17 Apr 2024 11:03:32 PM EDT\n",
      " ---------------------------------------------\n",
      "    HYPE version 5.24.0                  \n",
      " ---------------------------------------------\n",
      " New versions of HYPE at the HYPE Open Source \n",
      " Community website (hypecode.smhi.se), as well\n",
      " as information on up-coming courses.         \n",
      " ---------------------------------------------\n",
      "start at Wed 17 Apr 2024 11:03:33 PM EDT\n",
      " ---------------------------------------------\n",
      "    HYPE version 5.24.0                  \n",
      " ---------------------------------------------\n",
      " New versions of HYPE at the HYPE Open Source \n",
      " Community website (hypecode.smhi.se), as well\n",
      " as information on up-coming courses.         \n",
      " ---------------------------------------------\n"
     ]
    },
    {
     "name": "stderr",
     "output_type": "stream",
     "text": [
      " -> Simulation will halt: successfully\n",
      "Note: The following floating-point exceptions are signalling: IEEE_UNDERFLOW_FLAG IEEE_DENORMAL\n",
      "STOP 0\n"
     ]
    },
    {
     "name": "stdout",
     "output_type": "stream",
     "text": [
      "end at Wed 17 Apr 2024 11:03:36 PM EDT\n"
     ]
    },
    {
     "name": "stderr",
     "output_type": "stream",
     "text": [
      "Restoring modules from user's fhimp-mods\n",
      " -> Simulation will halt: successfully\n",
      "Note: The following floating-point exceptions are signalling: IEEE_UNDERFLOW_FLAG IEEE_DENORMAL\n",
      "STOP 0\n"
     ]
    },
    {
     "name": "stdout",
     "output_type": "stream",
     "text": [
      "end at Wed 17 Apr 2024 11:03:37 PM EDT\n"
     ]
    },
    {
     "name": "stderr",
     "output_type": "stream",
     "text": [
      "Restoring modules from user's fhimp-mods\n",
      " -> Simulation will halt: successfully\n",
      "Note: The following floating-point exceptions are signalling: IEEE_UNDERFLOW_FLAG IEEE_DENORMAL\n",
      "STOP 0\n"
     ]
    },
    {
     "name": "stdout",
     "output_type": "stream",
     "text": [
      "end at Wed 17 Apr 2024 11:03:38 PM EDT\n"
     ]
    },
    {
     "name": "stderr",
     "output_type": "stream",
     "text": [
      "Restoring modules from user's fhimp-mods\n",
      " -> Simulation will halt: successfully\n",
      "Note: The following floating-point exceptions are signalling: IEEE_UNDERFLOW_FLAG IEEE_DENORMAL\n",
      "STOP 0\n"
     ]
    },
    {
     "name": "stdout",
     "output_type": "stream",
     "text": [
      "end at Wed 17 Apr 2024 11:03:39 PM EDT\n"
     ]
    },
    {
     "name": "stderr",
     "output_type": "stream",
     "text": [
      "Restoring modules from user's fhimp-mods\n"
     ]
    },
    {
     "name": "stdout",
     "output_type": "stream",
     "text": [
      "start at Wed 17 Apr 2024 11:03:42 PM EDT\n",
      " ---------------------------------------------\n",
      "    HYPE version 5.24.0                  \n",
      " ---------------------------------------------\n",
      " New versions of HYPE at the HYPE Open Source \n",
      " Community website (hypecode.smhi.se), as well\n",
      " as information on up-coming courses.         \n",
      " ---------------------------------------------\n",
      "start at Wed 17 Apr 2024 11:03:44 PM EDT\n",
      " ---------------------------------------------\n",
      "    HYPE version 5.24.0                  \n",
      " ---------------------------------------------\n",
      " New versions of HYPE at the HYPE Open Source \n",
      " Community website (hypecode.smhi.se), as well\n",
      " as information on up-coming courses.         \n",
      " ---------------------------------------------\n",
      "start at Wed 17 Apr 2024 11:03:44 PM EDT\n",
      " ---------------------------------------------\n",
      "    HYPE version 5.24.0                  \n",
      " ---------------------------------------------\n",
      " New versions of HYPE at the HYPE Open Source \n",
      " Community website (hypecode.smhi.se), as well\n",
      " as information on up-coming courses.         \n",
      " ---------------------------------------------\n",
      "start at Wed 17 Apr 2024 11:03:45 PM EDT\n",
      " ---------------------------------------------\n",
      "    HYPE version 5.24.0                  \n",
      " ---------------------------------------------\n",
      " New versions of HYPE at the HYPE Open Source \n",
      " Community website (hypecode.smhi.se), as well\n",
      " as information on up-coming courses.         \n",
      " ---------------------------------------------\n"
     ]
    },
    {
     "name": "stderr",
     "output_type": "stream",
     "text": [
      " -> Simulation will halt: successfully\n",
      "Note: The following floating-point exceptions are signalling: IEEE_UNDERFLOW_FLAG IEEE_DENORMAL\n",
      "STOP 0\n"
     ]
    },
    {
     "name": "stdout",
     "output_type": "stream",
     "text": [
      "end at Wed 17 Apr 2024 11:03:48 PM EDT\n"
     ]
    },
    {
     "name": "stderr",
     "output_type": "stream",
     "text": [
      "Restoring modules from user's fhimp-mods\n",
      " -> Simulation will halt: successfully\n",
      "Note: The following floating-point exceptions are signalling: IEEE_UNDERFLOW_FLAG IEEE_DENORMAL\n",
      "STOP 0\n"
     ]
    },
    {
     "name": "stdout",
     "output_type": "stream",
     "text": [
      "end at Wed 17 Apr 2024 11:03:50 PM EDT\n"
     ]
    },
    {
     "name": "stderr",
     "output_type": "stream",
     "text": [
      "Restoring modules from user's fhimp-mods\n",
      " -> Simulation will halt: successfully\n",
      "Note: The following floating-point exceptions are signalling: IEEE_UNDERFLOW_FLAG IEEE_DENORMAL\n",
      "STOP 0\n"
     ]
    },
    {
     "name": "stdout",
     "output_type": "stream",
     "text": [
      "end at Wed 17 Apr 2024 11:03:50 PM EDT\n"
     ]
    },
    {
     "name": "stderr",
     "output_type": "stream",
     "text": [
      "Restoring modules from user's fhimp-mods\n",
      " -> Simulation will halt: successfully\n",
      "Note: The following floating-point exceptions are signalling: IEEE_UNDERFLOW_FLAG IEEE_DENORMAL\n",
      "STOP 0\n"
     ]
    },
    {
     "name": "stdout",
     "output_type": "stream",
     "text": [
      "end at Wed 17 Apr 2024 11:03:51 PM EDT\n"
     ]
    },
    {
     "name": "stderr",
     "output_type": "stream",
     "text": [
      "Restoring modules from user's fhimp-mods\n"
     ]
    },
    {
     "name": "stdout",
     "output_type": "stream",
     "text": [
      "start at Wed 17 Apr 2024 11:03:55 PM EDT\n",
      " ---------------------------------------------\n",
      "    HYPE version 5.24.0                  \n",
      " ---------------------------------------------\n",
      " New versions of HYPE at the HYPE Open Source \n",
      " Community website (hypecode.smhi.se), as well\n",
      " as information on up-coming courses.         \n",
      " ---------------------------------------------\n",
      "start at Wed 17 Apr 2024 11:03:56 PM EDT\n",
      " ---------------------------------------------\n",
      "    HYPE version 5.24.0                  \n",
      " ---------------------------------------------\n",
      " New versions of HYPE at the HYPE Open Source \n",
      " Community website (hypecode.smhi.se), as well\n",
      " as information on up-coming courses.         \n",
      " ---------------------------------------------\n",
      "start at Wed 17 Apr 2024 11:03:57 PM EDT\n",
      " ---------------------------------------------\n",
      "    HYPE version 5.24.0                  \n",
      " ---------------------------------------------\n",
      " New versions of HYPE at the HYPE Open Source \n",
      " Community website (hypecode.smhi.se), as well\n",
      " as information on up-coming courses.         \n",
      " ---------------------------------------------\n",
      "start at Wed 17 Apr 2024 11:03:58 PM EDT\n",
      " ---------------------------------------------\n",
      "    HYPE version 5.24.0                  \n",
      " ---------------------------------------------\n",
      " New versions of HYPE at the HYPE Open Source \n",
      " Community website (hypecode.smhi.se), as well\n",
      " as information on up-coming courses.         \n",
      " ---------------------------------------------\n"
     ]
    },
    {
     "name": "stderr",
     "output_type": "stream",
     "text": [
      " -> Simulation will halt: successfully\n",
      "Note: The following floating-point exceptions are signalling: IEEE_UNDERFLOW_FLAG IEEE_DENORMAL\n",
      "STOP 0\n"
     ]
    },
    {
     "name": "stdout",
     "output_type": "stream",
     "text": [
      "end at Wed 17 Apr 2024 11:04:01 PM EDT\n"
     ]
    },
    {
     "name": "stderr",
     "output_type": "stream",
     "text": [
      "Restoring modules from user's fhimp-mods\n",
      " -> Simulation will halt: successfully\n",
      "Note: The following floating-point exceptions are signalling: IEEE_UNDERFLOW_FLAG IEEE_DENORMAL\n",
      "STOP 0\n"
     ]
    },
    {
     "name": "stdout",
     "output_type": "stream",
     "text": [
      "end at Wed 17 Apr 2024 11:04:02 PM EDT\n"
     ]
    },
    {
     "name": "stderr",
     "output_type": "stream",
     "text": [
      "Restoring modules from user's fhimp-mods\n",
      " -> Simulation will halt: successfully\n",
      "Note: The following floating-point exceptions are signalling: IEEE_UNDERFLOW_FLAG IEEE_DENORMAL\n",
      "STOP 0\n"
     ]
    },
    {
     "name": "stdout",
     "output_type": "stream",
     "text": [
      "end at Wed 17 Apr 2024 11:04:02 PM EDT\n"
     ]
    },
    {
     "name": "stderr",
     "output_type": "stream",
     "text": [
      "Restoring modules from user's fhimp-mods\n",
      " -> Simulation will halt: successfully\n",
      "Note: The following floating-point exceptions are signalling: IEEE_UNDERFLOW_FLAG IEEE_DENORMAL\n",
      "STOP 0\n"
     ]
    },
    {
     "name": "stdout",
     "output_type": "stream",
     "text": [
      "end at Wed 17 Apr 2024 11:04:04 PM EDT\n"
     ]
    },
    {
     "name": "stderr",
     "output_type": "stream",
     "text": [
      "Restoring modules from user's fhimp-mods\n"
     ]
    },
    {
     "name": "stdout",
     "output_type": "stream",
     "text": [
      "start at Wed 17 Apr 2024 11:04:07 PM EDT\n",
      " ---------------------------------------------\n",
      "    HYPE version 5.24.0                  \n",
      " ---------------------------------------------\n",
      " New versions of HYPE at the HYPE Open Source \n",
      " Community website (hypecode.smhi.se), as well\n",
      " as information on up-coming courses.         \n",
      " ---------------------------------------------\n",
      "start at Wed 17 Apr 2024 11:04:08 PM EDT\n",
      " ---------------------------------------------\n",
      "    HYPE version 5.24.0                  \n",
      " ---------------------------------------------\n",
      " New versions of HYPE at the HYPE Open Source \n",
      " Community website (hypecode.smhi.se), as well\n",
      " as information on up-coming courses.         \n",
      " ---------------------------------------------\n",
      "start at Wed 17 Apr 2024 11:04:09 PM EDT\n",
      " ---------------------------------------------\n",
      "    HYPE version 5.24.0                  \n",
      " ---------------------------------------------\n",
      " New versions of HYPE at the HYPE Open Source \n",
      " Community website (hypecode.smhi.se), as well\n",
      " as information on up-coming courses.         \n",
      " ---------------------------------------------\n",
      "start at Wed 17 Apr 2024 11:04:11 PM EDT\n",
      " ---------------------------------------------\n",
      "    HYPE version 5.24.0                  \n",
      " ---------------------------------------------\n",
      " New versions of HYPE at the HYPE Open Source \n",
      " Community website (hypecode.smhi.se), as well\n",
      " as information on up-coming courses.         \n",
      " ---------------------------------------------\n"
     ]
    },
    {
     "name": "stderr",
     "output_type": "stream",
     "text": [
      " -> Simulation will halt: successfully\n",
      "Note: The following floating-point exceptions are signalling: IEEE_UNDERFLOW_FLAG IEEE_DENORMAL\n",
      "STOP 0\n"
     ]
    },
    {
     "name": "stdout",
     "output_type": "stream",
     "text": [
      "end at Wed 17 Apr 2024 11:04:13 PM EDT\n"
     ]
    },
    {
     "name": "stderr",
     "output_type": "stream",
     "text": [
      "Restoring modules from user's fhimp-mods\n",
      " -> Simulation will halt: successfully\n",
      "Note: The following floating-point exceptions are signalling: IEEE_UNDERFLOW_FLAG IEEE_DENORMAL\n",
      "STOP 0\n"
     ]
    },
    {
     "name": "stdout",
     "output_type": "stream",
     "text": [
      "end at Wed 17 Apr 2024 11:04:14 PM EDT\n"
     ]
    },
    {
     "name": "stderr",
     "output_type": "stream",
     "text": [
      "Restoring modules from user's fhimp-mods\n",
      " -> Simulation will halt: successfully\n",
      "Note: The following floating-point exceptions are signalling: IEEE_UNDERFLOW_FLAG IEEE_DENORMAL\n",
      "STOP 0\n"
     ]
    },
    {
     "name": "stdout",
     "output_type": "stream",
     "text": [
      "end at Wed 17 Apr 2024 11:04:15 PM EDT\n"
     ]
    },
    {
     "name": "stderr",
     "output_type": "stream",
     "text": [
      "Restoring modules from user's fhimp-mods\n",
      " -> Simulation will halt: successfully\n",
      "Note: The following floating-point exceptions are signalling: IEEE_UNDERFLOW_FLAG IEEE_DENORMAL\n",
      "STOP 0\n"
     ]
    },
    {
     "name": "stdout",
     "output_type": "stream",
     "text": [
      "end at Wed 17 Apr 2024 11:04:16 PM EDT\n"
     ]
    },
    {
     "name": "stderr",
     "output_type": "stream",
     "text": [
      "Restoring modules from user's fhimp-mods\n"
     ]
    },
    {
     "name": "stdout",
     "output_type": "stream",
     "text": [
      "start at Wed 17 Apr 2024 11:04:19 PM EDT\n",
      " ---------------------------------------------\n",
      "    HYPE version 5.24.0                  \n",
      " ---------------------------------------------\n",
      " New versions of HYPE at the HYPE Open Source \n",
      " Community website (hypecode.smhi.se), as well\n",
      " as information on up-coming courses.         \n",
      " ---------------------------------------------\n",
      "start at Wed 17 Apr 2024 11:04:21 PM EDT\n",
      " ---------------------------------------------\n",
      "    HYPE version 5.24.0                  \n",
      " ---------------------------------------------\n",
      " New versions of HYPE at the HYPE Open Source \n",
      " Community website (hypecode.smhi.se), as well\n",
      " as information on up-coming courses.         \n",
      " ---------------------------------------------\n",
      "start at Wed 17 Apr 2024 11:04:21 PM EDT\n",
      " ---------------------------------------------\n",
      "    HYPE version 5.24.0                  \n",
      " ---------------------------------------------\n",
      " New versions of HYPE at the HYPE Open Source \n",
      " Community website (hypecode.smhi.se), as well\n",
      " as information on up-coming courses.         \n",
      " ---------------------------------------------\n",
      "start at Wed 17 Apr 2024 11:04:23 PM EDT\n",
      " ---------------------------------------------\n",
      "    HYPE version 5.24.0                  \n",
      " ---------------------------------------------\n",
      " New versions of HYPE at the HYPE Open Source \n",
      " Community website (hypecode.smhi.se), as well\n",
      " as information on up-coming courses.         \n",
      " ---------------------------------------------\n"
     ]
    },
    {
     "name": "stderr",
     "output_type": "stream",
     "text": [
      " -> Simulation will halt: successfully\n",
      "Note: The following floating-point exceptions are signalling: IEEE_UNDERFLOW_FLAG IEEE_DENORMAL\n",
      "STOP 0\n"
     ]
    },
    {
     "name": "stdout",
     "output_type": "stream",
     "text": [
      "end at Wed 17 Apr 2024 11:04:25 PM EDT\n"
     ]
    },
    {
     "name": "stderr",
     "output_type": "stream",
     "text": [
      "Restoring modules from user's fhimp-mods\n",
      " -> Simulation will halt: successfully\n",
      "Note: The following floating-point exceptions are signalling: IEEE_UNDERFLOW_FLAG IEEE_DENORMAL\n",
      "STOP 0\n"
     ]
    },
    {
     "name": "stdout",
     "output_type": "stream",
     "text": [
      "end at Wed 17 Apr 2024 11:04:27 PM EDT\n"
     ]
    },
    {
     "name": "stderr",
     "output_type": "stream",
     "text": [
      "Restoring modules from user's fhimp-mods\n",
      " -> Simulation will halt: successfully\n",
      "Note: The following floating-point exceptions are signalling: IEEE_UNDERFLOW_FLAG IEEE_DENORMAL\n",
      "STOP 0\n"
     ]
    },
    {
     "name": "stdout",
     "output_type": "stream",
     "text": [
      "end at Wed 17 Apr 2024 11:04:27 PM EDT\n"
     ]
    },
    {
     "name": "stderr",
     "output_type": "stream",
     "text": [
      "Restoring modules from user's fhimp-mods\n",
      " -> Simulation will halt: successfully\n",
      "Note: The following floating-point exceptions are signalling: IEEE_UNDERFLOW_FLAG IEEE_DENORMAL\n",
      "STOP 0\n"
     ]
    },
    {
     "name": "stdout",
     "output_type": "stream",
     "text": [
      "end at Wed 17 Apr 2024 11:04:29 PM EDT\n"
     ]
    },
    {
     "name": "stderr",
     "output_type": "stream",
     "text": [
      "Restoring modules from user's fhimp-mods\n"
     ]
    },
    {
     "name": "stdout",
     "output_type": "stream",
     "text": [
      "start at Wed 17 Apr 2024 11:04:32 PM EDT\n",
      " ---------------------------------------------\n",
      "    HYPE version 5.24.0                  \n",
      " ---------------------------------------------\n",
      " New versions of HYPE at the HYPE Open Source \n",
      " Community website (hypecode.smhi.se), as well\n",
      " as information on up-coming courses.         \n",
      " ---------------------------------------------\n",
      "start at Wed 17 Apr 2024 11:04:33 PM EDT\n",
      " ---------------------------------------------\n",
      "    HYPE version 5.24.0                  \n",
      " ---------------------------------------------\n",
      " New versions of HYPE at the HYPE Open Source \n",
      " Community website (hypecode.smhi.se), as well\n",
      " as information on up-coming courses.         \n",
      " ---------------------------------------------\n",
      "start at Wed 17 Apr 2024 11:04:34 PM EDT\n",
      " ---------------------------------------------\n",
      "    HYPE version 5.24.0                  \n",
      " ---------------------------------------------\n",
      " New versions of HYPE at the HYPE Open Source \n",
      " Community website (hypecode.smhi.se), as well\n",
      " as information on up-coming courses.         \n",
      " ---------------------------------------------\n",
      "start at Wed 17 Apr 2024 11:04:36 PM EDT\n",
      " ---------------------------------------------\n",
      "    HYPE version 5.24.0                  \n",
      " ---------------------------------------------\n",
      " New versions of HYPE at the HYPE Open Source \n",
      " Community website (hypecode.smhi.se), as well\n",
      " as information on up-coming courses.         \n",
      " ---------------------------------------------\n"
     ]
    },
    {
     "name": "stderr",
     "output_type": "stream",
     "text": [
      " -> Simulation will halt: successfully\n",
      "Note: The following floating-point exceptions are signalling: IEEE_UNDERFLOW_FLAG IEEE_DENORMAL\n",
      "STOP 0\n"
     ]
    },
    {
     "name": "stdout",
     "output_type": "stream",
     "text": [
      "end at Wed 17 Apr 2024 11:04:38 PM EDT\n"
     ]
    },
    {
     "name": "stderr",
     "output_type": "stream",
     "text": [
      "Restoring modules from user's fhimp-mods\n",
      " -> Simulation will halt: successfully\n",
      "Note: The following floating-point exceptions are signalling: IEEE_UNDERFLOW_FLAG IEEE_DENORMAL\n",
      "STOP 0\n"
     ]
    },
    {
     "name": "stdout",
     "output_type": "stream",
     "text": [
      "end at Wed 17 Apr 2024 11:04:39 PM EDT\n"
     ]
    },
    {
     "name": "stderr",
     "output_type": "stream",
     "text": [
      "Restoring modules from user's fhimp-mods\n",
      " -> Simulation will halt: successfully\n",
      "Note: The following floating-point exceptions are signalling: IEEE_UNDERFLOW_FLAG IEEE_DENORMAL\n",
      "STOP 0\n"
     ]
    },
    {
     "name": "stdout",
     "output_type": "stream",
     "text": [
      "end at Wed 17 Apr 2024 11:04:40 PM EDT\n"
     ]
    },
    {
     "name": "stderr",
     "output_type": "stream",
     "text": [
      "Restoring modules from user's fhimp-mods\n",
      " -> Simulation will halt: successfully\n",
      "Note: The following floating-point exceptions are signalling: IEEE_UNDERFLOW_FLAG IEEE_DENORMAL\n",
      "STOP 0\n"
     ]
    },
    {
     "name": "stdout",
     "output_type": "stream",
     "text": [
      "end at Wed 17 Apr 2024 11:04:42 PM EDT\n"
     ]
    },
    {
     "name": "stderr",
     "output_type": "stream",
     "text": [
      "Restoring modules from user's fhimp-mods\n"
     ]
    },
    {
     "name": "stdout",
     "output_type": "stream",
     "text": [
      "start at Wed 17 Apr 2024 11:04:45 PM EDT\n",
      " ---------------------------------------------\n",
      "    HYPE version 5.24.0                  \n",
      " ---------------------------------------------\n",
      " New versions of HYPE at the HYPE Open Source \n",
      " Community website (hypecode.smhi.se), as well\n",
      " as information on up-coming courses.         \n",
      " ---------------------------------------------\n",
      "start at Wed 17 Apr 2024 11:04:46 PM EDT\n",
      " ---------------------------------------------\n",
      "    HYPE version 5.24.0                  \n",
      " ---------------------------------------------\n",
      " New versions of HYPE at the HYPE Open Source \n",
      " Community website (hypecode.smhi.se), as well\n",
      " as information on up-coming courses.         \n",
      " ---------------------------------------------\n",
      "start at Wed 17 Apr 2024 11:04:47 PM EDT\n",
      " ---------------------------------------------\n",
      "    HYPE version 5.24.0                  \n",
      " ---------------------------------------------\n",
      " New versions of HYPE at the HYPE Open Source \n",
      " Community website (hypecode.smhi.se), as well\n",
      " as information on up-coming courses.         \n",
      " ---------------------------------------------\n",
      "start at Wed 17 Apr 2024 11:04:48 PM EDT\n",
      " ---------------------------------------------\n",
      "    HYPE version 5.24.0                  \n",
      " ---------------------------------------------\n",
      " New versions of HYPE at the HYPE Open Source \n",
      " Community website (hypecode.smhi.se), as well\n",
      " as information on up-coming courses.         \n",
      " ---------------------------------------------\n"
     ]
    },
    {
     "name": "stderr",
     "output_type": "stream",
     "text": [
      " -> Simulation will halt: successfully\n",
      "Note: The following floating-point exceptions are signalling: IEEE_UNDERFLOW_FLAG IEEE_DENORMAL\n",
      "STOP 0\n"
     ]
    },
    {
     "name": "stdout",
     "output_type": "stream",
     "text": [
      "end at Wed 17 Apr 2024 11:04:51 PM EDT\n"
     ]
    },
    {
     "name": "stderr",
     "output_type": "stream",
     "text": [
      "Restoring modules from user's fhimp-mods\n",
      " -> Simulation will halt: successfully\n",
      "Note: The following floating-point exceptions are signalling: IEEE_UNDERFLOW_FLAG IEEE_DENORMAL\n",
      "STOP 0\n"
     ]
    },
    {
     "name": "stdout",
     "output_type": "stream",
     "text": [
      "end at Wed 17 Apr 2024 11:04:52 PM EDT\n"
     ]
    },
    {
     "name": "stderr",
     "output_type": "stream",
     "text": [
      "Restoring modules from user's fhimp-mods\n",
      " -> Simulation will halt: successfully\n",
      "Note: The following floating-point exceptions are signalling: IEEE_UNDERFLOW_FLAG IEEE_DENORMAL\n",
      "STOP 0\n"
     ]
    },
    {
     "name": "stdout",
     "output_type": "stream",
     "text": [
      "end at Wed 17 Apr 2024 11:04:53 PM EDT\n"
     ]
    },
    {
     "name": "stderr",
     "output_type": "stream",
     "text": [
      "Restoring modules from user's fhimp-mods\n",
      " -> Simulation will halt: successfully\n",
      "Note: The following floating-point exceptions are signalling: IEEE_UNDERFLOW_FLAG IEEE_DENORMAL\n",
      "STOP 0\n"
     ]
    },
    {
     "name": "stdout",
     "output_type": "stream",
     "text": [
      "end at Wed 17 Apr 2024 11:04:54 PM EDT\n"
     ]
    },
    {
     "name": "stderr",
     "output_type": "stream",
     "text": [
      "Restoring modules from user's fhimp-mods\n"
     ]
    },
    {
     "name": "stdout",
     "output_type": "stream",
     "text": [
      "start at Wed 17 Apr 2024 11:04:57 PM EDT\n",
      " ---------------------------------------------\n",
      "    HYPE version 5.24.0                  \n",
      " ---------------------------------------------\n",
      " New versions of HYPE at the HYPE Open Source \n",
      " Community website (hypecode.smhi.se), as well\n",
      " as information on up-coming courses.         \n",
      " ---------------------------------------------\n",
      "start at Wed 17 Apr 2024 11:04:58 PM EDT\n",
      " ---------------------------------------------\n",
      "    HYPE version 5.24.0                  \n",
      " ---------------------------------------------\n",
      " New versions of HYPE at the HYPE Open Source \n",
      " Community website (hypecode.smhi.se), as well\n",
      " as information on up-coming courses.         \n",
      " ---------------------------------------------\n",
      "start at Wed 17 Apr 2024 11:04:59 PM EDT\n",
      " ---------------------------------------------\n",
      "    HYPE version 5.24.0                  \n",
      " ---------------------------------------------\n",
      " New versions of HYPE at the HYPE Open Source \n",
      " Community website (hypecode.smhi.se), as well\n",
      " as information on up-coming courses.         \n",
      " ---------------------------------------------\n",
      "start at Wed 17 Apr 2024 11:05:01 PM EDT\n",
      " ---------------------------------------------\n",
      "    HYPE version 5.24.0                  \n",
      " ---------------------------------------------\n",
      " New versions of HYPE at the HYPE Open Source \n",
      " Community website (hypecode.smhi.se), as well\n",
      " as information on up-coming courses.         \n",
      " ---------------------------------------------\n"
     ]
    },
    {
     "name": "stderr",
     "output_type": "stream",
     "text": [
      " -> Simulation will halt: successfully\n",
      "Note: The following floating-point exceptions are signalling: IEEE_UNDERFLOW_FLAG IEEE_DENORMAL\n",
      "STOP 0\n"
     ]
    },
    {
     "name": "stdout",
     "output_type": "stream",
     "text": [
      "end at Wed 17 Apr 2024 11:05:03 PM EDT\n"
     ]
    },
    {
     "name": "stderr",
     "output_type": "stream",
     "text": [
      "Restoring modules from user's fhimp-mods\n",
      " -> Simulation will halt: successfully\n",
      "Note: The following floating-point exceptions are signalling: IEEE_UNDERFLOW_FLAG IEEE_DENORMAL\n",
      "STOP 0\n"
     ]
    },
    {
     "name": "stdout",
     "output_type": "stream",
     "text": [
      "end at Wed 17 Apr 2024 11:05:04 PM EDT\n"
     ]
    },
    {
     "name": "stderr",
     "output_type": "stream",
     "text": [
      "Restoring modules from user's fhimp-mods\n",
      " -> Simulation will halt: successfully\n",
      "Note: The following floating-point exceptions are signalling: IEEE_UNDERFLOW_FLAG IEEE_DENORMAL\n",
      "STOP 0\n"
     ]
    },
    {
     "name": "stdout",
     "output_type": "stream",
     "text": [
      "end at Wed 17 Apr 2024 11:05:05 PM EDT\n"
     ]
    },
    {
     "name": "stderr",
     "output_type": "stream",
     "text": [
      "Restoring modules from user's fhimp-mods\n",
      " -> Simulation will halt: successfully\n",
      "Note: The following floating-point exceptions are signalling: IEEE_UNDERFLOW_FLAG IEEE_DENORMAL\n",
      "STOP 0\n"
     ]
    },
    {
     "name": "stdout",
     "output_type": "stream",
     "text": [
      "end at Wed 17 Apr 2024 11:05:07 PM EDT\n"
     ]
    },
    {
     "name": "stderr",
     "output_type": "stream",
     "text": [
      "Restoring modules from user's fhimp-mods\n"
     ]
    },
    {
     "name": "stdout",
     "output_type": "stream",
     "text": [
      "start at Wed 17 Apr 2024 11:05:09 PM EDT\n",
      " ---------------------------------------------\n",
      "    HYPE version 5.24.0                  \n",
      " ---------------------------------------------\n",
      " New versions of HYPE at the HYPE Open Source \n",
      " Community website (hypecode.smhi.se), as well\n",
      " as information on up-coming courses.         \n",
      " ---------------------------------------------\n",
      "start at Wed 17 Apr 2024 11:05:11 PM EDT\n",
      " ---------------------------------------------\n",
      "    HYPE version 5.24.0                  \n",
      " ---------------------------------------------\n",
      " New versions of HYPE at the HYPE Open Source \n",
      " Community website (hypecode.smhi.se), as well\n",
      " as information on up-coming courses.         \n",
      " ---------------------------------------------\n",
      "start at Wed 17 Apr 2024 11:05:11 PM EDT\n",
      " ---------------------------------------------\n",
      "    HYPE version 5.24.0                  \n",
      " ---------------------------------------------\n",
      " New versions of HYPE at the HYPE Open Source \n",
      " Community website (hypecode.smhi.se), as well\n",
      " as information on up-coming courses.         \n",
      " ---------------------------------------------\n",
      "start at Wed 17 Apr 2024 11:05:14 PM EDT\n",
      " ---------------------------------------------\n",
      "    HYPE version 5.24.0                  \n",
      " ---------------------------------------------\n",
      " New versions of HYPE at the HYPE Open Source \n",
      " Community website (hypecode.smhi.se), as well\n",
      " as information on up-coming courses.         \n",
      " ---------------------------------------------\n"
     ]
    },
    {
     "name": "stderr",
     "output_type": "stream",
     "text": [
      " -> Simulation will halt: successfully\n",
      "Note: The following floating-point exceptions are signalling: IEEE_UNDERFLOW_FLAG IEEE_DENORMAL\n",
      "STOP 0\n"
     ]
    },
    {
     "name": "stdout",
     "output_type": "stream",
     "text": [
      "end at Wed 17 Apr 2024 11:05:15 PM EDT\n"
     ]
    },
    {
     "name": "stderr",
     "output_type": "stream",
     "text": [
      "Restoring modules from user's fhimp-mods\n",
      " -> Simulation will halt: successfully\n",
      "Note: The following floating-point exceptions are signalling: IEEE_UNDERFLOW_FLAG IEEE_DENORMAL\n",
      "STOP 0\n"
     ]
    },
    {
     "name": "stdout",
     "output_type": "stream",
     "text": [
      "end at Wed 17 Apr 2024 11:05:17 PM EDT\n"
     ]
    },
    {
     "name": "stderr",
     "output_type": "stream",
     "text": [
      "Restoring modules from user's fhimp-mods\n",
      " -> Simulation will halt: successfully\n",
      "Note: The following floating-point exceptions are signalling: IEEE_UNDERFLOW_FLAG IEEE_DENORMAL\n",
      "STOP 0\n"
     ]
    },
    {
     "name": "stdout",
     "output_type": "stream",
     "text": [
      "end at Wed 17 Apr 2024 11:05:17 PM EDT\n"
     ]
    },
    {
     "name": "stderr",
     "output_type": "stream",
     "text": [
      "Restoring modules from user's fhimp-mods\n",
      " -> Simulation will halt: successfully\n",
      "Note: The following floating-point exceptions are signalling: IEEE_UNDERFLOW_FLAG IEEE_DENORMAL\n",
      "STOP 0\n"
     ]
    },
    {
     "name": "stdout",
     "output_type": "stream",
     "text": [
      "end at Wed 17 Apr 2024 11:05:20 PM EDT\n"
     ]
    },
    {
     "name": "stderr",
     "output_type": "stream",
     "text": [
      "Restoring modules from user's fhimp-mods\n"
     ]
    },
    {
     "name": "stdout",
     "output_type": "stream",
     "text": [
      "start at Wed 17 Apr 2024 11:05:22 PM EDT\n",
      " ---------------------------------------------\n",
      "    HYPE version 5.24.0                  \n",
      " ---------------------------------------------\n",
      " New versions of HYPE at the HYPE Open Source \n",
      " Community website (hypecode.smhi.se), as well\n",
      " as information on up-coming courses.         \n",
      " ---------------------------------------------\n",
      "start at Wed 17 Apr 2024 11:05:24 PM EDT\n",
      " ---------------------------------------------\n",
      "    HYPE version 5.24.0                  \n",
      " ---------------------------------------------\n",
      " New versions of HYPE at the HYPE Open Source \n",
      " Community website (hypecode.smhi.se), as well\n",
      " as information on up-coming courses.         \n",
      " ---------------------------------------------\n",
      "start at Wed 17 Apr 2024 11:05:24 PM EDT\n",
      " ---------------------------------------------\n",
      "    HYPE version 5.24.0                  \n",
      " ---------------------------------------------\n",
      " New versions of HYPE at the HYPE Open Source \n",
      " Community website (hypecode.smhi.se), as well\n",
      " as information on up-coming courses.         \n",
      " ---------------------------------------------\n",
      "start at Wed 17 Apr 2024 11:05:26 PM EDT\n",
      " ---------------------------------------------\n",
      "    HYPE version 5.24.0                  \n",
      " ---------------------------------------------\n",
      " New versions of HYPE at the HYPE Open Source \n",
      " Community website (hypecode.smhi.se), as well\n",
      " as information on up-coming courses.         \n",
      " ---------------------------------------------\n"
     ]
    },
    {
     "name": "stderr",
     "output_type": "stream",
     "text": [
      " -> Simulation will halt: successfully\n",
      "Note: The following floating-point exceptions are signalling: IEEE_UNDERFLOW_FLAG IEEE_DENORMAL\n",
      "STOP 0\n"
     ]
    },
    {
     "name": "stdout",
     "output_type": "stream",
     "text": [
      "end at Wed 17 Apr 2024 11:05:28 PM EDT\n"
     ]
    },
    {
     "name": "stderr",
     "output_type": "stream",
     "text": [
      "Restoring modules from user's fhimp-mods\n",
      " -> Simulation will halt: successfully\n",
      "Note: The following floating-point exceptions are signalling: IEEE_UNDERFLOW_FLAG IEEE_DENORMAL\n",
      "STOP 0\n"
     ]
    },
    {
     "name": "stdout",
     "output_type": "stream",
     "text": [
      "end at Wed 17 Apr 2024 11:05:29 PM EDT\n"
     ]
    },
    {
     "name": "stderr",
     "output_type": "stream",
     "text": [
      "Restoring modules from user's fhimp-mods\n",
      " -> Simulation will halt: successfully\n",
      "Note: The following floating-point exceptions are signalling: IEEE_UNDERFLOW_FLAG IEEE_DENORMAL\n",
      "STOP 0\n"
     ]
    },
    {
     "name": "stdout",
     "output_type": "stream",
     "text": [
      "end at Wed 17 Apr 2024 11:05:30 PM EDT\n"
     ]
    },
    {
     "name": "stderr",
     "output_type": "stream",
     "text": [
      "Restoring modules from user's fhimp-mods\n",
      " -> Simulation will halt: successfully\n",
      "Note: The following floating-point exceptions are signalling: IEEE_UNDERFLOW_FLAG IEEE_DENORMAL\n",
      "STOP 0\n"
     ]
    },
    {
     "name": "stdout",
     "output_type": "stream",
     "text": [
      "end at Wed 17 Apr 2024 11:05:32 PM EDT\n"
     ]
    },
    {
     "name": "stderr",
     "output_type": "stream",
     "text": [
      "Restoring modules from user's fhimp-mods\n"
     ]
    },
    {
     "name": "stdout",
     "output_type": "stream",
     "text": [
      "start at Wed 17 Apr 2024 11:05:35 PM EDT\n",
      " ---------------------------------------------\n",
      "    HYPE version 5.24.0                  \n",
      " ---------------------------------------------\n",
      " New versions of HYPE at the HYPE Open Source \n",
      " Community website (hypecode.smhi.se), as well\n",
      " as information on up-coming courses.         \n",
      " ---------------------------------------------\n",
      "start at Wed 17 Apr 2024 11:05:36 PM EDT\n",
      " ---------------------------------------------\n",
      "    HYPE version 5.24.0                  \n",
      " ---------------------------------------------\n",
      " New versions of HYPE at the HYPE Open Source \n",
      " Community website (hypecode.smhi.se), as well\n",
      " as information on up-coming courses.         \n",
      " ---------------------------------------------\n",
      "start at Wed 17 Apr 2024 11:05:37 PM EDT\n",
      " ---------------------------------------------\n",
      "    HYPE version 5.24.0                  \n",
      " ---------------------------------------------\n",
      " New versions of HYPE at the HYPE Open Source \n",
      " Community website (hypecode.smhi.se), as well\n",
      " as information on up-coming courses.         \n",
      " ---------------------------------------------\n",
      "start at Wed 17 Apr 2024 11:05:39 PM EDT\n",
      " ---------------------------------------------\n",
      "    HYPE version 5.24.0                  \n",
      " ---------------------------------------------\n",
      " New versions of HYPE at the HYPE Open Source \n",
      " Community website (hypecode.smhi.se), as well\n",
      " as information on up-coming courses.         \n",
      " ---------------------------------------------\n"
     ]
    },
    {
     "name": "stderr",
     "output_type": "stream",
     "text": [
      " -> Simulation will halt: successfully\n",
      "Note: The following floating-point exceptions are signalling: IEEE_UNDERFLOW_FLAG IEEE_DENORMAL\n",
      "STOP 0\n"
     ]
    },
    {
     "name": "stdout",
     "output_type": "stream",
     "text": [
      "end at Wed 17 Apr 2024 11:05:41 PM EDT\n"
     ]
    },
    {
     "name": "stderr",
     "output_type": "stream",
     "text": [
      "Restoring modules from user's fhimp-mods\n",
      " -> Simulation will halt: successfully\n",
      "Note: The following floating-point exceptions are signalling: IEEE_UNDERFLOW_FLAG IEEE_DENORMAL\n",
      "STOP 0\n"
     ]
    },
    {
     "name": "stdout",
     "output_type": "stream",
     "text": [
      "end at Wed 17 Apr 2024 11:05:42 PM EDT\n"
     ]
    },
    {
     "name": "stderr",
     "output_type": "stream",
     "text": [
      "Restoring modules from user's fhimp-mods\n",
      " -> Simulation will halt: successfully\n",
      "Note: The following floating-point exceptions are signalling: IEEE_UNDERFLOW_FLAG IEEE_DENORMAL\n",
      "STOP 0\n"
     ]
    },
    {
     "name": "stdout",
     "output_type": "stream",
     "text": [
      "end at Wed 17 Apr 2024 11:05:43 PM EDT\n"
     ]
    },
    {
     "name": "stderr",
     "output_type": "stream",
     "text": [
      "Restoring modules from user's fhimp-mods\n",
      " -> Simulation will halt: successfully\n",
      "Note: The following floating-point exceptions are signalling: IEEE_UNDERFLOW_FLAG IEEE_DENORMAL\n",
      "STOP 0\n"
     ]
    },
    {
     "name": "stdout",
     "output_type": "stream",
     "text": [
      "end at Wed 17 Apr 2024 11:05:45 PM EDT\n"
     ]
    },
    {
     "name": "stderr",
     "output_type": "stream",
     "text": [
      "Restoring modules from user's fhimp-mods\n"
     ]
    },
    {
     "name": "stdout",
     "output_type": "stream",
     "text": [
      "start at Wed 17 Apr 2024 11:05:48 PM EDT\n",
      " ---------------------------------------------\n",
      "    HYPE version 5.24.0                  \n",
      " ---------------------------------------------\n",
      " New versions of HYPE at the HYPE Open Source \n",
      " Community website (hypecode.smhi.se), as well\n",
      " as information on up-coming courses.         \n",
      " ---------------------------------------------\n",
      "start at Wed 17 Apr 2024 11:05:48 PM EDT\n",
      " ---------------------------------------------\n",
      "    HYPE version 5.24.0                  \n",
      " ---------------------------------------------\n",
      " New versions of HYPE at the HYPE Open Source \n",
      " Community website (hypecode.smhi.se), as well\n",
      " as information on up-coming courses.         \n",
      " ---------------------------------------------\n",
      "start at Wed 17 Apr 2024 11:05:49 PM EDT\n",
      " ---------------------------------------------\n",
      "    HYPE version 5.24.0                  \n",
      " ---------------------------------------------\n",
      " New versions of HYPE at the HYPE Open Source \n",
      " Community website (hypecode.smhi.se), as well\n",
      " as information on up-coming courses.         \n",
      " ---------------------------------------------\n",
      "start at Wed 17 Apr 2024 11:05:52 PM EDT\n",
      " ---------------------------------------------\n",
      "    HYPE version 5.24.0                  \n",
      " ---------------------------------------------\n",
      " New versions of HYPE at the HYPE Open Source \n",
      " Community website (hypecode.smhi.se), as well\n",
      " as information on up-coming courses.         \n",
      " ---------------------------------------------\n"
     ]
    },
    {
     "name": "stderr",
     "output_type": "stream",
     "text": [
      " -> Simulation will halt: successfully\n",
      "Note: The following floating-point exceptions are signalling: IEEE_UNDERFLOW_FLAG IEEE_DENORMAL\n",
      "STOP 0\n"
     ]
    },
    {
     "name": "stdout",
     "output_type": "stream",
     "text": [
      "end at Wed 17 Apr 2024 11:05:54 PM EDT\n"
     ]
    },
    {
     "name": "stderr",
     "output_type": "stream",
     "text": [
      "Restoring modules from user's fhimp-mods\n",
      " -> Simulation will halt: successfully\n",
      "Note: The following floating-point exceptions are signalling: IEEE_UNDERFLOW_FLAG IEEE_DENORMAL\n",
      "STOP 0\n"
     ]
    },
    {
     "name": "stdout",
     "output_type": "stream",
     "text": [
      "end at Wed 17 Apr 2024 11:05:54 PM EDT\n"
     ]
    },
    {
     "name": "stderr",
     "output_type": "stream",
     "text": [
      "Restoring modules from user's fhimp-mods\n",
      " -> Simulation will halt: successfully\n",
      "Note: The following floating-point exceptions are signalling: IEEE_UNDERFLOW_FLAG IEEE_DENORMAL\n",
      "STOP 0\n"
     ]
    },
    {
     "name": "stdout",
     "output_type": "stream",
     "text": [
      "end at Wed 17 Apr 2024 11:05:55 PM EDT\n"
     ]
    },
    {
     "name": "stderr",
     "output_type": "stream",
     "text": [
      "Restoring modules from user's fhimp-mods\n",
      " -> Simulation will halt: successfully\n",
      "Note: The following floating-point exceptions are signalling: IEEE_UNDERFLOW_FLAG IEEE_DENORMAL\n",
      "STOP 0\n"
     ]
    },
    {
     "name": "stdout",
     "output_type": "stream",
     "text": [
      "end at Wed 17 Apr 2024 11:05:58 PM EDT\n"
     ]
    },
    {
     "name": "stderr",
     "output_type": "stream",
     "text": [
      "Restoring modules from user's fhimp-mods\n"
     ]
    },
    {
     "name": "stdout",
     "output_type": "stream",
     "text": [
      "start at Wed 17 Apr 2024 11:06:00 PM EDT\n",
      " ---------------------------------------------\n",
      "    HYPE version 5.24.0                  \n",
      " ---------------------------------------------\n",
      " New versions of HYPE at the HYPE Open Source \n",
      " Community website (hypecode.smhi.se), as well\n",
      " as information on up-coming courses.         \n",
      " ---------------------------------------------\n",
      "start at Wed 17 Apr 2024 11:06:01 PM EDT\n",
      " ---------------------------------------------\n",
      "    HYPE version 5.24.0                  \n",
      " ---------------------------------------------\n",
      " New versions of HYPE at the HYPE Open Source \n",
      " Community website (hypecode.smhi.se), as well\n",
      " as information on up-coming courses.         \n",
      " ---------------------------------------------\n",
      "start at Wed 17 Apr 2024 11:06:02 PM EDT\n",
      " ---------------------------------------------\n",
      "    HYPE version 5.24.0                  \n",
      " ---------------------------------------------\n",
      " New versions of HYPE at the HYPE Open Source \n",
      " Community website (hypecode.smhi.se), as well\n",
      " as information on up-coming courses.         \n",
      " ---------------------------------------------\n",
      "start at Wed 17 Apr 2024 11:06:05 PM EDT\n",
      " ---------------------------------------------\n",
      "    HYPE version 5.24.0                  \n",
      " ---------------------------------------------\n",
      " New versions of HYPE at the HYPE Open Source \n",
      " Community website (hypecode.smhi.se), as well\n",
      " as information on up-coming courses.         \n",
      " ---------------------------------------------\n"
     ]
    },
    {
     "name": "stderr",
     "output_type": "stream",
     "text": [
      " -> Simulation will halt: successfully\n",
      "Note: The following floating-point exceptions are signalling: IEEE_UNDERFLOW_FLAG IEEE_DENORMAL\n",
      "STOP 0\n"
     ]
    },
    {
     "name": "stdout",
     "output_type": "stream",
     "text": [
      "end at Wed 17 Apr 2024 11:06:06 PM EDT\n"
     ]
    },
    {
     "name": "stderr",
     "output_type": "stream",
     "text": [
      "Restoring modules from user's fhimp-mods\n",
      " -> Simulation will halt: successfully\n",
      "Note: The following floating-point exceptions are signalling: IEEE_UNDERFLOW_FLAG IEEE_DENORMAL\n",
      "STOP 0\n"
     ]
    },
    {
     "name": "stdout",
     "output_type": "stream",
     "text": [
      "end at Wed 17 Apr 2024 11:06:07 PM EDT\n"
     ]
    },
    {
     "name": "stderr",
     "output_type": "stream",
     "text": [
      "Restoring modules from user's fhimp-mods\n",
      " -> Simulation will halt: successfully\n",
      "Note: The following floating-point exceptions are signalling: IEEE_UNDERFLOW_FLAG IEEE_DENORMAL\n",
      "STOP 0\n"
     ]
    },
    {
     "name": "stdout",
     "output_type": "stream",
     "text": [
      "end at Wed 17 Apr 2024 11:06:08 PM EDT\n"
     ]
    },
    {
     "name": "stderr",
     "output_type": "stream",
     "text": [
      "Restoring modules from user's fhimp-mods\n",
      " -> Simulation will halt: successfully\n",
      "Note: The following floating-point exceptions are signalling: IEEE_UNDERFLOW_FLAG IEEE_DENORMAL\n",
      "STOP 0\n"
     ]
    },
    {
     "name": "stdout",
     "output_type": "stream",
     "text": [
      "end at Wed 17 Apr 2024 11:06:11 PM EDT\n"
     ]
    },
    {
     "name": "stderr",
     "output_type": "stream",
     "text": [
      "Restoring modules from user's fhimp-mods\n"
     ]
    },
    {
     "name": "stdout",
     "output_type": "stream",
     "text": [
      "start at Wed 17 Apr 2024 11:06:13 PM EDT\n",
      " ---------------------------------------------\n",
      "    HYPE version 5.24.0                  \n",
      " ---------------------------------------------\n",
      " New versions of HYPE at the HYPE Open Source \n",
      " Community website (hypecode.smhi.se), as well\n",
      " as information on up-coming courses.         \n",
      " ---------------------------------------------\n",
      "start at Wed 17 Apr 2024 11:06:13 PM EDT\n",
      " ---------------------------------------------\n",
      "    HYPE version 5.24.0                  \n",
      " ---------------------------------------------\n",
      " New versions of HYPE at the HYPE Open Source \n",
      " Community website (hypecode.smhi.se), as well\n",
      " as information on up-coming courses.         \n",
      " ---------------------------------------------\n",
      "start at Wed 17 Apr 2024 11:06:14 PM EDT\n",
      " ---------------------------------------------\n",
      "    HYPE version 5.24.0                  \n",
      " ---------------------------------------------\n",
      " New versions of HYPE at the HYPE Open Source \n",
      " Community website (hypecode.smhi.se), as well\n",
      " as information on up-coming courses.         \n",
      " ---------------------------------------------\n",
      "start at Wed 17 Apr 2024 11:06:18 PM EDT\n",
      " ---------------------------------------------\n",
      "    HYPE version 5.24.0                  \n",
      " ---------------------------------------------\n",
      " New versions of HYPE at the HYPE Open Source \n",
      " Community website (hypecode.smhi.se), as well\n",
      " as information on up-coming courses.         \n",
      " ---------------------------------------------\n"
     ]
    },
    {
     "name": "stderr",
     "output_type": "stream",
     "text": [
      " -> Simulation will halt: successfully\n",
      "Note: The following floating-point exceptions are signalling: IEEE_UNDERFLOW_FLAG IEEE_DENORMAL\n",
      "STOP 0\n",
      " -> Simulation will halt: successfully\n",
      "Note: The following floating-point exceptions are signalling: IEEE_UNDERFLOW_FLAG IEEE_DENORMAL\n",
      "STOP 0\n"
     ]
    },
    {
     "name": "stdout",
     "output_type": "stream",
     "text": [
      "end at Wed 17 Apr 2024 11:06:19 PM EDT\n",
      "end at Wed 17 Apr 2024 11:06:19 PM EDT\n"
     ]
    },
    {
     "name": "stderr",
     "output_type": "stream",
     "text": [
      "Restoring modules from user's fhimp-mods\n",
      "Restoring modules from user's fhimp-mods\n",
      " -> Simulation will halt: successfully\n",
      "Note: The following floating-point exceptions are signalling: IEEE_UNDERFLOW_FLAG IEEE_DENORMAL\n",
      "STOP 0\n"
     ]
    },
    {
     "name": "stdout",
     "output_type": "stream",
     "text": [
      "end at Wed 17 Apr 2024 11:06:20 PM EDT\n"
     ]
    },
    {
     "name": "stderr",
     "output_type": "stream",
     "text": [
      "Restoring modules from user's fhimp-mods\n",
      " -> Simulation will halt: successfully\n",
      "Note: The following floating-point exceptions are signalling: IEEE_UNDERFLOW_FLAG IEEE_DENORMAL\n",
      "STOP 0\n"
     ]
    },
    {
     "name": "stdout",
     "output_type": "stream",
     "text": [
      "end at Wed 17 Apr 2024 11:06:24 PM EDT\n"
     ]
    },
    {
     "name": "stderr",
     "output_type": "stream",
     "text": [
      "Restoring modules from user's fhimp-mods\n"
     ]
    },
    {
     "name": "stdout",
     "output_type": "stream",
     "text": [
      "start at Wed 17 Apr 2024 11:06:25 PM EDT\n",
      " ---------------------------------------------\n",
      "    HYPE version 5.24.0                  \n",
      " ---------------------------------------------\n",
      " New versions of HYPE at the HYPE Open Source \n",
      " Community website (hypecode.smhi.se), as well\n",
      " as information on up-coming courses.         \n",
      " ---------------------------------------------\n",
      "start at Wed 17 Apr 2024 11:06:25 PM EDT\n",
      " ---------------------------------------------\n",
      "    HYPE version 5.24.0                  \n",
      " ---------------------------------------------\n",
      " New versions of HYPE at the HYPE Open Source \n",
      " Community website (hypecode.smhi.se), as well\n",
      " as information on up-coming courses.         \n",
      " ---------------------------------------------\n",
      "start at Wed 17 Apr 2024 11:06:27 PM EDT\n",
      " ---------------------------------------------\n",
      "    HYPE version 5.24.0                  \n",
      " ---------------------------------------------\n",
      " New versions of HYPE at the HYPE Open Source \n",
      " Community website (hypecode.smhi.se), as well\n",
      " as information on up-coming courses.         \n",
      " ---------------------------------------------\n",
      "start at Wed 17 Apr 2024 11:06:31 PM EDT\n",
      " ---------------------------------------------\n",
      "    HYPE version 5.24.0                  \n",
      " ---------------------------------------------\n",
      " New versions of HYPE at the HYPE Open Source \n",
      " Community website (hypecode.smhi.se), as well\n",
      " as information on up-coming courses.         \n",
      " ---------------------------------------------\n"
     ]
    },
    {
     "name": "stderr",
     "output_type": "stream",
     "text": [
      " -> Simulation will halt: successfully\n",
      "Note: The following floating-point exceptions are signalling: IEEE_UNDERFLOW_FLAG IEEE_DENORMAL\n",
      "STOP 0\n",
      " -> Simulation will halt: successfully\n",
      "Note: The following floating-point exceptions are signalling: IEEE_UNDERFLOW_FLAG IEEE_DENORMAL\n",
      "STOP 0\n"
     ]
    },
    {
     "name": "stdout",
     "output_type": "stream",
     "text": [
      "end at Wed 17 Apr 2024 11:06:31 PM EDT\n",
      "end at Wed 17 Apr 2024 11:06:31 PM EDT\n"
     ]
    },
    {
     "name": "stderr",
     "output_type": "stream",
     "text": [
      "Restoring modules from user's fhimp-mods\n",
      "Restoring modules from user's fhimp-mods\n",
      " -> Simulation will halt: successfully\n",
      "Note: The following floating-point exceptions are signalling: IEEE_UNDERFLOW_FLAG IEEE_DENORMAL\n",
      "STOP 0\n"
     ]
    },
    {
     "name": "stdout",
     "output_type": "stream",
     "text": [
      "end at Wed 17 Apr 2024 11:06:33 PM EDT\n"
     ]
    },
    {
     "name": "stderr",
     "output_type": "stream",
     "text": [
      "Restoring modules from user's fhimp-mods\n",
      " -> Simulation will halt: successfully\n",
      "Note: The following floating-point exceptions are signalling: IEEE_UNDERFLOW_FLAG IEEE_DENORMAL\n",
      "STOP 0\n"
     ]
    },
    {
     "name": "stdout",
     "output_type": "stream",
     "text": [
      "end at Wed 17 Apr 2024 11:06:37 PM EDT\n"
     ]
    },
    {
     "name": "stderr",
     "output_type": "stream",
     "text": [
      "Restoring modules from user's fhimp-mods\n"
     ]
    },
    {
     "name": "stdout",
     "output_type": "stream",
     "text": [
      "start at Wed 17 Apr 2024 11:06:38 PM EDT\n",
      " ---------------------------------------------\n",
      "    HYPE version 5.24.0                  \n",
      " ---------------------------------------------\n",
      " New versions of HYPE at the HYPE Open Source \n",
      " Community website (hypecode.smhi.se), as well\n",
      " as information on up-coming courses.         \n",
      " ---------------------------------------------\n",
      "start at Wed 17 Apr 2024 11:06:38 PM EDT\n",
      " ---------------------------------------------\n",
      "    HYPE version 5.24.0                  \n",
      " ---------------------------------------------\n",
      " New versions of HYPE at the HYPE Open Source \n",
      " Community website (hypecode.smhi.se), as well\n",
      " as information on up-coming courses.         \n",
      " ---------------------------------------------\n",
      "start at Wed 17 Apr 2024 11:06:39 PM EDT\n",
      " ---------------------------------------------\n",
      "    HYPE version 5.24.0                  \n",
      " ---------------------------------------------\n",
      " New versions of HYPE at the HYPE Open Source \n",
      " Community website (hypecode.smhi.se), as well\n",
      " as information on up-coming courses.         \n",
      " ---------------------------------------------\n",
      "start at Wed 17 Apr 2024 11:06:44 PM EDT\n",
      " ---------------------------------------------\n",
      "    HYPE version 5.24.0                  \n",
      " ---------------------------------------------\n",
      " New versions of HYPE at the HYPE Open Source \n",
      " Community website (hypecode.smhi.se), as well\n",
      " as information on up-coming courses.         \n",
      " ---------------------------------------------\n"
     ]
    },
    {
     "name": "stderr",
     "output_type": "stream",
     "text": [
      " -> Simulation will halt: successfully\n",
      "Note: The following floating-point exceptions are signalling: IEEE_UNDERFLOW_FLAG IEEE_DENORMAL\n",
      "STOP 0\n"
     ]
    },
    {
     "name": "stdout",
     "output_type": "stream",
     "text": [
      "end at Wed 17 Apr 2024 11:06:44 PM EDT\n"
     ]
    },
    {
     "name": "stderr",
     "output_type": "stream",
     "text": [
      " -> Simulation will halt: successfully\n",
      "Note: The following floating-point exceptions are signalling: IEEE_UNDERFLOW_FLAG IEEE_DENORMAL\n",
      "STOP 0\n",
      "Restoring modules from user's fhimp-mods\n"
     ]
    },
    {
     "name": "stdout",
     "output_type": "stream",
     "text": [
      "end at Wed 17 Apr 2024 11:06:44 PM EDT\n"
     ]
    },
    {
     "name": "stderr",
     "output_type": "stream",
     "text": [
      "Restoring modules from user's fhimp-mods\n",
      " -> Simulation will halt: successfully\n",
      "Note: The following floating-point exceptions are signalling: IEEE_UNDERFLOW_FLAG IEEE_DENORMAL\n",
      "STOP 0\n"
     ]
    },
    {
     "name": "stdout",
     "output_type": "stream",
     "text": [
      "end at Wed 17 Apr 2024 11:06:45 PM EDT\n"
     ]
    },
    {
     "name": "stderr",
     "output_type": "stream",
     "text": [
      "Restoring modules from user's fhimp-mods\n",
      " -> Simulation will halt: successfully\n",
      "Note: The following floating-point exceptions are signalling: IEEE_UNDERFLOW_FLAG IEEE_DENORMAL\n",
      "STOP 0\n"
     ]
    },
    {
     "name": "stdout",
     "output_type": "stream",
     "text": [
      "end at Wed 17 Apr 2024 11:06:50 PM EDT\n"
     ]
    },
    {
     "name": "stderr",
     "output_type": "stream",
     "text": [
      "Restoring modules from user's fhimp-mods\n"
     ]
    },
    {
     "name": "stdout",
     "output_type": "stream",
     "text": [
      "start at Wed 17 Apr 2024 11:06:50 PM EDT\n",
      " ---------------------------------------------\n",
      "    HYPE version 5.24.0                  \n",
      " ---------------------------------------------\n",
      " New versions of HYPE at the HYPE Open Source \n",
      " Community website (hypecode.smhi.se), as well\n",
      " as information on up-coming courses.         \n",
      " ---------------------------------------------\n",
      "start at Wed 17 Apr 2024 11:06:51 PM EDT\n",
      " ---------------------------------------------\n",
      "    HYPE version 5.24.0                  \n",
      " ---------------------------------------------\n",
      " New versions of HYPE at the HYPE Open Source \n",
      " Community website (hypecode.smhi.se), as well\n",
      " as information on up-coming courses.         \n",
      " ---------------------------------------------\n",
      "start at Wed 17 Apr 2024 11:06:52 PM EDT\n",
      " ---------------------------------------------\n",
      "    HYPE version 5.24.0                  \n",
      " ---------------------------------------------\n",
      " New versions of HYPE at the HYPE Open Source \n",
      " Community website (hypecode.smhi.se), as well\n",
      " as information on up-coming courses.         \n",
      " ---------------------------------------------\n",
      "start at Wed 17 Apr 2024 11:06:56 PM EDT\n",
      " ---------------------------------------------\n",
      "    HYPE version 5.24.0                  \n",
      " ---------------------------------------------\n",
      " New versions of HYPE at the HYPE Open Source \n",
      " Community website (hypecode.smhi.se), as well\n",
      " as information on up-coming courses.         \n",
      " ---------------------------------------------\n",
      "end at Wed 17 Apr 2024 11:06:56 PM EDT\n"
     ]
    },
    {
     "name": "stderr",
     "output_type": "stream",
     "text": [
      " -> Simulation will halt: successfully\n",
      "Note: The following floating-point exceptions are signalling: IEEE_UNDERFLOW_FLAG IEEE_DENORMAL\n",
      "STOP 0\n",
      " -> Simulation will halt: successfully\n",
      "Note: The following floating-point exceptions are signalling: IEEE_UNDERFLOW_FLAG IEEE_DENORMAL\n",
      "STOP 0\n"
     ]
    },
    {
     "name": "stdout",
     "output_type": "stream",
     "text": [
      "end at Wed 17 Apr 2024 11:06:56 PM EDT\n"
     ]
    },
    {
     "name": "stderr",
     "output_type": "stream",
     "text": [
      "Restoring modules from user's fhimp-mods\n",
      "Restoring modules from user's fhimp-mods\n",
      " -> Simulation will halt: successfully\n",
      "Note: The following floating-point exceptions are signalling: IEEE_UNDERFLOW_FLAG IEEE_DENORMAL\n",
      "STOP 0\n"
     ]
    },
    {
     "name": "stdout",
     "output_type": "stream",
     "text": [
      "end at Wed 17 Apr 2024 11:06:58 PM EDT\n"
     ]
    },
    {
     "name": "stderr",
     "output_type": "stream",
     "text": [
      "Restoring modules from user's fhimp-mods\n",
      " -> Simulation will halt: successfully\n",
      "Note: The following floating-point exceptions are signalling: IEEE_UNDERFLOW_FLAG IEEE_DENORMAL\n",
      "STOP 0\n"
     ]
    },
    {
     "name": "stdout",
     "output_type": "stream",
     "text": [
      "end at Wed 17 Apr 2024 11:07:02 PM EDT\n",
      "start at Wed 17 Apr 2024 11:07:03 PM EDT\n",
      "start at Wed 17 Apr 2024 11:07:03 PM EDT\n",
      " ---------------------------------------------\n",
      "    HYPE version 5.24.0                  \n",
      " ---------------------------------------------\n",
      " New versions of HYPE at the HYPE Open Source \n",
      " Community website (hypecode.smhi.se), as well\n",
      " as information on up-coming courses.         \n",
      " ---------------------------------------------\n",
      " ---------------------------------------------\n",
      "    HYPE version 5.24.0                  \n",
      " ---------------------------------------------\n",
      " New versions of HYPE at the HYPE Open Source \n",
      " Community website (hypecode.smhi.se), as well\n",
      " as information on up-coming courses.         \n",
      " ---------------------------------------------\n"
     ]
    },
    {
     "name": "stderr",
     "output_type": "stream",
     "text": [
      "Restoring modules from user's fhimp-mods\n"
     ]
    },
    {
     "name": "stdout",
     "output_type": "stream",
     "text": [
      "start at Wed 17 Apr 2024 11:07:04 PM EDT\n",
      " ---------------------------------------------\n",
      "    HYPE version 5.24.0                  \n",
      " ---------------------------------------------\n",
      " New versions of HYPE at the HYPE Open Source \n",
      " Community website (hypecode.smhi.se), as well\n",
      " as information on up-coming courses.         \n",
      " ---------------------------------------------\n"
     ]
    },
    {
     "name": "stderr",
     "output_type": "stream",
     "text": [
      " -> Simulation will halt: successfully\n",
      "Note: The following floating-point exceptions are signalling: IEEE_UNDERFLOW_FLAG IEEE_DENORMAL\n",
      "STOP 0\n",
      " -> Simulation will halt: successfully\n",
      "Note: The following floating-point exceptions are signalling: IEEE_UNDERFLOW_FLAG IEEE_DENORMAL\n",
      "STOP 0\n"
     ]
    },
    {
     "name": "stdout",
     "output_type": "stream",
     "text": [
      "end at Wed 17 Apr 2024 11:07:08 PM EDT\n",
      "end at Wed 17 Apr 2024 11:07:09 PM EDT\n"
     ]
    },
    {
     "name": "stderr",
     "output_type": "stream",
     "text": [
      "Restoring modules from user's fhimp-mods\n",
      "Restoring modules from user's fhimp-mods\n"
     ]
    },
    {
     "name": "stdout",
     "output_type": "stream",
     "text": [
      "start at Wed 17 Apr 2024 11:07:09 PM EDT\n",
      " ---------------------------------------------\n",
      "    HYPE version 5.24.0                  \n",
      " ---------------------------------------------\n",
      " New versions of HYPE at the HYPE Open Source \n",
      " Community website (hypecode.smhi.se), as well\n",
      " as information on up-coming courses.         \n",
      " ---------------------------------------------\n"
     ]
    },
    {
     "name": "stderr",
     "output_type": "stream",
     "text": [
      " -> Simulation will halt: successfully\n",
      "Note: The following floating-point exceptions are signalling: IEEE_UNDERFLOW_FLAG IEEE_DENORMAL\n",
      "STOP 0\n"
     ]
    },
    {
     "name": "stdout",
     "output_type": "stream",
     "text": [
      "end at Wed 17 Apr 2024 11:07:10 PM EDT\n"
     ]
    },
    {
     "name": "stderr",
     "output_type": "stream",
     "text": [
      "Restoring modules from user's fhimp-mods\n"
     ]
    },
    {
     "name": "stdout",
     "output_type": "stream",
     "text": [
      "start at Wed 17 Apr 2024 11:07:15 PM EDT\n",
      " ---------------------------------------------\n",
      "    HYPE version 5.24.0                  \n",
      " ---------------------------------------------\n",
      " New versions of HYPE at the HYPE Open Source \n",
      " Community website (hypecode.smhi.se), as well\n",
      " as information on up-coming courses.         \n",
      " ---------------------------------------------\n",
      "start at Wed 17 Apr 2024 11:07:15 PM EDT\n",
      " ---------------------------------------------\n",
      "    HYPE version 5.24.0                  \n",
      " ---------------------------------------------\n",
      " New versions of HYPE at the HYPE Open Source \n",
      " Community website (hypecode.smhi.se), as well\n",
      " as information on up-coming courses.         \n",
      " ---------------------------------------------\n"
     ]
    },
    {
     "name": "stderr",
     "output_type": "stream",
     "text": [
      " -> Simulation will halt: successfully\n",
      "Note: The following floating-point exceptions are signalling: IEEE_UNDERFLOW_FLAG IEEE_DENORMAL\n",
      "STOP 0\n"
     ]
    },
    {
     "name": "stdout",
     "output_type": "stream",
     "text": [
      "end at Wed 17 Apr 2024 11:07:15 PM EDT\n"
     ]
    },
    {
     "name": "stderr",
     "output_type": "stream",
     "text": [
      "Restoring modules from user's fhimp-mods\n"
     ]
    },
    {
     "name": "stdout",
     "output_type": "stream",
     "text": [
      "start at Wed 17 Apr 2024 11:07:17 PM EDT\n",
      " ---------------------------------------------\n",
      "    HYPE version 5.24.0                  \n",
      " ---------------------------------------------\n",
      " New versions of HYPE at the HYPE Open Source \n",
      " Community website (hypecode.smhi.se), as well\n",
      " as information on up-coming courses.         \n",
      " ---------------------------------------------\n"
     ]
    },
    {
     "name": "stderr",
     "output_type": "stream",
     "text": [
      " -> Simulation will halt: successfully\n",
      "Note: The following floating-point exceptions are signalling: IEEE_UNDERFLOW_FLAG IEEE_DENORMAL\n",
      "STOP 0\n"
     ]
    },
    {
     "name": "stdout",
     "output_type": "stream",
     "text": [
      "end at Wed 17 Apr 2024 11:07:21 PM EDT\n"
     ]
    },
    {
     "name": "stderr",
     "output_type": "stream",
     "text": [
      " -> Simulation will halt: successfully\n",
      "Note: The following floating-point exceptions are signalling: IEEE_UNDERFLOW_FLAG IEEE_DENORMAL\n",
      "STOP 0\n",
      "Restoring modules from user's fhimp-mods\n"
     ]
    },
    {
     "name": "stdout",
     "output_type": "stream",
     "text": [
      "end at Wed 17 Apr 2024 11:07:21 PM EDT\n"
     ]
    },
    {
     "name": "stderr",
     "output_type": "stream",
     "text": [
      "Restoring modules from user's fhimp-mods\n"
     ]
    },
    {
     "name": "stdout",
     "output_type": "stream",
     "text": [
      "start at Wed 17 Apr 2024 11:07:22 PM EDT\n",
      " ---------------------------------------------\n",
      "    HYPE version 5.24.0                  \n",
      " ---------------------------------------------\n",
      " New versions of HYPE at the HYPE Open Source \n",
      " Community website (hypecode.smhi.se), as well\n",
      " as information on up-coming courses.         \n",
      " ---------------------------------------------\n"
     ]
    },
    {
     "name": "stderr",
     "output_type": "stream",
     "text": [
      " -> Simulation will halt: successfully\n",
      "Note: The following floating-point exceptions are signalling: IEEE_UNDERFLOW_FLAG IEEE_DENORMAL\n",
      "STOP 0\n"
     ]
    },
    {
     "name": "stdout",
     "output_type": "stream",
     "text": [
      "end at Wed 17 Apr 2024 11:07:23 PM EDT\n"
     ]
    },
    {
     "name": "stderr",
     "output_type": "stream",
     "text": [
      "Restoring modules from user's fhimp-mods\n"
     ]
    },
    {
     "name": "stdout",
     "output_type": "stream",
     "text": [
      "start at Wed 17 Apr 2024 11:07:27 PM EDT\n",
      " ---------------------------------------------\n",
      "    HYPE version 5.24.0                  \n",
      " ---------------------------------------------\n",
      " New versions of HYPE at the HYPE Open Source \n",
      " Community website (hypecode.smhi.se), as well\n",
      " as information on up-coming courses.         \n",
      " ---------------------------------------------\n",
      "start at Wed 17 Apr 2024 11:07:27 PM EDT\n",
      " ---------------------------------------------\n",
      "    HYPE version 5.24.0                  \n",
      " ---------------------------------------------\n",
      " New versions of HYPE at the HYPE Open Source \n",
      " Community website (hypecode.smhi.se), as well\n",
      " as information on up-coming courses.         \n",
      " ---------------------------------------------\n"
     ]
    },
    {
     "name": "stderr",
     "output_type": "stream",
     "text": [
      " -> Simulation will halt: successfully\n",
      "Note: The following floating-point exceptions are signalling: IEEE_UNDERFLOW_FLAG IEEE_DENORMAL\n",
      "STOP 0\n"
     ]
    },
    {
     "name": "stdout",
     "output_type": "stream",
     "text": [
      "end at Wed 17 Apr 2024 11:07:28 PM EDT\n"
     ]
    },
    {
     "name": "stderr",
     "output_type": "stream",
     "text": [
      "Restoring modules from user's fhimp-mods\n"
     ]
    },
    {
     "name": "stdout",
     "output_type": "stream",
     "text": [
      "start at Wed 17 Apr 2024 11:07:29 PM EDT\n",
      " ---------------------------------------------\n",
      "    HYPE version 5.24.0                  \n",
      " ---------------------------------------------\n",
      " New versions of HYPE at the HYPE Open Source \n",
      " Community website (hypecode.smhi.se), as well\n",
      " as information on up-coming courses.         \n",
      " ---------------------------------------------\n"
     ]
    },
    {
     "name": "stderr",
     "output_type": "stream",
     "text": [
      " -> Simulation will halt: successfully\n",
      "Note: The following floating-point exceptions are signalling: IEEE_UNDERFLOW_FLAG IEEE_DENORMAL\n",
      "STOP 0\n",
      " -> Simulation will halt: successfully\n",
      "Note: The following floating-point exceptions are signalling: IEEE_UNDERFLOW_FLAG IEEE_DENORMAL\n",
      "STOP 0\n"
     ]
    },
    {
     "name": "stdout",
     "output_type": "stream",
     "text": [
      "end at Wed 17 Apr 2024 11:07:33 PM EDT\n",
      "end at Wed 17 Apr 2024 11:07:33 PM EDT\n"
     ]
    },
    {
     "name": "stderr",
     "output_type": "stream",
     "text": [
      "Restoring modules from user's fhimp-mods\n",
      "Restoring modules from user's fhimp-mods\n"
     ]
    },
    {
     "name": "stdout",
     "output_type": "stream",
     "text": [
      "start at Wed 17 Apr 2024 11:07:35 PM EDT\n",
      " ---------------------------------------------\n",
      "    HYPE version 5.24.0                  \n",
      " ---------------------------------------------\n",
      " New versions of HYPE at the HYPE Open Source \n",
      " Community website (hypecode.smhi.se), as well\n",
      " as information on up-coming courses.         \n",
      " ---------------------------------------------\n"
     ]
    },
    {
     "name": "stderr",
     "output_type": "stream",
     "text": [
      " -> Simulation will halt: successfully\n",
      "Note: The following floating-point exceptions are signalling: IEEE_UNDERFLOW_FLAG IEEE_DENORMAL\n",
      "STOP 0\n"
     ]
    },
    {
     "name": "stdout",
     "output_type": "stream",
     "text": [
      "end at Wed 17 Apr 2024 11:07:35 PM EDT\n"
     ]
    },
    {
     "name": "stderr",
     "output_type": "stream",
     "text": [
      "Restoring modules from user's fhimp-mods\n"
     ]
    },
    {
     "name": "stdout",
     "output_type": "stream",
     "text": [
      "start at Wed 17 Apr 2024 11:07:40 PM EDT\n",
      " ---------------------------------------------\n",
      "    HYPE version 5.24.0                  \n",
      " ---------------------------------------------\n",
      " New versions of HYPE at the HYPE Open Source \n",
      " Community website (hypecode.smhi.se), as well\n",
      " as information on up-coming courses.         \n",
      " ---------------------------------------------\n",
      "start at Wed 17 Apr 2024 11:07:40 PM EDT\n",
      " ---------------------------------------------\n",
      "    HYPE version 5.24.0                  \n",
      " ---------------------------------------------\n",
      " New versions of HYPE at the HYPE Open Source \n",
      " Community website (hypecode.smhi.se), as well\n",
      " as information on up-coming courses.         \n",
      " ---------------------------------------------\n"
     ]
    },
    {
     "name": "stderr",
     "output_type": "stream",
     "text": [
      " -> Simulation will halt: successfully\n",
      "Note: The following floating-point exceptions are signalling: IEEE_UNDERFLOW_FLAG IEEE_DENORMAL\n",
      "STOP 0\n"
     ]
    },
    {
     "name": "stdout",
     "output_type": "stream",
     "text": [
      "end at Wed 17 Apr 2024 11:07:41 PM EDT\n"
     ]
    },
    {
     "name": "stderr",
     "output_type": "stream",
     "text": [
      "Restoring modules from user's fhimp-mods\n"
     ]
    },
    {
     "name": "stdout",
     "output_type": "stream",
     "text": [
      "start at Wed 17 Apr 2024 11:07:42 PM EDT\n",
      " ---------------------------------------------\n",
      "    HYPE version 5.24.0                  \n",
      " ---------------------------------------------\n",
      " New versions of HYPE at the HYPE Open Source \n",
      " Community website (hypecode.smhi.se), as well\n",
      " as information on up-coming courses.         \n",
      " ---------------------------------------------\n"
     ]
    },
    {
     "name": "stderr",
     "output_type": "stream",
     "text": [
      " -> Simulation will halt: successfully\n",
      "Note: The following floating-point exceptions are signalling: IEEE_UNDERFLOW_FLAG IEEE_DENORMAL\n",
      "STOP 0\n",
      " -> Simulation will halt: successfully\n",
      "Note: The following floating-point exceptions are signalling: IEEE_UNDERFLOW_FLAG IEEE_DENORMAL\n",
      "STOP 0\n"
     ]
    },
    {
     "name": "stdout",
     "output_type": "stream",
     "text": [
      "end at Wed 17 Apr 2024 11:07:46 PM EDT\n",
      "end at Wed 17 Apr 2024 11:07:46 PM EDT\n"
     ]
    },
    {
     "name": "stderr",
     "output_type": "stream",
     "text": [
      "Restoring modules from user's fhimp-mods\n",
      "Restoring modules from user's fhimp-mods\n"
     ]
    },
    {
     "name": "stdout",
     "output_type": "stream",
     "text": [
      "start at Wed 17 Apr 2024 11:07:47 PM EDT\n",
      " ---------------------------------------------\n",
      "    HYPE version 5.24.0                  \n",
      " ---------------------------------------------\n",
      " New versions of HYPE at the HYPE Open Source \n",
      " Community website (hypecode.smhi.se), as well\n",
      " as information on up-coming courses.         \n",
      " ---------------------------------------------\n"
     ]
    },
    {
     "name": "stderr",
     "output_type": "stream",
     "text": [
      " -> Simulation will halt: successfully\n",
      "Note: The following floating-point exceptions are signalling: IEEE_UNDERFLOW_FLAG IEEE_DENORMAL\n",
      "STOP 0\n"
     ]
    },
    {
     "name": "stdout",
     "output_type": "stream",
     "text": [
      "end at Wed 17 Apr 2024 11:07:48 PM EDT\n"
     ]
    },
    {
     "name": "stderr",
     "output_type": "stream",
     "text": [
      "Restoring modules from user's fhimp-mods\n"
     ]
    },
    {
     "name": "stdout",
     "output_type": "stream",
     "text": [
      "start at Wed 17 Apr 2024 11:07:52 PM EDT\n",
      " ---------------------------------------------\n",
      "    HYPE version 5.24.0                  \n",
      " ---------------------------------------------\n",
      " New versions of HYPE at the HYPE Open Source \n",
      " Community website (hypecode.smhi.se), as well\n",
      " as information on up-coming courses.         \n",
      " ---------------------------------------------\n",
      "start at Wed 17 Apr 2024 11:07:52 PM EDT\n",
      " ---------------------------------------------\n",
      "    HYPE version 5.24.0                  \n",
      " ---------------------------------------------\n",
      " New versions of HYPE at the HYPE Open Source \n",
      " Community website (hypecode.smhi.se), as well\n",
      " as information on up-coming courses.         \n",
      " ---------------------------------------------\n"
     ]
    },
    {
     "name": "stderr",
     "output_type": "stream",
     "text": [
      " -> Simulation will halt: successfully\n",
      "Note: The following floating-point exceptions are signalling: IEEE_UNDERFLOW_FLAG IEEE_DENORMAL\n",
      "STOP 0\n"
     ]
    },
    {
     "name": "stdout",
     "output_type": "stream",
     "text": [
      "end at Wed 17 Apr 2024 11:07:53 PM EDT\n"
     ]
    },
    {
     "name": "stderr",
     "output_type": "stream",
     "text": [
      "Restoring modules from user's fhimp-mods\n"
     ]
    },
    {
     "name": "stdout",
     "output_type": "stream",
     "text": [
      "start at Wed 17 Apr 2024 11:07:54 PM EDT\n",
      " ---------------------------------------------\n",
      "    HYPE version 5.24.0                  \n",
      " ---------------------------------------------\n",
      " New versions of HYPE at the HYPE Open Source \n",
      " Community website (hypecode.smhi.se), as well\n",
      " as information on up-coming courses.         \n",
      " ---------------------------------------------\n"
     ]
    },
    {
     "name": "stderr",
     "output_type": "stream",
     "text": [
      " -> Simulation will halt: successfully\n",
      "Note: The following floating-point exceptions are signalling: IEEE_UNDERFLOW_FLAG IEEE_DENORMAL\n",
      "STOP 0\n",
      " -> Simulation will halt: successfully\n",
      "Note: The following floating-point exceptions are signalling: IEEE_UNDERFLOW_FLAG IEEE_DENORMAL\n",
      "STOP 0\n"
     ]
    },
    {
     "name": "stdout",
     "output_type": "stream",
     "text": [
      "end at Wed 17 Apr 2024 11:07:58 PM EDT\n",
      "end at Wed 17 Apr 2024 11:07:58 PM EDT\n"
     ]
    },
    {
     "name": "stderr",
     "output_type": "stream",
     "text": [
      "Restoring modules from user's fhimp-mods\n",
      "Restoring modules from user's fhimp-mods\n",
      " -> Simulation will halt: successfully\n",
      "Note: The following floating-point exceptions are signalling: IEEE_UNDERFLOW_FLAG IEEE_DENORMAL\n",
      "STOP 0\n"
     ]
    },
    {
     "name": "stdout",
     "output_type": "stream",
     "text": [
      "end at Wed 17 Apr 2024 11:08:00 PM EDT\n",
      "start at Wed 17 Apr 2024 11:08:00 PM EDT\n",
      " ---------------------------------------------\n",
      "    HYPE version 5.24.0                  \n",
      " ---------------------------------------------\n",
      " New versions of HYPE at the HYPE Open Source \n",
      " Community website (hypecode.smhi.se), as well\n",
      " as information on up-coming courses.         \n",
      " ---------------------------------------------\n"
     ]
    },
    {
     "name": "stderr",
     "output_type": "stream",
     "text": [
      "Restoring modules from user's fhimp-mods\n"
     ]
    },
    {
     "name": "stdout",
     "output_type": "stream",
     "text": [
      "start at Wed 17 Apr 2024 11:08:04 PM EDT\n",
      " ---------------------------------------------\n",
      "    HYPE version 5.24.0                  \n",
      " ---------------------------------------------\n",
      " New versions of HYPE at the HYPE Open Source \n",
      " Community website (hypecode.smhi.se), as well\n",
      " as information on up-coming courses.         \n",
      " ---------------------------------------------\n",
      "start at Wed 17 Apr 2024 11:08:04 PM EDT\n",
      " ---------------------------------------------\n",
      "    HYPE version 5.24.0                  \n",
      " ---------------------------------------------\n",
      " New versions of HYPE at the HYPE Open Source \n",
      " Community website (hypecode.smhi.se), as well\n",
      " as information on up-coming courses.         \n",
      " ---------------------------------------------\n"
     ]
    },
    {
     "name": "stderr",
     "output_type": "stream",
     "text": [
      " -> Simulation will halt: successfully\n",
      "Note: The following floating-point exceptions are signalling: IEEE_UNDERFLOW_FLAG IEEE_DENORMAL\n",
      "STOP 0\n"
     ]
    },
    {
     "name": "stdout",
     "output_type": "stream",
     "text": [
      "end at Wed 17 Apr 2024 11:08:06 PM EDT\n"
     ]
    },
    {
     "name": "stderr",
     "output_type": "stream",
     "text": [
      "Restoring modules from user's fhimp-mods\n"
     ]
    },
    {
     "name": "stdout",
     "output_type": "stream",
     "text": [
      "start at Wed 17 Apr 2024 11:08:07 PM EDT\n",
      " ---------------------------------------------\n",
      "    HYPE version 5.24.0                  \n",
      " ---------------------------------------------\n",
      " New versions of HYPE at the HYPE Open Source \n",
      " Community website (hypecode.smhi.se), as well\n",
      " as information on up-coming courses.         \n",
      " ---------------------------------------------\n"
     ]
    },
    {
     "name": "stderr",
     "output_type": "stream",
     "text": [
      " -> Simulation will halt: successfully\n",
      "Note: The following floating-point exceptions are signalling: IEEE_UNDERFLOW_FLAG IEEE_DENORMAL\n",
      "STOP 0\n",
      " -> Simulation will halt: successfully\n",
      "Note: The following floating-point exceptions are signalling: IEEE_UNDERFLOW_FLAG IEEE_DENORMAL\n",
      "STOP 0\n"
     ]
    },
    {
     "name": "stdout",
     "output_type": "stream",
     "text": [
      "end at Wed 17 Apr 2024 11:08:10 PM EDT\n",
      "end at Wed 17 Apr 2024 11:08:10 PM EDT\n"
     ]
    },
    {
     "name": "stderr",
     "output_type": "stream",
     "text": [
      "Restoring modules from user's fhimp-mods\n",
      "Restoring modules from user's fhimp-mods\n",
      " -> Simulation will halt: successfully\n",
      "Note: The following floating-point exceptions are signalling: IEEE_UNDERFLOW_FLAG IEEE_DENORMAL\n",
      "STOP 0\n"
     ]
    },
    {
     "name": "stdout",
     "output_type": "stream",
     "text": [
      "end at Wed 17 Apr 2024 11:08:13 PM EDT\n",
      "start at Wed 17 Apr 2024 11:08:13 PM EDT\n",
      " ---------------------------------------------\n",
      "    HYPE version 5.24.0                  \n",
      " ---------------------------------------------\n",
      " New versions of HYPE at the HYPE Open Source \n",
      " Community website (hypecode.smhi.se), as well\n",
      " as information on up-coming courses.         \n",
      " ---------------------------------------------\n"
     ]
    },
    {
     "name": "stderr",
     "output_type": "stream",
     "text": [
      "Restoring modules from user's fhimp-mods\n"
     ]
    },
    {
     "name": "stdout",
     "output_type": "stream",
     "text": [
      "start at Wed 17 Apr 2024 11:08:17 PM EDT\n",
      " ---------------------------------------------\n",
      "    HYPE version 5.24.0                  \n",
      " ---------------------------------------------\n",
      " New versions of HYPE at the HYPE Open Source \n",
      " Community website (hypecode.smhi.se), as well\n",
      " as information on up-coming courses.         \n",
      " ---------------------------------------------\n",
      "start at Wed 17 Apr 2024 11:08:17 PM EDT\n",
      " ---------------------------------------------\n",
      "    HYPE version 5.24.0                  \n",
      " ---------------------------------------------\n",
      " New versions of HYPE at the HYPE Open Source \n",
      " Community website (hypecode.smhi.se), as well\n",
      " as information on up-coming courses.         \n",
      " ---------------------------------------------\n"
     ]
    },
    {
     "name": "stderr",
     "output_type": "stream",
     "text": [
      " -> Simulation will halt: successfully\n",
      "Note: The following floating-point exceptions are signalling: IEEE_UNDERFLOW_FLAG IEEE_DENORMAL\n",
      "STOP 0\n"
     ]
    },
    {
     "name": "stdout",
     "output_type": "stream",
     "text": [
      "end at Wed 17 Apr 2024 11:08:19 PM EDT\n",
      "start at Wed 17 Apr 2024 11:08:19 PM EDT\n",
      " ---------------------------------------------\n",
      "    HYPE version 5.24.0                  \n",
      " ---------------------------------------------\n",
      " New versions of HYPE at the HYPE Open Source \n",
      " Community website (hypecode.smhi.se), as well\n",
      " as information on up-coming courses.         \n",
      " ---------------------------------------------\n"
     ]
    },
    {
     "name": "stderr",
     "output_type": "stream",
     "text": [
      "Restoring modules from user's fhimp-mods\n",
      " -> Simulation will halt: successfully\n",
      "Note: The following floating-point exceptions are signalling: IEEE_UNDERFLOW_FLAG IEEE_DENORMAL\n",
      "STOP 0\n",
      " -> Simulation will halt: successfully\n",
      "Note: The following floating-point exceptions are signalling: IEEE_UNDERFLOW_FLAG IEEE_DENORMAL\n",
      "STOP 0\n"
     ]
    },
    {
     "name": "stdout",
     "output_type": "stream",
     "text": [
      "end at Wed 17 Apr 2024 11:08:23 PM EDT\n",
      "end at Wed 17 Apr 2024 11:08:23 PM EDT\n"
     ]
    },
    {
     "name": "stderr",
     "output_type": "stream",
     "text": [
      "Restoring modules from user's fhimp-mods\n",
      "Restoring modules from user's fhimp-mods\n",
      " -> Simulation will halt: successfully\n",
      "Note: The following floating-point exceptions are signalling: IEEE_UNDERFLOW_FLAG IEEE_DENORMAL\n",
      "STOP 0\n"
     ]
    },
    {
     "name": "stdout",
     "output_type": "stream",
     "text": [
      "end at Wed 17 Apr 2024 11:08:25 PM EDT\n",
      "start at Wed 17 Apr 2024 11:08:26 PM EDT\n",
      " ---------------------------------------------\n",
      "    HYPE version 5.24.0                  \n",
      " ---------------------------------------------\n",
      " New versions of HYPE at the HYPE Open Source \n",
      " Community website (hypecode.smhi.se), as well\n",
      " as information on up-coming courses.         \n",
      " ---------------------------------------------\n"
     ]
    },
    {
     "name": "stderr",
     "output_type": "stream",
     "text": [
      "Restoring modules from user's fhimp-mods\n"
     ]
    },
    {
     "name": "stdout",
     "output_type": "stream",
     "text": [
      "start at Wed 17 Apr 2024 11:08:29 PM EDT\n",
      " ---------------------------------------------\n",
      "    HYPE version 5.24.0                  \n",
      " ---------------------------------------------\n",
      " New versions of HYPE at the HYPE Open Source \n",
      " Community website (hypecode.smhi.se), as well\n",
      " as information on up-coming courses.         \n",
      " ---------------------------------------------\n",
      "start at Wed 17 Apr 2024 11:08:29 PM EDT\n",
      " ---------------------------------------------\n",
      "    HYPE version 5.24.0                  \n",
      " ---------------------------------------------\n",
      " New versions of HYPE at the HYPE Open Source \n",
      " Community website (hypecode.smhi.se), as well\n",
      " as information on up-coming courses.         \n",
      " ---------------------------------------------\n"
     ]
    },
    {
     "name": "stderr",
     "output_type": "stream",
     "text": [
      " -> Simulation will halt: successfully\n",
      "Note: The following floating-point exceptions are signalling: IEEE_UNDERFLOW_FLAG IEEE_DENORMAL\n",
      "STOP 0\n"
     ]
    },
    {
     "name": "stdout",
     "output_type": "stream",
     "text": [
      "end at Wed 17 Apr 2024 11:08:32 PM EDT\n",
      "start at Wed 17 Apr 2024 11:08:32 PM EDT\n",
      " ---------------------------------------------\n",
      "    HYPE version 5.24.0                  \n",
      " ---------------------------------------------\n",
      " New versions of HYPE at the HYPE Open Source \n",
      " Community website (hypecode.smhi.se), as well\n",
      " as information on up-coming courses.         \n",
      " ---------------------------------------------\n"
     ]
    },
    {
     "name": "stderr",
     "output_type": "stream",
     "text": [
      "Restoring modules from user's fhimp-mods\n",
      " -> Simulation will halt: successfully\n",
      "Note: The following floating-point exceptions are signalling: IEEE_UNDERFLOW_FLAG IEEE_DENORMAL\n",
      "STOP 0\n",
      " -> Simulation will halt: successfully\n",
      "Note: The following floating-point exceptions are signalling: IEEE_UNDERFLOW_FLAG IEEE_DENORMAL\n",
      "STOP 0\n"
     ]
    },
    {
     "name": "stdout",
     "output_type": "stream",
     "text": [
      "end at Wed 17 Apr 2024 11:08:35 PM EDT\n",
      "end at Wed 17 Apr 2024 11:08:35 PM EDT\n"
     ]
    },
    {
     "name": "stderr",
     "output_type": "stream",
     "text": [
      "Restoring modules from user's fhimp-mods\n",
      "Restoring modules from user's fhimp-mods\n",
      " -> Simulation will halt: successfully\n",
      "Note: The following floating-point exceptions are signalling: IEEE_UNDERFLOW_FLAG IEEE_DENORMAL\n",
      "STOP 0\n"
     ]
    },
    {
     "name": "stdout",
     "output_type": "stream",
     "text": [
      "end at Wed 17 Apr 2024 11:08:38 PM EDT\n",
      "start at Wed 17 Apr 2024 11:08:39 PM EDT\n",
      " ---------------------------------------------\n",
      "    HYPE version 5.24.0                  \n",
      " ---------------------------------------------\n",
      " New versions of HYPE at the HYPE Open Source \n",
      " Community website (hypecode.smhi.se), as well\n",
      " as information on up-coming courses.         \n",
      " ---------------------------------------------\n"
     ]
    },
    {
     "name": "stderr",
     "output_type": "stream",
     "text": [
      "Restoring modules from user's fhimp-mods\n"
     ]
    },
    {
     "name": "stdout",
     "output_type": "stream",
     "text": [
      "start at Wed 17 Apr 2024 11:08:41 PM EDT\n",
      " ---------------------------------------------\n",
      "    HYPE version 5.24.0                  \n",
      " ---------------------------------------------\n",
      " New versions of HYPE at the HYPE Open Source \n",
      " Community website (hypecode.smhi.se), as well\n",
      " as information on up-coming courses.         \n",
      " ---------------------------------------------\n",
      "start at Wed 17 Apr 2024 11:08:42 PM EDT\n",
      " ---------------------------------------------\n",
      "    HYPE version 5.24.0                  \n",
      " ---------------------------------------------\n",
      " New versions of HYPE at the HYPE Open Source \n",
      " Community website (hypecode.smhi.se), as well\n",
      " as information on up-coming courses.         \n",
      " ---------------------------------------------\n"
     ]
    },
    {
     "name": "stderr",
     "output_type": "stream",
     "text": [
      " -> Simulation will halt: successfully\n",
      "Note: The following floating-point exceptions are signalling: IEEE_UNDERFLOW_FLAG IEEE_DENORMAL\n",
      "STOP 0\n"
     ]
    },
    {
     "name": "stdout",
     "output_type": "stream",
     "text": [
      "end at Wed 17 Apr 2024 11:08:45 PM EDT\n",
      "start at Wed 17 Apr 2024 11:08:45 PM EDT\n",
      " ---------------------------------------------\n",
      "    HYPE version 5.24.0                  \n",
      " ---------------------------------------------\n",
      " New versions of HYPE at the HYPE Open Source \n",
      " Community website (hypecode.smhi.se), as well\n",
      " as information on up-coming courses.         \n",
      " ---------------------------------------------\n"
     ]
    },
    {
     "name": "stderr",
     "output_type": "stream",
     "text": [
      "Restoring modules from user's fhimp-mods\n",
      " -> Simulation will halt: successfully\n",
      "Note: The following floating-point exceptions are signalling: IEEE_UNDERFLOW_FLAG IEEE_DENORMAL\n",
      "STOP 0\n",
      " -> Simulation will halt: successfully\n",
      "Note: The following floating-point exceptions are signalling: IEEE_UNDERFLOW_FLAG IEEE_DENORMAL\n",
      "STOP 0\n"
     ]
    },
    {
     "name": "stdout",
     "output_type": "stream",
     "text": [
      "end at Wed 17 Apr 2024 11:08:47 PM EDT\n",
      "end at Wed 17 Apr 2024 11:08:48 PM EDT\n"
     ]
    },
    {
     "name": "stderr",
     "output_type": "stream",
     "text": [
      "Restoring modules from user's fhimp-mods\n",
      "Restoring modules from user's fhimp-mods\n",
      " -> Simulation will halt: successfully\n",
      "Note: The following floating-point exceptions are signalling: IEEE_UNDERFLOW_FLAG IEEE_DENORMAL\n",
      "STOP 0\n"
     ]
    },
    {
     "name": "stdout",
     "output_type": "stream",
     "text": [
      "end at Wed 17 Apr 2024 11:08:51 PM EDT\n"
     ]
    },
    {
     "name": "stderr",
     "output_type": "stream",
     "text": [
      "Restoring modules from user's fhimp-mods\n"
     ]
    },
    {
     "name": "stdout",
     "output_type": "stream",
     "text": [
      "start at Wed 17 Apr 2024 11:08:51 PM EDT\n",
      " ---------------------------------------------\n",
      "    HYPE version 5.24.0                  \n",
      " ---------------------------------------------\n",
      " New versions of HYPE at the HYPE Open Source \n",
      " Community website (hypecode.smhi.se), as well\n",
      " as information on up-coming courses.         \n",
      " ---------------------------------------------\n",
      "start at Wed 17 Apr 2024 11:08:54 PM EDT\n",
      " ---------------------------------------------\n",
      "    HYPE version 5.24.0                  \n",
      " ---------------------------------------------\n",
      " New versions of HYPE at the HYPE Open Source \n",
      " Community website (hypecode.smhi.se), as well\n",
      " as information on up-coming courses.         \n",
      " ---------------------------------------------\n",
      "start at Wed 17 Apr 2024 11:08:54 PM EDT\n",
      " ---------------------------------------------\n",
      "    HYPE version 5.24.0                  \n",
      " ---------------------------------------------\n",
      " New versions of HYPE at the HYPE Open Source \n",
      " Community website (hypecode.smhi.se), as well\n",
      " as information on up-coming courses.         \n",
      " ---------------------------------------------\n"
     ]
    },
    {
     "name": "stderr",
     "output_type": "stream",
     "text": [
      " -> Simulation will halt: successfully\n",
      "Note: The following floating-point exceptions are signalling: IEEE_UNDERFLOW_FLAG IEEE_DENORMAL\n",
      "STOP 0\n"
     ]
    },
    {
     "name": "stdout",
     "output_type": "stream",
     "text": [
      "end at Wed 17 Apr 2024 11:08:57 PM EDT\n",
      "start at Wed 17 Apr 2024 11:08:57 PM EDT\n",
      " ---------------------------------------------\n",
      "    HYPE version 5.24.0                  \n",
      " ---------------------------------------------\n",
      " New versions of HYPE at the HYPE Open Source \n",
      " Community website (hypecode.smhi.se), as well\n",
      " as information on up-coming courses.         \n",
      " ---------------------------------------------\n"
     ]
    },
    {
     "name": "stderr",
     "output_type": "stream",
     "text": [
      "Restoring modules from user's fhimp-mods\n",
      " -> Simulation will halt: successfully\n",
      "Note: The following floating-point exceptions are signalling: IEEE_UNDERFLOW_FLAG IEEE_DENORMAL\n",
      "STOP 0\n",
      " -> Simulation will halt: successfully\n",
      "Note: The following floating-point exceptions are signalling: IEEE_UNDERFLOW_FLAG IEEE_DENORMAL\n",
      "STOP 0\n"
     ]
    },
    {
     "name": "stdout",
     "output_type": "stream",
     "text": [
      "end at Wed 17 Apr 2024 11:09:00 PM EDT\n",
      "end at Wed 17 Apr 2024 11:09:00 PM EDT\n"
     ]
    },
    {
     "name": "stderr",
     "output_type": "stream",
     "text": [
      "Restoring modules from user's fhimp-mods\n",
      "Restoring modules from user's fhimp-mods\n",
      " -> Simulation will halt: successfully\n",
      "Note: The following floating-point exceptions are signalling: IEEE_UNDERFLOW_FLAG IEEE_DENORMAL\n",
      "STOP 0\n"
     ]
    },
    {
     "name": "stdout",
     "output_type": "stream",
     "text": [
      "end at Wed 17 Apr 2024 11:09:04 PM EDT\n"
     ]
    },
    {
     "name": "stderr",
     "output_type": "stream",
     "text": [
      "Restoring modules from user's fhimp-mods\n"
     ]
    },
    {
     "name": "stdout",
     "output_type": "stream",
     "text": [
      "start at Wed 17 Apr 2024 11:09:04 PM EDT\n",
      " ---------------------------------------------\n",
      "    HYPE version 5.24.0                  \n",
      " ---------------------------------------------\n",
      " New versions of HYPE at the HYPE Open Source \n",
      " Community website (hypecode.smhi.se), as well\n",
      " as information on up-coming courses.         \n",
      " ---------------------------------------------\n",
      "start at Wed 17 Apr 2024 11:09:06 PM EDT\n",
      " ---------------------------------------------\n",
      "    HYPE version 5.24.0                  \n",
      " ---------------------------------------------\n",
      " New versions of HYPE at the HYPE Open Source \n",
      " Community website (hypecode.smhi.se), as well\n",
      " as information on up-coming courses.         \n",
      " ---------------------------------------------\n",
      "start at Wed 17 Apr 2024 11:09:06 PM EDT\n",
      " ---------------------------------------------\n",
      "    HYPE version 5.24.0                  \n",
      " ---------------------------------------------\n",
      " New versions of HYPE at the HYPE Open Source \n",
      " Community website (hypecode.smhi.se), as well\n",
      " as information on up-coming courses.         \n",
      " ---------------------------------------------\n"
     ]
    },
    {
     "name": "stderr",
     "output_type": "stream",
     "text": [
      " -> Simulation will halt: successfully\n",
      "Note: The following floating-point exceptions are signalling: IEEE_UNDERFLOW_FLAG IEEE_DENORMAL\n",
      "STOP 0\n"
     ]
    },
    {
     "name": "stdout",
     "output_type": "stream",
     "text": [
      "end at Wed 17 Apr 2024 11:09:10 PM EDT\n",
      "start at Wed 17 Apr 2024 11:09:10 PM EDT\n",
      " ---------------------------------------------\n",
      "    HYPE version 5.24.0                  \n",
      " ---------------------------------------------\n",
      " New versions of HYPE at the HYPE Open Source \n",
      " Community website (hypecode.smhi.se), as well\n",
      " as information on up-coming courses.         \n",
      " ---------------------------------------------\n"
     ]
    },
    {
     "name": "stderr",
     "output_type": "stream",
     "text": [
      "Restoring modules from user's fhimp-mods\n",
      " -> Simulation will halt: successfully\n",
      "Note: The following floating-point exceptions are signalling: IEEE_UNDERFLOW_FLAG IEEE_DENORMAL\n",
      "STOP 0\n",
      " -> Simulation will halt: successfully\n",
      "Note: The following floating-point exceptions are signalling: IEEE_UNDERFLOW_FLAG IEEE_DENORMAL\n",
      "STOP 0\n"
     ]
    },
    {
     "name": "stdout",
     "output_type": "stream",
     "text": [
      "end at Wed 17 Apr 2024 11:09:12 PM EDT\n",
      "end at Wed 17 Apr 2024 11:09:12 PM EDT\n",
      "[1.] 4483\n",
      "HYPE\n",
      "['param_temp']\n",
      "['param_temp']\n",
      "<class 'list'>\n",
      "/home/shg096/pygmo_mizuRoute_Diefenbaker/HYPE_run/4483/\n",
      "[0.98512196] 4483\n",
      "HYPE\n",
      "['param_temp']\n",
      "['param_temp']\n",
      "<class 'list'>\n",
      "/home/shg096/pygmo_mizuRoute_Diefenbaker/HYPE_run/4483/\n",
      "[0.66441054] 4483\n",
      "HYPE\n",
      "['param_temp']\n",
      "['param_temp']\n",
      "<class 'list'>\n",
      "/home/shg096/pygmo_mizuRoute_Diefenbaker/HYPE_run/4483/\n",
      "[0.39576958] 4483\n",
      "HYPE\n",
      "['param_temp']\n",
      "['param_temp']\n",
      "<class 'list'>\n",
      "/home/shg096/pygmo_mizuRoute_Diefenbaker/HYPE_run/4483/\n",
      "[0.90806966] 4483\n",
      "HYPE\n",
      "['param_temp']\n",
      "['param_temp']\n",
      "<class 'list'>\n",
      "/home/shg096/pygmo_mizuRoute_Diefenbaker/HYPE_run/4483/\n",
      "[0.59485788] 4483\n",
      "HYPE\n",
      "['param_temp']\n",
      "['param_temp']\n",
      "<class 'list'>\n",
      "/home/shg096/pygmo_mizuRoute_Diefenbaker/HYPE_run/4483/\n",
      "[0.98561109] 4483\n",
      "HYPE\n",
      "['param_temp']\n",
      "['param_temp']\n",
      "<class 'list'>\n",
      "/home/shg096/pygmo_mizuRoute_Diefenbaker/HYPE_run/4483/\n",
      "[1.] 4483\n",
      "HYPE\n",
      "['param_temp']\n",
      "['param_temp']\n",
      "<class 'list'>\n",
      "/home/shg096/pygmo_mizuRoute_Diefenbaker/HYPE_run/4483/\n",
      "[0.96869331] 4483\n",
      "HYPE\n",
      "['param_temp']\n",
      "['param_temp']\n",
      "<class 'list'>\n",
      "/home/shg096/pygmo_mizuRoute_Diefenbaker/HYPE_run/4483/\n",
      "[1.] 4483\n",
      "HYPE\n",
      "['param_temp']\n",
      "['param_temp']\n",
      "<class 'list'>\n",
      "/home/shg096/pygmo_mizuRoute_Diefenbaker/HYPE_run/4483/\n",
      "[0.75351392] 4483\n",
      "HYPE\n",
      "['param_temp']\n",
      "['param_temp']\n",
      "<class 'list'>\n",
      "/home/shg096/pygmo_mizuRoute_Diefenbaker/HYPE_run/4483/\n",
      "[0.47139157] 4483\n",
      "HYPE\n",
      "['param_temp']\n",
      "['param_temp']\n",
      "<class 'list'>\n",
      "/home/shg096/pygmo_mizuRoute_Diefenbaker/HYPE_run/4483/\n",
      "[0.74171775] 4483\n",
      "HYPE\n",
      "['param_temp']\n",
      "['param_temp']\n",
      "<class 'list'>\n",
      "/home/shg096/pygmo_mizuRoute_Diefenbaker/HYPE_run/4483/\n",
      "[0.71817966] 4483\n",
      "HYPE\n",
      "['param_temp']\n",
      "['param_temp']\n",
      "<class 'list'>\n",
      "/home/shg096/pygmo_mizuRoute_Diefenbaker/HYPE_run/4483/\n",
      "[0.89224804] 4483\n",
      "HYPE\n",
      "['param_temp']\n",
      "['param_temp']\n",
      "<class 'list'>\n",
      "/home/shg096/pygmo_mizuRoute_Diefenbaker/HYPE_run/4483/\n",
      "[0.6872686] 4483\n",
      "HYPE\n",
      "['param_temp']\n",
      "['param_temp']\n",
      "<class 'list'>\n",
      "/home/shg096/pygmo_mizuRoute_Diefenbaker/HYPE_run/4483/\n",
      "[1.] 4483\n",
      "HYPE\n",
      "['param_temp']\n",
      "['param_temp']\n",
      "<class 'list'>\n",
      "/home/shg096/pygmo_mizuRoute_Diefenbaker/HYPE_run/4483/\n",
      "[0.65792795] 4483\n",
      "HYPE\n",
      "['param_temp']\n",
      "['param_temp']\n",
      "<class 'list'>\n",
      "/home/shg096/pygmo_mizuRoute_Diefenbaker/HYPE_run/4483/\n",
      "[1.] 4483\n",
      "HYPE\n",
      "['param_temp']\n",
      "['param_temp']\n",
      "<class 'list'>\n",
      "/home/shg096/pygmo_mizuRoute_Diefenbaker/HYPE_run/4483/\n",
      "[0.76572465] 4483\n",
      "HYPE\n",
      "['param_temp']\n",
      "['param_temp']\n",
      "<class 'list'>\n",
      "/home/shg096/pygmo_mizuRoute_Diefenbaker/HYPE_run/4483/\n",
      "[0.89293906] 4483\n",
      "HYPE\n",
      "['param_temp']\n",
      "['param_temp']\n",
      "<class 'list'>\n",
      "/home/shg096/pygmo_mizuRoute_Diefenbaker/HYPE_run/4483/\n",
      "[0.92658462] 4483\n",
      "HYPE\n",
      "['param_temp']\n",
      "['param_temp']\n",
      "<class 'list'>\n",
      "/home/shg096/pygmo_mizuRoute_Diefenbaker/HYPE_run/4483/\n",
      "[0.74583212] 4483\n",
      "HYPE\n",
      "['param_temp']\n",
      "['param_temp']\n",
      "<class 'list'>\n",
      "/home/shg096/pygmo_mizuRoute_Diefenbaker/HYPE_run/4483/\n",
      "[0.83356218] 4483\n",
      "HYPE\n",
      "['param_temp']\n",
      "['param_temp']\n",
      "<class 'list'>\n",
      "/home/shg096/pygmo_mizuRoute_Diefenbaker/HYPE_run/4483/\n",
      "[1.] 4483\n",
      "HYPE\n",
      "['param_temp']\n",
      "['param_temp']\n",
      "<class 'list'>\n",
      "/home/shg096/pygmo_mizuRoute_Diefenbaker/HYPE_run/4483/\n",
      "[1.] 4483\n",
      "HYPE\n",
      "['param_temp']\n",
      "['param_temp']\n",
      "<class 'list'>\n",
      "/home/shg096/pygmo_mizuRoute_Diefenbaker/HYPE_run/4483/\n",
      "[0.96105918] 4483\n",
      "HYPE\n",
      "['param_temp']\n",
      "['param_temp']\n",
      "<class 'list'>\n",
      "/home/shg096/pygmo_mizuRoute_Diefenbaker/HYPE_run/4483/\n",
      "[0.86773459] 4483\n",
      "HYPE\n",
      "['param_temp']\n",
      "['param_temp']\n",
      "<class 'list'>\n",
      "/home/shg096/pygmo_mizuRoute_Diefenbaker/HYPE_run/4483/\n",
      "[0.85277789] 4483\n",
      "HYPE\n",
      "['param_temp']\n",
      "['param_temp']\n",
      "<class 'list'>\n",
      "/home/shg096/pygmo_mizuRoute_Diefenbaker/HYPE_run/4483/\n",
      "[1.] 4483\n",
      "HYPE\n",
      "['param_temp']\n",
      "['param_temp']\n",
      "<class 'list'>\n",
      "/home/shg096/pygmo_mizuRoute_Diefenbaker/HYPE_run/4483/\n",
      "[1.] 4483\n",
      "HYPE\n",
      "['param_temp']\n",
      "['param_temp']\n",
      "<class 'list'>\n",
      "/home/shg096/pygmo_mizuRoute_Diefenbaker/HYPE_run/4483/\n",
      "[0.87139157] 4483\n",
      "HYPE\n",
      "['param_temp']\n",
      "['param_temp']\n",
      "<class 'list'>\n",
      "/home/shg096/pygmo_mizuRoute_Diefenbaker/HYPE_run/4483/\n",
      "[1.] 4483\n",
      "HYPE\n",
      "['param_temp']\n",
      "['param_temp']\n",
      "<class 'list'>\n",
      "/home/shg096/pygmo_mizuRoute_Diefenbaker/HYPE_run/4483/\n",
      "[1.] 4483\n",
      "HYPE\n",
      "['param_temp']\n",
      "['param_temp']\n",
      "<class 'list'>\n",
      "/home/shg096/pygmo_mizuRoute_Diefenbaker/HYPE_run/4483/\n",
      "[1.] 4483\n",
      "HYPE\n",
      "['param_temp']\n",
      "['param_temp']\n",
      "<class 'list'>\n",
      "/home/shg096/pygmo_mizuRoute_Diefenbaker/HYPE_run/4483/\n",
      "[0.65462655] 4483\n",
      "HYPE\n",
      "['param_temp']\n",
      "['param_temp']\n",
      "<class 'list'>\n",
      "/home/shg096/pygmo_mizuRoute_Diefenbaker/HYPE_run/4483/\n",
      "[0.78198338] 4483\n",
      "HYPE\n",
      "['param_temp']\n",
      "['param_temp']\n",
      "<class 'list'>\n",
      "/home/shg096/pygmo_mizuRoute_Diefenbaker/HYPE_run/4483/\n",
      "[0.60876193] 4483\n",
      "HYPE\n",
      "['param_temp']\n",
      "['param_temp']\n",
      "<class 'list'>\n",
      "/home/shg096/pygmo_mizuRoute_Diefenbaker/HYPE_run/4483/\n",
      "[0.71642289] 4483\n",
      "HYPE\n",
      "['param_temp']\n",
      "['param_temp']\n",
      "<class 'list'>\n",
      "/home/shg096/pygmo_mizuRoute_Diefenbaker/HYPE_run/4483/\n",
      "[0.85794038] 4483\n",
      "HYPE\n",
      "['param_temp']\n",
      "['param_temp']\n",
      "<class 'list'>\n",
      "/home/shg096/pygmo_mizuRoute_Diefenbaker/HYPE_run/4483/\n",
      "[0.96045511] 4483\n",
      "HYPE\n",
      "['param_temp']\n",
      "['param_temp']\n",
      "<class 'list'>\n",
      "/home/shg096/pygmo_mizuRoute_Diefenbaker/HYPE_run/4483/\n",
      "[1.] 4483\n",
      "HYPE\n",
      "['param_temp']\n",
      "['param_temp']\n",
      "<class 'list'>\n",
      "/home/shg096/pygmo_mizuRoute_Diefenbaker/HYPE_run/4483/\n",
      "[0.73991273] 4483\n",
      "HYPE\n",
      "['param_temp']\n",
      "['param_temp']\n",
      "<class 'list'>\n",
      "/home/shg096/pygmo_mizuRoute_Diefenbaker/HYPE_run/4483/\n",
      "[1.] 4483\n",
      "HYPE\n",
      "['param_temp']\n",
      "['param_temp']\n",
      "<class 'list'>\n",
      "/home/shg096/pygmo_mizuRoute_Diefenbaker/HYPE_run/4483/\n",
      "[1.] 4483\n",
      "HYPE\n",
      "['param_temp']\n",
      "['param_temp']\n",
      "<class 'list'>\n",
      "/home/shg096/pygmo_mizuRoute_Diefenbaker/HYPE_run/4483/\n",
      "[1.] 4483\n",
      "HYPE\n",
      "['param_temp']\n",
      "['param_temp']\n",
      "<class 'list'>\n",
      "/home/shg096/pygmo_mizuRoute_Diefenbaker/HYPE_run/4483/\n",
      "[1.] 4483\n",
      "HYPE\n",
      "['param_temp']\n",
      "['param_temp']\n",
      "<class 'list'>\n",
      "/home/shg096/pygmo_mizuRoute_Diefenbaker/HYPE_run/4483/\n",
      "[1.] 4483\n",
      "HYPE\n",
      "['param_temp']\n",
      "['param_temp']\n",
      "<class 'list'>\n",
      "/home/shg096/pygmo_mizuRoute_Diefenbaker/HYPE_run/4483/\n",
      "[1.] 4483\n",
      "HYPE\n",
      "['param_temp']\n",
      "['param_temp']\n",
      "<class 'list'>\n",
      "/home/shg096/pygmo_mizuRoute_Diefenbaker/HYPE_run/4483/\n",
      "[0.8524234] 4483\n",
      "HYPE\n",
      "['param_temp']\n",
      "['param_temp']\n",
      "<class 'list'>\n",
      "/home/shg096/pygmo_mizuRoute_Diefenbaker/HYPE_run/4483/\n",
      "[1.] 4483\n",
      "HYPE\n",
      "['param_temp']\n",
      "['param_temp']\n",
      "<class 'list'>\n",
      "/home/shg096/pygmo_mizuRoute_Diefenbaker/HYPE_run/4483/\n",
      "[0.61335135] 4483\n",
      "HYPE\n",
      "['param_temp']\n",
      "['param_temp']\n",
      "<class 'list'>\n",
      "/home/shg096/pygmo_mizuRoute_Diefenbaker/HYPE_run/4483/\n",
      "[1.] 4483\n",
      "HYPE\n",
      "['param_temp']\n",
      "['param_temp']\n",
      "<class 'list'>\n",
      "/home/shg096/pygmo_mizuRoute_Diefenbaker/HYPE_run/4483/\n",
      "[0.99079088] 4483\n",
      "HYPE\n",
      "['param_temp']\n",
      "['param_temp']\n",
      "<class 'list'>\n",
      "/home/shg096/pygmo_mizuRoute_Diefenbaker/HYPE_run/4483/\n",
      "[1.] 4483\n",
      "HYPE\n",
      "['param_temp']\n",
      "['param_temp']\n",
      "<class 'list'>\n",
      "/home/shg096/pygmo_mizuRoute_Diefenbaker/HYPE_run/4483/\n",
      "[1.] 4483\n",
      "HYPE\n",
      "['param_temp']\n",
      "['param_temp']\n",
      "<class 'list'>\n",
      "/home/shg096/pygmo_mizuRoute_Diefenbaker/HYPE_run/4483/\n",
      "[1.] 4483\n",
      "HYPE\n",
      "['param_temp']\n",
      "['param_temp']\n",
      "<class 'list'>\n",
      "/home/shg096/pygmo_mizuRoute_Diefenbaker/HYPE_run/4483/\n",
      "[0.8655722] 4483\n",
      "HYPE\n",
      "['param_temp']\n",
      "['param_temp']\n",
      "<class 'list'>\n",
      "/home/shg096/pygmo_mizuRoute_Diefenbaker/HYPE_run/4483/\n",
      "[0.84236204] 4483\n",
      "HYPE\n",
      "['param_temp']\n",
      "['param_temp']\n",
      "<class 'list'>\n",
      "/home/shg096/pygmo_mizuRoute_Diefenbaker/HYPE_run/4483/\n",
      "[0.87425456] 4483\n",
      "HYPE\n",
      "['param_temp']\n",
      "['param_temp']\n",
      "<class 'list'>\n",
      "/home/shg096/pygmo_mizuRoute_Diefenbaker/HYPE_run/4483/\n",
      "[1.] 4483\n",
      "HYPE\n",
      "['param_temp']\n",
      "['param_temp']\n",
      "<class 'list'>\n",
      "/home/shg096/pygmo_mizuRoute_Diefenbaker/HYPE_run/4483/\n",
      "[0.71952873] 4483\n",
      "HYPE\n",
      "['param_temp']\n",
      "['param_temp']\n",
      "<class 'list'>\n",
      "/home/shg096/pygmo_mizuRoute_Diefenbaker/HYPE_run/4483/\n",
      "[0.68783887] 4483\n",
      "HYPE\n",
      "['param_temp']\n",
      "['param_temp']\n",
      "<class 'list'>\n",
      "/home/shg096/pygmo_mizuRoute_Diefenbaker/HYPE_run/4483/\n",
      "[1.] 4483\n",
      "HYPE\n",
      "['param_temp']\n",
      "['param_temp']\n",
      "<class 'list'>\n",
      "/home/shg096/pygmo_mizuRoute_Diefenbaker/HYPE_run/4483/\n",
      "[1.] 4483\n",
      "HYPE\n",
      "['param_temp']\n",
      "['param_temp']\n",
      "<class 'list'>\n",
      "/home/shg096/pygmo_mizuRoute_Diefenbaker/HYPE_run/4483/\n",
      "[1.] 4483\n",
      "HYPE\n",
      "['param_temp']\n",
      "['param_temp']\n",
      "<class 'list'>\n",
      "/home/shg096/pygmo_mizuRoute_Diefenbaker/HYPE_run/4483/\n",
      "[0.93048048] 4483\n",
      "HYPE\n",
      "['param_temp']\n",
      "['param_temp']\n",
      "<class 'list'>\n",
      "/home/shg096/pygmo_mizuRoute_Diefenbaker/HYPE_run/4483/\n",
      "[0.9787687] 4483\n",
      "HYPE\n",
      "['param_temp']\n",
      "['param_temp']\n",
      "<class 'list'>\n"
     ]
    },
    {
     "name": "stderr",
     "output_type": "stream",
     "text": [
      "Restoring modules from user's fhimp-mods\n",
      "Restoring modules from user's fhimp-mods\n",
      " -> Simulation will halt: successfully\n",
      "Note: The following floating-point exceptions are signalling: IEEE_UNDERFLOW_FLAG IEEE_DENORMAL\n",
      "STOP 0\n"
     ]
    },
    {
     "name": "stdout",
     "output_type": "stream",
     "text": [
      "end at Wed 17 Apr 2024 11:09:16 PM EDT\n",
      "start at Wed 17 Apr 2024 11:09:16 PM EDT\n",
      " ---------------------------------------------\n",
      "    HYPE version 5.24.0                  \n",
      " ---------------------------------------------\n",
      " New versions of HYPE at the HYPE Open Source \n",
      " Community website (hypecode.smhi.se), as well\n",
      " as information on up-coming courses.         \n",
      " ---------------------------------------------\n"
     ]
    },
    {
     "name": "stderr",
     "output_type": "stream",
     "text": [
      "Restoring modules from user's fhimp-mods\n"
     ]
    },
    {
     "name": "stdout",
     "output_type": "stream",
     "text": [
      "start at Wed 17 Apr 2024 11:09:19 PM EDT\n",
      " ---------------------------------------------\n",
      "    HYPE version 5.24.0                  \n",
      " ---------------------------------------------\n",
      " New versions of HYPE at the HYPE Open Source \n",
      " Community website (hypecode.smhi.se), as well\n",
      " as information on up-coming courses.         \n",
      " ---------------------------------------------\n",
      "start at Wed 17 Apr 2024 11:09:19 PM EDT\n",
      " ---------------------------------------------\n",
      "    HYPE version 5.24.0                  \n",
      " ---------------------------------------------\n",
      " New versions of HYPE at the HYPE Open Source \n",
      " Community website (hypecode.smhi.se), as well\n",
      " as information on up-coming courses.         \n",
      " ---------------------------------------------\n"
     ]
    },
    {
     "name": "stderr",
     "output_type": "stream",
     "text": [
      " -> Simulation will halt: successfully\n",
      "Note: The following floating-point exceptions are signalling: IEEE_UNDERFLOW_FLAG IEEE_DENORMAL\n",
      "STOP 0\n"
     ]
    },
    {
     "name": "stdout",
     "output_type": "stream",
     "text": [
      "end at Wed 17 Apr 2024 11:09:22 PM EDT\n",
      "[1.] 4485\n",
      "HYPE\n",
      "['param_temp']\n",
      "['param_temp']\n",
      "<class 'list'>\n",
      "/home/shg096/pygmo_mizuRoute_Diefenbaker/HYPE_run/4485/\n",
      "[1.] 4485\n",
      "HYPE\n",
      "['param_temp']\n",
      "['param_temp']\n",
      "<class 'list'>\n",
      "/home/shg096/pygmo_mizuRoute_Diefenbaker/HYPE_run/4485/\n",
      "[0.59608227] 4485\n",
      "HYPE\n",
      "['param_temp']\n",
      "['param_temp']\n",
      "<class 'list'>\n",
      "/home/shg096/pygmo_mizuRoute_Diefenbaker/HYPE_run/4485/\n",
      "[0.617871] 4485\n",
      "HYPE\n",
      "['param_temp']\n",
      "['param_temp']\n",
      "<class 'list'>\n",
      "/home/shg096/pygmo_mizuRoute_Diefenbaker/HYPE_run/4485/\n",
      "[0.83492237] 4485\n",
      "HYPE\n",
      "['param_temp']\n",
      "['param_temp']\n",
      "<class 'list'>\n",
      "/home/shg096/pygmo_mizuRoute_Diefenbaker/HYPE_run/4485/\n",
      "[0.21036605] 4485\n",
      "HYPE\n",
      "['param_temp']\n",
      "['param_temp']\n",
      "<class 'list'>\n",
      "/home/shg096/pygmo_mizuRoute_Diefenbaker/HYPE_run/4485/\n",
      "[0.90372946] 4485\n",
      "HYPE\n",
      "['param_temp']\n",
      "['param_temp']\n",
      "<class 'list'>\n",
      "/home/shg096/pygmo_mizuRoute_Diefenbaker/HYPE_run/4485/\n",
      "[0.72707342] 4485\n",
      "HYPE\n",
      "['param_temp']\n",
      "['param_temp']\n",
      "<class 'list'>\n",
      "/home/shg096/pygmo_mizuRoute_Diefenbaker/HYPE_run/4485/\n",
      "[0.74720327] 4485\n",
      "HYPE\n",
      "['param_temp']\n",
      "['param_temp']\n",
      "<class 'list'>\n",
      "/home/shg096/pygmo_mizuRoute_Diefenbaker/HYPE_run/4485/\n",
      "[0.93374515] 4485\n",
      "HYPE\n",
      "['param_temp']\n",
      "['param_temp']\n",
      "<class 'list'>\n",
      "/home/shg096/pygmo_mizuRoute_Diefenbaker/HYPE_run/4485/\n",
      "[0.79801172] 4485\n",
      "HYPE\n",
      "['param_temp']\n",
      "['param_temp']\n",
      "<class 'list'>\n",
      "/home/shg096/pygmo_mizuRoute_Diefenbaker/HYPE_run/4485/\n",
      "[0.62241236] 4485\n",
      "HYPE\n",
      "['param_temp']\n",
      "['param_temp']\n",
      "<class 'list'>\n",
      "/home/shg096/pygmo_mizuRoute_Diefenbaker/HYPE_run/4485/\n",
      "[0.86900406] 4485\n",
      "HYPE\n",
      "['param_temp']\n",
      "['param_temp']\n",
      "<class 'list'>\n",
      "/home/shg096/pygmo_mizuRoute_Diefenbaker/HYPE_run/4485/\n",
      "[0.93468331] 4485\n",
      "HYPE\n",
      "['param_temp']\n",
      "['param_temp']\n",
      "<class 'list'>\n",
      "/home/shg096/pygmo_mizuRoute_Diefenbaker/HYPE_run/4485/\n",
      "[0.94651984] 4485\n",
      "HYPE\n",
      "['param_temp']\n",
      "['param_temp']\n",
      "<class 'list'>\n",
      "/home/shg096/pygmo_mizuRoute_Diefenbaker/HYPE_run/4485/\n",
      "[0.7454493] 4485\n",
      "HYPE\n",
      "['param_temp']\n",
      "['param_temp']\n",
      "<class 'list'>\n",
      "/home/shg096/pygmo_mizuRoute_Diefenbaker/HYPE_run/4485/\n",
      "[1.] 4485\n",
      "HYPE\n",
      "['param_temp']\n",
      "['param_temp']\n",
      "<class 'list'>\n",
      "/home/shg096/pygmo_mizuRoute_Diefenbaker/HYPE_run/4485/\n",
      "[0.82978442] 4485\n",
      "HYPE\n",
      "['param_temp']\n",
      "['param_temp']\n",
      "<class 'list'>\n",
      "/home/shg096/pygmo_mizuRoute_Diefenbaker/HYPE_run/4485/\n",
      "[1.] 4485\n",
      "HYPE\n",
      "['param_temp']\n",
      "['param_temp']\n",
      "<class 'list'>\n",
      "/home/shg096/pygmo_mizuRoute_Diefenbaker/HYPE_run/4485/\n",
      "[0.69998784] 4485\n",
      "HYPE\n",
      "['param_temp']\n",
      "['param_temp']\n",
      "<class 'list'>\n",
      "/home/shg096/pygmo_mizuRoute_Diefenbaker/HYPE_run/4485/\n",
      "[0.89293906] 4485\n",
      "HYPE\n",
      "['param_temp']\n",
      "['param_temp']\n",
      "<class 'list'>\n",
      "/home/shg096/pygmo_mizuRoute_Diefenbaker/HYPE_run/4485/\n",
      "[0.92681472] 4485\n",
      "HYPE\n",
      "['param_temp']\n",
      "['param_temp']\n",
      "<class 'list'>\n",
      "/home/shg096/pygmo_mizuRoute_Diefenbaker/HYPE_run/4485/\n",
      "[0.71703739] 4485\n",
      "HYPE\n",
      "['param_temp']\n",
      "['param_temp']\n",
      "<class 'list'>\n",
      "/home/shg096/pygmo_mizuRoute_Diefenbaker/HYPE_run/4485/\n",
      "[1.] 4485\n",
      "HYPE\n",
      "['param_temp']\n",
      "['param_temp']\n",
      "<class 'list'>\n",
      "/home/shg096/pygmo_mizuRoute_Diefenbaker/HYPE_run/4485/\n",
      "[1.] 4485\n",
      "HYPE\n",
      "['param_temp']\n",
      "['param_temp']\n",
      "<class 'list'>\n",
      "/home/shg096/pygmo_mizuRoute_Diefenbaker/HYPE_run/4485/\n",
      "[0.61036605] 4485\n",
      "HYPE\n",
      "['param_temp']\n",
      "['param_temp']\n",
      "<class 'list'>\n",
      "/home/shg096/pygmo_mizuRoute_Diefenbaker/HYPE_run/4485/\n",
      "[0.96892701] 4485\n",
      "HYPE\n",
      "['param_temp']\n",
      "['param_temp']\n",
      "<class 'list'>\n",
      "/home/shg096/pygmo_mizuRoute_Diefenbaker/HYPE_run/4485/\n",
      "[0.73659607] 4485\n",
      "HYPE\n",
      "['param_temp']\n",
      "['param_temp']\n",
      "<class 'list'>\n",
      "/home/shg096/pygmo_mizuRoute_Diefenbaker/HYPE_run/4485/\n",
      "[0.81179981] 4485\n",
      "HYPE\n",
      "['param_temp']\n",
      "['param_temp']\n",
      "<class 'list'>\n",
      "/home/shg096/pygmo_mizuRoute_Diefenbaker/HYPE_run/4485/\n",
      "[1.] 4485\n",
      "HYPE\n",
      "['param_temp']\n",
      "['param_temp']\n",
      "<class 'list'>\n",
      "/home/shg096/pygmo_mizuRoute_Diefenbaker/HYPE_run/4485/\n",
      "[1.] 4485\n",
      "HYPE\n",
      "['param_temp']\n",
      "['param_temp']\n",
      "<class 'list'>\n",
      "/home/shg096/pygmo_mizuRoute_Diefenbaker/HYPE_run/4485/\n",
      "[1.] 4485\n",
      "HYPE\n",
      "['param_temp']\n",
      "['param_temp']\n",
      "<class 'list'>\n",
      "/home/shg096/pygmo_mizuRoute_Diefenbaker/HYPE_run/4485/\n",
      "[0.98668263] 4485\n",
      "HYPE\n",
      "['param_temp']\n",
      "['param_temp']\n",
      "<class 'list'>\n",
      "/home/shg096/pygmo_mizuRoute_Diefenbaker/HYPE_run/4485/\n",
      "[1.] 4485\n",
      "HYPE\n",
      "['param_temp']\n",
      "['param_temp']\n",
      "<class 'list'>\n",
      "/home/shg096/pygmo_mizuRoute_Diefenbaker/HYPE_run/4485/\n",
      "[1.] 4485\n",
      "HYPE\n",
      "['param_temp']\n",
      "['param_temp']\n",
      "<class 'list'>\n",
      "/home/shg096/pygmo_mizuRoute_Diefenbaker/HYPE_run/4485/\n",
      "[0.66734963] 4485\n",
      "HYPE\n",
      "['param_temp']\n",
      "['param_temp']\n",
      "<class 'list'>\n",
      "/home/shg096/pygmo_mizuRoute_Diefenbaker/HYPE_run/4485/\n",
      "[0.78198338] 4485\n",
      "HYPE\n",
      "['param_temp']\n",
      "['param_temp']\n",
      "<class 'list'>\n",
      "/home/shg096/pygmo_mizuRoute_Diefenbaker/HYPE_run/4485/\n",
      "[0.78030108] 4485\n",
      "HYPE\n",
      "['param_temp']\n",
      "['param_temp']\n",
      "<class 'list'>\n",
      "/home/shg096/pygmo_mizuRoute_Diefenbaker/HYPE_run/4485/\n",
      "[0.71642289] 4485\n",
      "HYPE\n",
      "['param_temp']\n",
      "['param_temp']\n",
      "<class 'list'>\n",
      "/home/shg096/pygmo_mizuRoute_Diefenbaker/HYPE_run/4485/\n",
      "[0.82533572] 4485\n",
      "HYPE\n",
      "['param_temp']\n",
      "['param_temp']\n",
      "<class 'list'>\n",
      "/home/shg096/pygmo_mizuRoute_Diefenbaker/HYPE_run/4485/\n",
      "[0.96045511] 4485\n",
      "HYPE\n",
      "['param_temp']\n",
      "['param_temp']\n",
      "<class 'list'>\n",
      "/home/shg096/pygmo_mizuRoute_Diefenbaker/HYPE_run/4485/\n",
      "[1.] 4485\n",
      "HYPE\n",
      "['param_temp']\n",
      "['param_temp']\n",
      "<class 'list'>\n",
      "/home/shg096/pygmo_mizuRoute_Diefenbaker/HYPE_run/4485/\n",
      "[0.7310517] 4485\n",
      "HYPE\n",
      "['param_temp']\n",
      "['param_temp']\n",
      "<class 'list'>\n",
      "/home/shg096/pygmo_mizuRoute_Diefenbaker/HYPE_run/4485/\n",
      "[1.] 4485\n",
      "HYPE\n",
      "['param_temp']\n",
      "['param_temp']\n",
      "<class 'list'>\n",
      "/home/shg096/pygmo_mizuRoute_Diefenbaker/HYPE_run/4485/\n",
      "[1.] 4485\n",
      "HYPE\n",
      "['param_temp']\n",
      "['param_temp']\n",
      "<class 'list'>\n",
      "/home/shg096/pygmo_mizuRoute_Diefenbaker/HYPE_run/4485/\n",
      "[0.93288988] 4485\n",
      "HYPE\n",
      "['param_temp']\n",
      "['param_temp']\n",
      "<class 'list'>\n",
      "/home/shg096/pygmo_mizuRoute_Diefenbaker/HYPE_run/4485/\n",
      "[1.] 4485\n",
      "HYPE\n",
      "['param_temp']\n",
      "['param_temp']\n",
      "<class 'list'>\n",
      "/home/shg096/pygmo_mizuRoute_Diefenbaker/HYPE_run/4485/\n",
      "[0.98314489] 4485\n",
      "HYPE\n",
      "['param_temp']\n",
      "['param_temp']\n",
      "<class 'list'>\n",
      "/home/shg096/pygmo_mizuRoute_Diefenbaker/HYPE_run/4485/\n",
      "[1.] 4485\n",
      "HYPE\n",
      "['param_temp']\n",
      "['param_temp']\n",
      "<class 'list'>\n",
      "/home/shg096/pygmo_mizuRoute_Diefenbaker/HYPE_run/4485/\n",
      "[0.8524234] 4485\n",
      "HYPE\n",
      "['param_temp']\n",
      "['param_temp']\n",
      "<class 'list'>\n",
      "/home/shg096/pygmo_mizuRoute_Diefenbaker/HYPE_run/4485/\n",
      "[1.] 4485\n",
      "HYPE\n",
      "['param_temp']\n",
      "['param_temp']\n",
      "<class 'list'>\n",
      "/home/shg096/pygmo_mizuRoute_Diefenbaker/HYPE_run/4485/\n",
      "[0.71608899] 4485\n",
      "HYPE\n",
      "['param_temp']\n",
      "['param_temp']\n",
      "<class 'list'>\n",
      "/home/shg096/pygmo_mizuRoute_Diefenbaker/HYPE_run/4485/\n",
      "[1.] 4485\n",
      "HYPE\n",
      "['param_temp']\n",
      "['param_temp']\n",
      "<class 'list'>\n",
      "/home/shg096/pygmo_mizuRoute_Diefenbaker/HYPE_run/4485/\n",
      "[0.99079088] 4485\n",
      "HYPE\n",
      "['param_temp']\n",
      "['param_temp']\n",
      "<class 'list'>\n",
      "/home/shg096/pygmo_mizuRoute_Diefenbaker/HYPE_run/4485/\n",
      "[1.] 4485\n",
      "HYPE\n",
      "['param_temp']\n",
      "['param_temp']\n",
      "<class 'list'>\n",
      "/home/shg096/pygmo_mizuRoute_Diefenbaker/HYPE_run/4485/\n",
      "[1.] 4485\n",
      "HYPE\n",
      "['param_temp']\n",
      "['param_temp']\n",
      "<class 'list'>\n",
      "/home/shg096/pygmo_mizuRoute_Diefenbaker/HYPE_run/4485/\n",
      "[1.] 4485\n",
      "HYPE\n",
      "['param_temp']\n",
      "['param_temp']\n",
      "<class 'list'>\n",
      "/home/shg096/pygmo_mizuRoute_Diefenbaker/HYPE_run/4485/\n",
      "[0.8602183] 4485\n",
      "HYPE\n",
      "['param_temp']\n",
      "['param_temp']\n",
      "<class 'list'>\n",
      "/home/shg096/pygmo_mizuRoute_Diefenbaker/HYPE_run/4485/\n",
      "[0.84236204] 4485\n",
      "HYPE\n",
      "['param_temp']\n",
      "['param_temp']\n",
      "<class 'list'>\n",
      "/home/shg096/pygmo_mizuRoute_Diefenbaker/HYPE_run/4485/\n",
      "[0.81283572] 4485\n",
      "HYPE\n",
      "['param_temp']\n",
      "['param_temp']\n",
      "<class 'list'>\n",
      "/home/shg096/pygmo_mizuRoute_Diefenbaker/HYPE_run/4485/\n",
      "[1.] 4485\n",
      "HYPE\n",
      "['param_temp']\n",
      "['param_temp']\n",
      "<class 'list'>\n",
      "/home/shg096/pygmo_mizuRoute_Diefenbaker/HYPE_run/4485/\n",
      "[0.71952873] 4485\n",
      "HYPE\n",
      "['param_temp']\n",
      "['param_temp']\n",
      "<class 'list'>\n",
      "/home/shg096/pygmo_mizuRoute_Diefenbaker/HYPE_run/4485/\n",
      "[0.67706746] 4485\n",
      "HYPE\n",
      "['param_temp']\n",
      "['param_temp']\n",
      "<class 'list'>\n",
      "/home/shg096/pygmo_mizuRoute_Diefenbaker/HYPE_run/4485/\n",
      "[1.] 4485\n",
      "HYPE\n",
      "['param_temp']\n",
      "['param_temp']\n",
      "<class 'list'>\n",
      "/home/shg096/pygmo_mizuRoute_Diefenbaker/HYPE_run/4485/\n",
      "[1.] 4485\n",
      "HYPE\n",
      "['param_temp']\n",
      "['param_temp']\n",
      "<class 'list'>\n",
      "/home/shg096/pygmo_mizuRoute_Diefenbaker/HYPE_run/4485/\n",
      "[1.] 4485\n",
      "HYPE\n",
      "['param_temp']\n",
      "['param_temp']\n",
      "<class 'list'>\n",
      "/home/shg096/pygmo_mizuRoute_Diefenbaker/HYPE_run/4485/\n",
      "[0.93048048] 4485\n",
      "HYPE\n",
      "['param_temp']\n",
      "['param_temp']\n",
      "<class 'list'>\n",
      "/home/shg096/pygmo_mizuRoute_Diefenbaker/HYPE_run/4485/\n",
      "[0.98055724] 4485\n",
      "HYPE\n",
      "['param_temp']\n",
      "['param_temp']\n",
      "<class 'list'>\n"
     ]
    },
    {
     "name": "stderr",
     "output_type": "stream",
     "text": [
      "Restoring modules from user's fhimp-mods\n"
     ]
    },
    {
     "name": "stdout",
     "output_type": "stream",
     "text": [
      "start at Wed 17 Apr 2024 11:09:23 PM EDT\n",
      " ---------------------------------------------\n",
      "    HYPE version 5.24.0                  \n",
      " ---------------------------------------------\n",
      " New versions of HYPE at the HYPE Open Source \n",
      " Community website (hypecode.smhi.se), as well\n",
      " as information on up-coming courses.         \n",
      " ---------------------------------------------\n"
     ]
    },
    {
     "name": "stderr",
     "output_type": "stream",
     "text": [
      " -> Simulation will halt: successfully\n",
      "Note: The following floating-point exceptions are signalling: IEEE_UNDERFLOW_FLAG IEEE_DENORMAL\n",
      "STOP 0\n",
      " -> Simulation will halt: successfully\n",
      "Note: The following floating-point exceptions are signalling: IEEE_UNDERFLOW_FLAG IEEE_DENORMAL\n",
      "STOP 0\n"
     ]
    },
    {
     "name": "stdout",
     "output_type": "stream",
     "text": [
      "end at Wed 17 Apr 2024 11:09:25 PM EDT\n",
      "end at Wed 17 Apr 2024 11:09:25 PM EDT\n",
      "[1.] 4484\n",
      "HYPE\n",
      "['param_temp']\n",
      "['param_temp']\n",
      "<class 'list'>\n",
      "/home/shg096/pygmo_mizuRoute_Diefenbaker/HYPE_run/4484/\n",
      "[1.] 4484\n",
      "HYPE\n",
      "['param_temp']\n",
      "['param_temp']\n",
      "<class 'list'>\n",
      "/home/shg096/pygmo_mizuRoute_Diefenbaker/HYPE_run/4484/\n",
      "[0.71528034] 4484\n",
      "HYPE\n",
      "['param_temp']\n",
      "['param_temp']\n",
      "<class 'list'>\n",
      "/home/shg096/pygmo_mizuRoute_Diefenbaker/HYPE_run/4484/\n",
      "[0.37682668] 4484\n",
      "HYPE\n",
      "['param_temp']\n",
      "['param_temp']\n",
      "<class 'list'>\n",
      "/home/shg096/pygmo_mizuRoute_Diefenbaker/HYPE_run/4484/\n",
      "[0.61322312] 4484\n",
      "HYPE\n",
      "['param_temp']\n",
      "['param_temp']\n",
      "<class 'list'>\n",
      "/home/shg096/pygmo_mizuRoute_Diefenbaker/HYPE_run/4484/\n",
      "[0.33935693] 4484\n",
      "HYPE\n",
      "['param_temp']\n",
      "['param_temp']\n",
      "<class 'list'>\n",
      "/home/shg096/pygmo_mizuRoute_Diefenbaker/HYPE_run/4484/\n",
      "[0.68965838] 4484\n",
      "HYPE\n",
      "['param_temp']\n",
      "['param_temp']\n",
      "<class 'list'>\n",
      "/home/shg096/pygmo_mizuRoute_Diefenbaker/HYPE_run/4484/\n",
      "[0.84742594] 4484\n",
      "HYPE\n",
      "['param_temp']\n",
      "['param_temp']\n",
      "<class 'list'>\n",
      "/home/shg096/pygmo_mizuRoute_Diefenbaker/HYPE_run/4484/\n",
      "[0.74421997] 4484\n",
      "HYPE\n",
      "['param_temp']\n",
      "['param_temp']\n",
      "<class 'list'>\n",
      "/home/shg096/pygmo_mizuRoute_Diefenbaker/HYPE_run/4484/\n",
      "[0.91150384] 4484\n",
      "HYPE\n",
      "['param_temp']\n",
      "['param_temp']\n",
      "<class 'list'>\n",
      "/home/shg096/pygmo_mizuRoute_Diefenbaker/HYPE_run/4484/\n",
      "[0.6000351] 4484\n",
      "HYPE\n",
      "['param_temp']\n",
      "['param_temp']\n",
      "<class 'list'>\n",
      "/home/shg096/pygmo_mizuRoute_Diefenbaker/HYPE_run/4484/\n",
      "[0.56913393] 4484\n",
      "HYPE\n",
      "['param_temp']\n",
      "['param_temp']\n",
      "<class 'list'>\n",
      "/home/shg096/pygmo_mizuRoute_Diefenbaker/HYPE_run/4484/\n",
      "[0.89440766] 4484\n",
      "HYPE\n",
      "['param_temp']\n",
      "['param_temp']\n",
      "<class 'list'>\n",
      "/home/shg096/pygmo_mizuRoute_Diefenbaker/HYPE_run/4484/\n",
      "[0.9087274] 4484\n",
      "HYPE\n",
      "['param_temp']\n",
      "['param_temp']\n",
      "<class 'list'>\n",
      "/home/shg096/pygmo_mizuRoute_Diefenbaker/HYPE_run/4484/\n",
      "[0.97143703] 4484\n",
      "HYPE\n",
      "['param_temp']\n",
      "['param_temp']\n",
      "<class 'list'>\n",
      "/home/shg096/pygmo_mizuRoute_Diefenbaker/HYPE_run/4484/\n",
      "[0.772645] 4484\n",
      "HYPE\n",
      "['param_temp']\n",
      "['param_temp']\n",
      "<class 'list'>\n",
      "/home/shg096/pygmo_mizuRoute_Diefenbaker/HYPE_run/4484/\n",
      "[0.66765671] 4484\n",
      "HYPE\n",
      "['param_temp']\n",
      "['param_temp']\n",
      "<class 'list'>\n",
      "/home/shg096/pygmo_mizuRoute_Diefenbaker/HYPE_run/4484/\n",
      "[0.53779387] 4484\n",
      "HYPE\n",
      "['param_temp']\n",
      "['param_temp']\n",
      "<class 'list'>\n",
      "/home/shg096/pygmo_mizuRoute_Diefenbaker/HYPE_run/4484/\n",
      "[1.] 4484\n",
      "HYPE\n",
      "['param_temp']\n",
      "['param_temp']\n",
      "<class 'list'>\n",
      "/home/shg096/pygmo_mizuRoute_Diefenbaker/HYPE_run/4484/\n",
      "[0.77442592] 4484\n",
      "HYPE\n",
      "['param_temp']\n",
      "['param_temp']\n",
      "<class 'list'>\n",
      "/home/shg096/pygmo_mizuRoute_Diefenbaker/HYPE_run/4484/\n",
      "[0.89293906] 4484\n",
      "HYPE\n",
      "['param_temp']\n",
      "['param_temp']\n",
      "<class 'list'>\n",
      "/home/shg096/pygmo_mizuRoute_Diefenbaker/HYPE_run/4484/\n",
      "[0.92681472] 4484\n",
      "HYPE\n",
      "['param_temp']\n",
      "['param_temp']\n",
      "<class 'list'>\n",
      "/home/shg096/pygmo_mizuRoute_Diefenbaker/HYPE_run/4484/\n",
      "[0.76726955] 4484\n",
      "HYPE\n",
      "['param_temp']\n",
      "['param_temp']\n",
      "<class 'list'>\n",
      "/home/shg096/pygmo_mizuRoute_Diefenbaker/HYPE_run/4484/\n",
      "[0.79741141] 4484\n",
      "HYPE\n",
      "['param_temp']\n",
      "['param_temp']\n",
      "<class 'list'>\n",
      "/home/shg096/pygmo_mizuRoute_Diefenbaker/HYPE_run/4484/\n",
      "[0.84001309] 4484\n",
      "HYPE\n",
      "['param_temp']\n",
      "['param_temp']\n",
      "<class 'list'>\n",
      "/home/shg096/pygmo_mizuRoute_Diefenbaker/HYPE_run/4484/\n",
      "[0.98207591] 4484\n",
      "HYPE\n",
      "['param_temp']\n",
      "['param_temp']\n",
      "<class 'list'>\n",
      "/home/shg096/pygmo_mizuRoute_Diefenbaker/HYPE_run/4484/\n",
      "[0.96985026] 4484\n",
      "HYPE\n",
      "['param_temp']\n",
      "['param_temp']\n",
      "<class 'list'>\n",
      "/home/shg096/pygmo_mizuRoute_Diefenbaker/HYPE_run/4484/\n",
      "[0.79409985] 4484\n",
      "HYPE\n",
      "['param_temp']\n",
      "['param_temp']\n",
      "<class 'list'>\n",
      "/home/shg096/pygmo_mizuRoute_Diefenbaker/HYPE_run/4484/\n",
      "[0.81251985] 4484\n",
      "HYPE\n",
      "['param_temp']\n",
      "['param_temp']\n",
      "<class 'list'>\n",
      "/home/shg096/pygmo_mizuRoute_Diefenbaker/HYPE_run/4484/\n",
      "[1.] 4484\n",
      "HYPE\n",
      "['param_temp']\n",
      "['param_temp']\n",
      "<class 'list'>\n",
      "/home/shg096/pygmo_mizuRoute_Diefenbaker/HYPE_run/4484/\n",
      "[0.99678475] 4484\n",
      "HYPE\n",
      "['param_temp']\n",
      "['param_temp']\n",
      "<class 'list'>\n",
      "/home/shg096/pygmo_mizuRoute_Diefenbaker/HYPE_run/4484/\n",
      "[1.] 4484\n",
      "HYPE\n",
      "['param_temp']\n",
      "['param_temp']\n",
      "<class 'list'>\n",
      "/home/shg096/pygmo_mizuRoute_Diefenbaker/HYPE_run/4484/\n",
      "[0.97762707] 4484\n",
      "HYPE\n",
      "['param_temp']\n",
      "['param_temp']\n",
      "<class 'list'>\n",
      "/home/shg096/pygmo_mizuRoute_Diefenbaker/HYPE_run/4484/\n",
      "[1.] 4484\n",
      "HYPE\n",
      "['param_temp']\n",
      "['param_temp']\n",
      "<class 'list'>\n",
      "/home/shg096/pygmo_mizuRoute_Diefenbaker/HYPE_run/4484/\n",
      "[1.] 4484\n",
      "HYPE\n",
      "['param_temp']\n",
      "['param_temp']\n",
      "<class 'list'>\n",
      "/home/shg096/pygmo_mizuRoute_Diefenbaker/HYPE_run/4484/\n",
      "[0.67755303] 4484\n",
      "HYPE\n",
      "['param_temp']\n",
      "['param_temp']\n",
      "<class 'list'>\n",
      "/home/shg096/pygmo_mizuRoute_Diefenbaker/HYPE_run/4484/\n",
      "[0.721426] 4484\n",
      "HYPE\n",
      "['param_temp']\n",
      "['param_temp']\n",
      "<class 'list'>\n",
      "/home/shg096/pygmo_mizuRoute_Diefenbaker/HYPE_run/4484/\n",
      "[0.2] 4484\n",
      "HYPE\n",
      "['param_temp']\n",
      "['param_temp']\n",
      "<class 'list'>\n",
      "/home/shg096/pygmo_mizuRoute_Diefenbaker/HYPE_run/4484/\n",
      "[0.71642289] 4484\n",
      "HYPE\n",
      "['param_temp']\n",
      "['param_temp']\n",
      "<class 'list'>\n",
      "/home/shg096/pygmo_mizuRoute_Diefenbaker/HYPE_run/4484/\n",
      "[0.83759417] 4484\n",
      "HYPE\n",
      "['param_temp']\n",
      "['param_temp']\n",
      "<class 'list'>\n",
      "/home/shg096/pygmo_mizuRoute_Diefenbaker/HYPE_run/4484/\n",
      "[0.96045511] 4484\n",
      "HYPE\n",
      "['param_temp']\n",
      "['param_temp']\n",
      "<class 'list'>\n",
      "/home/shg096/pygmo_mizuRoute_Diefenbaker/HYPE_run/4484/\n",
      "[1.] 4484\n",
      "HYPE\n",
      "['param_temp']\n",
      "['param_temp']\n",
      "<class 'list'>\n",
      "/home/shg096/pygmo_mizuRoute_Diefenbaker/HYPE_run/4484/\n",
      "[0.7465097] 4484\n",
      "HYPE\n",
      "['param_temp']\n",
      "['param_temp']\n",
      "<class 'list'>\n",
      "/home/shg096/pygmo_mizuRoute_Diefenbaker/HYPE_run/4484/\n",
      "[1.] 4484\n",
      "HYPE\n",
      "['param_temp']\n",
      "['param_temp']\n",
      "<class 'list'>\n",
      "/home/shg096/pygmo_mizuRoute_Diefenbaker/HYPE_run/4484/\n",
      "[1.] 4484\n",
      "HYPE\n",
      "['param_temp']\n",
      "['param_temp']\n",
      "<class 'list'>\n",
      "/home/shg096/pygmo_mizuRoute_Diefenbaker/HYPE_run/4484/\n",
      "[1.] 4484\n",
      "HYPE\n",
      "['param_temp']\n",
      "['param_temp']\n",
      "<class 'list'>\n",
      "/home/shg096/pygmo_mizuRoute_Diefenbaker/HYPE_run/4484/\n",
      "[1.] 4484\n",
      "HYPE\n",
      "['param_temp']\n",
      "['param_temp']\n",
      "<class 'list'>\n",
      "/home/shg096/pygmo_mizuRoute_Diefenbaker/HYPE_run/4484/\n",
      "[1.] 4484\n",
      "HYPE\n",
      "['param_temp']\n",
      "['param_temp']\n",
      "<class 'list'>\n",
      "/home/shg096/pygmo_mizuRoute_Diefenbaker/HYPE_run/4484/\n",
      "[1.] 4484\n",
      "HYPE\n",
      "['param_temp']\n",
      "['param_temp']\n",
      "<class 'list'>\n",
      "/home/shg096/pygmo_mizuRoute_Diefenbaker/HYPE_run/4484/\n",
      "[0.8524234] 4484\n",
      "HYPE\n",
      "['param_temp']\n",
      "['param_temp']\n",
      "<class 'list'>\n",
      "/home/shg096/pygmo_mizuRoute_Diefenbaker/HYPE_run/4484/\n",
      "[1.] 4484\n",
      "HYPE\n",
      "['param_temp']\n",
      "['param_temp']\n",
      "<class 'list'>\n",
      "/home/shg096/pygmo_mizuRoute_Diefenbaker/HYPE_run/4484/\n",
      "[0.71608899] 4484\n",
      "HYPE\n",
      "['param_temp']\n",
      "['param_temp']\n",
      "<class 'list'>\n",
      "/home/shg096/pygmo_mizuRoute_Diefenbaker/HYPE_run/4484/\n",
      "[1.] 4484\n",
      "HYPE\n",
      "['param_temp']\n",
      "['param_temp']\n",
      "<class 'list'>\n",
      "/home/shg096/pygmo_mizuRoute_Diefenbaker/HYPE_run/4484/\n",
      "[0.99079088] 4484\n",
      "HYPE\n",
      "['param_temp']\n",
      "['param_temp']\n",
      "<class 'list'>\n",
      "/home/shg096/pygmo_mizuRoute_Diefenbaker/HYPE_run/4484/\n",
      "[1.] 4484\n",
      "HYPE\n",
      "['param_temp']\n",
      "['param_temp']\n",
      "<class 'list'>\n",
      "/home/shg096/pygmo_mizuRoute_Diefenbaker/HYPE_run/4484/\n",
      "[1.] 4484\n",
      "HYPE\n",
      "['param_temp']\n",
      "['param_temp']\n",
      "<class 'list'>\n",
      "/home/shg096/pygmo_mizuRoute_Diefenbaker/HYPE_run/4484/\n",
      "[1.] 4484\n",
      "HYPE\n",
      "['param_temp']\n",
      "['param_temp']\n",
      "<class 'list'>\n",
      "/home/shg096/pygmo_mizuRoute_Diefenbaker/HYPE_run/4484/\n",
      "[0.6] 4484\n",
      "HYPE\n",
      "['param_temp']\n",
      "['param_temp']\n",
      "<class 'list'>\n",
      "/home/shg096/pygmo_mizuRoute_Diefenbaker/HYPE_run/4484/\n",
      "[0.84236204] 4484\n",
      "HYPE\n",
      "['param_temp']\n",
      "['param_temp']\n",
      "<class 'list'>\n",
      "/home/shg096/pygmo_mizuRoute_Diefenbaker/HYPE_run/4484/\n",
      "[0.82320051] 4484\n",
      "HYPE\n",
      "['param_temp']\n",
      "['param_temp']\n",
      "<class 'list'>\n",
      "/home/shg096/pygmo_mizuRoute_Diefenbaker/HYPE_run/4484/\n",
      "[1.] 4484\n",
      "HYPE\n",
      "['param_temp']\n",
      "['param_temp']\n",
      "<class 'list'>\n",
      "/home/shg096/pygmo_mizuRoute_Diefenbaker/HYPE_run/4484/\n",
      "[0.71952873] 4484\n",
      "HYPE\n",
      "['param_temp']\n",
      "['param_temp']\n",
      "<class 'list'>\n",
      "/home/shg096/pygmo_mizuRoute_Diefenbaker/HYPE_run/4484/\n",
      "[0.70346164] 4484\n",
      "HYPE\n",
      "['param_temp']\n",
      "['param_temp']\n",
      "<class 'list'>\n",
      "/home/shg096/pygmo_mizuRoute_Diefenbaker/HYPE_run/4484/\n",
      "[1.] 4484\n",
      "HYPE\n",
      "['param_temp']\n",
      "['param_temp']\n",
      "<class 'list'>\n",
      "/home/shg096/pygmo_mizuRoute_Diefenbaker/HYPE_run/4484/\n",
      "[1.] 4484\n",
      "HYPE\n",
      "['param_temp']\n",
      "['param_temp']\n",
      "<class 'list'>\n",
      "/home/shg096/pygmo_mizuRoute_Diefenbaker/HYPE_run/4484/\n",
      "[1.] 4484\n",
      "HYPE\n",
      "['param_temp']\n",
      "['param_temp']\n",
      "<class 'list'>\n",
      "/home/shg096/pygmo_mizuRoute_Diefenbaker/HYPE_run/4484/\n",
      "[0.93048048] 4484\n",
      "HYPE\n",
      "['param_temp']\n",
      "['param_temp']\n",
      "<class 'list'>\n",
      "/home/shg096/pygmo_mizuRoute_Diefenbaker/HYPE_run/4484/\n",
      "[0.9787687] 4484\n",
      "HYPE\n",
      "['param_temp']\n",
      "['param_temp']\n",
      "<class 'list'>\n"
     ]
    },
    {
     "name": "stderr",
     "output_type": "stream",
     "text": [
      "Restoring modules from user's fhimp-mods\n",
      "Restoring modules from user's fhimp-mods\n",
      " -> Simulation will halt: successfully\n",
      "Note: The following floating-point exceptions are signalling: IEEE_UNDERFLOW_FLAG IEEE_DENORMAL\n",
      "STOP 0\n"
     ]
    },
    {
     "name": "stdout",
     "output_type": "stream",
     "text": [
      "end at Wed 17 Apr 2024 11:09:29 PM EDT\n",
      "start at Wed 17 Apr 2024 11:09:29 PM EDT\n",
      " ---------------------------------------------\n",
      "    HYPE version 5.24.0                  \n",
      " ---------------------------------------------\n",
      " New versions of HYPE at the HYPE Open Source \n",
      " Community website (hypecode.smhi.se), as well\n",
      " as information on up-coming courses.         \n",
      " ---------------------------------------------\n",
      "[1.] 4482\n",
      "HYPE\n",
      "['param_temp']\n",
      "['param_temp']\n",
      "<class 'list'>\n",
      "/home/shg096/pygmo_mizuRoute_Diefenbaker/HYPE_run/4482/\n",
      "[1.] 4482\n",
      "HYPE\n",
      "['param_temp']\n",
      "['param_temp']\n",
      "<class 'list'>\n",
      "/home/shg096/pygmo_mizuRoute_Diefenbaker/HYPE_run/4482/\n",
      "[0.67903968] 4482\n",
      "HYPE\n",
      "['param_temp']\n",
      "['param_temp']\n",
      "<class 'list'>\n",
      "/home/shg096/pygmo_mizuRoute_Diefenbaker/HYPE_run/4482/\n",
      "[0.26466859] 4482\n",
      "HYPE\n",
      "['param_temp']\n",
      "['param_temp']\n",
      "<class 'list'>\n",
      "/home/shg096/pygmo_mizuRoute_Diefenbaker/HYPE_run/4482/\n",
      "[0.98882577] 4482\n",
      "HYPE\n",
      "['param_temp']\n",
      "['param_temp']\n",
      "<class 'list'>\n",
      "/home/shg096/pygmo_mizuRoute_Diefenbaker/HYPE_run/4482/\n",
      "[0.51019318] 4482\n",
      "HYPE\n",
      "['param_temp']\n",
      "['param_temp']\n",
      "<class 'list'>\n",
      "/home/shg096/pygmo_mizuRoute_Diefenbaker/HYPE_run/4482/\n",
      "[1.] 4482\n",
      "HYPE\n",
      "['param_temp']\n",
      "['param_temp']\n",
      "<class 'list'>\n",
      "/home/shg096/pygmo_mizuRoute_Diefenbaker/HYPE_run/4482/\n",
      "[1.] 4482\n",
      "HYPE\n",
      "['param_temp']\n",
      "['param_temp']\n",
      "<class 'list'>\n",
      "/home/shg096/pygmo_mizuRoute_Diefenbaker/HYPE_run/4482/\n",
      "[0.69965267] 4482\n",
      "HYPE\n",
      "['param_temp']\n",
      "['param_temp']\n",
      "<class 'list'>\n",
      "/home/shg096/pygmo_mizuRoute_Diefenbaker/HYPE_run/4482/\n",
      "[0.99230659] 4482\n",
      "HYPE\n",
      "['param_temp']\n",
      "['param_temp']\n",
      "<class 'list'>\n",
      "/home/shg096/pygmo_mizuRoute_Diefenbaker/HYPE_run/4482/\n",
      "[0.62038039] 4482\n",
      "HYPE\n",
      "['param_temp']\n",
      "['param_temp']\n",
      "<class 'list'>\n",
      "/home/shg096/pygmo_mizuRoute_Diefenbaker/HYPE_run/4482/\n",
      "[0.72358677] 4482\n",
      "HYPE\n",
      "['param_temp']\n",
      "['param_temp']\n",
      "<class 'list'>\n",
      "/home/shg096/pygmo_mizuRoute_Diefenbaker/HYPE_run/4482/\n",
      "[0.76274767] 4482\n",
      "HYPE\n",
      "['param_temp']\n",
      "['param_temp']\n",
      "<class 'list'>\n",
      "/home/shg096/pygmo_mizuRoute_Diefenbaker/HYPE_run/4482/\n",
      "[1.] 4482\n",
      "HYPE\n",
      "['param_temp']\n",
      "['param_temp']\n",
      "<class 'list'>\n",
      "/home/shg096/pygmo_mizuRoute_Diefenbaker/HYPE_run/4482/\n",
      "[1.] 4482\n",
      "HYPE\n",
      "['param_temp']\n",
      "['param_temp']\n",
      "<class 'list'>\n",
      "/home/shg096/pygmo_mizuRoute_Diefenbaker/HYPE_run/4482/\n",
      "[0.79422068] 4482\n",
      "HYPE\n",
      "['param_temp']\n",
      "['param_temp']\n",
      "<class 'list'>\n",
      "/home/shg096/pygmo_mizuRoute_Diefenbaker/HYPE_run/4482/\n",
      "[1.] 4482\n",
      "HYPE\n",
      "['param_temp']\n",
      "['param_temp']\n",
      "<class 'list'>\n",
      "/home/shg096/pygmo_mizuRoute_Diefenbaker/HYPE_run/4482/\n",
      "[0.96944696] 4482\n",
      "HYPE\n",
      "['param_temp']\n",
      "['param_temp']\n",
      "<class 'list'>\n",
      "/home/shg096/pygmo_mizuRoute_Diefenbaker/HYPE_run/4482/\n",
      "[1.] 4482\n",
      "HYPE\n",
      "['param_temp']\n",
      "['param_temp']\n",
      "<class 'list'>\n",
      "/home/shg096/pygmo_mizuRoute_Diefenbaker/HYPE_run/4482/\n",
      "[0.7792792] 4482\n",
      "HYPE\n",
      "['param_temp']\n",
      "['param_temp']\n",
      "<class 'list'>\n",
      "/home/shg096/pygmo_mizuRoute_Diefenbaker/HYPE_run/4482/\n",
      "[0.89293906] 4482\n",
      "HYPE\n",
      "['param_temp']\n",
      "['param_temp']\n",
      "<class 'list'>\n",
      "/home/shg096/pygmo_mizuRoute_Diefenbaker/HYPE_run/4482/\n",
      "[0.92681472] 4482\n",
      "HYPE\n",
      "['param_temp']\n",
      "['param_temp']\n",
      "<class 'list'>\n",
      "/home/shg096/pygmo_mizuRoute_Diefenbaker/HYPE_run/4482/\n",
      "[0.7519971] 4482\n",
      "HYPE\n",
      "['param_temp']\n",
      "['param_temp']\n",
      "<class 'list'>\n",
      "/home/shg096/pygmo_mizuRoute_Diefenbaker/HYPE_run/4482/\n",
      "[0.62818806] 4482\n",
      "HYPE\n",
      "['param_temp']\n",
      "['param_temp']\n",
      "<class 'list'>\n",
      "/home/shg096/pygmo_mizuRoute_Diefenbaker/HYPE_run/4482/\n",
      "[1.] 4482\n",
      "HYPE\n",
      "['param_temp']\n",
      "['param_temp']\n",
      "<class 'list'>\n",
      "/home/shg096/pygmo_mizuRoute_Diefenbaker/HYPE_run/4482/\n",
      "[1.] 4482\n",
      "HYPE\n",
      "['param_temp']\n",
      "['param_temp']\n",
      "<class 'list'>\n",
      "/home/shg096/pygmo_mizuRoute_Diefenbaker/HYPE_run/4482/\n",
      "[0.95967658] 4482\n",
      "HYPE\n",
      "['param_temp']\n",
      "['param_temp']\n",
      "<class 'list'>\n",
      "/home/shg096/pygmo_mizuRoute_Diefenbaker/HYPE_run/4482/\n",
      "[0.86773459] 4482\n",
      "HYPE\n",
      "['param_temp']\n",
      "['param_temp']\n",
      "<class 'list'>\n",
      "/home/shg096/pygmo_mizuRoute_Diefenbaker/HYPE_run/4482/\n",
      "[0.83878296] 4482\n",
      "HYPE\n",
      "['param_temp']\n",
      "['param_temp']\n",
      "<class 'list'>\n",
      "/home/shg096/pygmo_mizuRoute_Diefenbaker/HYPE_run/4482/\n",
      "[1.] 4482\n",
      "HYPE\n",
      "['param_temp']\n",
      "['param_temp']\n",
      "<class 'list'>\n",
      "/home/shg096/pygmo_mizuRoute_Diefenbaker/HYPE_run/4482/\n",
      "[0.99988171] 4482\n",
      "HYPE\n",
      "['param_temp']\n",
      "['param_temp']\n",
      "<class 'list'>\n",
      "/home/shg096/pygmo_mizuRoute_Diefenbaker/HYPE_run/4482/\n",
      "[1.] 4482\n",
      "HYPE\n",
      "['param_temp']\n",
      "['param_temp']\n",
      "<class 'list'>\n",
      "/home/shg096/pygmo_mizuRoute_Diefenbaker/HYPE_run/4482/\n",
      "[1.] 4482\n",
      "HYPE\n",
      "['param_temp']\n",
      "['param_temp']\n",
      "<class 'list'>\n",
      "/home/shg096/pygmo_mizuRoute_Diefenbaker/HYPE_run/4482/\n",
      "[1.] 4482\n",
      "HYPE\n",
      "['param_temp']\n",
      "['param_temp']\n",
      "<class 'list'>\n",
      "/home/shg096/pygmo_mizuRoute_Diefenbaker/HYPE_run/4482/\n",
      "[1.] 4482\n",
      "HYPE\n",
      "['param_temp']\n",
      "['param_temp']\n",
      "<class 'list'>\n",
      "/home/shg096/pygmo_mizuRoute_Diefenbaker/HYPE_run/4482/\n",
      "[0.71392836] 4482\n",
      "HYPE\n",
      "['param_temp']\n",
      "['param_temp']\n",
      "<class 'list'>\n",
      "/home/shg096/pygmo_mizuRoute_Diefenbaker/HYPE_run/4482/\n",
      "[0.78198338] 4482\n",
      "HYPE\n",
      "['param_temp']\n",
      "['param_temp']\n",
      "<class 'list'>\n",
      "/home/shg096/pygmo_mizuRoute_Diefenbaker/HYPE_run/4482/\n",
      "[0.91970576] 4482\n",
      "HYPE\n",
      "['param_temp']\n",
      "['param_temp']\n",
      "<class 'list'>\n",
      "/home/shg096/pygmo_mizuRoute_Diefenbaker/HYPE_run/4482/\n",
      "[0.71642289] 4482\n",
      "HYPE\n",
      "['param_temp']\n",
      "['param_temp']\n",
      "<class 'list'>\n",
      "/home/shg096/pygmo_mizuRoute_Diefenbaker/HYPE_run/4482/\n",
      "[0.83839341] 4482\n",
      "HYPE\n",
      "['param_temp']\n",
      "['param_temp']\n",
      "<class 'list'>\n",
      "/home/shg096/pygmo_mizuRoute_Diefenbaker/HYPE_run/4482/\n",
      "[0.96045511] 4482\n",
      "HYPE\n",
      "['param_temp']\n",
      "['param_temp']\n",
      "<class 'list'>\n",
      "/home/shg096/pygmo_mizuRoute_Diefenbaker/HYPE_run/4482/\n",
      "[1.] 4482\n",
      "HYPE\n",
      "['param_temp']\n",
      "['param_temp']\n",
      "<class 'list'>\n",
      "/home/shg096/pygmo_mizuRoute_Diefenbaker/HYPE_run/4482/\n",
      "[0.74180989] 4482\n",
      "HYPE\n",
      "['param_temp']\n",
      "['param_temp']\n",
      "<class 'list'>\n",
      "/home/shg096/pygmo_mizuRoute_Diefenbaker/HYPE_run/4482/\n",
      "[0.99968625] 4482\n",
      "HYPE\n",
      "['param_temp']\n",
      "['param_temp']\n",
      "<class 'list'>\n",
      "/home/shg096/pygmo_mizuRoute_Diefenbaker/HYPE_run/4482/\n",
      "[1.] 4482\n",
      "HYPE\n",
      "['param_temp']\n",
      "['param_temp']\n",
      "<class 'list'>\n",
      "/home/shg096/pygmo_mizuRoute_Diefenbaker/HYPE_run/4482/\n",
      "[1.] 4482\n",
      "HYPE\n",
      "['param_temp']\n",
      "['param_temp']\n",
      "<class 'list'>\n",
      "/home/shg096/pygmo_mizuRoute_Diefenbaker/HYPE_run/4482/\n",
      "[1.] 4482\n",
      "HYPE\n",
      "['param_temp']\n",
      "['param_temp']\n",
      "<class 'list'>\n",
      "/home/shg096/pygmo_mizuRoute_Diefenbaker/HYPE_run/4482/\n",
      "[1.] 4482\n",
      "HYPE\n",
      "['param_temp']\n",
      "['param_temp']\n",
      "<class 'list'>\n",
      "/home/shg096/pygmo_mizuRoute_Diefenbaker/HYPE_run/4482/\n",
      "[1.] 4482\n",
      "HYPE\n",
      "['param_temp']\n",
      "['param_temp']\n",
      "<class 'list'>\n",
      "/home/shg096/pygmo_mizuRoute_Diefenbaker/HYPE_run/4482/\n",
      "[0.8524234] 4482\n",
      "HYPE\n",
      "['param_temp']\n",
      "['param_temp']\n",
      "<class 'list'>\n",
      "/home/shg096/pygmo_mizuRoute_Diefenbaker/HYPE_run/4482/\n",
      "[1.] 4482\n",
      "HYPE\n",
      "['param_temp']\n",
      "['param_temp']\n",
      "<class 'list'>\n",
      "/home/shg096/pygmo_mizuRoute_Diefenbaker/HYPE_run/4482/\n",
      "[0.71608899] 4482\n",
      "HYPE\n",
      "['param_temp']\n",
      "['param_temp']\n",
      "<class 'list'>\n",
      "/home/shg096/pygmo_mizuRoute_Diefenbaker/HYPE_run/4482/\n",
      "[1.] 4482\n",
      "HYPE\n",
      "['param_temp']\n",
      "['param_temp']\n",
      "<class 'list'>\n",
      "/home/shg096/pygmo_mizuRoute_Diefenbaker/HYPE_run/4482/\n",
      "[0.99079088] 4482\n",
      "HYPE\n",
      "['param_temp']\n",
      "['param_temp']\n",
      "<class 'list'>\n",
      "/home/shg096/pygmo_mizuRoute_Diefenbaker/HYPE_run/4482/\n",
      "[1.] 4482\n",
      "HYPE\n",
      "['param_temp']\n",
      "['param_temp']\n",
      "<class 'list'>\n",
      "/home/shg096/pygmo_mizuRoute_Diefenbaker/HYPE_run/4482/\n",
      "[1.] 4482\n",
      "HYPE\n",
      "['param_temp']\n",
      "['param_temp']\n",
      "<class 'list'>\n",
      "/home/shg096/pygmo_mizuRoute_Diefenbaker/HYPE_run/4482/\n",
      "[1.] 4482\n",
      "HYPE\n",
      "['param_temp']\n",
      "['param_temp']\n",
      "<class 'list'>\n",
      "/home/shg096/pygmo_mizuRoute_Diefenbaker/HYPE_run/4482/\n",
      "[0.85586735] 4482\n",
      "HYPE\n",
      "['param_temp']\n",
      "['param_temp']\n",
      "<class 'list'>\n",
      "/home/shg096/pygmo_mizuRoute_Diefenbaker/HYPE_run/4482/\n",
      "[0.84236204] 4482\n",
      "HYPE\n",
      "['param_temp']\n",
      "['param_temp']\n",
      "<class 'list'>\n",
      "/home/shg096/pygmo_mizuRoute_Diefenbaker/HYPE_run/4482/\n",
      "[0.82387628] 4482\n",
      "HYPE\n",
      "['param_temp']\n",
      "['param_temp']\n",
      "<class 'list'>\n",
      "/home/shg096/pygmo_mizuRoute_Diefenbaker/HYPE_run/4482/\n",
      "[1.] 4482\n",
      "HYPE\n",
      "['param_temp']\n",
      "['param_temp']\n",
      "<class 'list'>\n",
      "/home/shg096/pygmo_mizuRoute_Diefenbaker/HYPE_run/4482/\n",
      "[0.71952873] 4482\n",
      "HYPE\n",
      "['param_temp']\n",
      "['param_temp']\n",
      "<class 'list'>\n",
      "/home/shg096/pygmo_mizuRoute_Diefenbaker/HYPE_run/4482/\n",
      "[0.69233166] 4482\n",
      "HYPE\n",
      "['param_temp']\n",
      "['param_temp']\n",
      "<class 'list'>\n",
      "/home/shg096/pygmo_mizuRoute_Diefenbaker/HYPE_run/4482/\n",
      "[1.] 4482\n",
      "HYPE\n",
      "['param_temp']\n",
      "['param_temp']\n",
      "<class 'list'>\n",
      "/home/shg096/pygmo_mizuRoute_Diefenbaker/HYPE_run/4482/\n",
      "[1.] 4482\n",
      "HYPE\n",
      "['param_temp']\n",
      "['param_temp']\n",
      "<class 'list'>\n",
      "/home/shg096/pygmo_mizuRoute_Diefenbaker/HYPE_run/4482/\n",
      "[1.] 4482\n",
      "HYPE\n",
      "['param_temp']\n",
      "['param_temp']\n",
      "<class 'list'>\n",
      "/home/shg096/pygmo_mizuRoute_Diefenbaker/HYPE_run/4482/\n",
      "[0.93048048] 4482\n",
      "HYPE\n",
      "['param_temp']\n",
      "['param_temp']\n",
      "<class 'list'>\n",
      "/home/shg096/pygmo_mizuRoute_Diefenbaker/HYPE_run/4482/\n",
      "[0.9787687] 4482\n",
      "HYPE\n",
      "['param_temp']\n",
      "['param_temp']\n",
      "<class 'list'>\n",
      "/home/shg096/pygmo_mizuRoute_Diefenbaker/HYPE_run/4482/\n",
      "[1.]"
     ]
    },
    {
     "name": "stderr",
     "output_type": "stream",
     "text": [
      "Restoring modules from user's fhimp-mods\n"
     ]
    },
    {
     "name": "stdout",
     "output_type": "stream",
     "text": [
      "start at Wed 17 Apr 2024 11:09:31 PM EDT\n",
      " ---------------------------------------------\n",
      "    HYPE version 5.24.0                  \n",
      " ---------------------------------------------\n",
      " New versions of HYPE at the HYPE Open Source \n",
      " Community website (hypecode.smhi.se), as well\n",
      " as information on up-coming courses.         \n",
      " ---------------------------------------------\n",
      "start at Wed 17 Apr 2024 11:09:31 PM EDT\n",
      " ---------------------------------------------\n",
      "    HYPE version 5.24.0                  \n",
      " ---------------------------------------------\n",
      " New versions of HYPE at the HYPE Open Source \n",
      " Community website (hypecode.smhi.se), as well\n",
      " as information on up-coming courses.         \n",
      " ---------------------------------------------\n"
     ]
    },
    {
     "name": "stderr",
     "output_type": "stream",
     "text": [
      " -> Simulation will halt: successfully\n",
      "Note: The following floating-point exceptions are signalling: IEEE_UNDERFLOW_FLAG IEEE_DENORMAL\n",
      "STOP 0\n"
     ]
    },
    {
     "name": "stdout",
     "output_type": "stream",
     "text": [
      "end at Wed 17 Apr 2024 11:09:35 PM EDT\n"
     ]
    },
    {
     "name": "stderr",
     "output_type": "stream",
     "text": [
      "Restoring modules from user's fhimp-mods\n"
     ]
    },
    {
     "name": "stdout",
     "output_type": "stream",
     "text": [
      "start at Wed 17 Apr 2024 11:09:36 PM EDT\n",
      " ---------------------------------------------\n",
      "    HYPE version 5.24.0                  \n",
      " ---------------------------------------------\n",
      " New versions of HYPE at the HYPE Open Source \n",
      " Community website (hypecode.smhi.se), as well\n",
      " as information on up-coming courses.         \n",
      " ---------------------------------------------\n"
     ]
    },
    {
     "name": "stderr",
     "output_type": "stream",
     "text": [
      " -> Simulation will halt: successfully\n",
      "Note: The following floating-point exceptions are signalling: IEEE_UNDERFLOW_FLAG IEEE_DENORMAL\n",
      "STOP 0\n"
     ]
    },
    {
     "name": "stdout",
     "output_type": "stream",
     "text": [
      "end at Wed 17 Apr 2024 11:09:37 PM EDT\n"
     ]
    },
    {
     "name": "stderr",
     "output_type": "stream",
     "text": [
      " -> Simulation will halt: successfully\n",
      "Note: The following floating-point exceptions are signalling: IEEE_UNDERFLOW_FLAG IEEE_DENORMAL\n",
      "STOP 0\n",
      "Restoring modules from user's fhimp-mods\n"
     ]
    },
    {
     "name": "stdout",
     "output_type": "stream",
     "text": [
      "end at Wed 17 Apr 2024 11:09:37 PM EDT\n"
     ]
    },
    {
     "name": "stderr",
     "output_type": "stream",
     "text": [
      "Restoring modules from user's fhimp-mods\n"
     ]
    },
    {
     "name": "stdout",
     "output_type": "stream",
     "text": [
      "start at Wed 17 Apr 2024 11:09:41 PM EDT\n",
      " ---------------------------------------------\n",
      "    HYPE version 5.24.0                  \n",
      " ---------------------------------------------\n",
      " New versions of HYPE at the HYPE Open Source \n",
      " Community website (hypecode.smhi.se), as well\n",
      " as information on up-coming courses.         \n",
      " ---------------------------------------------\n"
     ]
    },
    {
     "name": "stderr",
     "output_type": "stream",
     "text": [
      " -> Simulation will halt: successfully\n",
      "Note: The following floating-point exceptions are signalling: IEEE_UNDERFLOW_FLAG IEEE_DENORMAL\n",
      "STOP 0\n"
     ]
    },
    {
     "name": "stdout",
     "output_type": "stream",
     "text": [
      "end at Wed 17 Apr 2024 11:09:42 PM EDT\n"
     ]
    },
    {
     "name": "stderr",
     "output_type": "stream",
     "text": [
      "Restoring modules from user's fhimp-mods\n"
     ]
    },
    {
     "name": "stdout",
     "output_type": "stream",
     "text": [
      "start at Wed 17 Apr 2024 11:09:43 PM EDT\n",
      " ---------------------------------------------\n",
      "    HYPE version 5.24.0                  \n",
      " ---------------------------------------------\n",
      " New versions of HYPE at the HYPE Open Source \n",
      " Community website (hypecode.smhi.se), as well\n",
      " as information on up-coming courses.         \n",
      " ---------------------------------------------\n",
      "start at Wed 17 Apr 2024 11:09:43 PM EDT\n",
      " ---------------------------------------------\n",
      "    HYPE version 5.24.0                  \n",
      " ---------------------------------------------\n",
      " New versions of HYPE at the HYPE Open Source \n",
      " Community website (hypecode.smhi.se), as well\n",
      " as information on up-coming courses.         \n",
      " ---------------------------------------------\n"
     ]
    },
    {
     "name": "stderr",
     "output_type": "stream",
     "text": [
      " -> Simulation will halt: successfully\n",
      "Note: The following floating-point exceptions are signalling: IEEE_UNDERFLOW_FLAG IEEE_DENORMAL\n",
      "STOP 0\n"
     ]
    },
    {
     "name": "stdout",
     "output_type": "stream",
     "text": [
      "end at Wed 17 Apr 2024 11:09:48 PM EDT\n"
     ]
    },
    {
     "name": "stderr",
     "output_type": "stream",
     "text": [
      "Restoring modules from user's fhimp-mods\n"
     ]
    },
    {
     "name": "stdout",
     "output_type": "stream",
     "text": [
      "start at Wed 17 Apr 2024 11:09:49 PM EDT\n",
      " ---------------------------------------------\n",
      "    HYPE version 5.24.0                  \n",
      " ---------------------------------------------\n",
      " New versions of HYPE at the HYPE Open Source \n",
      " Community website (hypecode.smhi.se), as well\n",
      " as information on up-coming courses.         \n",
      " ---------------------------------------------\n"
     ]
    },
    {
     "name": "stderr",
     "output_type": "stream",
     "text": [
      " -> Simulation will halt: successfully\n",
      "Note: The following floating-point exceptions are signalling: IEEE_UNDERFLOW_FLAG IEEE_DENORMAL\n",
      "STOP 0\n",
      " -> Simulation will halt: successfully\n",
      "Note: The following floating-point exceptions are signalling: IEEE_UNDERFLOW_FLAG IEEE_DENORMAL\n",
      "STOP 0\n"
     ]
    },
    {
     "name": "stdout",
     "output_type": "stream",
     "text": [
      "end at Wed 17 Apr 2024 11:09:49 PM EDT\n",
      "end at Wed 17 Apr 2024 11:09:49 PM EDT\n"
     ]
    },
    {
     "name": "stderr",
     "output_type": "stream",
     "text": [
      "Restoring modules from user's fhimp-mods\n",
      "Restoring modules from user's fhimp-mods\n"
     ]
    },
    {
     "name": "stdout",
     "output_type": "stream",
     "text": [
      "start at Wed 17 Apr 2024 11:09:54 PM EDT\n",
      " ---------------------------------------------\n",
      "    HYPE version 5.24.0                  \n",
      " ---------------------------------------------\n",
      " New versions of HYPE at the HYPE Open Source \n",
      " Community website (hypecode.smhi.se), as well\n",
      " as information on up-coming courses.         \n",
      " ---------------------------------------------\n"
     ]
    },
    {
     "name": "stderr",
     "output_type": "stream",
     "text": [
      " -> Simulation will halt: successfully\n",
      "Note: The following floating-point exceptions are signalling: IEEE_UNDERFLOW_FLAG IEEE_DENORMAL\n",
      "STOP 0\n"
     ]
    },
    {
     "name": "stdout",
     "output_type": "stream",
     "text": [
      "end at Wed 17 Apr 2024 11:09:55 PM EDT\n"
     ]
    },
    {
     "name": "stderr",
     "output_type": "stream",
     "text": [
      "Restoring modules from user's fhimp-mods\n"
     ]
    },
    {
     "name": "stdout",
     "output_type": "stream",
     "text": [
      "start at Wed 17 Apr 2024 11:09:56 PM EDT\n",
      " ---------------------------------------------\n",
      "    HYPE version 5.24.0                  \n",
      " ---------------------------------------------\n",
      " New versions of HYPE at the HYPE Open Source \n",
      " Community website (hypecode.smhi.se), as well\n",
      " as information on up-coming courses.         \n",
      " ---------------------------------------------\n",
      "start at Wed 17 Apr 2024 11:09:56 PM EDT\n",
      " ---------------------------------------------\n",
      "    HYPE version 5.24.0                  \n",
      " ---------------------------------------------\n",
      " New versions of HYPE at the HYPE Open Source \n",
      " Community website (hypecode.smhi.se), as well\n",
      " as information on up-coming courses.         \n",
      " ---------------------------------------------\n"
     ]
    },
    {
     "name": "stderr",
     "output_type": "stream",
     "text": [
      " -> Simulation will halt: successfully\n",
      "Note: The following floating-point exceptions are signalling: IEEE_UNDERFLOW_FLAG IEEE_DENORMAL\n",
      "STOP 0\n"
     ]
    },
    {
     "name": "stdout",
     "output_type": "stream",
     "text": [
      "end at Wed 17 Apr 2024 11:10:00 PM EDT\n"
     ]
    },
    {
     "name": "stderr",
     "output_type": "stream",
     "text": [
      "Restoring modules from user's fhimp-mods\n",
      " -> Simulation will halt: successfully\n",
      "Note: The following floating-point exceptions are signalling: IEEE_UNDERFLOW_FLAG IEEE_DENORMAL\n",
      "STOP 0\n",
      " -> Simulation will halt: successfully\n",
      "Note: The following floating-point exceptions are signalling: IEEE_UNDERFLOW_FLAG IEEE_DENORMAL\n",
      "STOP 0\n"
     ]
    },
    {
     "name": "stdout",
     "output_type": "stream",
     "text": [
      "end at Wed 17 Apr 2024 11:10:02 PM EDT\n",
      "end at Wed 17 Apr 2024 11:10:02 PM EDT\n",
      "start at Wed 17 Apr 2024 11:10:02 PM EDT\n",
      " ---------------------------------------------\n",
      "    HYPE version 5.24.0                  \n",
      " ---------------------------------------------\n",
      " New versions of HYPE at the HYPE Open Source \n",
      " Community website (hypecode.smhi.se), as well\n",
      " as information on up-coming courses.         \n",
      " ---------------------------------------------\n"
     ]
    },
    {
     "name": "stderr",
     "output_type": "stream",
     "text": [
      "Restoring modules from user's fhimp-mods\n",
      "Restoring modules from user's fhimp-mods\n"
     ]
    },
    {
     "name": "stdout",
     "output_type": "stream",
     "text": [
      "start at Wed 17 Apr 2024 11:10:06 PM EDT\n",
      " ---------------------------------------------\n",
      "    HYPE version 5.24.0                  \n",
      " ---------------------------------------------\n",
      " New versions of HYPE at the HYPE Open Source \n",
      " Community website (hypecode.smhi.se), as well\n",
      " as information on up-coming courses.         \n",
      " ---------------------------------------------\n"
     ]
    },
    {
     "name": "stderr",
     "output_type": "stream",
     "text": [
      " -> Simulation will halt: successfully\n",
      "Note: The following floating-point exceptions are signalling: IEEE_UNDERFLOW_FLAG IEEE_DENORMAL\n",
      "STOP 0\n"
     ]
    },
    {
     "name": "stdout",
     "output_type": "stream",
     "text": [
      "end at Wed 17 Apr 2024 11:10:08 PM EDT\n",
      "start at Wed 17 Apr 2024 11:10:08 PM EDT\n",
      " ---------------------------------------------\n",
      "    HYPE version 5.24.0                  \n",
      " ---------------------------------------------\n",
      " New versions of HYPE at the HYPE Open Source \n",
      " Community website (hypecode.smhi.se), as well\n",
      " as information on up-coming courses.         \n",
      " ---------------------------------------------\n",
      "start at Wed 17 Apr 2024 11:10:08 PM EDT\n",
      " ---------------------------------------------\n",
      "    HYPE version 5.24.0                  \n",
      " ---------------------------------------------\n",
      " New versions of HYPE at the HYPE Open Source \n",
      " Community website (hypecode.smhi.se), as well\n",
      " as information on up-coming courses.         \n",
      " ---------------------------------------------\n"
     ]
    },
    {
     "name": "stderr",
     "output_type": "stream",
     "text": [
      "Restoring modules from user's fhimp-mods\n",
      " -> Simulation will halt: successfully\n",
      "Note: The following floating-point exceptions are signalling: IEEE_UNDERFLOW_FLAG IEEE_DENORMAL\n",
      "STOP 0\n"
     ]
    },
    {
     "name": "stdout",
     "output_type": "stream",
     "text": [
      "end at Wed 17 Apr 2024 11:10:12 PM EDT\n"
     ]
    },
    {
     "name": "stderr",
     "output_type": "stream",
     "text": [
      "Restoring modules from user's fhimp-mods\n",
      " -> Simulation will halt: successfully\n",
      "Note: The following floating-point exceptions are signalling: IEEE_UNDERFLOW_FLAG IEEE_DENORMAL\n",
      "STOP 0\n",
      " -> Simulation will halt: successfully\n",
      "Note: The following floating-point exceptions are signalling: IEEE_UNDERFLOW_FLAG IEEE_DENORMAL\n",
      "STOP 0\n"
     ]
    },
    {
     "name": "stdout",
     "output_type": "stream",
     "text": [
      "end at Wed 17 Apr 2024 11:10:14 PM EDT\n",
      "end at Wed 17 Apr 2024 11:10:14 PM EDT\n"
     ]
    },
    {
     "name": "stderr",
     "output_type": "stream",
     "text": [
      "Restoring modules from user's fhimp-mods\n",
      "Restoring modules from user's fhimp-mods\n"
     ]
    },
    {
     "name": "stdout",
     "output_type": "stream",
     "text": [
      "start at Wed 17 Apr 2024 11:10:15 PM EDT\n",
      " ---------------------------------------------\n",
      "    HYPE version 5.24.0                  \n",
      " ---------------------------------------------\n",
      " New versions of HYPE at the HYPE Open Source \n",
      " Community website (hypecode.smhi.se), as well\n",
      " as information on up-coming courses.         \n",
      " ---------------------------------------------\n",
      "start at Wed 17 Apr 2024 11:10:19 PM EDT\n",
      " ---------------------------------------------\n",
      "    HYPE version 5.24.0                  \n",
      " ---------------------------------------------\n",
      " New versions of HYPE at the HYPE Open Source \n",
      " Community website (hypecode.smhi.se), as well\n",
      " as information on up-coming courses.         \n",
      " ---------------------------------------------\n"
     ]
    },
    {
     "name": "stderr",
     "output_type": "stream",
     "text": [
      " -> Simulation will halt: successfully\n",
      "Note: The following floating-point exceptions are signalling: IEEE_UNDERFLOW_FLAG IEEE_DENORMAL\n",
      "STOP 0\n"
     ]
    },
    {
     "name": "stdout",
     "output_type": "stream",
     "text": [
      "end at Wed 17 Apr 2024 11:10:21 PM EDT\n"
     ]
    },
    {
     "name": "stderr",
     "output_type": "stream",
     "text": [
      "Restoring modules from user's fhimp-mods\n"
     ]
    },
    {
     "name": "stdout",
     "output_type": "stream",
     "text": [
      "start at Wed 17 Apr 2024 11:10:21 PM EDT\n",
      " ---------------------------------------------\n",
      "    HYPE version 5.24.0                  \n",
      " ---------------------------------------------\n",
      " New versions of HYPE at the HYPE Open Source \n",
      " Community website (hypecode.smhi.se), as well\n",
      " as information on up-coming courses.         \n",
      " ---------------------------------------------\n",
      "start at Wed 17 Apr 2024 11:10:21 PM EDT\n",
      " ---------------------------------------------\n",
      "    HYPE version 5.24.0                  \n",
      " ---------------------------------------------\n",
      " New versions of HYPE at the HYPE Open Source \n",
      " Community website (hypecode.smhi.se), as well\n",
      " as information on up-coming courses.         \n",
      " ---------------------------------------------\n"
     ]
    },
    {
     "name": "stderr",
     "output_type": "stream",
     "text": [
      " -> Simulation will halt: successfully\n",
      "Note: The following floating-point exceptions are signalling: IEEE_UNDERFLOW_FLAG IEEE_DENORMAL\n",
      "STOP 0\n"
     ]
    },
    {
     "name": "stdout",
     "output_type": "stream",
     "text": [
      "end at Wed 17 Apr 2024 11:10:25 PM EDT\n"
     ]
    },
    {
     "name": "stderr",
     "output_type": "stream",
     "text": [
      "Restoring modules from user's fhimp-mods\n",
      " -> Simulation will halt: successfully\n",
      "Note: The following floating-point exceptions are signalling: IEEE_UNDERFLOW_FLAG IEEE_DENORMAL\n",
      "STOP 0\n"
     ]
    },
    {
     "name": "stdout",
     "output_type": "stream",
     "text": [
      "end at Wed 17 Apr 2024 11:10:27 PM EDT\n"
     ]
    },
    {
     "name": "stderr",
     "output_type": "stream",
     "text": [
      " -> Simulation will halt: successfully\n",
      "Note: The following floating-point exceptions are signalling: IEEE_UNDERFLOW_FLAG IEEE_DENORMAL\n",
      "STOP 0\n",
      "Restoring modules from user's fhimp-mods\n"
     ]
    },
    {
     "name": "stdout",
     "output_type": "stream",
     "text": [
      "end at Wed 17 Apr 2024 11:10:27 PM EDT\n",
      "start at Wed 17 Apr 2024 11:10:28 PM EDT\n",
      " ---------------------------------------------\n",
      "    HYPE version 5.24.0                  \n",
      " ---------------------------------------------\n",
      " New versions of HYPE at the HYPE Open Source \n",
      " Community website (hypecode.smhi.se), as well\n",
      " as information on up-coming courses.         \n",
      " ---------------------------------------------\n"
     ]
    },
    {
     "name": "stderr",
     "output_type": "stream",
     "text": [
      "Restoring modules from user's fhimp-mods\n"
     ]
    },
    {
     "name": "stdout",
     "output_type": "stream",
     "text": [
      "start at Wed 17 Apr 2024 11:10:31 PM EDT\n",
      " ---------------------------------------------\n",
      "    HYPE version 5.24.0                  \n",
      " ---------------------------------------------\n",
      " New versions of HYPE at the HYPE Open Source \n",
      " Community website (hypecode.smhi.se), as well\n",
      " as information on up-coming courses.         \n",
      " ---------------------------------------------\n",
      "start at Wed 17 Apr 2024 11:10:33 PM EDT\n",
      " ---------------------------------------------\n",
      "    HYPE version 5.24.0                  \n",
      " ---------------------------------------------\n",
      " New versions of HYPE at the HYPE Open Source \n",
      " Community website (hypecode.smhi.se), as well\n",
      " as information on up-coming courses.         \n",
      " ---------------------------------------------\n",
      "start at Wed 17 Apr 2024 11:10:34 PM EDT\n",
      " ---------------------------------------------\n",
      "    HYPE version 5.24.0                  \n",
      " ---------------------------------------------\n",
      " New versions of HYPE at the HYPE Open Source \n",
      " Community website (hypecode.smhi.se), as well\n",
      " as information on up-coming courses.         \n",
      " ---------------------------------------------\n",
      "end at Wed 17 Apr 2024 11:10:34 PM EDT\n"
     ]
    },
    {
     "name": "stderr",
     "output_type": "stream",
     "text": [
      " -> Simulation will halt: successfully\n",
      "Note: The following floating-point exceptions are signalling: IEEE_UNDERFLOW_FLAG IEEE_DENORMAL\n",
      "STOP 0\n",
      "Restoring modules from user's fhimp-mods\n",
      " -> Simulation will halt: successfully\n",
      "Note: The following floating-point exceptions are signalling: IEEE_UNDERFLOW_FLAG IEEE_DENORMAL\n",
      "STOP 0\n"
     ]
    },
    {
     "name": "stdout",
     "output_type": "stream",
     "text": [
      "end at Wed 17 Apr 2024 11:10:37 PM EDT\n"
     ]
    },
    {
     "name": "stderr",
     "output_type": "stream",
     "text": [
      "Restoring modules from user's fhimp-mods\n",
      " -> Simulation will halt: successfully\n",
      "Note: The following floating-point exceptions are signalling: IEEE_UNDERFLOW_FLAG IEEE_DENORMAL\n",
      "STOP 0\n",
      " -> Simulation will halt: successfully\n",
      "Note: The following floating-point exceptions are signalling: IEEE_UNDERFLOW_FLAG IEEE_DENORMAL\n",
      "STOP 0\n"
     ]
    },
    {
     "name": "stdout",
     "output_type": "stream",
     "text": [
      "end at Wed 17 Apr 2024 11:10:39 PM EDT\n",
      "end at Wed 17 Apr 2024 11:10:40 PM EDT\n"
     ]
    },
    {
     "name": "stderr",
     "output_type": "stream",
     "text": [
      "Restoring modules from user's fhimp-mods\n",
      "Restoring modules from user's fhimp-mods\n"
     ]
    },
    {
     "name": "stdout",
     "output_type": "stream",
     "text": [
      "start at Wed 17 Apr 2024 11:10:40 PM EDT\n",
      " ---------------------------------------------\n",
      "    HYPE version 5.24.0                  \n",
      " ---------------------------------------------\n",
      " New versions of HYPE at the HYPE Open Source \n",
      " Community website (hypecode.smhi.se), as well\n",
      " as information on up-coming courses.         \n",
      " ---------------------------------------------\n",
      "start at Wed 17 Apr 2024 11:10:44 PM EDT\n",
      " ---------------------------------------------\n",
      "    HYPE version 5.24.0                  \n",
      " ---------------------------------------------\n",
      " New versions of HYPE at the HYPE Open Source \n",
      " Community website (hypecode.smhi.se), as well\n",
      " as information on up-coming courses.         \n",
      " ---------------------------------------------\n",
      "start at Wed 17 Apr 2024 11:10:46 PM EDT\n",
      " ---------------------------------------------\n",
      "    HYPE version 5.24.0                  \n",
      " ---------------------------------------------\n",
      " New versions of HYPE at the HYPE Open Source \n",
      " Community website (hypecode.smhi.se), as well\n",
      " as information on up-coming courses.         \n",
      " ---------------------------------------------\n",
      "start at Wed 17 Apr 2024 11:10:46 PM EDT\n",
      " ---------------------------------------------\n",
      "    HYPE version 5.24.0                  \n",
      " ---------------------------------------------\n",
      " New versions of HYPE at the HYPE Open Source \n",
      " Community website (hypecode.smhi.se), as well\n",
      " as information on up-coming courses.         \n",
      " ---------------------------------------------\n",
      "end at Wed 17 Apr 2024 11:10:46 PM EDT\n"
     ]
    },
    {
     "name": "stderr",
     "output_type": "stream",
     "text": [
      " -> Simulation will halt: successfully\n",
      "Note: The following floating-point exceptions are signalling: IEEE_UNDERFLOW_FLAG IEEE_DENORMAL\n",
      "STOP 0\n",
      "Restoring modules from user's fhimp-mods\n",
      " -> Simulation will halt: successfully\n",
      "Note: The following floating-point exceptions are signalling: IEEE_UNDERFLOW_FLAG IEEE_DENORMAL\n",
      "STOP 0\n"
     ]
    },
    {
     "name": "stdout",
     "output_type": "stream",
     "text": [
      "end at Wed 17 Apr 2024 11:10:50 PM EDT\n"
     ]
    },
    {
     "name": "stderr",
     "output_type": "stream",
     "text": [
      "Restoring modules from user's fhimp-mods\n",
      " -> Simulation will halt: successfully\n",
      "Note: The following floating-point exceptions are signalling: IEEE_UNDERFLOW_FLAG IEEE_DENORMAL\n",
      "STOP 0\n"
     ]
    },
    {
     "name": "stdout",
     "output_type": "stream",
     "text": [
      "end at Wed 17 Apr 2024 11:10:52 PM EDT\n"
     ]
    },
    {
     "name": "stderr",
     "output_type": "stream",
     "text": [
      "Restoring modules from user's fhimp-mods\n",
      " -> Simulation will halt: successfully\n",
      "Note: The following floating-point exceptions are signalling: IEEE_UNDERFLOW_FLAG IEEE_DENORMAL\n",
      "STOP 0\n"
     ]
    },
    {
     "name": "stdout",
     "output_type": "stream",
     "text": [
      "end at Wed 17 Apr 2024 11:10:52 PM EDT\n"
     ]
    },
    {
     "name": "stderr",
     "output_type": "stream",
     "text": [
      "Restoring modules from user's fhimp-mods\n"
     ]
    },
    {
     "name": "stdout",
     "output_type": "stream",
     "text": [
      "start at Wed 17 Apr 2024 11:10:53 PM EDT\n",
      " ---------------------------------------------\n",
      "    HYPE version 5.24.0                  \n",
      " ---------------------------------------------\n",
      " New versions of HYPE at the HYPE Open Source \n",
      " Community website (hypecode.smhi.se), as well\n",
      " as information on up-coming courses.         \n",
      " ---------------------------------------------\n",
      "start at Wed 17 Apr 2024 11:10:56 PM EDT\n",
      " ---------------------------------------------\n",
      "    HYPE version 5.24.0                  \n",
      " ---------------------------------------------\n",
      " New versions of HYPE at the HYPE Open Source \n",
      " Community website (hypecode.smhi.se), as well\n",
      " as information on up-coming courses.         \n",
      " ---------------------------------------------\n",
      "start at Wed 17 Apr 2024 11:10:58 PM EDT\n",
      " ---------------------------------------------\n",
      "    HYPE version 5.24.0                  \n",
      " ---------------------------------------------\n",
      " New versions of HYPE at the HYPE Open Source \n",
      " Community website (hypecode.smhi.se), as well\n",
      " as information on up-coming courses.         \n",
      " ---------------------------------------------\n",
      "start at Wed 17 Apr 2024 11:10:59 PM EDT\n",
      " ---------------------------------------------\n",
      "    HYPE version 5.24.0                  \n",
      " ---------------------------------------------\n",
      " New versions of HYPE at the HYPE Open Source \n",
      " Community website (hypecode.smhi.se), as well\n",
      " as information on up-coming courses.         \n",
      " ---------------------------------------------\n"
     ]
    },
    {
     "name": "stderr",
     "output_type": "stream",
     "text": [
      " -> Simulation will halt: successfully\n",
      "Note: The following floating-point exceptions are signalling: IEEE_UNDERFLOW_FLAG IEEE_DENORMAL\n",
      "STOP 0\n"
     ]
    },
    {
     "name": "stdout",
     "output_type": "stream",
     "text": [
      "end at Wed 17 Apr 2024 11:10:59 PM EDT\n"
     ]
    },
    {
     "name": "stderr",
     "output_type": "stream",
     "text": [
      "Restoring modules from user's fhimp-mods\n",
      " -> Simulation will halt: successfully\n",
      "Note: The following floating-point exceptions are signalling: IEEE_UNDERFLOW_FLAG IEEE_DENORMAL\n",
      "STOP 0\n"
     ]
    },
    {
     "name": "stdout",
     "output_type": "stream",
     "text": [
      "end at Wed 17 Apr 2024 11:11:02 PM EDT\n"
     ]
    },
    {
     "name": "stderr",
     "output_type": "stream",
     "text": [
      "Restoring modules from user's fhimp-mods\n",
      " -> Simulation will halt: successfully\n",
      "Note: The following floating-point exceptions are signalling: IEEE_UNDERFLOW_FLAG IEEE_DENORMAL\n",
      "STOP 0\n"
     ]
    },
    {
     "name": "stdout",
     "output_type": "stream",
     "text": [
      "end at Wed 17 Apr 2024 11:11:04 PM EDT\n"
     ]
    },
    {
     "name": "stderr",
     "output_type": "stream",
     "text": [
      "Restoring modules from user's fhimp-mods\n",
      " -> Simulation will halt: successfully\n",
      "Note: The following floating-point exceptions are signalling: IEEE_UNDERFLOW_FLAG IEEE_DENORMAL\n",
      "STOP 0\n"
     ]
    },
    {
     "name": "stdout",
     "output_type": "stream",
     "text": [
      "end at Wed 17 Apr 2024 11:11:05 PM EDT\n"
     ]
    },
    {
     "name": "stderr",
     "output_type": "stream",
     "text": [
      "Restoring modules from user's fhimp-mods\n"
     ]
    },
    {
     "name": "stdout",
     "output_type": "stream",
     "text": [
      "start at Wed 17 Apr 2024 11:11:06 PM EDT\n",
      " ---------------------------------------------\n",
      "    HYPE version 5.24.0                  \n",
      " ---------------------------------------------\n",
      " New versions of HYPE at the HYPE Open Source \n",
      " Community website (hypecode.smhi.se), as well\n",
      " as information on up-coming courses.         \n",
      " ---------------------------------------------\n",
      "start at Wed 17 Apr 2024 11:11:09 PM EDT\n",
      " ---------------------------------------------\n",
      "    HYPE version 5.24.0                  \n",
      " ---------------------------------------------\n",
      " New versions of HYPE at the HYPE Open Source \n",
      " Community website (hypecode.smhi.se), as well\n",
      " as information on up-coming courses.         \n",
      " ---------------------------------------------\n",
      "start at Wed 17 Apr 2024 11:11:10 PM EDT\n",
      " ---------------------------------------------\n",
      "    HYPE version 5.24.0                  \n",
      " ---------------------------------------------\n",
      " New versions of HYPE at the HYPE Open Source \n",
      " Community website (hypecode.smhi.se), as well\n",
      " as information on up-coming courses.         \n",
      " ---------------------------------------------\n",
      "start at Wed 17 Apr 2024 11:11:11 PM EDT\n",
      " ---------------------------------------------\n",
      "    HYPE version 5.24.0                  \n",
      " ---------------------------------------------\n",
      " New versions of HYPE at the HYPE Open Source \n",
      " Community website (hypecode.smhi.se), as well\n",
      " as information on up-coming courses.         \n",
      " ---------------------------------------------\n"
     ]
    },
    {
     "name": "stderr",
     "output_type": "stream",
     "text": [
      " -> Simulation will halt: successfully\n",
      "Note: The following floating-point exceptions are signalling: IEEE_UNDERFLOW_FLAG IEEE_DENORMAL\n",
      "STOP 0\n"
     ]
    },
    {
     "name": "stdout",
     "output_type": "stream",
     "text": [
      "end at Wed 17 Apr 2024 11:11:12 PM EDT\n"
     ]
    },
    {
     "name": "stderr",
     "output_type": "stream",
     "text": [
      "Restoring modules from user's fhimp-mods\n",
      " -> Simulation will halt: successfully\n",
      "Note: The following floating-point exceptions are signalling: IEEE_UNDERFLOW_FLAG IEEE_DENORMAL\n",
      "STOP 0\n"
     ]
    },
    {
     "name": "stdout",
     "output_type": "stream",
     "text": [
      "end at Wed 17 Apr 2024 11:11:15 PM EDT\n"
     ]
    },
    {
     "name": "stderr",
     "output_type": "stream",
     "text": [
      "Restoring modules from user's fhimp-mods\n",
      " -> Simulation will halt: successfully\n",
      "Note: The following floating-point exceptions are signalling: IEEE_UNDERFLOW_FLAG IEEE_DENORMAL\n",
      "STOP 0\n"
     ]
    },
    {
     "name": "stdout",
     "output_type": "stream",
     "text": [
      "end at Wed 17 Apr 2024 11:11:16 PM EDT\n"
     ]
    },
    {
     "name": "stderr",
     "output_type": "stream",
     "text": [
      "Restoring modules from user's fhimp-mods\n",
      " -> Simulation will halt: successfully\n",
      "Note: The following floating-point exceptions are signalling: IEEE_UNDERFLOW_FLAG IEEE_DENORMAL\n",
      "STOP 0\n"
     ]
    },
    {
     "name": "stdout",
     "output_type": "stream",
     "text": [
      "end at Wed 17 Apr 2024 11:11:17 PM EDT\n"
     ]
    },
    {
     "name": "stderr",
     "output_type": "stream",
     "text": [
      "Restoring modules from user's fhimp-mods\n"
     ]
    },
    {
     "name": "stdout",
     "output_type": "stream",
     "text": [
      "start at Wed 17 Apr 2024 11:11:19 PM EDT\n",
      " ---------------------------------------------\n",
      "    HYPE version 5.24.0                  \n",
      " ---------------------------------------------\n",
      " New versions of HYPE at the HYPE Open Source \n",
      " Community website (hypecode.smhi.se), as well\n",
      " as information on up-coming courses.         \n",
      " ---------------------------------------------\n",
      "start at Wed 17 Apr 2024 11:11:21 PM EDT\n",
      " ---------------------------------------------\n",
      "    HYPE version 5.24.0                  \n",
      " ---------------------------------------------\n",
      " New versions of HYPE at the HYPE Open Source \n",
      " Community website (hypecode.smhi.se), as well\n",
      " as information on up-coming courses.         \n",
      " ---------------------------------------------\n",
      "start at Wed 17 Apr 2024 11:11:23 PM EDT\n",
      " ---------------------------------------------\n",
      "    HYPE version 5.24.0                  \n",
      " ---------------------------------------------\n",
      " New versions of HYPE at the HYPE Open Source \n",
      " Community website (hypecode.smhi.se), as well\n",
      " as information on up-coming courses.         \n",
      " ---------------------------------------------\n",
      "start at Wed 17 Apr 2024 11:11:23 PM EDT\n",
      " ---------------------------------------------\n",
      "    HYPE version 5.24.0                  \n",
      " ---------------------------------------------\n",
      " New versions of HYPE at the HYPE Open Source \n",
      " Community website (hypecode.smhi.se), as well\n",
      " as information on up-coming courses.         \n",
      " ---------------------------------------------\n"
     ]
    },
    {
     "name": "stderr",
     "output_type": "stream",
     "text": [
      " -> Simulation will halt: successfully\n",
      "Note: The following floating-point exceptions are signalling: IEEE_UNDERFLOW_FLAG IEEE_DENORMAL\n",
      "STOP 0\n"
     ]
    },
    {
     "name": "stdout",
     "output_type": "stream",
     "text": [
      "end at Wed 17 Apr 2024 11:11:25 PM EDT\n"
     ]
    },
    {
     "name": "stderr",
     "output_type": "stream",
     "text": [
      "Restoring modules from user's fhimp-mods\n",
      " -> Simulation will halt: successfully\n",
      "Note: The following floating-point exceptions are signalling: IEEE_UNDERFLOW_FLAG IEEE_DENORMAL\n",
      "STOP 0\n"
     ]
    },
    {
     "name": "stdout",
     "output_type": "stream",
     "text": [
      "end at Wed 17 Apr 2024 11:11:27 PM EDT\n"
     ]
    },
    {
     "name": "stderr",
     "output_type": "stream",
     "text": [
      "Restoring modules from user's fhimp-mods\n",
      " -> Simulation will halt: successfully\n",
      "Note: The following floating-point exceptions are signalling: IEEE_UNDERFLOW_FLAG IEEE_DENORMAL\n",
      "STOP 0\n"
     ]
    },
    {
     "name": "stdout",
     "output_type": "stream",
     "text": [
      "end at Wed 17 Apr 2024 11:11:29 PM EDT\n"
     ]
    },
    {
     "name": "stderr",
     "output_type": "stream",
     "text": [
      "Restoring modules from user's fhimp-mods\n",
      " -> Simulation will halt: successfully\n",
      "Note: The following floating-point exceptions are signalling: IEEE_UNDERFLOW_FLAG IEEE_DENORMAL\n",
      "STOP 0\n"
     ]
    },
    {
     "name": "stdout",
     "output_type": "stream",
     "text": [
      "end at Wed 17 Apr 2024 11:11:29 PM EDT\n"
     ]
    },
    {
     "name": "stderr",
     "output_type": "stream",
     "text": [
      "Restoring modules from user's fhimp-mods\n"
     ]
    },
    {
     "name": "stdout",
     "output_type": "stream",
     "text": [
      "start at Wed 17 Apr 2024 11:11:32 PM EDT\n",
      " ---------------------------------------------\n",
      "    HYPE version 5.24.0                  \n",
      " ---------------------------------------------\n",
      " New versions of HYPE at the HYPE Open Source \n",
      " Community website (hypecode.smhi.se), as well\n",
      " as information on up-coming courses.         \n",
      " ---------------------------------------------\n",
      "start at Wed 17 Apr 2024 11:11:34 PM EDT\n",
      " ---------------------------------------------\n",
      "    HYPE version 5.24.0                  \n",
      " ---------------------------------------------\n",
      " New versions of HYPE at the HYPE Open Source \n",
      " Community website (hypecode.smhi.se), as well\n",
      " as information on up-coming courses.         \n",
      " ---------------------------------------------\n",
      "start at Wed 17 Apr 2024 11:11:35 PM EDT\n",
      " ---------------------------------------------\n",
      "    HYPE version 5.24.0                  \n",
      " ---------------------------------------------\n",
      " New versions of HYPE at the HYPE Open Source \n",
      " Community website (hypecode.smhi.se), as well\n",
      " as information on up-coming courses.         \n",
      " ---------------------------------------------\n",
      "start at Wed 17 Apr 2024 11:11:36 PM EDT\n",
      " ---------------------------------------------\n",
      "    HYPE version 5.24.0                  \n",
      " ---------------------------------------------\n",
      " New versions of HYPE at the HYPE Open Source \n",
      " Community website (hypecode.smhi.se), as well\n",
      " as information on up-coming courses.         \n",
      " ---------------------------------------------\n"
     ]
    },
    {
     "name": "stderr",
     "output_type": "stream",
     "text": [
      " -> Simulation will halt: successfully\n",
      "Note: The following floating-point exceptions are signalling: IEEE_UNDERFLOW_FLAG IEEE_DENORMAL\n",
      "STOP 0\n"
     ]
    },
    {
     "name": "stdout",
     "output_type": "stream",
     "text": [
      "end at Wed 17 Apr 2024 11:11:38 PM EDT\n"
     ]
    },
    {
     "name": "stderr",
     "output_type": "stream",
     "text": [
      "Restoring modules from user's fhimp-mods\n",
      " -> Simulation will halt: successfully\n",
      "Note: The following floating-point exceptions are signalling: IEEE_UNDERFLOW_FLAG IEEE_DENORMAL\n",
      "STOP 0\n"
     ]
    },
    {
     "name": "stdout",
     "output_type": "stream",
     "text": [
      "end at Wed 17 Apr 2024 11:11:40 PM EDT\n"
     ]
    },
    {
     "name": "stderr",
     "output_type": "stream",
     "text": [
      "Restoring modules from user's fhimp-mods\n",
      " -> Simulation will halt: successfully\n",
      "Note: The following floating-point exceptions are signalling: IEEE_UNDERFLOW_FLAG IEEE_DENORMAL\n",
      "STOP 0\n"
     ]
    },
    {
     "name": "stdout",
     "output_type": "stream",
     "text": [
      "end at Wed 17 Apr 2024 11:11:41 PM EDT\n"
     ]
    },
    {
     "name": "stderr",
     "output_type": "stream",
     "text": [
      "Restoring modules from user's fhimp-mods\n",
      " -> Simulation will halt: successfully\n",
      "Note: The following floating-point exceptions are signalling: IEEE_UNDERFLOW_FLAG IEEE_DENORMAL\n",
      "STOP 0\n"
     ]
    },
    {
     "name": "stdout",
     "output_type": "stream",
     "text": [
      "end at Wed 17 Apr 2024 11:11:42 PM EDT\n"
     ]
    },
    {
     "name": "stderr",
     "output_type": "stream",
     "text": [
      "Restoring modules from user's fhimp-mods\n"
     ]
    },
    {
     "name": "stdout",
     "output_type": "stream",
     "text": [
      "start at Wed 17 Apr 2024 11:11:44 PM EDT\n",
      " ---------------------------------------------\n",
      "    HYPE version 5.24.0                  \n",
      " ---------------------------------------------\n",
      " New versions of HYPE at the HYPE Open Source \n",
      " Community website (hypecode.smhi.se), as well\n",
      " as information on up-coming courses.         \n",
      " ---------------------------------------------\n",
      "start at Wed 17 Apr 2024 11:11:46 PM EDT\n",
      " ---------------------------------------------\n",
      "    HYPE version 5.24.0                  \n",
      " ---------------------------------------------\n",
      " New versions of HYPE at the HYPE Open Source \n",
      " Community website (hypecode.smhi.se), as well\n",
      " as information on up-coming courses.         \n",
      " ---------------------------------------------\n",
      "start at Wed 17 Apr 2024 11:11:48 PM EDT\n",
      " ---------------------------------------------\n",
      "    HYPE version 5.24.0                  \n",
      " ---------------------------------------------\n",
      " New versions of HYPE at the HYPE Open Source \n",
      " Community website (hypecode.smhi.se), as well\n",
      " as information on up-coming courses.         \n",
      " ---------------------------------------------\n",
      "start at Wed 17 Apr 2024 11:11:49 PM EDT\n",
      " ---------------------------------------------\n",
      "    HYPE version 5.24.0                  \n",
      " ---------------------------------------------\n",
      " New versions of HYPE at the HYPE Open Source \n",
      " Community website (hypecode.smhi.se), as well\n",
      " as information on up-coming courses.         \n",
      " ---------------------------------------------\n"
     ]
    },
    {
     "name": "stderr",
     "output_type": "stream",
     "text": [
      " -> Simulation will halt: successfully\n",
      "Note: The following floating-point exceptions are signalling: IEEE_UNDERFLOW_FLAG IEEE_DENORMAL\n",
      "STOP 0\n"
     ]
    },
    {
     "name": "stdout",
     "output_type": "stream",
     "text": [
      "end at Wed 17 Apr 2024 11:11:50 PM EDT\n"
     ]
    },
    {
     "name": "stderr",
     "output_type": "stream",
     "text": [
      "Restoring modules from user's fhimp-mods\n",
      " -> Simulation will halt: successfully\n",
      "Note: The following floating-point exceptions are signalling: IEEE_UNDERFLOW_FLAG IEEE_DENORMAL\n",
      "STOP 0\n"
     ]
    },
    {
     "name": "stdout",
     "output_type": "stream",
     "text": [
      "end at Wed 17 Apr 2024 11:11:52 PM EDT\n"
     ]
    },
    {
     "name": "stderr",
     "output_type": "stream",
     "text": [
      "Restoring modules from user's fhimp-mods\n",
      " -> Simulation will halt: successfully\n",
      "Note: The following floating-point exceptions are signalling: IEEE_UNDERFLOW_FLAG IEEE_DENORMAL\n",
      "STOP 0\n"
     ]
    },
    {
     "name": "stdout",
     "output_type": "stream",
     "text": [
      "end at Wed 17 Apr 2024 11:11:54 PM EDT\n"
     ]
    },
    {
     "name": "stderr",
     "output_type": "stream",
     "text": [
      "Restoring modules from user's fhimp-mods\n",
      " -> Simulation will halt: successfully\n",
      "Note: The following floating-point exceptions are signalling: IEEE_UNDERFLOW_FLAG IEEE_DENORMAL\n",
      "STOP 0\n"
     ]
    },
    {
     "name": "stdout",
     "output_type": "stream",
     "text": [
      "end at Wed 17 Apr 2024 11:11:54 PM EDT\n"
     ]
    },
    {
     "name": "stderr",
     "output_type": "stream",
     "text": [
      "Restoring modules from user's fhimp-mods\n"
     ]
    },
    {
     "name": "stdout",
     "output_type": "stream",
     "text": [
      "start at Wed 17 Apr 2024 11:11:57 PM EDT\n",
      " ---------------------------------------------\n",
      "    HYPE version 5.24.0                  \n",
      " ---------------------------------------------\n",
      " New versions of HYPE at the HYPE Open Source \n",
      " Community website (hypecode.smhi.se), as well\n",
      " as information on up-coming courses.         \n",
      " ---------------------------------------------\n",
      "start at Wed 17 Apr 2024 11:11:58 PM EDT\n",
      " ---------------------------------------------\n",
      "    HYPE version 5.24.0                  \n",
      " ---------------------------------------------\n",
      " New versions of HYPE at the HYPE Open Source \n",
      " Community website (hypecode.smhi.se), as well\n",
      " as information on up-coming courses.         \n",
      " ---------------------------------------------\n",
      "start at Wed 17 Apr 2024 11:12:00 PM EDT\n",
      " ---------------------------------------------\n",
      "    HYPE version 5.24.0                  \n",
      " ---------------------------------------------\n",
      " New versions of HYPE at the HYPE Open Source \n",
      " Community website (hypecode.smhi.se), as well\n",
      " as information on up-coming courses.         \n",
      " ---------------------------------------------\n",
      "start at Wed 17 Apr 2024 11:12:01 PM EDT\n",
      " ---------------------------------------------\n",
      "    HYPE version 5.24.0                  \n",
      " ---------------------------------------------\n",
      " New versions of HYPE at the HYPE Open Source \n",
      " Community website (hypecode.smhi.se), as well\n",
      " as information on up-coming courses.         \n",
      " ---------------------------------------------\n"
     ]
    },
    {
     "name": "stderr",
     "output_type": "stream",
     "text": [
      " -> Simulation will halt: successfully\n",
      "Note: The following floating-point exceptions are signalling: IEEE_UNDERFLOW_FLAG IEEE_DENORMAL\n",
      "STOP 0\n"
     ]
    },
    {
     "name": "stdout",
     "output_type": "stream",
     "text": [
      "end at Wed 17 Apr 2024 11:12:03 PM EDT\n"
     ]
    },
    {
     "name": "stderr",
     "output_type": "stream",
     "text": [
      "Restoring modules from user's fhimp-mods\n",
      " -> Simulation will halt: successfully\n",
      "Note: The following floating-point exceptions are signalling: IEEE_UNDERFLOW_FLAG IEEE_DENORMAL\n",
      "STOP 0\n"
     ]
    },
    {
     "name": "stdout",
     "output_type": "stream",
     "text": [
      "end at Wed 17 Apr 2024 11:12:04 PM EDT\n"
     ]
    },
    {
     "name": "stderr",
     "output_type": "stream",
     "text": [
      "Restoring modules from user's fhimp-mods\n",
      " -> Simulation will halt: successfully\n",
      "Note: The following floating-point exceptions are signalling: IEEE_UNDERFLOW_FLAG IEEE_DENORMAL\n",
      "STOP 0\n"
     ]
    },
    {
     "name": "stdout",
     "output_type": "stream",
     "text": [
      "end at Wed 17 Apr 2024 11:12:06 PM EDT\n"
     ]
    },
    {
     "name": "stderr",
     "output_type": "stream",
     "text": [
      "Restoring modules from user's fhimp-mods\n",
      " -> Simulation will halt: successfully\n",
      "Note: The following floating-point exceptions are signalling: IEEE_UNDERFLOW_FLAG IEEE_DENORMAL\n",
      "STOP 0\n"
     ]
    },
    {
     "name": "stdout",
     "output_type": "stream",
     "text": [
      "end at Wed 17 Apr 2024 11:12:07 PM EDT\n"
     ]
    },
    {
     "name": "stderr",
     "output_type": "stream",
     "text": [
      "Restoring modules from user's fhimp-mods\n"
     ]
    },
    {
     "name": "stdout",
     "output_type": "stream",
     "text": [
      "start at Wed 17 Apr 2024 11:12:09 PM EDT\n",
      " ---------------------------------------------\n",
      "    HYPE version 5.24.0                  \n",
      " ---------------------------------------------\n",
      " New versions of HYPE at the HYPE Open Source \n",
      " Community website (hypecode.smhi.se), as well\n",
      " as information on up-coming courses.         \n",
      " ---------------------------------------------\n",
      "start at Wed 17 Apr 2024 11:12:11 PM EDT\n",
      " ---------------------------------------------\n",
      "    HYPE version 5.24.0                  \n",
      " ---------------------------------------------\n",
      " New versions of HYPE at the HYPE Open Source \n",
      " Community website (hypecode.smhi.se), as well\n",
      " as information on up-coming courses.         \n",
      " ---------------------------------------------\n",
      "start at Wed 17 Apr 2024 11:12:12 PM EDT\n",
      " ---------------------------------------------\n",
      "    HYPE version 5.24.0                  \n",
      " ---------------------------------------------\n",
      " New versions of HYPE at the HYPE Open Source \n",
      " Community website (hypecode.smhi.se), as well\n",
      " as information on up-coming courses.         \n",
      " ---------------------------------------------\n",
      "start at Wed 17 Apr 2024 11:12:14 PM EDT\n",
      " ---------------------------------------------\n",
      "    HYPE version 5.24.0                  \n",
      " ---------------------------------------------\n",
      " New versions of HYPE at the HYPE Open Source \n",
      " Community website (hypecode.smhi.se), as well\n",
      " as information on up-coming courses.         \n",
      " ---------------------------------------------\n"
     ]
    },
    {
     "name": "stderr",
     "output_type": "stream",
     "text": [
      " -> Simulation will halt: successfully\n",
      "Note: The following floating-point exceptions are signalling: IEEE_UNDERFLOW_FLAG IEEE_DENORMAL\n",
      "STOP 0\n"
     ]
    },
    {
     "name": "stdout",
     "output_type": "stream",
     "text": [
      "end at Wed 17 Apr 2024 11:12:15 PM EDT\n"
     ]
    },
    {
     "name": "stderr",
     "output_type": "stream",
     "text": [
      "Restoring modules from user's fhimp-mods\n",
      " -> Simulation will halt: successfully\n",
      "Note: The following floating-point exceptions are signalling: IEEE_UNDERFLOW_FLAG IEEE_DENORMAL\n",
      "STOP 0\n"
     ]
    },
    {
     "name": "stdout",
     "output_type": "stream",
     "text": [
      "end at Wed 17 Apr 2024 11:12:17 PM EDT\n"
     ]
    },
    {
     "name": "stderr",
     "output_type": "stream",
     "text": [
      "Restoring modules from user's fhimp-mods\n",
      " -> Simulation will halt: successfully\n",
      "Note: The following floating-point exceptions are signalling: IEEE_UNDERFLOW_FLAG IEEE_DENORMAL\n",
      "STOP 0\n"
     ]
    },
    {
     "name": "stdout",
     "output_type": "stream",
     "text": [
      "end at Wed 17 Apr 2024 11:12:18 PM EDT\n"
     ]
    },
    {
     "name": "stderr",
     "output_type": "stream",
     "text": [
      "Restoring modules from user's fhimp-mods\n",
      " -> Simulation will halt: successfully\n",
      "Note: The following floating-point exceptions are signalling: IEEE_UNDERFLOW_FLAG IEEE_DENORMAL\n",
      "STOP 0\n"
     ]
    },
    {
     "name": "stdout",
     "output_type": "stream",
     "text": [
      "end at Wed 17 Apr 2024 11:12:20 PM EDT\n"
     ]
    },
    {
     "name": "stderr",
     "output_type": "stream",
     "text": [
      "Restoring modules from user's fhimp-mods\n"
     ]
    },
    {
     "name": "stdout",
     "output_type": "stream",
     "text": [
      "start at Wed 17 Apr 2024 11:12:21 PM EDT\n",
      " ---------------------------------------------\n",
      "    HYPE version 5.24.0                  \n",
      " ---------------------------------------------\n",
      " New versions of HYPE at the HYPE Open Source \n",
      " Community website (hypecode.smhi.se), as well\n",
      " as information on up-coming courses.         \n",
      " ---------------------------------------------\n",
      "start at Wed 17 Apr 2024 11:12:23 PM EDT\n",
      " ---------------------------------------------\n",
      "    HYPE version 5.24.0                  \n",
      " ---------------------------------------------\n",
      " New versions of HYPE at the HYPE Open Source \n",
      " Community website (hypecode.smhi.se), as well\n",
      " as information on up-coming courses.         \n",
      " ---------------------------------------------\n",
      "start at Wed 17 Apr 2024 11:12:25 PM EDT\n",
      " ---------------------------------------------\n",
      "    HYPE version 5.24.0                  \n",
      " ---------------------------------------------\n",
      " New versions of HYPE at the HYPE Open Source \n",
      " Community website (hypecode.smhi.se), as well\n",
      " as information on up-coming courses.         \n",
      " ---------------------------------------------\n",
      "start at Wed 17 Apr 2024 11:12:26 PM EDT\n",
      " ---------------------------------------------\n",
      "    HYPE version 5.24.0                  \n",
      " ---------------------------------------------\n",
      " New versions of HYPE at the HYPE Open Source \n",
      " Community website (hypecode.smhi.se), as well\n",
      " as information on up-coming courses.         \n",
      " ---------------------------------------------\n"
     ]
    },
    {
     "name": "stderr",
     "output_type": "stream",
     "text": [
      " -> Simulation will halt: successfully\n",
      "Note: The following floating-point exceptions are signalling: IEEE_UNDERFLOW_FLAG IEEE_DENORMAL\n",
      "STOP 0\n"
     ]
    },
    {
     "name": "stdout",
     "output_type": "stream",
     "text": [
      "end at Wed 17 Apr 2024 11:12:27 PM EDT\n"
     ]
    },
    {
     "name": "stderr",
     "output_type": "stream",
     "text": [
      "Restoring modules from user's fhimp-mods\n",
      " -> Simulation will halt: successfully\n",
      "Note: The following floating-point exceptions are signalling: IEEE_UNDERFLOW_FLAG IEEE_DENORMAL\n",
      "STOP 0\n"
     ]
    },
    {
     "name": "stdout",
     "output_type": "stream",
     "text": [
      "end at Wed 17 Apr 2024 11:12:29 PM EDT\n"
     ]
    },
    {
     "name": "stderr",
     "output_type": "stream",
     "text": [
      "Restoring modules from user's fhimp-mods\n",
      " -> Simulation will halt: successfully\n",
      "Note: The following floating-point exceptions are signalling: IEEE_UNDERFLOW_FLAG IEEE_DENORMAL\n",
      "STOP 0\n"
     ]
    },
    {
     "name": "stdout",
     "output_type": "stream",
     "text": [
      "end at Wed 17 Apr 2024 11:12:31 PM EDT\n"
     ]
    },
    {
     "name": "stderr",
     "output_type": "stream",
     "text": [
      "Restoring modules from user's fhimp-mods\n",
      " -> Simulation will halt: successfully\n",
      "Note: The following floating-point exceptions are signalling: IEEE_UNDERFLOW_FLAG IEEE_DENORMAL\n",
      "STOP 0\n"
     ]
    },
    {
     "name": "stdout",
     "output_type": "stream",
     "text": [
      "end at Wed 17 Apr 2024 11:12:33 PM EDT\n"
     ]
    },
    {
     "name": "stderr",
     "output_type": "stream",
     "text": [
      "Restoring modules from user's fhimp-mods\n"
     ]
    },
    {
     "name": "stdout",
     "output_type": "stream",
     "text": [
      "start at Wed 17 Apr 2024 11:12:34 PM EDT\n",
      " ---------------------------------------------\n",
      "    HYPE version 5.24.0                  \n",
      " ---------------------------------------------\n",
      " New versions of HYPE at the HYPE Open Source \n",
      " Community website (hypecode.smhi.se), as well\n",
      " as information on up-coming courses.         \n",
      " ---------------------------------------------\n",
      "start at Wed 17 Apr 2024 11:12:35 PM EDT\n",
      " ---------------------------------------------\n",
      "    HYPE version 5.24.0                  \n",
      " ---------------------------------------------\n",
      " New versions of HYPE at the HYPE Open Source \n",
      " Community website (hypecode.smhi.se), as well\n",
      " as information on up-coming courses.         \n",
      " ---------------------------------------------\n",
      "start at Wed 17 Apr 2024 11:12:37 PM EDT\n",
      " ---------------------------------------------\n",
      "    HYPE version 5.24.0                  \n",
      " ---------------------------------------------\n",
      " New versions of HYPE at the HYPE Open Source \n",
      " Community website (hypecode.smhi.se), as well\n",
      " as information on up-coming courses.         \n",
      " ---------------------------------------------\n",
      "start at Wed 17 Apr 2024 11:12:39 PM EDT\n",
      " ---------------------------------------------\n",
      "    HYPE version 5.24.0                  \n",
      " ---------------------------------------------\n",
      " New versions of HYPE at the HYPE Open Source \n",
      " Community website (hypecode.smhi.se), as well\n",
      " as information on up-coming courses.         \n",
      " ---------------------------------------------\n"
     ]
    },
    {
     "name": "stderr",
     "output_type": "stream",
     "text": [
      " -> Simulation will halt: successfully\n",
      "Note: The following floating-point exceptions are signalling: IEEE_UNDERFLOW_FLAG IEEE_DENORMAL\n",
      "STOP 0\n"
     ]
    },
    {
     "name": "stdout",
     "output_type": "stream",
     "text": [
      "end at Wed 17 Apr 2024 11:12:40 PM EDT\n"
     ]
    },
    {
     "name": "stderr",
     "output_type": "stream",
     "text": [
      "Restoring modules from user's fhimp-mods\n",
      " -> Simulation will halt: successfully\n",
      "Note: The following floating-point exceptions are signalling: IEEE_UNDERFLOW_FLAG IEEE_DENORMAL\n",
      "STOP 0\n"
     ]
    },
    {
     "name": "stdout",
     "output_type": "stream",
     "text": [
      "end at Wed 17 Apr 2024 11:12:41 PM EDT\n"
     ]
    },
    {
     "name": "stderr",
     "output_type": "stream",
     "text": [
      "Restoring modules from user's fhimp-mods\n",
      " -> Simulation will halt: successfully\n",
      "Note: The following floating-point exceptions are signalling: IEEE_UNDERFLOW_FLAG IEEE_DENORMAL\n",
      "STOP 0\n"
     ]
    },
    {
     "name": "stdout",
     "output_type": "stream",
     "text": [
      "end at Wed 17 Apr 2024 11:12:43 PM EDT\n"
     ]
    },
    {
     "name": "stderr",
     "output_type": "stream",
     "text": [
      "Restoring modules from user's fhimp-mods\n",
      " -> Simulation will halt: successfully\n",
      "Note: The following floating-point exceptions are signalling: IEEE_UNDERFLOW_FLAG IEEE_DENORMAL\n",
      "STOP 0\n"
     ]
    },
    {
     "name": "stdout",
     "output_type": "stream",
     "text": [
      "end at Wed 17 Apr 2024 11:12:45 PM EDT\n"
     ]
    },
    {
     "name": "stderr",
     "output_type": "stream",
     "text": [
      "Restoring modules from user's fhimp-mods\n"
     ]
    },
    {
     "name": "stdout",
     "output_type": "stream",
     "text": [
      "start at Wed 17 Apr 2024 11:12:46 PM EDT\n",
      " ---------------------------------------------\n",
      "    HYPE version 5.24.0                  \n",
      " ---------------------------------------------\n",
      " New versions of HYPE at the HYPE Open Source \n",
      " Community website (hypecode.smhi.se), as well\n",
      " as information on up-coming courses.         \n",
      " ---------------------------------------------\n",
      "start at Wed 17 Apr 2024 11:12:48 PM EDT\n",
      " ---------------------------------------------\n",
      "    HYPE version 5.24.0                  \n",
      " ---------------------------------------------\n",
      " New versions of HYPE at the HYPE Open Source \n",
      " Community website (hypecode.smhi.se), as well\n",
      " as information on up-coming courses.         \n",
      " ---------------------------------------------\n",
      "start at Wed 17 Apr 2024 11:12:50 PM EDT\n",
      " ---------------------------------------------\n",
      "    HYPE version 5.24.0                  \n",
      " ---------------------------------------------\n",
      " New versions of HYPE at the HYPE Open Source \n",
      " Community website (hypecode.smhi.se), as well\n",
      " as information on up-coming courses.         \n",
      " ---------------------------------------------\n",
      "start at Wed 17 Apr 2024 11:12:52 PM EDT\n",
      " ---------------------------------------------\n",
      "    HYPE version 5.24.0                  \n",
      " ---------------------------------------------\n",
      " New versions of HYPE at the HYPE Open Source \n",
      " Community website (hypecode.smhi.se), as well\n",
      " as information on up-coming courses.         \n",
      " ---------------------------------------------\n",
      "end at Wed 17 Apr 2024 11:12:52 PM EDT\n"
     ]
    },
    {
     "name": "stderr",
     "output_type": "stream",
     "text": [
      " -> Simulation will halt: successfully\n",
      "Note: The following floating-point exceptions are signalling: IEEE_UNDERFLOW_FLAG IEEE_DENORMAL\n",
      "STOP 0\n",
      "Restoring modules from user's fhimp-mods\n",
      " -> Simulation will halt: successfully\n",
      "Note: The following floating-point exceptions are signalling: IEEE_UNDERFLOW_FLAG IEEE_DENORMAL\n",
      "STOP 0\n"
     ]
    },
    {
     "name": "stdout",
     "output_type": "stream",
     "text": [
      "end at Wed 17 Apr 2024 11:12:54 PM EDT\n"
     ]
    },
    {
     "name": "stderr",
     "output_type": "stream",
     "text": [
      "Restoring modules from user's fhimp-mods\n",
      " -> Simulation will halt: successfully\n",
      "Note: The following floating-point exceptions are signalling: IEEE_UNDERFLOW_FLAG IEEE_DENORMAL\n",
      "STOP 0\n"
     ]
    },
    {
     "name": "stdout",
     "output_type": "stream",
     "text": [
      "end at Wed 17 Apr 2024 11:12:56 PM EDT\n"
     ]
    },
    {
     "name": "stderr",
     "output_type": "stream",
     "text": [
      "Restoring modules from user's fhimp-mods\n",
      " -> Simulation will halt: successfully\n",
      "Note: The following floating-point exceptions are signalling: IEEE_UNDERFLOW_FLAG IEEE_DENORMAL\n",
      "STOP 0\n"
     ]
    },
    {
     "name": "stdout",
     "output_type": "stream",
     "text": [
      "end at Wed 17 Apr 2024 11:12:58 PM EDT\n"
     ]
    },
    {
     "name": "stderr",
     "output_type": "stream",
     "text": [
      "Restoring modules from user's fhimp-mods\n"
     ]
    },
    {
     "name": "stdout",
     "output_type": "stream",
     "text": [
      "start at Wed 17 Apr 2024 11:12:59 PM EDT\n",
      " ---------------------------------------------\n",
      "    HYPE version 5.24.0                  \n",
      " ---------------------------------------------\n",
      " New versions of HYPE at the HYPE Open Source \n",
      " Community website (hypecode.smhi.se), as well\n",
      " as information on up-coming courses.         \n",
      " ---------------------------------------------\n",
      "start at Wed 17 Apr 2024 11:13:00 PM EDT\n",
      " ---------------------------------------------\n",
      "    HYPE version 5.24.0                  \n",
      " ---------------------------------------------\n",
      " New versions of HYPE at the HYPE Open Source \n",
      " Community website (hypecode.smhi.se), as well\n",
      " as information on up-coming courses.         \n",
      " ---------------------------------------------\n",
      "start at Wed 17 Apr 2024 11:13:02 PM EDT\n",
      " ---------------------------------------------\n",
      "    HYPE version 5.24.0                  \n",
      " ---------------------------------------------\n",
      " New versions of HYPE at the HYPE Open Source \n",
      " Community website (hypecode.smhi.se), as well\n",
      " as information on up-coming courses.         \n",
      " ---------------------------------------------\n"
     ]
    },
    {
     "name": "stderr",
     "output_type": "stream",
     "text": [
      " -> Simulation will halt: successfully\n",
      "Note: The following floating-point exceptions are signalling: IEEE_UNDERFLOW_FLAG IEEE_DENORMAL\n",
      "STOP 0\n"
     ]
    },
    {
     "name": "stdout",
     "output_type": "stream",
     "text": [
      "end at Wed 17 Apr 2024 11:13:05 PM EDT\n",
      "start at Wed 17 Apr 2024 11:13:05 PM EDT\n",
      " ---------------------------------------------\n",
      "    HYPE version 5.24.0                  \n",
      " ---------------------------------------------\n",
      " New versions of HYPE at the HYPE Open Source \n",
      " Community website (hypecode.smhi.se), as well\n",
      " as information on up-coming courses.         \n",
      " ---------------------------------------------\n"
     ]
    },
    {
     "name": "stderr",
     "output_type": "stream",
     "text": [
      "Restoring modules from user's fhimp-mods\n",
      " -> Simulation will halt: successfully\n",
      "Note: The following floating-point exceptions are signalling: IEEE_UNDERFLOW_FLAG IEEE_DENORMAL\n",
      "STOP 0\n"
     ]
    },
    {
     "name": "stdout",
     "output_type": "stream",
     "text": [
      "end at Wed 17 Apr 2024 11:13:07 PM EDT\n"
     ]
    },
    {
     "name": "stderr",
     "output_type": "stream",
     "text": [
      "Restoring modules from user's fhimp-mods\n",
      " -> Simulation will halt: successfully\n",
      "Note: The following floating-point exceptions are signalling: IEEE_UNDERFLOW_FLAG IEEE_DENORMAL\n",
      "STOP 0\n"
     ]
    },
    {
     "name": "stdout",
     "output_type": "stream",
     "text": [
      "end at Wed 17 Apr 2024 11:13:08 PM EDT\n"
     ]
    },
    {
     "name": "stderr",
     "output_type": "stream",
     "text": [
      "Restoring modules from user's fhimp-mods\n",
      " -> Simulation will halt: successfully\n",
      "Note: The following floating-point exceptions are signalling: IEEE_UNDERFLOW_FLAG IEEE_DENORMAL\n",
      "STOP 0\n"
     ]
    },
    {
     "name": "stdout",
     "output_type": "stream",
     "text": [
      "end at Wed 17 Apr 2024 11:13:11 PM EDT\n"
     ]
    },
    {
     "name": "stderr",
     "output_type": "stream",
     "text": [
      "Restoring modules from user's fhimp-mods\n"
     ]
    },
    {
     "name": "stdout",
     "output_type": "stream",
     "text": [
      "start at Wed 17 Apr 2024 11:13:11 PM EDT\n",
      " ---------------------------------------------\n",
      "    HYPE version 5.24.0                  \n",
      " ---------------------------------------------\n",
      " New versions of HYPE at the HYPE Open Source \n",
      " Community website (hypecode.smhi.se), as well\n",
      " as information on up-coming courses.         \n",
      " ---------------------------------------------\n",
      "start at Wed 17 Apr 2024 11:13:13 PM EDT\n",
      " ---------------------------------------------\n",
      "    HYPE version 5.24.0                  \n",
      " ---------------------------------------------\n",
      " New versions of HYPE at the HYPE Open Source \n",
      " Community website (hypecode.smhi.se), as well\n",
      " as information on up-coming courses.         \n",
      " ---------------------------------------------\n",
      "start at Wed 17 Apr 2024 11:13:14 PM EDT\n",
      " ---------------------------------------------\n",
      "    HYPE version 5.24.0                  \n",
      " ---------------------------------------------\n",
      " New versions of HYPE at the HYPE Open Source \n",
      " Community website (hypecode.smhi.se), as well\n",
      " as information on up-coming courses.         \n",
      " ---------------------------------------------\n"
     ]
    },
    {
     "name": "stderr",
     "output_type": "stream",
     "text": [
      " -> Simulation will halt: successfully\n",
      "Note: The following floating-point exceptions are signalling: IEEE_UNDERFLOW_FLAG IEEE_DENORMAL\n",
      "STOP 0\n"
     ]
    },
    {
     "name": "stdout",
     "output_type": "stream",
     "text": [
      "end at Wed 17 Apr 2024 11:13:17 PM EDT\n",
      "start at Wed 17 Apr 2024 11:13:17 PM EDT\n",
      " ---------------------------------------------\n",
      "    HYPE version 5.24.0                  \n",
      " ---------------------------------------------\n",
      " New versions of HYPE at the HYPE Open Source \n",
      " Community website (hypecode.smhi.se), as well\n",
      " as information on up-coming courses.         \n",
      " ---------------------------------------------\n"
     ]
    },
    {
     "name": "stderr",
     "output_type": "stream",
     "text": [
      "Restoring modules from user's fhimp-mods\n",
      " -> Simulation will halt: successfully\n",
      "Note: The following floating-point exceptions are signalling: IEEE_UNDERFLOW_FLAG IEEE_DENORMAL\n",
      "STOP 0\n"
     ]
    },
    {
     "name": "stdout",
     "output_type": "stream",
     "text": [
      "end at Wed 17 Apr 2024 11:13:19 PM EDT\n"
     ]
    },
    {
     "name": "stderr",
     "output_type": "stream",
     "text": [
      "Restoring modules from user's fhimp-mods\n",
      " -> Simulation will halt: successfully\n",
      "Note: The following floating-point exceptions are signalling: IEEE_UNDERFLOW_FLAG IEEE_DENORMAL\n",
      "STOP 0\n"
     ]
    },
    {
     "name": "stdout",
     "output_type": "stream",
     "text": [
      "end at Wed 17 Apr 2024 11:13:20 PM EDT\n"
     ]
    },
    {
     "name": "stderr",
     "output_type": "stream",
     "text": [
      "Restoring modules from user's fhimp-mods\n",
      " -> Simulation will halt: successfully\n",
      "Note: The following floating-point exceptions are signalling: IEEE_UNDERFLOW_FLAG IEEE_DENORMAL\n",
      "STOP 0\n"
     ]
    },
    {
     "name": "stdout",
     "output_type": "stream",
     "text": [
      "end at Wed 17 Apr 2024 11:13:23 PM EDT\n",
      "start at Wed 17 Apr 2024 11:13:24 PM EDT\n",
      " ---------------------------------------------\n",
      "    HYPE version 5.24.0                  \n",
      " ---------------------------------------------\n",
      " New versions of HYPE at the HYPE Open Source \n",
      " Community website (hypecode.smhi.se), as well\n",
      " as information on up-coming courses.         \n",
      " ---------------------------------------------\n"
     ]
    },
    {
     "name": "stderr",
     "output_type": "stream",
     "text": [
      "Restoring modules from user's fhimp-mods\n"
     ]
    },
    {
     "name": "stdout",
     "output_type": "stream",
     "text": [
      "start at Wed 17 Apr 2024 11:13:26 PM EDT\n",
      " ---------------------------------------------\n",
      "    HYPE version 5.24.0                  \n",
      " ---------------------------------------------\n",
      " New versions of HYPE at the HYPE Open Source \n",
      " Community website (hypecode.smhi.se), as well\n",
      " as information on up-coming courses.         \n",
      " ---------------------------------------------\n",
      "start at Wed 17 Apr 2024 11:13:26 PM EDT\n",
      " ---------------------------------------------\n",
      "    HYPE version 5.24.0                  \n",
      " ---------------------------------------------\n",
      " New versions of HYPE at the HYPE Open Source \n",
      " Community website (hypecode.smhi.se), as well\n",
      " as information on up-coming courses.         \n",
      " ---------------------------------------------\n"
     ]
    },
    {
     "name": "stderr",
     "output_type": "stream",
     "text": [
      " -> Simulation will halt: successfully\n",
      "Note: The following floating-point exceptions are signalling: IEEE_UNDERFLOW_FLAG IEEE_DENORMAL\n",
      "STOP 0\n"
     ]
    },
    {
     "name": "stdout",
     "output_type": "stream",
     "text": [
      "end at Wed 17 Apr 2024 11:13:30 PM EDT\n"
     ]
    },
    {
     "name": "stderr",
     "output_type": "stream",
     "text": [
      "Restoring modules from user's fhimp-mods\n"
     ]
    },
    {
     "name": "stdout",
     "output_type": "stream",
     "text": [
      "start at Wed 17 Apr 2024 11:13:30 PM EDT\n",
      " ---------------------------------------------\n",
      "    HYPE version 5.24.0                  \n",
      " ---------------------------------------------\n",
      " New versions of HYPE at the HYPE Open Source \n",
      " Community website (hypecode.smhi.se), as well\n",
      " as information on up-coming courses.         \n",
      " ---------------------------------------------\n"
     ]
    },
    {
     "name": "stderr",
     "output_type": "stream",
     "text": [
      " -> Simulation will halt: successfully\n",
      "Note: The following floating-point exceptions are signalling: IEEE_UNDERFLOW_FLAG IEEE_DENORMAL\n",
      "STOP 0\n"
     ]
    },
    {
     "name": "stdout",
     "output_type": "stream",
     "text": [
      "end at Wed 17 Apr 2024 11:13:32 PM EDT\n"
     ]
    },
    {
     "name": "stderr",
     "output_type": "stream",
     "text": [
      "Restoring modules from user's fhimp-mods\n",
      " -> Simulation will halt: successfully\n",
      "Note: The following floating-point exceptions are signalling: IEEE_UNDERFLOW_FLAG IEEE_DENORMAL\n",
      "STOP 0\n"
     ]
    },
    {
     "name": "stdout",
     "output_type": "stream",
     "text": [
      "end at Wed 17 Apr 2024 11:13:33 PM EDT\n"
     ]
    },
    {
     "name": "stderr",
     "output_type": "stream",
     "text": [
      "Restoring modules from user's fhimp-mods\n"
     ]
    },
    {
     "name": "stdout",
     "output_type": "stream",
     "text": [
      "start at Wed 17 Apr 2024 11:13:36 PM EDT\n",
      " ---------------------------------------------\n",
      "    HYPE version 5.24.0                  \n",
      " ---------------------------------------------\n",
      " New versions of HYPE at the HYPE Open Source \n",
      " Community website (hypecode.smhi.se), as well\n",
      " as information on up-coming courses.         \n",
      " ---------------------------------------------\n"
     ]
    },
    {
     "name": "stderr",
     "output_type": "stream",
     "text": [
      " -> Simulation will halt: successfully\n",
      "Note: The following floating-point exceptions are signalling: IEEE_UNDERFLOW_FLAG IEEE_DENORMAL\n",
      "STOP 0\n"
     ]
    },
    {
     "name": "stdout",
     "output_type": "stream",
     "text": [
      "end at Wed 17 Apr 2024 11:13:36 PM EDT\n"
     ]
    },
    {
     "name": "stderr",
     "output_type": "stream",
     "text": [
      "Restoring modules from user's fhimp-mods\n"
     ]
    },
    {
     "name": "stdout",
     "output_type": "stream",
     "text": [
      "start at Wed 17 Apr 2024 11:13:38 PM EDT\n",
      " ---------------------------------------------\n",
      "    HYPE version 5.24.0                  \n",
      " ---------------------------------------------\n",
      " New versions of HYPE at the HYPE Open Source \n",
      " Community website (hypecode.smhi.se), as well\n",
      " as information on up-coming courses.         \n",
      " ---------------------------------------------\n",
      "start at Wed 17 Apr 2024 11:13:39 PM EDT\n",
      " ---------------------------------------------\n",
      "    HYPE version 5.24.0                  \n",
      " ---------------------------------------------\n",
      " New versions of HYPE at the HYPE Open Source \n",
      " Community website (hypecode.smhi.se), as well\n",
      " as information on up-coming courses.         \n",
      " ---------------------------------------------\n"
     ]
    },
    {
     "name": "stderr",
     "output_type": "stream",
     "text": [
      " -> Simulation will halt: successfully\n",
      "Note: The following floating-point exceptions are signalling: IEEE_UNDERFLOW_FLAG IEEE_DENORMAL\n",
      "STOP 0\n"
     ]
    },
    {
     "name": "stdout",
     "output_type": "stream",
     "text": [
      "end at Wed 17 Apr 2024 11:13:42 PM EDT\n"
     ]
    },
    {
     "name": "stderr",
     "output_type": "stream",
     "text": [
      "Restoring modules from user's fhimp-mods\n"
     ]
    },
    {
     "name": "stdout",
     "output_type": "stream",
     "text": [
      "start at Wed 17 Apr 2024 11:13:43 PM EDT\n",
      " ---------------------------------------------\n",
      "    HYPE version 5.24.0                  \n",
      " ---------------------------------------------\n",
      " New versions of HYPE at the HYPE Open Source \n",
      " Community website (hypecode.smhi.se), as well\n",
      " as information on up-coming courses.         \n",
      " ---------------------------------------------\n"
     ]
    },
    {
     "name": "stderr",
     "output_type": "stream",
     "text": [
      " -> Simulation will halt: successfully\n",
      "Note: The following floating-point exceptions are signalling: IEEE_UNDERFLOW_FLAG IEEE_DENORMAL\n",
      "STOP 0\n"
     ]
    },
    {
     "name": "stdout",
     "output_type": "stream",
     "text": [
      "end at Wed 17 Apr 2024 11:13:44 PM EDT\n"
     ]
    },
    {
     "name": "stderr",
     "output_type": "stream",
     "text": [
      "Restoring modules from user's fhimp-mods\n",
      " -> Simulation will halt: successfully\n",
      "Note: The following floating-point exceptions are signalling: IEEE_UNDERFLOW_FLAG IEEE_DENORMAL\n",
      "STOP 0\n"
     ]
    },
    {
     "name": "stdout",
     "output_type": "stream",
     "text": [
      "end at Wed 17 Apr 2024 11:13:45 PM EDT\n"
     ]
    },
    {
     "name": "stderr",
     "output_type": "stream",
     "text": [
      "Restoring modules from user's fhimp-mods\n"
     ]
    },
    {
     "name": "stdout",
     "output_type": "stream",
     "text": [
      "start at Wed 17 Apr 2024 11:13:49 PM EDT\n",
      " ---------------------------------------------\n",
      "    HYPE version 5.24.0                  \n",
      " ---------------------------------------------\n",
      " New versions of HYPE at the HYPE Open Source \n",
      " Community website (hypecode.smhi.se), as well\n",
      " as information on up-coming courses.         \n",
      " ---------------------------------------------\n"
     ]
    },
    {
     "name": "stderr",
     "output_type": "stream",
     "text": [
      " -> Simulation will halt: successfully\n",
      "Note: The following floating-point exceptions are signalling: IEEE_UNDERFLOW_FLAG IEEE_DENORMAL\n",
      "STOP 0\n"
     ]
    },
    {
     "name": "stdout",
     "output_type": "stream",
     "text": [
      "end at Wed 17 Apr 2024 11:13:49 PM EDT\n"
     ]
    },
    {
     "name": "stderr",
     "output_type": "stream",
     "text": [
      "Restoring modules from user's fhimp-mods\n"
     ]
    },
    {
     "name": "stdout",
     "output_type": "stream",
     "text": [
      "start at Wed 17 Apr 2024 11:13:51 PM EDT\n",
      " ---------------------------------------------\n",
      "    HYPE version 5.24.0                  \n",
      " ---------------------------------------------\n",
      " New versions of HYPE at the HYPE Open Source \n",
      " Community website (hypecode.smhi.se), as well\n",
      " as information on up-coming courses.         \n",
      " ---------------------------------------------\n",
      "start at Wed 17 Apr 2024 11:13:51 PM EDT\n",
      " ---------------------------------------------\n",
      "    HYPE version 5.24.0                  \n",
      " ---------------------------------------------\n",
      " New versions of HYPE at the HYPE Open Source \n",
      " Community website (hypecode.smhi.se), as well\n",
      " as information on up-coming courses.         \n",
      " ---------------------------------------------\n"
     ]
    },
    {
     "name": "stderr",
     "output_type": "stream",
     "text": [
      " -> Simulation will halt: successfully\n",
      "Note: The following floating-point exceptions are signalling: IEEE_UNDERFLOW_FLAG IEEE_DENORMAL\n",
      "STOP 0\n"
     ]
    },
    {
     "name": "stdout",
     "output_type": "stream",
     "text": [
      "end at Wed 17 Apr 2024 11:13:55 PM EDT\n"
     ]
    },
    {
     "name": "stderr",
     "output_type": "stream",
     "text": [
      "Restoring modules from user's fhimp-mods\n"
     ]
    },
    {
     "name": "stdout",
     "output_type": "stream",
     "text": [
      "start at Wed 17 Apr 2024 11:13:56 PM EDT\n",
      " ---------------------------------------------\n",
      "    HYPE version 5.24.0                  \n",
      " ---------------------------------------------\n",
      " New versions of HYPE at the HYPE Open Source \n",
      " Community website (hypecode.smhi.se), as well\n",
      " as information on up-coming courses.         \n",
      " ---------------------------------------------\n"
     ]
    },
    {
     "name": "stderr",
     "output_type": "stream",
     "text": [
      " -> Simulation will halt: successfully\n",
      "Note: The following floating-point exceptions are signalling: IEEE_UNDERFLOW_FLAG IEEE_DENORMAL\n",
      "STOP 0\n"
     ]
    },
    {
     "name": "stdout",
     "output_type": "stream",
     "text": [
      "end at Wed 17 Apr 2024 11:13:56 PM EDT\n"
     ]
    },
    {
     "name": "stderr",
     "output_type": "stream",
     "text": [
      "Restoring modules from user's fhimp-mods\n",
      " -> Simulation will halt: successfully\n",
      "Note: The following floating-point exceptions are signalling: IEEE_UNDERFLOW_FLAG IEEE_DENORMAL\n",
      "STOP 0\n"
     ]
    },
    {
     "name": "stdout",
     "output_type": "stream",
     "text": [
      "end at Wed 17 Apr 2024 11:13:57 PM EDT\n"
     ]
    },
    {
     "name": "stderr",
     "output_type": "stream",
     "text": [
      "Restoring modules from user's fhimp-mods\n"
     ]
    },
    {
     "name": "stdout",
     "output_type": "stream",
     "text": [
      "start at Wed 17 Apr 2024 11:14:01 PM EDT\n",
      " ---------------------------------------------\n",
      "    HYPE version 5.24.0                  \n",
      " ---------------------------------------------\n",
      " New versions of HYPE at the HYPE Open Source \n",
      " Community website (hypecode.smhi.se), as well\n",
      " as information on up-coming courses.         \n",
      " ---------------------------------------------\n"
     ]
    },
    {
     "name": "stderr",
     "output_type": "stream",
     "text": [
      " -> Simulation will halt: successfully\n",
      "Note: The following floating-point exceptions are signalling: IEEE_UNDERFLOW_FLAG IEEE_DENORMAL\n",
      "STOP 0\n"
     ]
    },
    {
     "name": "stdout",
     "output_type": "stream",
     "text": [
      "end at Wed 17 Apr 2024 11:14:02 PM EDT\n"
     ]
    },
    {
     "name": "stderr",
     "output_type": "stream",
     "text": [
      "Restoring modules from user's fhimp-mods\n"
     ]
    },
    {
     "name": "stdout",
     "output_type": "stream",
     "text": [
      "start at Wed 17 Apr 2024 11:14:03 PM EDT\n",
      " ---------------------------------------------\n",
      "    HYPE version 5.24.0                  \n",
      " ---------------------------------------------\n",
      " New versions of HYPE at the HYPE Open Source \n",
      " Community website (hypecode.smhi.se), as well\n",
      " as information on up-coming courses.         \n",
      " ---------------------------------------------\n",
      "start at Wed 17 Apr 2024 11:14:04 PM EDT\n",
      " ---------------------------------------------\n",
      "    HYPE version 5.24.0                  \n",
      " ---------------------------------------------\n",
      " New versions of HYPE at the HYPE Open Source \n",
      " Community website (hypecode.smhi.se), as well\n",
      " as information on up-coming courses.         \n",
      " ---------------------------------------------\n"
     ]
    },
    {
     "name": "stderr",
     "output_type": "stream",
     "text": [
      " -> Simulation will halt: successfully\n",
      "Note: The following floating-point exceptions are signalling: IEEE_UNDERFLOW_FLAG IEEE_DENORMAL\n",
      "STOP 0\n"
     ]
    },
    {
     "name": "stdout",
     "output_type": "stream",
     "text": [
      "end at Wed 17 Apr 2024 11:14:07 PM EDT\n"
     ]
    },
    {
     "name": "stderr",
     "output_type": "stream",
     "text": [
      "Restoring modules from user's fhimp-mods\n",
      " -> Simulation will halt: successfully\n",
      "Note: The following floating-point exceptions are signalling: IEEE_UNDERFLOW_FLAG IEEE_DENORMAL\n",
      "STOP 0\n"
     ]
    },
    {
     "name": "stdout",
     "output_type": "stream",
     "text": [
      "end at Wed 17 Apr 2024 11:14:09 PM EDT\n"
     ]
    },
    {
     "name": "stderr",
     "output_type": "stream",
     "text": [
      "Restoring modules from user's fhimp-mods\n"
     ]
    },
    {
     "name": "stdout",
     "output_type": "stream",
     "text": [
      "start at Wed 17 Apr 2024 11:14:09 PM EDT\n",
      " ---------------------------------------------\n",
      "    HYPE version 5.24.0                  \n",
      " ---------------------------------------------\n",
      " New versions of HYPE at the HYPE Open Source \n",
      " Community website (hypecode.smhi.se), as well\n",
      " as information on up-coming courses.         \n",
      " ---------------------------------------------\n"
     ]
    },
    {
     "name": "stderr",
     "output_type": "stream",
     "text": [
      " -> Simulation will halt: successfully\n",
      "Note: The following floating-point exceptions are signalling: IEEE_UNDERFLOW_FLAG IEEE_DENORMAL\n",
      "STOP 0\n"
     ]
    },
    {
     "name": "stdout",
     "output_type": "stream",
     "text": [
      "end at Wed 17 Apr 2024 11:14:10 PM EDT\n"
     ]
    },
    {
     "name": "stderr",
     "output_type": "stream",
     "text": [
      "Restoring modules from user's fhimp-mods\n"
     ]
    },
    {
     "name": "stdout",
     "output_type": "stream",
     "text": [
      "start at Wed 17 Apr 2024 11:14:14 PM EDT\n",
      " ---------------------------------------------\n",
      "    HYPE version 5.24.0                  \n",
      " ---------------------------------------------\n",
      " New versions of HYPE at the HYPE Open Source \n",
      " Community website (hypecode.smhi.se), as well\n",
      " as information on up-coming courses.         \n",
      " ---------------------------------------------\n",
      "start at Wed 17 Apr 2024 11:14:15 PM EDT\n",
      " ---------------------------------------------\n",
      "    HYPE version 5.24.0                  \n",
      " ---------------------------------------------\n",
      " New versions of HYPE at the HYPE Open Source \n",
      " Community website (hypecode.smhi.se), as well\n",
      " as information on up-coming courses.         \n",
      " ---------------------------------------------\n",
      "end at Wed 17 Apr 2024 11:14:15 PM EDT\n"
     ]
    },
    {
     "name": "stderr",
     "output_type": "stream",
     "text": [
      " -> Simulation will halt: successfully\n",
      "Note: The following floating-point exceptions are signalling: IEEE_UNDERFLOW_FLAG IEEE_DENORMAL\n",
      "STOP 0\n",
      "Restoring modules from user's fhimp-mods\n"
     ]
    },
    {
     "name": "stdout",
     "output_type": "stream",
     "text": [
      "start at Wed 17 Apr 2024 11:14:16 PM EDT\n",
      " ---------------------------------------------\n",
      "    HYPE version 5.24.0                  \n",
      " ---------------------------------------------\n",
      " New versions of HYPE at the HYPE Open Source \n",
      " Community website (hypecode.smhi.se), as well\n",
      " as information on up-coming courses.         \n",
      " ---------------------------------------------\n"
     ]
    },
    {
     "name": "stderr",
     "output_type": "stream",
     "text": [
      " -> Simulation will halt: successfully\n",
      "Note: The following floating-point exceptions are signalling: IEEE_UNDERFLOW_FLAG IEEE_DENORMAL\n",
      "STOP 0\n"
     ]
    },
    {
     "name": "stdout",
     "output_type": "stream",
     "text": [
      "end at Wed 17 Apr 2024 11:14:20 PM EDT\n"
     ]
    },
    {
     "name": "stderr",
     "output_type": "stream",
     "text": [
      "Restoring modules from user's fhimp-mods\n",
      " -> Simulation will halt: successfully\n",
      "Note: The following floating-point exceptions are signalling: IEEE_UNDERFLOW_FLAG IEEE_DENORMAL\n",
      "STOP 0\n"
     ]
    },
    {
     "name": "stdout",
     "output_type": "stream",
     "text": [
      "end at Wed 17 Apr 2024 11:14:21 PM EDT\n"
     ]
    },
    {
     "name": "stderr",
     "output_type": "stream",
     "text": [
      "Restoring modules from user's fhimp-mods\n"
     ]
    },
    {
     "name": "stdout",
     "output_type": "stream",
     "text": [
      "start at Wed 17 Apr 2024 11:14:22 PM EDT\n",
      " ---------------------------------------------\n",
      "    HYPE version 5.24.0                  \n",
      " ---------------------------------------------\n",
      " New versions of HYPE at the HYPE Open Source \n",
      " Community website (hypecode.smhi.se), as well\n",
      " as information on up-coming courses.         \n",
      " ---------------------------------------------\n",
      "end at Wed 17 Apr 2024 11:14:22 PM EDT\n"
     ]
    },
    {
     "name": "stderr",
     "output_type": "stream",
     "text": [
      " -> Simulation will halt: successfully\n",
      "Note: The following floating-point exceptions are signalling: IEEE_UNDERFLOW_FLAG IEEE_DENORMAL\n",
      "STOP 0\n",
      "Restoring modules from user's fhimp-mods\n"
     ]
    },
    {
     "name": "stdout",
     "output_type": "stream",
     "text": [
      "start at Wed 17 Apr 2024 11:14:26 PM EDT\n",
      " ---------------------------------------------\n",
      "    HYPE version 5.24.0                  \n",
      " ---------------------------------------------\n",
      " New versions of HYPE at the HYPE Open Source \n",
      " Community website (hypecode.smhi.se), as well\n",
      " as information on up-coming courses.         \n",
      " ---------------------------------------------\n",
      "start at Wed 17 Apr 2024 11:14:28 PM EDT\n",
      " ---------------------------------------------\n",
      "    HYPE version 5.24.0                  \n",
      " ---------------------------------------------\n",
      " New versions of HYPE at the HYPE Open Source \n",
      " Community website (hypecode.smhi.se), as well\n",
      " as information on up-coming courses.         \n",
      " ---------------------------------------------\n",
      "end at Wed 17 Apr 2024 11:14:28 PM EDT\n"
     ]
    },
    {
     "name": "stderr",
     "output_type": "stream",
     "text": [
      " -> Simulation will halt: successfully\n",
      "Note: The following floating-point exceptions are signalling: IEEE_UNDERFLOW_FLAG IEEE_DENORMAL\n",
      "STOP 0\n",
      "Restoring modules from user's fhimp-mods\n"
     ]
    },
    {
     "name": "stdout",
     "output_type": "stream",
     "text": [
      "start at Wed 17 Apr 2024 11:14:29 PM EDT\n",
      " ---------------------------------------------\n",
      "    HYPE version 5.24.0                  \n",
      " ---------------------------------------------\n",
      " New versions of HYPE at the HYPE Open Source \n",
      " Community website (hypecode.smhi.se), as well\n",
      " as information on up-coming courses.         \n",
      " ---------------------------------------------\n"
     ]
    },
    {
     "name": "stderr",
     "output_type": "stream",
     "text": [
      " -> Simulation will halt: successfully\n",
      "Note: The following floating-point exceptions are signalling: IEEE_UNDERFLOW_FLAG IEEE_DENORMAL\n",
      "STOP 0\n"
     ]
    },
    {
     "name": "stdout",
     "output_type": "stream",
     "text": [
      "end at Wed 17 Apr 2024 11:14:32 PM EDT\n"
     ]
    },
    {
     "name": "stderr",
     "output_type": "stream",
     "text": [
      "Restoring modules from user's fhimp-mods\n",
      " -> Simulation will halt: successfully\n",
      "Note: The following floating-point exceptions are signalling: IEEE_UNDERFLOW_FLAG IEEE_DENORMAL\n",
      "STOP 0\n"
     ]
    },
    {
     "name": "stdout",
     "output_type": "stream",
     "text": [
      "end at Wed 17 Apr 2024 11:14:34 PM EDT\n"
     ]
    },
    {
     "name": "stderr",
     "output_type": "stream",
     "text": [
      "Restoring modules from user's fhimp-mods\n",
      " -> Simulation will halt: successfully\n",
      "Note: The following floating-point exceptions are signalling: IEEE_UNDERFLOW_FLAG IEEE_DENORMAL\n",
      "STOP 0\n"
     ]
    },
    {
     "name": "stdout",
     "output_type": "stream",
     "text": [
      "end at Wed 17 Apr 2024 11:14:35 PM EDT\n",
      "start at Wed 17 Apr 2024 11:14:35 PM EDT\n",
      " ---------------------------------------------\n",
      "    HYPE version 5.24.0                  \n",
      " ---------------------------------------------\n",
      " New versions of HYPE at the HYPE Open Source \n",
      " Community website (hypecode.smhi.se), as well\n",
      " as information on up-coming courses.         \n",
      " ---------------------------------------------\n"
     ]
    },
    {
     "name": "stderr",
     "output_type": "stream",
     "text": [
      "Restoring modules from user's fhimp-mods\n"
     ]
    },
    {
     "name": "stdout",
     "output_type": "stream",
     "text": [
      "start at Wed 17 Apr 2024 11:14:39 PM EDT\n",
      " ---------------------------------------------\n",
      "    HYPE version 5.24.0                  \n",
      " ---------------------------------------------\n",
      " New versions of HYPE at the HYPE Open Source \n",
      " Community website (hypecode.smhi.se), as well\n",
      " as information on up-coming courses.         \n",
      " ---------------------------------------------\n",
      "start at Wed 17 Apr 2024 11:14:41 PM EDT\n",
      " ---------------------------------------------\n",
      "    HYPE version 5.24.0                  \n",
      " ---------------------------------------------\n",
      " New versions of HYPE at the HYPE Open Source \n",
      " Community website (hypecode.smhi.se), as well\n",
      " as information on up-coming courses.         \n",
      " ---------------------------------------------\n"
     ]
    },
    {
     "name": "stderr",
     "output_type": "stream",
     "text": [
      " -> Simulation will halt: successfully\n",
      "Note: The following floating-point exceptions are signalling: IEEE_UNDERFLOW_FLAG IEEE_DENORMAL\n",
      "STOP 0\n"
     ]
    },
    {
     "name": "stdout",
     "output_type": "stream",
     "text": [
      "end at Wed 17 Apr 2024 11:14:41 PM EDT\n",
      "start at Wed 17 Apr 2024 11:14:41 PM EDT\n",
      " ---------------------------------------------\n",
      "    HYPE version 5.24.0                  \n",
      " ---------------------------------------------\n",
      " New versions of HYPE at the HYPE Open Source \n",
      " Community website (hypecode.smhi.se), as well\n",
      " as information on up-coming courses.         \n",
      " ---------------------------------------------\n"
     ]
    },
    {
     "name": "stderr",
     "output_type": "stream",
     "text": [
      "Restoring modules from user's fhimp-mods\n",
      " -> Simulation will halt: successfully\n",
      "Note: The following floating-point exceptions are signalling: IEEE_UNDERFLOW_FLAG IEEE_DENORMAL\n",
      "STOP 0\n"
     ]
    },
    {
     "name": "stdout",
     "output_type": "stream",
     "text": [
      "end at Wed 17 Apr 2024 11:14:45 PM EDT\n"
     ]
    },
    {
     "name": "stderr",
     "output_type": "stream",
     "text": [
      "Restoring modules from user's fhimp-mods\n",
      " -> Simulation will halt: successfully\n",
      "Note: The following floating-point exceptions are signalling: IEEE_UNDERFLOW_FLAG IEEE_DENORMAL\n",
      "STOP 0\n"
     ]
    },
    {
     "name": "stdout",
     "output_type": "stream",
     "text": [
      "end at Wed 17 Apr 2024 11:14:47 PM EDT\n"
     ]
    },
    {
     "name": "stderr",
     "output_type": "stream",
     "text": [
      "Restoring modules from user's fhimp-mods\n",
      " -> Simulation will halt: successfully\n",
      "Note: The following floating-point exceptions are signalling: IEEE_UNDERFLOW_FLAG IEEE_DENORMAL\n",
      "STOP 0\n"
     ]
    },
    {
     "name": "stdout",
     "output_type": "stream",
     "text": [
      "end at Wed 17 Apr 2024 11:14:47 PM EDT\n"
     ]
    },
    {
     "name": "stderr",
     "output_type": "stream",
     "text": [
      "Restoring modules from user's fhimp-mods\n"
     ]
    },
    {
     "name": "stdout",
     "output_type": "stream",
     "text": [
      "start at Wed 17 Apr 2024 11:14:48 PM EDT\n",
      " ---------------------------------------------\n",
      "    HYPE version 5.24.0                  \n",
      " ---------------------------------------------\n",
      " New versions of HYPE at the HYPE Open Source \n",
      " Community website (hypecode.smhi.se), as well\n",
      " as information on up-coming courses.         \n",
      " ---------------------------------------------\n",
      "start at Wed 17 Apr 2024 11:14:51 PM EDT\n",
      " ---------------------------------------------\n",
      "    HYPE version 5.24.0                  \n",
      " ---------------------------------------------\n",
      " New versions of HYPE at the HYPE Open Source \n",
      " Community website (hypecode.smhi.se), as well\n",
      " as information on up-coming courses.         \n",
      " ---------------------------------------------\n",
      "start at Wed 17 Apr 2024 11:14:53 PM EDT\n",
      " ---------------------------------------------\n",
      "    HYPE version 5.24.0                  \n",
      " ---------------------------------------------\n",
      " New versions of HYPE at the HYPE Open Source \n",
      " Community website (hypecode.smhi.se), as well\n",
      " as information on up-coming courses.         \n",
      " ---------------------------------------------\n"
     ]
    },
    {
     "name": "stderr",
     "output_type": "stream",
     "text": [
      " -> Simulation will halt: successfully\n",
      "Note: The following floating-point exceptions are signalling: IEEE_UNDERFLOW_FLAG IEEE_DENORMAL\n",
      "STOP 0\n"
     ]
    },
    {
     "name": "stdout",
     "output_type": "stream",
     "text": [
      "end at Wed 17 Apr 2024 11:14:54 PM EDT\n",
      "start at Wed 17 Apr 2024 11:14:54 PM EDT\n",
      " ---------------------------------------------\n",
      "    HYPE version 5.24.0                  \n",
      " ---------------------------------------------\n",
      " New versions of HYPE at the HYPE Open Source \n",
      " Community website (hypecode.smhi.se), as well\n",
      " as information on up-coming courses.         \n",
      " ---------------------------------------------\n"
     ]
    },
    {
     "name": "stderr",
     "output_type": "stream",
     "text": [
      "Restoring modules from user's fhimp-mods\n",
      " -> Simulation will halt: successfully\n",
      "Note: The following floating-point exceptions are signalling: IEEE_UNDERFLOW_FLAG IEEE_DENORMAL\n",
      "STOP 0\n"
     ]
    },
    {
     "name": "stdout",
     "output_type": "stream",
     "text": [
      "end at Wed 17 Apr 2024 11:14:57 PM EDT\n"
     ]
    },
    {
     "name": "stderr",
     "output_type": "stream",
     "text": [
      "Restoring modules from user's fhimp-mods\n",
      " -> Simulation will halt: successfully\n",
      "Note: The following floating-point exceptions are signalling: IEEE_UNDERFLOW_FLAG IEEE_DENORMAL\n",
      "STOP 0\n"
     ]
    },
    {
     "name": "stdout",
     "output_type": "stream",
     "text": [
      "end at Wed 17 Apr 2024 11:14:59 PM EDT\n"
     ]
    },
    {
     "name": "stderr",
     "output_type": "stream",
     "text": [
      "Restoring modules from user's fhimp-mods\n",
      " -> Simulation will halt: successfully\n",
      "Note: The following floating-point exceptions are signalling: IEEE_UNDERFLOW_FLAG IEEE_DENORMAL\n",
      "STOP 0\n"
     ]
    },
    {
     "name": "stdout",
     "output_type": "stream",
     "text": [
      "end at Wed 17 Apr 2024 11:15:00 PM EDT\n"
     ]
    },
    {
     "name": "stderr",
     "output_type": "stream",
     "text": [
      "Restoring modules from user's fhimp-mods\n"
     ]
    },
    {
     "name": "stdout",
     "output_type": "stream",
     "text": [
      "start at Wed 17 Apr 2024 11:15:00 PM EDT\n",
      " ---------------------------------------------\n",
      "    HYPE version 5.24.0                  \n",
      " ---------------------------------------------\n",
      " New versions of HYPE at the HYPE Open Source \n",
      " Community website (hypecode.smhi.se), as well\n",
      " as information on up-coming courses.         \n",
      " ---------------------------------------------\n",
      "start at Wed 17 Apr 2024 11:15:04 PM EDT\n",
      " ---------------------------------------------\n",
      "    HYPE version 5.24.0                  \n",
      " ---------------------------------------------\n",
      " New versions of HYPE at the HYPE Open Source \n",
      " Community website (hypecode.smhi.se), as well\n",
      " as information on up-coming courses.         \n",
      " ---------------------------------------------\n",
      "start at Wed 17 Apr 2024 11:15:05 PM EDT\n",
      " ---------------------------------------------\n",
      "    HYPE version 5.24.0                  \n",
      " ---------------------------------------------\n",
      " New versions of HYPE at the HYPE Open Source \n",
      " Community website (hypecode.smhi.se), as well\n",
      " as information on up-coming courses.         \n",
      " ---------------------------------------------\n",
      "start at Wed 17 Apr 2024 11:15:06 PM EDT\n",
      " ---------------------------------------------\n",
      "    HYPE version 5.24.0                  \n",
      " ---------------------------------------------\n",
      " New versions of HYPE at the HYPE Open Source \n",
      " Community website (hypecode.smhi.se), as well\n",
      " as information on up-coming courses.         \n",
      " ---------------------------------------------\n"
     ]
    },
    {
     "name": "stderr",
     "output_type": "stream",
     "text": [
      " -> Simulation will halt: successfully\n",
      "Note: The following floating-point exceptions are signalling: IEEE_UNDERFLOW_FLAG IEEE_DENORMAL\n",
      "STOP 0\n"
     ]
    },
    {
     "name": "stdout",
     "output_type": "stream",
     "text": [
      "end at Wed 17 Apr 2024 11:15:06 PM EDT\n"
     ]
    },
    {
     "name": "stderr",
     "output_type": "stream",
     "text": [
      "Restoring modules from user's fhimp-mods\n",
      " -> Simulation will halt: successfully\n",
      "Note: The following floating-point exceptions are signalling: IEEE_UNDERFLOW_FLAG IEEE_DENORMAL\n",
      "STOP 0\n"
     ]
    },
    {
     "name": "stdout",
     "output_type": "stream",
     "text": [
      "end at Wed 17 Apr 2024 11:15:10 PM EDT\n"
     ]
    },
    {
     "name": "stderr",
     "output_type": "stream",
     "text": [
      "Restoring modules from user's fhimp-mods\n",
      " -> Simulation will halt: successfully\n",
      "Note: The following floating-point exceptions are signalling: IEEE_UNDERFLOW_FLAG IEEE_DENORMAL\n",
      "STOP 0\n"
     ]
    },
    {
     "name": "stdout",
     "output_type": "stream",
     "text": [
      "end at Wed 17 Apr 2024 11:15:11 PM EDT\n"
     ]
    },
    {
     "name": "stderr",
     "output_type": "stream",
     "text": [
      "Restoring modules from user's fhimp-mods\n",
      " -> Simulation will halt: successfully\n",
      "Note: The following floating-point exceptions are signalling: IEEE_UNDERFLOW_FLAG IEEE_DENORMAL\n",
      "STOP 0\n"
     ]
    },
    {
     "name": "stdout",
     "output_type": "stream",
     "text": [
      "end at Wed 17 Apr 2024 11:15:12 PM EDT\n"
     ]
    },
    {
     "name": "stderr",
     "output_type": "stream",
     "text": [
      "Restoring modules from user's fhimp-mods\n"
     ]
    },
    {
     "name": "stdout",
     "output_type": "stream",
     "text": [
      "start at Wed 17 Apr 2024 11:15:13 PM EDT\n",
      " ---------------------------------------------\n",
      "    HYPE version 5.24.0                  \n",
      " ---------------------------------------------\n",
      " New versions of HYPE at the HYPE Open Source \n",
      " Community website (hypecode.smhi.se), as well\n",
      " as information on up-coming courses.         \n",
      " ---------------------------------------------\n",
      "start at Wed 17 Apr 2024 11:15:16 PM EDT\n",
      " ---------------------------------------------\n",
      "    HYPE version 5.24.0                  \n",
      " ---------------------------------------------\n",
      " New versions of HYPE at the HYPE Open Source \n",
      " Community website (hypecode.smhi.se), as well\n",
      " as information on up-coming courses.         \n",
      " ---------------------------------------------\n",
      "start at Wed 17 Apr 2024 11:15:18 PM EDT\n",
      " ---------------------------------------------\n",
      "    HYPE version 5.24.0                  \n",
      " ---------------------------------------------\n",
      " New versions of HYPE at the HYPE Open Source \n",
      " Community website (hypecode.smhi.se), as well\n",
      " as information on up-coming courses.         \n",
      " ---------------------------------------------\n"
     ]
    },
    {
     "name": "stderr",
     "output_type": "stream",
     "text": [
      " -> Simulation will halt: successfully\n",
      "Note: The following floating-point exceptions are signalling: IEEE_UNDERFLOW_FLAG IEEE_DENORMAL\n",
      "STOP 0\n"
     ]
    },
    {
     "name": "stdout",
     "output_type": "stream",
     "text": [
      "end at Wed 17 Apr 2024 11:15:19 PM EDT\n",
      "start at Wed 17 Apr 2024 11:15:19 PM EDT\n",
      " ---------------------------------------------\n",
      "    HYPE version 5.24.0                  \n",
      " ---------------------------------------------\n",
      " New versions of HYPE at the HYPE Open Source \n",
      " Community website (hypecode.smhi.se), as well\n",
      " as information on up-coming courses.         \n",
      " ---------------------------------------------\n"
     ]
    },
    {
     "name": "stderr",
     "output_type": "stream",
     "text": [
      "Restoring modules from user's fhimp-mods\n",
      " -> Simulation will halt: successfully\n",
      "Note: The following floating-point exceptions are signalling: IEEE_UNDERFLOW_FLAG IEEE_DENORMAL\n",
      "STOP 0\n"
     ]
    },
    {
     "name": "stdout",
     "output_type": "stream",
     "text": [
      "end at Wed 17 Apr 2024 11:15:22 PM EDT\n"
     ]
    },
    {
     "name": "stderr",
     "output_type": "stream",
     "text": [
      "Restoring modules from user's fhimp-mods\n",
      " -> Simulation will halt: successfully\n",
      "Note: The following floating-point exceptions are signalling: IEEE_UNDERFLOW_FLAG IEEE_DENORMAL\n",
      "STOP 0\n"
     ]
    },
    {
     "name": "stdout",
     "output_type": "stream",
     "text": [
      "end at Wed 17 Apr 2024 11:15:24 PM EDT\n"
     ]
    },
    {
     "name": "stderr",
     "output_type": "stream",
     "text": [
      "Restoring modules from user's fhimp-mods\n",
      " -> Simulation will halt: successfully\n",
      "Note: The following floating-point exceptions are signalling: IEEE_UNDERFLOW_FLAG IEEE_DENORMAL\n",
      "STOP 0\n"
     ]
    },
    {
     "name": "stdout",
     "output_type": "stream",
     "text": [
      "end at Wed 17 Apr 2024 11:15:25 PM EDT\n"
     ]
    },
    {
     "name": "stderr",
     "output_type": "stream",
     "text": [
      "Restoring modules from user's fhimp-mods\n"
     ]
    },
    {
     "name": "stdout",
     "output_type": "stream",
     "text": [
      "start at Wed 17 Apr 2024 11:15:26 PM EDT\n",
      " ---------------------------------------------\n",
      "    HYPE version 5.24.0                  \n",
      " ---------------------------------------------\n",
      " New versions of HYPE at the HYPE Open Source \n",
      " Community website (hypecode.smhi.se), as well\n",
      " as information on up-coming courses.         \n",
      " ---------------------------------------------\n",
      "start at Wed 17 Apr 2024 11:15:29 PM EDT\n",
      " ---------------------------------------------\n",
      "    HYPE version 5.24.0                  \n",
      " ---------------------------------------------\n",
      " New versions of HYPE at the HYPE Open Source \n",
      " Community website (hypecode.smhi.se), as well\n",
      " as information on up-coming courses.         \n",
      " ---------------------------------------------\n",
      "start at Wed 17 Apr 2024 11:15:30 PM EDT\n",
      " ---------------------------------------------\n",
      "    HYPE version 5.24.0                  \n",
      " ---------------------------------------------\n",
      " New versions of HYPE at the HYPE Open Source \n",
      " Community website (hypecode.smhi.se), as well\n",
      " as information on up-coming courses.         \n",
      " ---------------------------------------------\n",
      "start at Wed 17 Apr 2024 11:15:32 PM EDT\n",
      " ---------------------------------------------\n",
      "    HYPE version 5.24.0                  \n",
      " ---------------------------------------------\n",
      " New versions of HYPE at the HYPE Open Source \n",
      " Community website (hypecode.smhi.se), as well\n",
      " as information on up-coming courses.         \n",
      " ---------------------------------------------\n"
     ]
    },
    {
     "name": "stderr",
     "output_type": "stream",
     "text": [
      " -> Simulation will halt: successfully\n",
      "Note: The following floating-point exceptions are signalling: IEEE_UNDERFLOW_FLAG IEEE_DENORMAL\n",
      "STOP 0\n"
     ]
    },
    {
     "name": "stdout",
     "output_type": "stream",
     "text": [
      "end at Wed 17 Apr 2024 11:15:32 PM EDT\n"
     ]
    },
    {
     "name": "stderr",
     "output_type": "stream",
     "text": [
      "Restoring modules from user's fhimp-mods\n",
      " -> Simulation will halt: successfully\n",
      "Note: The following floating-point exceptions are signalling: IEEE_UNDERFLOW_FLAG IEEE_DENORMAL\n",
      "STOP 0\n"
     ]
    },
    {
     "name": "stdout",
     "output_type": "stream",
     "text": [
      "end at Wed 17 Apr 2024 11:15:35 PM EDT\n"
     ]
    },
    {
     "name": "stderr",
     "output_type": "stream",
     "text": [
      "Restoring modules from user's fhimp-mods\n",
      " -> Simulation will halt: successfully\n",
      "Note: The following floating-point exceptions are signalling: IEEE_UNDERFLOW_FLAG IEEE_DENORMAL\n",
      "STOP 0\n"
     ]
    },
    {
     "name": "stdout",
     "output_type": "stream",
     "text": [
      "end at Wed 17 Apr 2024 11:15:36 PM EDT\n"
     ]
    },
    {
     "name": "stderr",
     "output_type": "stream",
     "text": [
      "Restoring modules from user's fhimp-mods\n",
      " -> Simulation will halt: successfully\n",
      "Note: The following floating-point exceptions are signalling: IEEE_UNDERFLOW_FLAG IEEE_DENORMAL\n",
      "STOP 0\n"
     ]
    },
    {
     "name": "stdout",
     "output_type": "stream",
     "text": [
      "end at Wed 17 Apr 2024 11:15:38 PM EDT\n"
     ]
    },
    {
     "name": "stderr",
     "output_type": "stream",
     "text": [
      "Restoring modules from user's fhimp-mods\n"
     ]
    },
    {
     "name": "stdout",
     "output_type": "stream",
     "text": [
      "start at Wed 17 Apr 2024 11:15:39 PM EDT\n",
      " ---------------------------------------------\n",
      "    HYPE version 5.24.0                  \n",
      " ---------------------------------------------\n",
      " New versions of HYPE at the HYPE Open Source \n",
      " Community website (hypecode.smhi.se), as well\n",
      " as information on up-coming courses.         \n",
      " ---------------------------------------------\n",
      "start at Wed 17 Apr 2024 11:15:41 PM EDT\n",
      " ---------------------------------------------\n",
      "    HYPE version 5.24.0                  \n",
      " ---------------------------------------------\n",
      " New versions of HYPE at the HYPE Open Source \n",
      " Community website (hypecode.smhi.se), as well\n",
      " as information on up-coming courses.         \n",
      " ---------------------------------------------\n",
      "start at Wed 17 Apr 2024 11:15:43 PM EDT\n",
      " ---------------------------------------------\n",
      "    HYPE version 5.24.0                  \n",
      " ---------------------------------------------\n",
      " New versions of HYPE at the HYPE Open Source \n",
      " Community website (hypecode.smhi.se), as well\n",
      " as information on up-coming courses.         \n",
      " ---------------------------------------------\n",
      "start at Wed 17 Apr 2024 11:15:45 PM EDT\n",
      " ---------------------------------------------\n",
      "    HYPE version 5.24.0                  \n",
      " ---------------------------------------------\n",
      " New versions of HYPE at the HYPE Open Source \n",
      " Community website (hypecode.smhi.se), as well\n",
      " as information on up-coming courses.         \n",
      " ---------------------------------------------\n",
      "end at Wed 17 Apr 2024 11:15:45 PM EDT\n"
     ]
    },
    {
     "name": "stderr",
     "output_type": "stream",
     "text": [
      " -> Simulation will halt: successfully\n",
      "Note: The following floating-point exceptions are signalling: IEEE_UNDERFLOW_FLAG IEEE_DENORMAL\n",
      "STOP 0\n",
      "Restoring modules from user's fhimp-mods\n",
      " -> Simulation will halt: successfully\n",
      "Note: The following floating-point exceptions are signalling: IEEE_UNDERFLOW_FLAG IEEE_DENORMAL\n",
      "STOP 0\n"
     ]
    },
    {
     "name": "stdout",
     "output_type": "stream",
     "text": [
      "end at Wed 17 Apr 2024 11:15:47 PM EDT\n"
     ]
    },
    {
     "name": "stderr",
     "output_type": "stream",
     "text": [
      "Restoring modules from user's fhimp-mods\n",
      " -> Simulation will halt: successfully\n",
      "Note: The following floating-point exceptions are signalling: IEEE_UNDERFLOW_FLAG IEEE_DENORMAL\n",
      "STOP 0\n"
     ]
    },
    {
     "name": "stdout",
     "output_type": "stream",
     "text": [
      "end at Wed 17 Apr 2024 11:15:49 PM EDT\n"
     ]
    },
    {
     "name": "stderr",
     "output_type": "stream",
     "text": [
      "Restoring modules from user's fhimp-mods\n",
      " -> Simulation will halt: successfully\n",
      "Note: The following floating-point exceptions are signalling: IEEE_UNDERFLOW_FLAG IEEE_DENORMAL\n",
      "STOP 0\n"
     ]
    },
    {
     "name": "stdout",
     "output_type": "stream",
     "text": [
      "end at Wed 17 Apr 2024 11:15:51 PM EDT\n"
     ]
    },
    {
     "name": "stderr",
     "output_type": "stream",
     "text": [
      "Restoring modules from user's fhimp-mods\n"
     ]
    },
    {
     "name": "stdout",
     "output_type": "stream",
     "text": [
      "start at Wed 17 Apr 2024 11:15:51 PM EDT\n",
      " ---------------------------------------------\n",
      "    HYPE version 5.24.0                  \n",
      " ---------------------------------------------\n",
      " New versions of HYPE at the HYPE Open Source \n",
      " Community website (hypecode.smhi.se), as well\n",
      " as information on up-coming courses.         \n",
      " ---------------------------------------------\n",
      "start at Wed 17 Apr 2024 11:15:54 PM EDT\n",
      " ---------------------------------------------\n",
      "    HYPE version 5.24.0                  \n",
      " ---------------------------------------------\n",
      " New versions of HYPE at the HYPE Open Source \n",
      " Community website (hypecode.smhi.se), as well\n",
      " as information on up-coming courses.         \n",
      " ---------------------------------------------\n",
      "start at Wed 17 Apr 2024 11:15:55 PM EDT\n",
      " ---------------------------------------------\n",
      "    HYPE version 5.24.0                  \n",
      " ---------------------------------------------\n",
      " New versions of HYPE at the HYPE Open Source \n",
      " Community website (hypecode.smhi.se), as well\n",
      " as information on up-coming courses.         \n",
      " ---------------------------------------------\n"
     ]
    },
    {
     "name": "stderr",
     "output_type": "stream",
     "text": [
      " -> Simulation will halt: successfully\n",
      "Note: The following floating-point exceptions are signalling: IEEE_UNDERFLOW_FLAG IEEE_DENORMAL\n",
      "STOP 0\n"
     ]
    },
    {
     "name": "stdout",
     "output_type": "stream",
     "text": [
      "end at Wed 17 Apr 2024 11:15:57 PM EDT\n",
      "start at Wed 17 Apr 2024 11:15:57 PM EDT\n",
      " ---------------------------------------------\n",
      "    HYPE version 5.24.0                  \n",
      " ---------------------------------------------\n",
      " New versions of HYPE at the HYPE Open Source \n",
      " Community website (hypecode.smhi.se), as well\n",
      " as information on up-coming courses.         \n",
      " ---------------------------------------------\n"
     ]
    },
    {
     "name": "stderr",
     "output_type": "stream",
     "text": [
      "Restoring modules from user's fhimp-mods\n",
      " -> Simulation will halt: successfully\n",
      "Note: The following floating-point exceptions are signalling: IEEE_UNDERFLOW_FLAG IEEE_DENORMAL\n",
      "STOP 0\n"
     ]
    },
    {
     "name": "stdout",
     "output_type": "stream",
     "text": [
      "end at Wed 17 Apr 2024 11:16:00 PM EDT\n"
     ]
    },
    {
     "name": "stderr",
     "output_type": "stream",
     "text": [
      "Restoring modules from user's fhimp-mods\n",
      " -> Simulation will halt: successfully\n",
      "Note: The following floating-point exceptions are signalling: IEEE_UNDERFLOW_FLAG IEEE_DENORMAL\n",
      "STOP 0\n"
     ]
    },
    {
     "name": "stdout",
     "output_type": "stream",
     "text": [
      "end at Wed 17 Apr 2024 11:16:01 PM EDT\n"
     ]
    },
    {
     "name": "stderr",
     "output_type": "stream",
     "text": [
      "Restoring modules from user's fhimp-mods\n",
      " -> Simulation will halt: successfully\n",
      "Note: The following floating-point exceptions are signalling: IEEE_UNDERFLOW_FLAG IEEE_DENORMAL\n",
      "STOP 0\n"
     ]
    },
    {
     "name": "stdout",
     "output_type": "stream",
     "text": [
      "end at Wed 17 Apr 2024 11:16:03 PM EDT\n"
     ]
    },
    {
     "name": "stderr",
     "output_type": "stream",
     "text": [
      "Restoring modules from user's fhimp-mods\n"
     ]
    },
    {
     "name": "stdout",
     "output_type": "stream",
     "text": [
      "start at Wed 17 Apr 2024 11:16:04 PM EDT\n",
      " ---------------------------------------------\n",
      "    HYPE version 5.24.0                  \n",
      " ---------------------------------------------\n",
      " New versions of HYPE at the HYPE Open Source \n",
      " Community website (hypecode.smhi.se), as well\n",
      " as information on up-coming courses.         \n",
      " ---------------------------------------------\n",
      "start at Wed 17 Apr 2024 11:16:06 PM EDT\n",
      " ---------------------------------------------\n",
      "    HYPE version 5.24.0                  \n",
      " ---------------------------------------------\n",
      " New versions of HYPE at the HYPE Open Source \n",
      " Community website (hypecode.smhi.se), as well\n",
      " as information on up-coming courses.         \n",
      " ---------------------------------------------\n",
      "start at Wed 17 Apr 2024 11:16:08 PM EDT\n",
      " ---------------------------------------------\n",
      "    HYPE version 5.24.0                  \n",
      " ---------------------------------------------\n",
      " New versions of HYPE at the HYPE Open Source \n",
      " Community website (hypecode.smhi.se), as well\n",
      " as information on up-coming courses.         \n",
      " ---------------------------------------------\n",
      "start at Wed 17 Apr 2024 11:16:10 PM EDT\n",
      " ---------------------------------------------\n",
      "    HYPE version 5.24.0                  \n",
      " ---------------------------------------------\n",
      " New versions of HYPE at the HYPE Open Source \n",
      " Community website (hypecode.smhi.se), as well\n",
      " as information on up-coming courses.         \n",
      " ---------------------------------------------\n",
      "end at Wed 17 Apr 2024 11:16:10 PM EDT\n"
     ]
    },
    {
     "name": "stderr",
     "output_type": "stream",
     "text": [
      " -> Simulation will halt: successfully\n",
      "Note: The following floating-point exceptions are signalling: IEEE_UNDERFLOW_FLAG IEEE_DENORMAL\n",
      "STOP 0\n",
      "Restoring modules from user's fhimp-mods\n",
      " -> Simulation will halt: successfully\n",
      "Note: The following floating-point exceptions are signalling: IEEE_UNDERFLOW_FLAG IEEE_DENORMAL\n",
      "STOP 0\n"
     ]
    },
    {
     "name": "stdout",
     "output_type": "stream",
     "text": [
      "end at Wed 17 Apr 2024 11:16:12 PM EDT\n"
     ]
    },
    {
     "name": "stderr",
     "output_type": "stream",
     "text": [
      "Restoring modules from user's fhimp-mods\n",
      " -> Simulation will halt: successfully\n",
      "Note: The following floating-point exceptions are signalling: IEEE_UNDERFLOW_FLAG IEEE_DENORMAL\n",
      "STOP 0\n"
     ]
    },
    {
     "name": "stdout",
     "output_type": "stream",
     "text": [
      "end at Wed 17 Apr 2024 11:16:14 PM EDT\n"
     ]
    },
    {
     "name": "stderr",
     "output_type": "stream",
     "text": [
      "Restoring modules from user's fhimp-mods\n",
      " -> Simulation will halt: successfully\n",
      "Note: The following floating-point exceptions are signalling: IEEE_UNDERFLOW_FLAG IEEE_DENORMAL\n",
      "STOP 0\n"
     ]
    },
    {
     "name": "stdout",
     "output_type": "stream",
     "text": [
      "end at Wed 17 Apr 2024 11:16:16 PM EDT\n"
     ]
    },
    {
     "name": "stderr",
     "output_type": "stream",
     "text": [
      "Restoring modules from user's fhimp-mods\n"
     ]
    },
    {
     "name": "stdout",
     "output_type": "stream",
     "text": [
      "start at Wed 17 Apr 2024 11:16:17 PM EDT\n",
      " ---------------------------------------------\n",
      "    HYPE version 5.24.0                  \n",
      " ---------------------------------------------\n",
      " New versions of HYPE at the HYPE Open Source \n",
      " Community website (hypecode.smhi.se), as well\n",
      " as information on up-coming courses.         \n",
      " ---------------------------------------------\n",
      "start at Wed 17 Apr 2024 11:16:19 PM EDT\n",
      " ---------------------------------------------\n",
      "    HYPE version 5.24.0                  \n",
      " ---------------------------------------------\n",
      " New versions of HYPE at the HYPE Open Source \n",
      " Community website (hypecode.smhi.se), as well\n",
      " as information on up-coming courses.         \n",
      " ---------------------------------------------\n",
      "start at Wed 17 Apr 2024 11:16:20 PM EDT\n",
      " ---------------------------------------------\n",
      "    HYPE version 5.24.0                  \n",
      " ---------------------------------------------\n",
      " New versions of HYPE at the HYPE Open Source \n",
      " Community website (hypecode.smhi.se), as well\n",
      " as information on up-coming courses.         \n",
      " ---------------------------------------------\n"
     ]
    },
    {
     "name": "stderr",
     "output_type": "stream",
     "text": [
      " -> Simulation will halt: successfully\n",
      "Note: The following floating-point exceptions are signalling: IEEE_UNDERFLOW_FLAG IEEE_DENORMAL\n",
      "STOP 0\n"
     ]
    },
    {
     "name": "stdout",
     "output_type": "stream",
     "text": [
      "end at Wed 17 Apr 2024 11:16:23 PM EDT\n",
      "start at Wed 17 Apr 2024 11:16:23 PM EDT\n",
      " ---------------------------------------------\n",
      "    HYPE version 5.24.0                  \n",
      " ---------------------------------------------\n",
      " New versions of HYPE at the HYPE Open Source \n",
      " Community website (hypecode.smhi.se), as well\n",
      " as information on up-coming courses.         \n",
      " ---------------------------------------------\n"
     ]
    },
    {
     "name": "stderr",
     "output_type": "stream",
     "text": [
      "Restoring modules from user's fhimp-mods\n",
      " -> Simulation will halt: successfully\n",
      "Note: The following floating-point exceptions are signalling: IEEE_UNDERFLOW_FLAG IEEE_DENORMAL\n",
      "STOP 0\n"
     ]
    },
    {
     "name": "stdout",
     "output_type": "stream",
     "text": [
      "end at Wed 17 Apr 2024 11:16:25 PM EDT\n"
     ]
    },
    {
     "name": "stderr",
     "output_type": "stream",
     "text": [
      "Restoring modules from user's fhimp-mods\n",
      " -> Simulation will halt: successfully\n",
      "Note: The following floating-point exceptions are signalling: IEEE_UNDERFLOW_FLAG IEEE_DENORMAL\n",
      "STOP 0\n"
     ]
    },
    {
     "name": "stdout",
     "output_type": "stream",
     "text": [
      "end at Wed 17 Apr 2024 11:16:27 PM EDT\n"
     ]
    },
    {
     "name": "stderr",
     "output_type": "stream",
     "text": [
      "Restoring modules from user's fhimp-mods\n",
      " -> Simulation will halt: successfully\n",
      "Note: The following floating-point exceptions are signalling: IEEE_UNDERFLOW_FLAG IEEE_DENORMAL\n",
      "STOP 0\n"
     ]
    },
    {
     "name": "stdout",
     "output_type": "stream",
     "text": [
      "end at Wed 17 Apr 2024 11:16:29 PM EDT\n"
     ]
    },
    {
     "name": "stderr",
     "output_type": "stream",
     "text": [
      "Restoring modules from user's fhimp-mods\n"
     ]
    },
    {
     "name": "stdout",
     "output_type": "stream",
     "text": [
      "start at Wed 17 Apr 2024 11:16:29 PM EDT\n",
      " ---------------------------------------------\n",
      "    HYPE version 5.24.0                  \n",
      " ---------------------------------------------\n",
      " New versions of HYPE at the HYPE Open Source \n",
      " Community website (hypecode.smhi.se), as well\n",
      " as information on up-coming courses.         \n",
      " ---------------------------------------------\n",
      "start at Wed 17 Apr 2024 11:16:31 PM EDT\n",
      " ---------------------------------------------\n",
      "    HYPE version 5.24.0                  \n",
      " ---------------------------------------------\n",
      " New versions of HYPE at the HYPE Open Source \n",
      " Community website (hypecode.smhi.se), as well\n",
      " as information on up-coming courses.         \n",
      " ---------------------------------------------\n",
      "start at Wed 17 Apr 2024 11:16:33 PM EDT\n",
      " ---------------------------------------------\n",
      "    HYPE version 5.24.0                  \n",
      " ---------------------------------------------\n",
      " New versions of HYPE at the HYPE Open Source \n",
      " Community website (hypecode.smhi.se), as well\n",
      " as information on up-coming courses.         \n",
      " ---------------------------------------------\n"
     ]
    },
    {
     "name": "stderr",
     "output_type": "stream",
     "text": [
      " -> Simulation will halt: successfully\n",
      "Note: The following floating-point exceptions are signalling: IEEE_UNDERFLOW_FLAG IEEE_DENORMAL\n",
      "STOP 0\n"
     ]
    },
    {
     "name": "stdout",
     "output_type": "stream",
     "text": [
      "end at Wed 17 Apr 2024 11:16:35 PM EDT\n",
      "start at Wed 17 Apr 2024 11:16:35 PM EDT\n",
      " ---------------------------------------------\n",
      "    HYPE version 5.24.0                  \n",
      " ---------------------------------------------\n",
      " New versions of HYPE at the HYPE Open Source \n",
      " Community website (hypecode.smhi.se), as well\n",
      " as information on up-coming courses.         \n",
      " ---------------------------------------------\n"
     ]
    },
    {
     "name": "stderr",
     "output_type": "stream",
     "text": [
      "Restoring modules from user's fhimp-mods\n",
      " -> Simulation will halt: successfully\n",
      "Note: The following floating-point exceptions are signalling: IEEE_UNDERFLOW_FLAG IEEE_DENORMAL\n",
      "STOP 0\n"
     ]
    },
    {
     "name": "stdout",
     "output_type": "stream",
     "text": [
      "end at Wed 17 Apr 2024 11:16:37 PM EDT\n"
     ]
    },
    {
     "name": "stderr",
     "output_type": "stream",
     "text": [
      "Restoring modules from user's fhimp-mods\n",
      " -> Simulation will halt: successfully\n",
      "Note: The following floating-point exceptions are signalling: IEEE_UNDERFLOW_FLAG IEEE_DENORMAL\n",
      "STOP 0\n"
     ]
    },
    {
     "name": "stdout",
     "output_type": "stream",
     "text": [
      "end at Wed 17 Apr 2024 11:16:39 PM EDT\n"
     ]
    },
    {
     "name": "stderr",
     "output_type": "stream",
     "text": [
      "Restoring modules from user's fhimp-mods\n",
      " -> Simulation will halt: successfully\n",
      "Note: The following floating-point exceptions are signalling: IEEE_UNDERFLOW_FLAG IEEE_DENORMAL\n",
      "STOP 0\n"
     ]
    },
    {
     "name": "stdout",
     "output_type": "stream",
     "text": [
      "end at Wed 17 Apr 2024 11:16:41 PM EDT\n"
     ]
    },
    {
     "name": "stderr",
     "output_type": "stream",
     "text": [
      "Restoring modules from user's fhimp-mods\n"
     ]
    },
    {
     "name": "stdout",
     "output_type": "stream",
     "text": [
      "start at Wed 17 Apr 2024 11:16:42 PM EDT\n",
      " ---------------------------------------------\n",
      "    HYPE version 5.24.0                  \n",
      " ---------------------------------------------\n",
      " New versions of HYPE at the HYPE Open Source \n",
      " Community website (hypecode.smhi.se), as well\n",
      " as information on up-coming courses.         \n",
      " ---------------------------------------------\n",
      "start at Wed 17 Apr 2024 11:16:44 PM EDT\n",
      " ---------------------------------------------\n",
      "    HYPE version 5.24.0                  \n",
      " ---------------------------------------------\n",
      " New versions of HYPE at the HYPE Open Source \n",
      " Community website (hypecode.smhi.se), as well\n",
      " as information on up-coming courses.         \n",
      " ---------------------------------------------\n",
      "start at Wed 17 Apr 2024 11:16:46 PM EDT\n",
      " ---------------------------------------------\n",
      "    HYPE version 5.24.0                  \n",
      " ---------------------------------------------\n",
      " New versions of HYPE at the HYPE Open Source \n",
      " Community website (hypecode.smhi.se), as well\n",
      " as information on up-coming courses.         \n",
      " ---------------------------------------------\n"
     ]
    },
    {
     "name": "stderr",
     "output_type": "stream",
     "text": [
      " -> Simulation will halt: successfully\n",
      "Note: The following floating-point exceptions are signalling: IEEE_UNDERFLOW_FLAG IEEE_DENORMAL\n",
      "STOP 0\n"
     ]
    },
    {
     "name": "stdout",
     "output_type": "stream",
     "text": [
      "end at Wed 17 Apr 2024 11:16:48 PM EDT\n",
      "start at Wed 17 Apr 2024 11:16:48 PM EDT\n",
      " ---------------------------------------------\n",
      "    HYPE version 5.24.0                  \n",
      " ---------------------------------------------\n",
      " New versions of HYPE at the HYPE Open Source \n",
      " Community website (hypecode.smhi.se), as well\n",
      " as information on up-coming courses.         \n",
      " ---------------------------------------------\n"
     ]
    },
    {
     "name": "stderr",
     "output_type": "stream",
     "text": [
      "Restoring modules from user's fhimp-mods\n",
      " -> Simulation will halt: successfully\n",
      "Note: The following floating-point exceptions are signalling: IEEE_UNDERFLOW_FLAG IEEE_DENORMAL\n",
      "STOP 0\n"
     ]
    },
    {
     "name": "stdout",
     "output_type": "stream",
     "text": [
      "end at Wed 17 Apr 2024 11:16:50 PM EDT\n"
     ]
    },
    {
     "name": "stderr",
     "output_type": "stream",
     "text": [
      "Restoring modules from user's fhimp-mods\n",
      " -> Simulation will halt: successfully\n",
      "Note: The following floating-point exceptions are signalling: IEEE_UNDERFLOW_FLAG IEEE_DENORMAL\n",
      "STOP 0\n"
     ]
    },
    {
     "name": "stdout",
     "output_type": "stream",
     "text": [
      "end at Wed 17 Apr 2024 11:16:52 PM EDT\n"
     ]
    },
    {
     "name": "stderr",
     "output_type": "stream",
     "text": [
      "Restoring modules from user's fhimp-mods\n",
      " -> Simulation will halt: successfully\n",
      "Note: The following floating-point exceptions are signalling: IEEE_UNDERFLOW_FLAG IEEE_DENORMAL\n",
      "STOP 0\n"
     ]
    },
    {
     "name": "stdout",
     "output_type": "stream",
     "text": [
      "end at Wed 17 Apr 2024 11:16:54 PM EDT\n",
      "start at Wed 17 Apr 2024 11:16:54 PM EDT\n",
      " ---------------------------------------------\n",
      "    HYPE version 5.24.0                  \n",
      " ---------------------------------------------\n",
      " New versions of HYPE at the HYPE Open Source \n",
      " Community website (hypecode.smhi.se), as well\n",
      " as information on up-coming courses.         \n",
      " ---------------------------------------------\n"
     ]
    },
    {
     "name": "stderr",
     "output_type": "stream",
     "text": [
      "Restoring modules from user's fhimp-mods\n"
     ]
    },
    {
     "name": "stdout",
     "output_type": "stream",
     "text": [
      "start at Wed 17 Apr 2024 11:16:56 PM EDT\n",
      " ---------------------------------------------\n",
      "    HYPE version 5.24.0                  \n",
      " ---------------------------------------------\n",
      " New versions of HYPE at the HYPE Open Source \n",
      " Community website (hypecode.smhi.se), as well\n",
      " as information on up-coming courses.         \n",
      " ---------------------------------------------\n",
      "start at Wed 17 Apr 2024 11:16:58 PM EDT\n",
      " ---------------------------------------------\n",
      "    HYPE version 5.24.0                  \n",
      " ---------------------------------------------\n",
      " New versions of HYPE at the HYPE Open Source \n",
      " Community website (hypecode.smhi.se), as well\n",
      " as information on up-coming courses.         \n",
      " ---------------------------------------------\n"
     ]
    },
    {
     "name": "stderr",
     "output_type": "stream",
     "text": [
      " -> Simulation will halt: successfully\n",
      "Note: The following floating-point exceptions are signalling: IEEE_UNDERFLOW_FLAG IEEE_DENORMAL\n",
      "STOP 0\n"
     ]
    },
    {
     "name": "stdout",
     "output_type": "stream",
     "text": [
      "end at Wed 17 Apr 2024 11:17:00 PM EDT\n"
     ]
    },
    {
     "name": "stderr",
     "output_type": "stream",
     "text": [
      "Restoring modules from user's fhimp-mods\n"
     ]
    },
    {
     "name": "stdout",
     "output_type": "stream",
     "text": [
      "start at Wed 17 Apr 2024 11:17:01 PM EDT\n",
      " ---------------------------------------------\n",
      "    HYPE version 5.24.0                  \n",
      " ---------------------------------------------\n",
      " New versions of HYPE at the HYPE Open Source \n",
      " Community website (hypecode.smhi.se), as well\n",
      " as information on up-coming courses.         \n",
      " ---------------------------------------------\n"
     ]
    },
    {
     "name": "stderr",
     "output_type": "stream",
     "text": [
      " -> Simulation will halt: successfully\n",
      "Note: The following floating-point exceptions are signalling: IEEE_UNDERFLOW_FLAG IEEE_DENORMAL\n",
      "STOP 0\n"
     ]
    },
    {
     "name": "stdout",
     "output_type": "stream",
     "text": [
      "end at Wed 17 Apr 2024 11:17:02 PM EDT\n"
     ]
    },
    {
     "name": "stderr",
     "output_type": "stream",
     "text": [
      "Restoring modules from user's fhimp-mods\n",
      " -> Simulation will halt: successfully\n",
      "Note: The following floating-point exceptions are signalling: IEEE_UNDERFLOW_FLAG IEEE_DENORMAL\n",
      "STOP 0\n"
     ]
    },
    {
     "name": "stdout",
     "output_type": "stream",
     "text": [
      "end at Wed 17 Apr 2024 11:17:04 PM EDT\n"
     ]
    },
    {
     "name": "stderr",
     "output_type": "stream",
     "text": [
      "Restoring modules from user's fhimp-mods\n",
      " -> Simulation will halt: successfully\n",
      "Note: The following floating-point exceptions are signalling: IEEE_UNDERFLOW_FLAG IEEE_DENORMAL\n",
      "STOP 0\n"
     ]
    },
    {
     "name": "stdout",
     "output_type": "stream",
     "text": [
      "end at Wed 17 Apr 2024 11:17:07 PM EDT\n",
      "start at Wed 17 Apr 2024 11:17:07 PM EDT\n",
      " ---------------------------------------------\n",
      "    HYPE version 5.24.0                  \n",
      " ---------------------------------------------\n",
      " New versions of HYPE at the HYPE Open Source \n",
      " Community website (hypecode.smhi.se), as well\n",
      " as information on up-coming courses.         \n",
      " ---------------------------------------------\n"
     ]
    },
    {
     "name": "stderr",
     "output_type": "stream",
     "text": [
      "Restoring modules from user's fhimp-mods\n"
     ]
    },
    {
     "name": "stdout",
     "output_type": "stream",
     "text": [
      "start at Wed 17 Apr 2024 11:17:09 PM EDT\n",
      " ---------------------------------------------\n",
      "    HYPE version 5.24.0                  \n",
      " ---------------------------------------------\n",
      " New versions of HYPE at the HYPE Open Source \n",
      " Community website (hypecode.smhi.se), as well\n",
      " as information on up-coming courses.         \n",
      " ---------------------------------------------\n",
      "start at Wed 17 Apr 2024 11:17:10 PM EDT\n",
      " ---------------------------------------------\n",
      "    HYPE version 5.24.0                  \n",
      " ---------------------------------------------\n",
      " New versions of HYPE at the HYPE Open Source \n",
      " Community website (hypecode.smhi.se), as well\n",
      " as information on up-coming courses.         \n",
      " ---------------------------------------------\n"
     ]
    },
    {
     "name": "stderr",
     "output_type": "stream",
     "text": [
      " -> Simulation will halt: successfully\n",
      "Note: The following floating-point exceptions are signalling: IEEE_UNDERFLOW_FLAG IEEE_DENORMAL\n",
      "STOP 0\n"
     ]
    },
    {
     "name": "stdout",
     "output_type": "stream",
     "text": [
      "end at Wed 17 Apr 2024 11:17:13 PM EDT\n"
     ]
    },
    {
     "name": "stderr",
     "output_type": "stream",
     "text": [
      "Restoring modules from user's fhimp-mods\n"
     ]
    },
    {
     "name": "stdout",
     "output_type": "stream",
     "text": [
      "start at Wed 17 Apr 2024 11:17:13 PM EDT\n",
      " ---------------------------------------------\n",
      "    HYPE version 5.24.0                  \n",
      " ---------------------------------------------\n",
      " New versions of HYPE at the HYPE Open Source \n",
      " Community website (hypecode.smhi.se), as well\n",
      " as information on up-coming courses.         \n",
      " ---------------------------------------------\n"
     ]
    },
    {
     "name": "stderr",
     "output_type": "stream",
     "text": [
      " -> Simulation will halt: successfully\n",
      "Note: The following floating-point exceptions are signalling: IEEE_UNDERFLOW_FLAG IEEE_DENORMAL\n",
      "STOP 0\n"
     ]
    },
    {
     "name": "stdout",
     "output_type": "stream",
     "text": [
      "end at Wed 17 Apr 2024 11:17:14 PM EDT\n"
     ]
    },
    {
     "name": "stderr",
     "output_type": "stream",
     "text": [
      "Restoring modules from user's fhimp-mods\n",
      " -> Simulation will halt: successfully\n",
      "Note: The following floating-point exceptions are signalling: IEEE_UNDERFLOW_FLAG IEEE_DENORMAL\n",
      "STOP 0\n"
     ]
    },
    {
     "name": "stdout",
     "output_type": "stream",
     "text": [
      "end at Wed 17 Apr 2024 11:17:16 PM EDT\n"
     ]
    },
    {
     "name": "stderr",
     "output_type": "stream",
     "text": [
      "Restoring modules from user's fhimp-mods\n",
      " -> Simulation will halt: successfully\n",
      "Note: The following floating-point exceptions are signalling: IEEE_UNDERFLOW_FLAG IEEE_DENORMAL\n",
      "STOP 0\n"
     ]
    },
    {
     "name": "stdout",
     "output_type": "stream",
     "text": [
      "end at Wed 17 Apr 2024 11:17:19 PM EDT\n",
      "start at Wed 17 Apr 2024 11:17:19 PM EDT\n",
      " ---------------------------------------------\n",
      "    HYPE version 5.24.0                  \n",
      " ---------------------------------------------\n",
      " New versions of HYPE at the HYPE Open Source \n",
      " Community website (hypecode.smhi.se), as well\n",
      " as information on up-coming courses.         \n",
      " ---------------------------------------------\n"
     ]
    },
    {
     "name": "stderr",
     "output_type": "stream",
     "text": [
      "Restoring modules from user's fhimp-mods\n"
     ]
    },
    {
     "name": "stdout",
     "output_type": "stream",
     "text": [
      "start at Wed 17 Apr 2024 11:17:21 PM EDT\n",
      " ---------------------------------------------\n",
      "    HYPE version 5.24.0                  \n",
      " ---------------------------------------------\n",
      " New versions of HYPE at the HYPE Open Source \n",
      " Community website (hypecode.smhi.se), as well\n",
      " as information on up-coming courses.         \n",
      " ---------------------------------------------\n",
      "start at Wed 17 Apr 2024 11:17:23 PM EDT\n",
      " ---------------------------------------------\n",
      "    HYPE version 5.24.0                  \n",
      " ---------------------------------------------\n",
      " New versions of HYPE at the HYPE Open Source \n",
      " Community website (hypecode.smhi.se), as well\n",
      " as information on up-coming courses.         \n",
      " ---------------------------------------------\n"
     ]
    },
    {
     "name": "stderr",
     "output_type": "stream",
     "text": [
      " -> Simulation will halt: successfully\n",
      "Note: The following floating-point exceptions are signalling: IEEE_UNDERFLOW_FLAG IEEE_DENORMAL\n",
      "STOP 0\n"
     ]
    },
    {
     "name": "stdout",
     "output_type": "stream",
     "text": [
      "end at Wed 17 Apr 2024 11:17:25 PM EDT\n"
     ]
    },
    {
     "name": "stderr",
     "output_type": "stream",
     "text": [
      "Restoring modules from user's fhimp-mods\n"
     ]
    },
    {
     "name": "stdout",
     "output_type": "stream",
     "text": [
      "start at Wed 17 Apr 2024 11:17:26 PM EDT\n",
      " ---------------------------------------------\n",
      "    HYPE version 5.24.0                  \n",
      " ---------------------------------------------\n",
      " New versions of HYPE at the HYPE Open Source \n",
      " Community website (hypecode.smhi.se), as well\n",
      " as information on up-coming courses.         \n",
      " ---------------------------------------------\n"
     ]
    },
    {
     "name": "stderr",
     "output_type": "stream",
     "text": [
      " -> Simulation will halt: successfully\n",
      "Note: The following floating-point exceptions are signalling: IEEE_UNDERFLOW_FLAG IEEE_DENORMAL\n",
      "STOP 0\n"
     ]
    },
    {
     "name": "stdout",
     "output_type": "stream",
     "text": [
      "end at Wed 17 Apr 2024 11:17:27 PM EDT\n"
     ]
    },
    {
     "name": "stderr",
     "output_type": "stream",
     "text": [
      "Restoring modules from user's fhimp-mods\n",
      " -> Simulation will halt: successfully\n",
      "Note: The following floating-point exceptions are signalling: IEEE_UNDERFLOW_FLAG IEEE_DENORMAL\n",
      "STOP 0\n"
     ]
    },
    {
     "name": "stdout",
     "output_type": "stream",
     "text": [
      "end at Wed 17 Apr 2024 11:17:29 PM EDT\n"
     ]
    },
    {
     "name": "stderr",
     "output_type": "stream",
     "text": [
      "Restoring modules from user's fhimp-mods\n"
     ]
    },
    {
     "name": "stdout",
     "output_type": "stream",
     "text": [
      "start at Wed 17 Apr 2024 11:17:32 PM EDT\n",
      " ---------------------------------------------\n",
      "    HYPE version 5.24.0                  \n",
      " ---------------------------------------------\n",
      " New versions of HYPE at the HYPE Open Source \n",
      " Community website (hypecode.smhi.se), as well\n",
      " as information on up-coming courses.         \n",
      " ---------------------------------------------\n",
      "end at Wed 17 Apr 2024 11:17:32 PM EDT\n"
     ]
    },
    {
     "name": "stderr",
     "output_type": "stream",
     "text": [
      " -> Simulation will halt: successfully\n",
      "Note: The following floating-point exceptions are signalling: IEEE_UNDERFLOW_FLAG IEEE_DENORMAL\n",
      "STOP 0\n",
      "Restoring modules from user's fhimp-mods\n"
     ]
    },
    {
     "name": "stdout",
     "output_type": "stream",
     "text": [
      "start at Wed 17 Apr 2024 11:17:34 PM EDT\n",
      " ---------------------------------------------\n",
      "    HYPE version 5.24.0                  \n",
      " ---------------------------------------------\n",
      " New versions of HYPE at the HYPE Open Source \n",
      " Community website (hypecode.smhi.se), as well\n",
      " as information on up-coming courses.         \n",
      " ---------------------------------------------\n",
      "start at Wed 17 Apr 2024 11:17:35 PM EDT\n",
      " ---------------------------------------------\n",
      "    HYPE version 5.24.0                  \n",
      " ---------------------------------------------\n",
      " New versions of HYPE at the HYPE Open Source \n",
      " Community website (hypecode.smhi.se), as well\n",
      " as information on up-coming courses.         \n",
      " ---------------------------------------------\n"
     ]
    },
    {
     "name": "stderr",
     "output_type": "stream",
     "text": [
      " -> Simulation will halt: successfully\n",
      "Note: The following floating-point exceptions are signalling: IEEE_UNDERFLOW_FLAG IEEE_DENORMAL\n",
      "STOP 0\n"
     ]
    },
    {
     "name": "stdout",
     "output_type": "stream",
     "text": [
      "end at Wed 17 Apr 2024 11:17:38 PM EDT\n"
     ]
    },
    {
     "name": "stderr",
     "output_type": "stream",
     "text": [
      "Restoring modules from user's fhimp-mods\n"
     ]
    },
    {
     "name": "stdout",
     "output_type": "stream",
     "text": [
      "start at Wed 17 Apr 2024 11:17:39 PM EDT\n",
      " ---------------------------------------------\n",
      "    HYPE version 5.24.0                  \n",
      " ---------------------------------------------\n",
      " New versions of HYPE at the HYPE Open Source \n",
      " Community website (hypecode.smhi.se), as well\n",
      " as information on up-coming courses.         \n",
      " ---------------------------------------------\n"
     ]
    },
    {
     "name": "stderr",
     "output_type": "stream",
     "text": [
      " -> Simulation will halt: successfully\n",
      "Note: The following floating-point exceptions are signalling: IEEE_UNDERFLOW_FLAG IEEE_DENORMAL\n",
      "STOP 0\n"
     ]
    },
    {
     "name": "stdout",
     "output_type": "stream",
     "text": [
      "end at Wed 17 Apr 2024 11:17:40 PM EDT\n"
     ]
    },
    {
     "name": "stderr",
     "output_type": "stream",
     "text": [
      "Restoring modules from user's fhimp-mods\n",
      " -> Simulation will halt: successfully\n",
      "Note: The following floating-point exceptions are signalling: IEEE_UNDERFLOW_FLAG IEEE_DENORMAL\n",
      "STOP 0\n"
     ]
    },
    {
     "name": "stdout",
     "output_type": "stream",
     "text": [
      "end at Wed 17 Apr 2024 11:17:41 PM EDT\n"
     ]
    },
    {
     "name": "stderr",
     "output_type": "stream",
     "text": [
      "Restoring modules from user's fhimp-mods\n"
     ]
    },
    {
     "name": "stdout",
     "output_type": "stream",
     "text": [
      "start at Wed 17 Apr 2024 11:17:44 PM EDT\n",
      " ---------------------------------------------\n",
      "    HYPE version 5.24.0                  \n",
      " ---------------------------------------------\n",
      " New versions of HYPE at the HYPE Open Source \n",
      " Community website (hypecode.smhi.se), as well\n",
      " as information on up-coming courses.         \n",
      " ---------------------------------------------\n"
     ]
    },
    {
     "name": "stderr",
     "output_type": "stream",
     "text": [
      " -> Simulation will halt: successfully\n",
      "Note: The following floating-point exceptions are signalling: IEEE_UNDERFLOW_FLAG IEEE_DENORMAL\n",
      "STOP 0\n"
     ]
    },
    {
     "name": "stdout",
     "output_type": "stream",
     "text": [
      "end at Wed 17 Apr 2024 11:17:45 PM EDT\n"
     ]
    },
    {
     "name": "stderr",
     "output_type": "stream",
     "text": [
      "Restoring modules from user's fhimp-mods\n"
     ]
    },
    {
     "name": "stdout",
     "output_type": "stream",
     "text": [
      "start at Wed 17 Apr 2024 11:17:46 PM EDT\n",
      " ---------------------------------------------\n",
      "    HYPE version 5.24.0                  \n",
      " ---------------------------------------------\n",
      " New versions of HYPE at the HYPE Open Source \n",
      " Community website (hypecode.smhi.se), as well\n",
      " as information on up-coming courses.         \n",
      " ---------------------------------------------\n",
      "start at Wed 17 Apr 2024 11:17:48 PM EDT\n",
      " ---------------------------------------------\n",
      "    HYPE version 5.24.0                  \n",
      " ---------------------------------------------\n",
      " New versions of HYPE at the HYPE Open Source \n",
      " Community website (hypecode.smhi.se), as well\n",
      " as information on up-coming courses.         \n",
      " ---------------------------------------------\n"
     ]
    },
    {
     "name": "stderr",
     "output_type": "stream",
     "text": [
      " -> Simulation will halt: successfully\n",
      "Note: The following floating-point exceptions are signalling: IEEE_UNDERFLOW_FLAG IEEE_DENORMAL\n",
      "STOP 0\n"
     ]
    },
    {
     "name": "stdout",
     "output_type": "stream",
     "text": [
      "end at Wed 17 Apr 2024 11:17:50 PM EDT\n"
     ]
    },
    {
     "name": "stderr",
     "output_type": "stream",
     "text": [
      "Restoring modules from user's fhimp-mods\n"
     ]
    },
    {
     "name": "stdout",
     "output_type": "stream",
     "text": [
      "start at Wed 17 Apr 2024 11:17:51 PM EDT\n",
      " ---------------------------------------------\n",
      "    HYPE version 5.24.0                  \n",
      " ---------------------------------------------\n",
      " New versions of HYPE at the HYPE Open Source \n",
      " Community website (hypecode.smhi.se), as well\n",
      " as information on up-coming courses.         \n",
      " ---------------------------------------------\n"
     ]
    },
    {
     "name": "stderr",
     "output_type": "stream",
     "text": [
      " -> Simulation will halt: successfully\n",
      "Note: The following floating-point exceptions are signalling: IEEE_UNDERFLOW_FLAG IEEE_DENORMAL\n",
      "STOP 0\n"
     ]
    },
    {
     "name": "stdout",
     "output_type": "stream",
     "text": [
      "end at Wed 17 Apr 2024 11:17:52 PM EDT\n"
     ]
    },
    {
     "name": "stderr",
     "output_type": "stream",
     "text": [
      "Restoring modules from user's fhimp-mods\n",
      " -> Simulation will halt: successfully\n",
      "Note: The following floating-point exceptions are signalling: IEEE_UNDERFLOW_FLAG IEEE_DENORMAL\n",
      "STOP 0\n"
     ]
    },
    {
     "name": "stdout",
     "output_type": "stream",
     "text": [
      "end at Wed 17 Apr 2024 11:17:54 PM EDT\n"
     ]
    },
    {
     "name": "stderr",
     "output_type": "stream",
     "text": [
      "Restoring modules from user's fhimp-mods\n"
     ]
    },
    {
     "name": "stdout",
     "output_type": "stream",
     "text": [
      "start at Wed 17 Apr 2024 11:17:57 PM EDT\n",
      " ---------------------------------------------\n",
      "    HYPE version 5.24.0                  \n",
      " ---------------------------------------------\n",
      " New versions of HYPE at the HYPE Open Source \n",
      " Community website (hypecode.smhi.se), as well\n",
      " as information on up-coming courses.         \n",
      " ---------------------------------------------\n"
     ]
    },
    {
     "name": "stderr",
     "output_type": "stream",
     "text": [
      " -> Simulation will halt: successfully\n",
      "Note: The following floating-point exceptions are signalling: IEEE_UNDERFLOW_FLAG IEEE_DENORMAL\n",
      "STOP 0\n"
     ]
    },
    {
     "name": "stdout",
     "output_type": "stream",
     "text": [
      "end at Wed 17 Apr 2024 11:17:57 PM EDT\n"
     ]
    },
    {
     "name": "stderr",
     "output_type": "stream",
     "text": [
      "Restoring modules from user's fhimp-mods\n"
     ]
    },
    {
     "name": "stdout",
     "output_type": "stream",
     "text": [
      "start at Wed 17 Apr 2024 11:17:58 PM EDT\n",
      " ---------------------------------------------\n",
      "    HYPE version 5.24.0                  \n",
      " ---------------------------------------------\n",
      " New versions of HYPE at the HYPE Open Source \n",
      " Community website (hypecode.smhi.se), as well\n",
      " as information on up-coming courses.         \n",
      " ---------------------------------------------\n",
      "start at Wed 17 Apr 2024 11:18:00 PM EDT\n",
      " ---------------------------------------------\n",
      "    HYPE version 5.24.0                  \n",
      " ---------------------------------------------\n",
      " New versions of HYPE at the HYPE Open Source \n",
      " Community website (hypecode.smhi.se), as well\n",
      " as information on up-coming courses.         \n",
      " ---------------------------------------------\n"
     ]
    },
    {
     "name": "stderr",
     "output_type": "stream",
     "text": [
      " -> Simulation will halt: successfully\n",
      "Note: The following floating-point exceptions are signalling: IEEE_UNDERFLOW_FLAG IEEE_DENORMAL\n",
      "STOP 0\n"
     ]
    },
    {
     "name": "stdout",
     "output_type": "stream",
     "text": [
      "end at Wed 17 Apr 2024 11:18:03 PM EDT\n"
     ]
    },
    {
     "name": "stderr",
     "output_type": "stream",
     "text": [
      "Restoring modules from user's fhimp-mods\n"
     ]
    },
    {
     "name": "stdout",
     "output_type": "stream",
     "text": [
      "start at Wed 17 Apr 2024 11:18:04 PM EDT\n",
      " ---------------------------------------------\n",
      "    HYPE version 5.24.0                  \n",
      " ---------------------------------------------\n",
      " New versions of HYPE at the HYPE Open Source \n",
      " Community website (hypecode.smhi.se), as well\n",
      " as information on up-coming courses.         \n",
      " ---------------------------------------------\n"
     ]
    },
    {
     "name": "stderr",
     "output_type": "stream",
     "text": [
      " -> Simulation will halt: successfully\n",
      "Note: The following floating-point exceptions are signalling: IEEE_UNDERFLOW_FLAG IEEE_DENORMAL\n",
      "STOP 0\n"
     ]
    },
    {
     "name": "stdout",
     "output_type": "stream",
     "text": [
      "end at Wed 17 Apr 2024 11:18:04 PM EDT\n"
     ]
    },
    {
     "name": "stderr",
     "output_type": "stream",
     "text": [
      "Restoring modules from user's fhimp-mods\n",
      " -> Simulation will halt: successfully\n",
      "Note: The following floating-point exceptions are signalling: IEEE_UNDERFLOW_FLAG IEEE_DENORMAL\n",
      "STOP 0\n"
     ]
    },
    {
     "name": "stdout",
     "output_type": "stream",
     "text": [
      "end at Wed 17 Apr 2024 11:18:06 PM EDT\n"
     ]
    },
    {
     "name": "stderr",
     "output_type": "stream",
     "text": [
      "Restoring modules from user's fhimp-mods\n"
     ]
    },
    {
     "name": "stdout",
     "output_type": "stream",
     "text": [
      "start at Wed 17 Apr 2024 11:18:09 PM EDT\n",
      " ---------------------------------------------\n",
      "    HYPE version 5.24.0                  \n",
      " ---------------------------------------------\n",
      " New versions of HYPE at the HYPE Open Source \n",
      " Community website (hypecode.smhi.se), as well\n",
      " as information on up-coming courses.         \n",
      " ---------------------------------------------\n"
     ]
    },
    {
     "name": "stderr",
     "output_type": "stream",
     "text": [
      " -> Simulation will halt: successfully\n",
      "Note: The following floating-point exceptions are signalling: IEEE_UNDERFLOW_FLAG IEEE_DENORMAL\n",
      "STOP 0\n"
     ]
    },
    {
     "name": "stdout",
     "output_type": "stream",
     "text": [
      "end at Wed 17 Apr 2024 11:18:10 PM EDT\n"
     ]
    },
    {
     "name": "stderr",
     "output_type": "stream",
     "text": [
      "Restoring modules from user's fhimp-mods\n"
     ]
    },
    {
     "name": "stdout",
     "output_type": "stream",
     "text": [
      "start at Wed 17 Apr 2024 11:18:11 PM EDT\n",
      " ---------------------------------------------\n",
      "    HYPE version 5.24.0                  \n",
      " ---------------------------------------------\n",
      " New versions of HYPE at the HYPE Open Source \n",
      " Community website (hypecode.smhi.se), as well\n",
      " as information on up-coming courses.         \n",
      " ---------------------------------------------\n",
      "start at Wed 17 Apr 2024 11:18:12 PM EDT\n",
      " ---------------------------------------------\n",
      "    HYPE version 5.24.0                  \n",
      " ---------------------------------------------\n",
      " New versions of HYPE at the HYPE Open Source \n",
      " Community website (hypecode.smhi.se), as well\n",
      " as information on up-coming courses.         \n",
      " ---------------------------------------------\n"
     ]
    },
    {
     "name": "stderr",
     "output_type": "stream",
     "text": [
      " -> Simulation will halt: successfully\n",
      "Note: The following floating-point exceptions are signalling: IEEE_UNDERFLOW_FLAG IEEE_DENORMAL\n",
      "STOP 0\n"
     ]
    },
    {
     "name": "stdout",
     "output_type": "stream",
     "text": [
      "end at Wed 17 Apr 2024 11:18:15 PM EDT\n"
     ]
    },
    {
     "name": "stderr",
     "output_type": "stream",
     "text": [
      "Restoring modules from user's fhimp-mods\n"
     ]
    },
    {
     "name": "stdout",
     "output_type": "stream",
     "text": [
      "start at Wed 17 Apr 2024 11:18:17 PM EDT\n",
      " ---------------------------------------------\n",
      "    HYPE version 5.24.0                  \n",
      " ---------------------------------------------\n",
      " New versions of HYPE at the HYPE Open Source \n",
      " Community website (hypecode.smhi.se), as well\n",
      " as information on up-coming courses.         \n",
      " ---------------------------------------------\n",
      "end at Wed 17 Apr 2024 11:18:17 PM EDT\n"
     ]
    },
    {
     "name": "stderr",
     "output_type": "stream",
     "text": [
      " -> Simulation will halt: successfully\n",
      "Note: The following floating-point exceptions are signalling: IEEE_UNDERFLOW_FLAG IEEE_DENORMAL\n",
      "STOP 0\n",
      "Restoring modules from user's fhimp-mods\n",
      " -> Simulation will halt: successfully\n",
      "Note: The following floating-point exceptions are signalling: IEEE_UNDERFLOW_FLAG IEEE_DENORMAL\n",
      "STOP 0\n"
     ]
    },
    {
     "name": "stdout",
     "output_type": "stream",
     "text": [
      "end at Wed 17 Apr 2024 11:18:19 PM EDT\n"
     ]
    },
    {
     "name": "stderr",
     "output_type": "stream",
     "text": [
      "Restoring modules from user's fhimp-mods\n"
     ]
    },
    {
     "name": "stdout",
     "output_type": "stream",
     "text": [
      "start at Wed 17 Apr 2024 11:18:21 PM EDT\n",
      " ---------------------------------------------\n",
      "    HYPE version 5.24.0                  \n",
      " ---------------------------------------------\n",
      " New versions of HYPE at the HYPE Open Source \n",
      " Community website (hypecode.smhi.se), as well\n",
      " as information on up-coming courses.         \n",
      " ---------------------------------------------\n"
     ]
    },
    {
     "name": "stderr",
     "output_type": "stream",
     "text": [
      " -> Simulation will halt: successfully\n",
      "Note: The following floating-point exceptions are signalling: IEEE_UNDERFLOW_FLAG IEEE_DENORMAL\n",
      "STOP 0\n"
     ]
    },
    {
     "name": "stdout",
     "output_type": "stream",
     "text": [
      "end at Wed 17 Apr 2024 11:18:23 PM EDT\n"
     ]
    },
    {
     "name": "stderr",
     "output_type": "stream",
     "text": [
      "Restoring modules from user's fhimp-mods\n"
     ]
    },
    {
     "name": "stdout",
     "output_type": "stream",
     "text": [
      "start at Wed 17 Apr 2024 11:18:23 PM EDT\n",
      " ---------------------------------------------\n",
      "    HYPE version 5.24.0                  \n",
      " ---------------------------------------------\n",
      " New versions of HYPE at the HYPE Open Source \n",
      " Community website (hypecode.smhi.se), as well\n",
      " as information on up-coming courses.         \n",
      " ---------------------------------------------\n",
      "start at Wed 17 Apr 2024 11:18:25 PM EDT\n",
      " ---------------------------------------------\n",
      "    HYPE version 5.24.0                  \n",
      " ---------------------------------------------\n",
      " New versions of HYPE at the HYPE Open Source \n",
      " Community website (hypecode.smhi.se), as well\n",
      " as information on up-coming courses.         \n",
      " ---------------------------------------------\n"
     ]
    },
    {
     "name": "stderr",
     "output_type": "stream",
     "text": [
      " -> Simulation will halt: successfully\n",
      "Note: The following floating-point exceptions are signalling: IEEE_UNDERFLOW_FLAG IEEE_DENORMAL\n",
      "STOP 0\n"
     ]
    },
    {
     "name": "stdout",
     "output_type": "stream",
     "text": [
      "end at Wed 17 Apr 2024 11:18:27 PM EDT\n"
     ]
    },
    {
     "name": "stderr",
     "output_type": "stream",
     "text": [
      "Restoring modules from user's fhimp-mods\n",
      " -> Simulation will halt: successfully\n",
      "Note: The following floating-point exceptions are signalling: IEEE_UNDERFLOW_FLAG IEEE_DENORMAL\n",
      "STOP 0\n"
     ]
    },
    {
     "name": "stdout",
     "output_type": "stream",
     "text": [
      "end at Wed 17 Apr 2024 11:18:29 PM EDT\n",
      "start at Wed 17 Apr 2024 11:18:29 PM EDT\n",
      " ---------------------------------------------\n",
      "    HYPE version 5.24.0                  \n",
      " ---------------------------------------------\n",
      " New versions of HYPE at the HYPE Open Source \n",
      " Community website (hypecode.smhi.se), as well\n",
      " as information on up-coming courses.         \n",
      " ---------------------------------------------\n"
     ]
    },
    {
     "name": "stderr",
     "output_type": "stream",
     "text": [
      "Restoring modules from user's fhimp-mods\n",
      " -> Simulation will halt: successfully\n",
      "Note: The following floating-point exceptions are signalling: IEEE_UNDERFLOW_FLAG IEEE_DENORMAL\n",
      "STOP 0\n"
     ]
    },
    {
     "name": "stdout",
     "output_type": "stream",
     "text": [
      "end at Wed 17 Apr 2024 11:18:31 PM EDT\n"
     ]
    },
    {
     "name": "stderr",
     "output_type": "stream",
     "text": [
      "Restoring modules from user's fhimp-mods\n"
     ]
    },
    {
     "name": "stdout",
     "output_type": "stream",
     "text": [
      "start at Wed 17 Apr 2024 11:18:34 PM EDT\n",
      " ---------------------------------------------\n",
      "    HYPE version 5.24.0                  \n",
      " ---------------------------------------------\n",
      " New versions of HYPE at the HYPE Open Source \n",
      " Community website (hypecode.smhi.se), as well\n",
      " as information on up-coming courses.         \n",
      " ---------------------------------------------\n",
      "start at Wed 17 Apr 2024 11:18:35 PM EDT\n",
      " ---------------------------------------------\n",
      "    HYPE version 5.24.0                  \n",
      " ---------------------------------------------\n",
      " New versions of HYPE at the HYPE Open Source \n",
      " Community website (hypecode.smhi.se), as well\n",
      " as information on up-coming courses.         \n",
      " ---------------------------------------------\n",
      "end at Wed 17 Apr 2024 11:18:35 PM EDT\n"
     ]
    },
    {
     "name": "stderr",
     "output_type": "stream",
     "text": [
      " -> Simulation will halt: successfully\n",
      "Note: The following floating-point exceptions are signalling: IEEE_UNDERFLOW_FLAG IEEE_DENORMAL\n",
      "STOP 0\n",
      "Restoring modules from user's fhimp-mods\n"
     ]
    },
    {
     "name": "stdout",
     "output_type": "stream",
     "text": [
      "start at Wed 17 Apr 2024 11:18:37 PM EDT\n",
      " ---------------------------------------------\n",
      "    HYPE version 5.24.0                  \n",
      " ---------------------------------------------\n",
      " New versions of HYPE at the HYPE Open Source \n",
      " Community website (hypecode.smhi.se), as well\n",
      " as information on up-coming courses.         \n",
      " ---------------------------------------------\n"
     ]
    },
    {
     "name": "stderr",
     "output_type": "stream",
     "text": [
      " -> Simulation will halt: successfully\n",
      "Note: The following floating-point exceptions are signalling: IEEE_UNDERFLOW_FLAG IEEE_DENORMAL\n",
      "STOP 0\n"
     ]
    },
    {
     "name": "stdout",
     "output_type": "stream",
     "text": [
      "end at Wed 17 Apr 2024 11:18:40 PM EDT\n"
     ]
    },
    {
     "name": "stderr",
     "output_type": "stream",
     "text": [
      "Restoring modules from user's fhimp-mods\n",
      " -> Simulation will halt: successfully\n",
      "Note: The following floating-point exceptions are signalling: IEEE_UNDERFLOW_FLAG IEEE_DENORMAL\n",
      "STOP 0\n"
     ]
    },
    {
     "name": "stdout",
     "output_type": "stream",
     "text": [
      "end at Wed 17 Apr 2024 11:18:41 PM EDT\n"
     ]
    },
    {
     "name": "stderr",
     "output_type": "stream",
     "text": [
      "Restoring modules from user's fhimp-mods\n"
     ]
    },
    {
     "name": "stdout",
     "output_type": "stream",
     "text": [
      "start at Wed 17 Apr 2024 11:18:42 PM EDT\n",
      " ---------------------------------------------\n",
      "    HYPE version 5.24.0                  \n",
      " ---------------------------------------------\n",
      " New versions of HYPE at the HYPE Open Source \n",
      " Community website (hypecode.smhi.se), as well\n",
      " as information on up-coming courses.         \n",
      " ---------------------------------------------\n"
     ]
    },
    {
     "name": "stderr",
     "output_type": "stream",
     "text": [
      " -> Simulation will halt: successfully\n",
      "Note: The following floating-point exceptions are signalling: IEEE_UNDERFLOW_FLAG IEEE_DENORMAL\n",
      "STOP 0\n"
     ]
    },
    {
     "name": "stdout",
     "output_type": "stream",
     "text": [
      "end at Wed 17 Apr 2024 11:18:43 PM EDT\n"
     ]
    },
    {
     "name": "stderr",
     "output_type": "stream",
     "text": [
      "Restoring modules from user's fhimp-mods\n"
     ]
    },
    {
     "name": "stdout",
     "output_type": "stream",
     "text": [
      "start at Wed 17 Apr 2024 11:18:47 PM EDT\n",
      " ---------------------------------------------\n",
      "    HYPE version 5.24.0                  \n",
      " ---------------------------------------------\n",
      " New versions of HYPE at the HYPE Open Source \n",
      " Community website (hypecode.smhi.se), as well\n",
      " as information on up-coming courses.         \n",
      " ---------------------------------------------\n",
      "start at Wed 17 Apr 2024 11:18:48 PM EDT\n",
      " ---------------------------------------------\n",
      "    HYPE version 5.24.0                  \n",
      " ---------------------------------------------\n",
      " New versions of HYPE at the HYPE Open Source \n",
      " Community website (hypecode.smhi.se), as well\n",
      " as information on up-coming courses.         \n",
      " ---------------------------------------------\n"
     ]
    },
    {
     "name": "stderr",
     "output_type": "stream",
     "text": [
      " -> Simulation will halt: successfully\n",
      "Note: The following floating-point exceptions are signalling: IEEE_UNDERFLOW_FLAG IEEE_DENORMAL\n",
      "STOP 0\n"
     ]
    },
    {
     "name": "stdout",
     "output_type": "stream",
     "text": [
      "end at Wed 17 Apr 2024 11:18:48 PM EDT\n"
     ]
    },
    {
     "name": "stderr",
     "output_type": "stream",
     "text": [
      "Restoring modules from user's fhimp-mods\n"
     ]
    },
    {
     "name": "stdout",
     "output_type": "stream",
     "text": [
      "start at Wed 17 Apr 2024 11:18:50 PM EDT\n",
      " ---------------------------------------------\n",
      "    HYPE version 5.24.0                  \n",
      " ---------------------------------------------\n",
      " New versions of HYPE at the HYPE Open Source \n",
      " Community website (hypecode.smhi.se), as well\n",
      " as information on up-coming courses.         \n",
      " ---------------------------------------------\n"
     ]
    },
    {
     "name": "stderr",
     "output_type": "stream",
     "text": [
      " -> Simulation will halt: successfully\n",
      "Note: The following floating-point exceptions are signalling: IEEE_UNDERFLOW_FLAG IEEE_DENORMAL\n",
      "STOP 0\n"
     ]
    },
    {
     "name": "stdout",
     "output_type": "stream",
     "text": [
      "end at Wed 17 Apr 2024 11:18:53 PM EDT\n"
     ]
    },
    {
     "name": "stderr",
     "output_type": "stream",
     "text": [
      "Restoring modules from user's fhimp-mods\n",
      " -> Simulation will halt: successfully\n",
      "Note: The following floating-point exceptions are signalling: IEEE_UNDERFLOW_FLAG IEEE_DENORMAL\n",
      "STOP 0\n"
     ]
    },
    {
     "name": "stdout",
     "output_type": "stream",
     "text": [
      "end at Wed 17 Apr 2024 11:18:54 PM EDT\n"
     ]
    },
    {
     "name": "stderr",
     "output_type": "stream",
     "text": [
      "Restoring modules from user's fhimp-mods\n"
     ]
    },
    {
     "name": "stdout",
     "output_type": "stream",
     "text": [
      "start at Wed 17 Apr 2024 11:18:55 PM EDT\n",
      " ---------------------------------------------\n",
      "    HYPE version 5.24.0                  \n",
      " ---------------------------------------------\n",
      " New versions of HYPE at the HYPE Open Source \n",
      " Community website (hypecode.smhi.se), as well\n",
      " as information on up-coming courses.         \n",
      " ---------------------------------------------\n"
     ]
    },
    {
     "name": "stderr",
     "output_type": "stream",
     "text": [
      " -> Simulation will halt: successfully\n",
      "Note: The following floating-point exceptions are signalling: IEEE_UNDERFLOW_FLAG IEEE_DENORMAL\n",
      "STOP 0\n"
     ]
    },
    {
     "name": "stdout",
     "output_type": "stream",
     "text": [
      "end at Wed 17 Apr 2024 11:18:56 PM EDT\n"
     ]
    },
    {
     "name": "stderr",
     "output_type": "stream",
     "text": [
      "Restoring modules from user's fhimp-mods\n"
     ]
    },
    {
     "name": "stdout",
     "output_type": "stream",
     "text": [
      "start at Wed 17 Apr 2024 11:18:59 PM EDT\n",
      " ---------------------------------------------\n",
      "    HYPE version 5.24.0                  \n",
      " ---------------------------------------------\n",
      " New versions of HYPE at the HYPE Open Source \n",
      " Community website (hypecode.smhi.se), as well\n",
      " as information on up-coming courses.         \n",
      " ---------------------------------------------\n",
      "start at Wed 17 Apr 2024 11:19:00 PM EDT\n",
      " ---------------------------------------------\n",
      "    HYPE version 5.24.0                  \n",
      " ---------------------------------------------\n",
      " New versions of HYPE at the HYPE Open Source \n",
      " Community website (hypecode.smhi.se), as well\n",
      " as information on up-coming courses.         \n",
      " ---------------------------------------------\n"
     ]
    },
    {
     "name": "stderr",
     "output_type": "stream",
     "text": [
      " -> Simulation will halt: successfully\n",
      "Note: The following floating-point exceptions are signalling: IEEE_UNDERFLOW_FLAG IEEE_DENORMAL\n",
      "STOP 0\n"
     ]
    },
    {
     "name": "stdout",
     "output_type": "stream",
     "text": [
      "end at Wed 17 Apr 2024 11:19:01 PM EDT\n"
     ]
    },
    {
     "name": "stderr",
     "output_type": "stream",
     "text": [
      "Restoring modules from user's fhimp-mods\n"
     ]
    },
    {
     "name": "stdout",
     "output_type": "stream",
     "text": [
      "start at Wed 17 Apr 2024 11:19:02 PM EDT\n",
      " ---------------------------------------------\n",
      "    HYPE version 5.24.0                  \n",
      " ---------------------------------------------\n",
      " New versions of HYPE at the HYPE Open Source \n",
      " Community website (hypecode.smhi.se), as well\n",
      " as information on up-coming courses.         \n",
      " ---------------------------------------------\n"
     ]
    },
    {
     "name": "stderr",
     "output_type": "stream",
     "text": [
      " -> Simulation will halt: successfully\n",
      "Note: The following floating-point exceptions are signalling: IEEE_UNDERFLOW_FLAG IEEE_DENORMAL\n",
      "STOP 0\n"
     ]
    },
    {
     "name": "stdout",
     "output_type": "stream",
     "text": [
      "end at Wed 17 Apr 2024 11:19:05 PM EDT\n"
     ]
    },
    {
     "name": "stderr",
     "output_type": "stream",
     "text": [
      "Restoring modules from user's fhimp-mods\n",
      " -> Simulation will halt: successfully\n",
      "Note: The following floating-point exceptions are signalling: IEEE_UNDERFLOW_FLAG IEEE_DENORMAL\n",
      "STOP 0\n"
     ]
    },
    {
     "name": "stdout",
     "output_type": "stream",
     "text": [
      "end at Wed 17 Apr 2024 11:19:06 PM EDT\n"
     ]
    },
    {
     "name": "stderr",
     "output_type": "stream",
     "text": [
      "Restoring modules from user's fhimp-mods\n"
     ]
    },
    {
     "name": "stdout",
     "output_type": "stream",
     "text": [
      "start at Wed 17 Apr 2024 11:19:08 PM EDT\n",
      " ---------------------------------------------\n",
      "    HYPE version 5.24.0                  \n",
      " ---------------------------------------------\n",
      " New versions of HYPE at the HYPE Open Source \n",
      " Community website (hypecode.smhi.se), as well\n",
      " as information on up-coming courses.         \n",
      " ---------------------------------------------\n"
     ]
    },
    {
     "name": "stderr",
     "output_type": "stream",
     "text": [
      " -> Simulation will halt: successfully\n",
      "Note: The following floating-point exceptions are signalling: IEEE_UNDERFLOW_FLAG IEEE_DENORMAL\n",
      "STOP 0\n"
     ]
    },
    {
     "name": "stdout",
     "output_type": "stream",
     "text": [
      "end at Wed 17 Apr 2024 11:19:08 PM EDT\n"
     ]
    },
    {
     "name": "stderr",
     "output_type": "stream",
     "text": [
      "Restoring modules from user's fhimp-mods\n"
     ]
    },
    {
     "name": "stdout",
     "output_type": "stream",
     "text": [
      "start at Wed 17 Apr 2024 11:19:11 PM EDT\n",
      " ---------------------------------------------\n",
      "    HYPE version 5.24.0                  \n",
      " ---------------------------------------------\n",
      " New versions of HYPE at the HYPE Open Source \n",
      " Community website (hypecode.smhi.se), as well\n",
      " as information on up-coming courses.         \n",
      " ---------------------------------------------\n",
      "start at Wed 17 Apr 2024 11:19:13 PM EDT\n",
      " ---------------------------------------------\n",
      "    HYPE version 5.24.0                  \n",
      " ---------------------------------------------\n",
      " New versions of HYPE at the HYPE Open Source \n",
      " Community website (hypecode.smhi.se), as well\n",
      " as information on up-coming courses.         \n",
      " ---------------------------------------------\n"
     ]
    },
    {
     "name": "stderr",
     "output_type": "stream",
     "text": [
      " -> Simulation will halt: successfully\n",
      "Note: The following floating-point exceptions are signalling: IEEE_UNDERFLOW_FLAG IEEE_DENORMAL\n",
      "STOP 0\n"
     ]
    },
    {
     "name": "stdout",
     "output_type": "stream",
     "text": [
      "end at Wed 17 Apr 2024 11:19:14 PM EDT\n"
     ]
    },
    {
     "name": "stderr",
     "output_type": "stream",
     "text": [
      "Restoring modules from user's fhimp-mods\n"
     ]
    },
    {
     "name": "stdout",
     "output_type": "stream",
     "text": [
      "start at Wed 17 Apr 2024 11:19:15 PM EDT\n",
      " ---------------------------------------------\n",
      "    HYPE version 5.24.0                  \n",
      " ---------------------------------------------\n",
      " New versions of HYPE at the HYPE Open Source \n",
      " Community website (hypecode.smhi.se), as well\n",
      " as information on up-coming courses.         \n",
      " ---------------------------------------------\n"
     ]
    },
    {
     "name": "stderr",
     "output_type": "stream",
     "text": [
      " -> Simulation will halt: successfully\n",
      "Note: The following floating-point exceptions are signalling: IEEE_UNDERFLOW_FLAG IEEE_DENORMAL\n",
      "STOP 0\n"
     ]
    },
    {
     "name": "stdout",
     "output_type": "stream",
     "text": [
      "end at Wed 17 Apr 2024 11:19:17 PM EDT\n"
     ]
    },
    {
     "name": "stderr",
     "output_type": "stream",
     "text": [
      "Restoring modules from user's fhimp-mods\n",
      " -> Simulation will halt: successfully\n",
      "Note: The following floating-point exceptions are signalling: IEEE_UNDERFLOW_FLAG IEEE_DENORMAL\n",
      "STOP 0\n"
     ]
    },
    {
     "name": "stdout",
     "output_type": "stream",
     "text": [
      "end at Wed 17 Apr 2024 11:19:19 PM EDT\n"
     ]
    },
    {
     "name": "stderr",
     "output_type": "stream",
     "text": [
      "Restoring modules from user's fhimp-mods\n"
     ]
    },
    {
     "name": "stdout",
     "output_type": "stream",
     "text": [
      "start at Wed 17 Apr 2024 11:19:21 PM EDT\n",
      " ---------------------------------------------\n",
      "    HYPE version 5.24.0                  \n",
      " ---------------------------------------------\n",
      " New versions of HYPE at the HYPE Open Source \n",
      " Community website (hypecode.smhi.se), as well\n",
      " as information on up-coming courses.         \n",
      " ---------------------------------------------\n"
     ]
    },
    {
     "name": "stderr",
     "output_type": "stream",
     "text": [
      " -> Simulation will halt: successfully\n",
      "Note: The following floating-point exceptions are signalling: IEEE_UNDERFLOW_FLAG IEEE_DENORMAL\n",
      "STOP 0\n"
     ]
    },
    {
     "name": "stdout",
     "output_type": "stream",
     "text": [
      "end at Wed 17 Apr 2024 11:19:21 PM EDT\n"
     ]
    },
    {
     "name": "stderr",
     "output_type": "stream",
     "text": [
      "Restoring modules from user's fhimp-mods\n"
     ]
    },
    {
     "name": "stdout",
     "output_type": "stream",
     "text": [
      "start at Wed 17 Apr 2024 11:19:24 PM EDT\n",
      " ---------------------------------------------\n",
      "    HYPE version 5.24.0                  \n",
      " ---------------------------------------------\n",
      " New versions of HYPE at the HYPE Open Source \n",
      " Community website (hypecode.smhi.se), as well\n",
      " as information on up-coming courses.         \n",
      " ---------------------------------------------\n",
      "start at Wed 17 Apr 2024 11:19:25 PM EDT\n",
      " ---------------------------------------------\n",
      "    HYPE version 5.24.0                  \n",
      " ---------------------------------------------\n",
      " New versions of HYPE at the HYPE Open Source \n",
      " Community website (hypecode.smhi.se), as well\n",
      " as information on up-coming courses.         \n",
      " ---------------------------------------------\n"
     ]
    },
    {
     "name": "stderr",
     "output_type": "stream",
     "text": [
      " -> Simulation will halt: successfully\n",
      "Note: The following floating-point exceptions are signalling: IEEE_UNDERFLOW_FLAG IEEE_DENORMAL\n",
      "STOP 0\n"
     ]
    },
    {
     "name": "stdout",
     "output_type": "stream",
     "text": [
      "end at Wed 17 Apr 2024 11:19:27 PM EDT\n"
     ]
    },
    {
     "name": "stderr",
     "output_type": "stream",
     "text": [
      "Restoring modules from user's fhimp-mods\n"
     ]
    },
    {
     "name": "stdout",
     "output_type": "stream",
     "text": [
      "start at Wed 17 Apr 2024 11:19:28 PM EDT\n",
      " ---------------------------------------------\n",
      "    HYPE version 5.24.0                  \n",
      " ---------------------------------------------\n",
      " New versions of HYPE at the HYPE Open Source \n",
      " Community website (hypecode.smhi.se), as well\n",
      " as information on up-coming courses.         \n",
      " ---------------------------------------------\n"
     ]
    },
    {
     "name": "stderr",
     "output_type": "stream",
     "text": [
      " -> Simulation will halt: successfully\n",
      "Note: The following floating-point exceptions are signalling: IEEE_UNDERFLOW_FLAG IEEE_DENORMAL\n",
      "STOP 0\n"
     ]
    },
    {
     "name": "stdout",
     "output_type": "stream",
     "text": [
      "end at Wed 17 Apr 2024 11:19:30 PM EDT\n"
     ]
    },
    {
     "name": "stderr",
     "output_type": "stream",
     "text": [
      "Restoring modules from user's fhimp-mods\n",
      " -> Simulation will halt: successfully\n",
      "Note: The following floating-point exceptions are signalling: IEEE_UNDERFLOW_FLAG IEEE_DENORMAL\n",
      "STOP 0\n"
     ]
    },
    {
     "name": "stdout",
     "output_type": "stream",
     "text": [
      "end at Wed 17 Apr 2024 11:19:31 PM EDT\n"
     ]
    },
    {
     "name": "stderr",
     "output_type": "stream",
     "text": [
      "Restoring modules from user's fhimp-mods\n"
     ]
    },
    {
     "name": "stdout",
     "output_type": "stream",
     "text": [
      "start at Wed 17 Apr 2024 11:19:33 PM EDT\n",
      " ---------------------------------------------\n",
      "    HYPE version 5.24.0                  \n",
      " ---------------------------------------------\n",
      " New versions of HYPE at the HYPE Open Source \n",
      " Community website (hypecode.smhi.se), as well\n",
      " as information on up-coming courses.         \n",
      " ---------------------------------------------\n",
      "end at Wed 17 Apr 2024 11:19:34 PM EDT\n"
     ]
    },
    {
     "name": "stderr",
     "output_type": "stream",
     "text": [
      " -> Simulation will halt: successfully\n",
      "Note: The following floating-point exceptions are signalling: IEEE_UNDERFLOW_FLAG IEEE_DENORMAL\n",
      "STOP 0\n",
      "Restoring modules from user's fhimp-mods\n"
     ]
    },
    {
     "name": "stdout",
     "output_type": "stream",
     "text": [
      "start at Wed 17 Apr 2024 11:19:36 PM EDT\n",
      " ---------------------------------------------\n",
      "    HYPE version 5.24.0                  \n",
      " ---------------------------------------------\n",
      " New versions of HYPE at the HYPE Open Source \n",
      " Community website (hypecode.smhi.se), as well\n",
      " as information on up-coming courses.         \n",
      " ---------------------------------------------\n",
      "start at Wed 17 Apr 2024 11:19:38 PM EDT\n",
      " ---------------------------------------------\n",
      "    HYPE version 5.24.0                  \n",
      " ---------------------------------------------\n",
      " New versions of HYPE at the HYPE Open Source \n",
      " Community website (hypecode.smhi.se), as well\n",
      " as information on up-coming courses.         \n",
      " ---------------------------------------------\n"
     ]
    },
    {
     "name": "stderr",
     "output_type": "stream",
     "text": [
      " -> Simulation will halt: successfully\n",
      "Note: The following floating-point exceptions are signalling: IEEE_UNDERFLOW_FLAG IEEE_DENORMAL\n",
      "STOP 0\n"
     ]
    },
    {
     "name": "stdout",
     "output_type": "stream",
     "text": [
      "end at Wed 17 Apr 2024 11:19:39 PM EDT\n"
     ]
    },
    {
     "name": "stderr",
     "output_type": "stream",
     "text": [
      "Restoring modules from user's fhimp-mods\n"
     ]
    },
    {
     "name": "stdout",
     "output_type": "stream",
     "text": [
      "start at Wed 17 Apr 2024 11:19:40 PM EDT\n",
      " ---------------------------------------------\n",
      "    HYPE version 5.24.0                  \n",
      " ---------------------------------------------\n",
      " New versions of HYPE at the HYPE Open Source \n",
      " Community website (hypecode.smhi.se), as well\n",
      " as information on up-coming courses.         \n",
      " ---------------------------------------------\n"
     ]
    },
    {
     "name": "stderr",
     "output_type": "stream",
     "text": [
      " -> Simulation will halt: successfully\n",
      "Note: The following floating-point exceptions are signalling: IEEE_UNDERFLOW_FLAG IEEE_DENORMAL\n",
      "STOP 0\n"
     ]
    },
    {
     "name": "stdout",
     "output_type": "stream",
     "text": [
      "end at Wed 17 Apr 2024 11:19:42 PM EDT\n"
     ]
    },
    {
     "name": "stderr",
     "output_type": "stream",
     "text": [
      "Restoring modules from user's fhimp-mods\n",
      " -> Simulation will halt: successfully\n",
      "Note: The following floating-point exceptions are signalling: IEEE_UNDERFLOW_FLAG IEEE_DENORMAL\n",
      "STOP 0\n"
     ]
    },
    {
     "name": "stdout",
     "output_type": "stream",
     "text": [
      "end at Wed 17 Apr 2024 11:19:44 PM EDT\n"
     ]
    },
    {
     "name": "stderr",
     "output_type": "stream",
     "text": [
      "Restoring modules from user's fhimp-mods\n"
     ]
    },
    {
     "name": "stdout",
     "output_type": "stream",
     "text": [
      "start at Wed 17 Apr 2024 11:19:46 PM EDT\n",
      " ---------------------------------------------\n",
      "    HYPE version 5.24.0                  \n",
      " ---------------------------------------------\n",
      " New versions of HYPE at the HYPE Open Source \n",
      " Community website (hypecode.smhi.se), as well\n",
      " as information on up-coming courses.         \n",
      " ---------------------------------------------\n"
     ]
    },
    {
     "name": "stderr",
     "output_type": "stream",
     "text": [
      " -> Simulation will halt: successfully\n",
      "Note: The following floating-point exceptions are signalling: IEEE_UNDERFLOW_FLAG IEEE_DENORMAL\n",
      "STOP 0\n"
     ]
    },
    {
     "name": "stdout",
     "output_type": "stream",
     "text": [
      "end at Wed 17 Apr 2024 11:19:46 PM EDT\n"
     ]
    },
    {
     "name": "stderr",
     "output_type": "stream",
     "text": [
      "Restoring modules from user's fhimp-mods\n"
     ]
    },
    {
     "name": "stdout",
     "output_type": "stream",
     "text": [
      "start at Wed 17 Apr 2024 11:19:48 PM EDT\n",
      " ---------------------------------------------\n",
      "    HYPE version 5.24.0                  \n",
      " ---------------------------------------------\n",
      " New versions of HYPE at the HYPE Open Source \n",
      " Community website (hypecode.smhi.se), as well\n",
      " as information on up-coming courses.         \n",
      " ---------------------------------------------\n",
      "start at Wed 17 Apr 2024 11:19:50 PM EDT\n",
      " ---------------------------------------------\n",
      "    HYPE version 5.24.0                  \n",
      " ---------------------------------------------\n",
      " New versions of HYPE at the HYPE Open Source \n",
      " Community website (hypecode.smhi.se), as well\n",
      " as information on up-coming courses.         \n",
      " ---------------------------------------------\n"
     ]
    },
    {
     "name": "stderr",
     "output_type": "stream",
     "text": [
      " -> Simulation will halt: successfully\n",
      "Note: The following floating-point exceptions are signalling: IEEE_UNDERFLOW_FLAG IEEE_DENORMAL\n",
      "STOP 0\n"
     ]
    },
    {
     "name": "stdout",
     "output_type": "stream",
     "text": [
      "end at Wed 17 Apr 2024 11:19:52 PM EDT\n"
     ]
    },
    {
     "name": "stderr",
     "output_type": "stream",
     "text": [
      "Restoring modules from user's fhimp-mods\n"
     ]
    },
    {
     "name": "stdout",
     "output_type": "stream",
     "text": [
      "start at Wed 17 Apr 2024 11:19:53 PM EDT\n",
      " ---------------------------------------------\n",
      "    HYPE version 5.24.0                  \n",
      " ---------------------------------------------\n",
      " New versions of HYPE at the HYPE Open Source \n",
      " Community website (hypecode.smhi.se), as well\n",
      " as information on up-coming courses.         \n",
      " ---------------------------------------------\n"
     ]
    },
    {
     "name": "stderr",
     "output_type": "stream",
     "text": [
      " -> Simulation will halt: successfully\n",
      "Note: The following floating-point exceptions are signalling: IEEE_UNDERFLOW_FLAG IEEE_DENORMAL\n",
      "STOP 0\n"
     ]
    },
    {
     "name": "stdout",
     "output_type": "stream",
     "text": [
      "end at Wed 17 Apr 2024 11:19:54 PM EDT\n"
     ]
    },
    {
     "name": "stderr",
     "output_type": "stream",
     "text": [
      "Restoring modules from user's fhimp-mods\n",
      " -> Simulation will halt: successfully\n",
      "Note: The following floating-point exceptions are signalling: IEEE_UNDERFLOW_FLAG IEEE_DENORMAL\n",
      "STOP 0\n"
     ]
    },
    {
     "name": "stdout",
     "output_type": "stream",
     "text": [
      "end at Wed 17 Apr 2024 11:19:56 PM EDT\n"
     ]
    },
    {
     "name": "stderr",
     "output_type": "stream",
     "text": [
      "Restoring modules from user's fhimp-mods\n"
     ]
    },
    {
     "name": "stdout",
     "output_type": "stream",
     "text": [
      "start at Wed 17 Apr 2024 11:19:59 PM EDT\n",
      " ---------------------------------------------\n",
      "    HYPE version 5.24.0                  \n",
      " ---------------------------------------------\n",
      " New versions of HYPE at the HYPE Open Source \n",
      " Community website (hypecode.smhi.se), as well\n",
      " as information on up-coming courses.         \n",
      " ---------------------------------------------\n",
      "end at Wed 17 Apr 2024 11:19:59 PM EDT\n"
     ]
    },
    {
     "name": "stderr",
     "output_type": "stream",
     "text": [
      " -> Simulation will halt: successfully\n",
      "Note: The following floating-point exceptions are signalling: IEEE_UNDERFLOW_FLAG IEEE_DENORMAL\n",
      "STOP 0\n",
      "Restoring modules from user's fhimp-mods\n"
     ]
    },
    {
     "name": "stdout",
     "output_type": "stream",
     "text": [
      "start at Wed 17 Apr 2024 11:20:01 PM EDT\n",
      " ---------------------------------------------\n",
      "    HYPE version 5.24.0                  \n",
      " ---------------------------------------------\n",
      " New versions of HYPE at the HYPE Open Source \n",
      " Community website (hypecode.smhi.se), as well\n",
      " as information on up-coming courses.         \n",
      " ---------------------------------------------\n",
      "start at Wed 17 Apr 2024 11:20:03 PM EDT\n",
      " ---------------------------------------------\n",
      "    HYPE version 5.24.0                  \n",
      " ---------------------------------------------\n",
      " New versions of HYPE at the HYPE Open Source \n",
      " Community website (hypecode.smhi.se), as well\n",
      " as information on up-coming courses.         \n",
      " ---------------------------------------------\n"
     ]
    },
    {
     "name": "stderr",
     "output_type": "stream",
     "text": [
      " -> Simulation will halt: successfully\n",
      "Note: The following floating-point exceptions are signalling: IEEE_UNDERFLOW_FLAG IEEE_DENORMAL\n",
      "STOP 0\n"
     ]
    },
    {
     "name": "stdout",
     "output_type": "stream",
     "text": [
      "end at Wed 17 Apr 2024 11:20:05 PM EDT\n"
     ]
    },
    {
     "name": "stderr",
     "output_type": "stream",
     "text": [
      "Restoring modules from user's fhimp-mods\n"
     ]
    },
    {
     "name": "stdout",
     "output_type": "stream",
     "text": [
      "start at Wed 17 Apr 2024 11:20:05 PM EDT\n",
      " ---------------------------------------------\n",
      "    HYPE version 5.24.0                  \n",
      " ---------------------------------------------\n",
      " New versions of HYPE at the HYPE Open Source \n",
      " Community website (hypecode.smhi.se), as well\n",
      " as information on up-coming courses.         \n",
      " ---------------------------------------------\n"
     ]
    },
    {
     "name": "stderr",
     "output_type": "stream",
     "text": [
      " -> Simulation will halt: successfully\n",
      "Note: The following floating-point exceptions are signalling: IEEE_UNDERFLOW_FLAG IEEE_DENORMAL\n",
      "STOP 0\n"
     ]
    },
    {
     "name": "stdout",
     "output_type": "stream",
     "text": [
      "end at Wed 17 Apr 2024 11:20:07 PM EDT\n"
     ]
    },
    {
     "name": "stderr",
     "output_type": "stream",
     "text": [
      "Restoring modules from user's fhimp-mods\n",
      " -> Simulation will halt: successfully\n",
      "Note: The following floating-point exceptions are signalling: IEEE_UNDERFLOW_FLAG IEEE_DENORMAL\n",
      "STOP 0\n"
     ]
    },
    {
     "name": "stdout",
     "output_type": "stream",
     "text": [
      "end at Wed 17 Apr 2024 11:20:09 PM EDT\n"
     ]
    },
    {
     "name": "stderr",
     "output_type": "stream",
     "text": [
      "Restoring modules from user's fhimp-mods\n"
     ]
    },
    {
     "name": "stdout",
     "output_type": "stream",
     "text": [
      "start at Wed 17 Apr 2024 11:20:11 PM EDT\n",
      " ---------------------------------------------\n",
      "    HYPE version 5.24.0                  \n",
      " ---------------------------------------------\n",
      " New versions of HYPE at the HYPE Open Source \n",
      " Community website (hypecode.smhi.se), as well\n",
      " as information on up-coming courses.         \n",
      " ---------------------------------------------\n"
     ]
    },
    {
     "name": "stderr",
     "output_type": "stream",
     "text": [
      " -> Simulation will halt: successfully\n",
      "Note: The following floating-point exceptions are signalling: IEEE_UNDERFLOW_FLAG IEEE_DENORMAL\n",
      "STOP 0\n"
     ]
    },
    {
     "name": "stdout",
     "output_type": "stream",
     "text": [
      "end at Wed 17 Apr 2024 11:20:11 PM EDT\n"
     ]
    },
    {
     "name": "stderr",
     "output_type": "stream",
     "text": [
      "Restoring modules from user's fhimp-mods\n"
     ]
    },
    {
     "name": "stdout",
     "output_type": "stream",
     "text": [
      "start at Wed 17 Apr 2024 11:20:13 PM EDT\n",
      " ---------------------------------------------\n",
      "    HYPE version 5.24.0                  \n",
      " ---------------------------------------------\n",
      " New versions of HYPE at the HYPE Open Source \n",
      " Community website (hypecode.smhi.se), as well\n",
      " as information on up-coming courses.         \n",
      " ---------------------------------------------\n",
      "start at Wed 17 Apr 2024 11:20:15 PM EDT\n",
      " ---------------------------------------------\n",
      "    HYPE version 5.24.0                  \n",
      " ---------------------------------------------\n",
      " New versions of HYPE at the HYPE Open Source \n",
      " Community website (hypecode.smhi.se), as well\n",
      " as information on up-coming courses.         \n",
      " ---------------------------------------------\n"
     ]
    },
    {
     "name": "stderr",
     "output_type": "stream",
     "text": [
      " -> Simulation will halt: successfully\n",
      "Note: The following floating-point exceptions are signalling: IEEE_UNDERFLOW_FLAG IEEE_DENORMAL\n",
      "STOP 0\n"
     ]
    },
    {
     "name": "stdout",
     "output_type": "stream",
     "text": [
      "end at Wed 17 Apr 2024 11:20:17 PM EDT\n"
     ]
    },
    {
     "name": "stderr",
     "output_type": "stream",
     "text": [
      "Restoring modules from user's fhimp-mods\n"
     ]
    },
    {
     "name": "stdout",
     "output_type": "stream",
     "text": [
      "start at Wed 17 Apr 2024 11:20:18 PM EDT\n",
      " ---------------------------------------------\n",
      "    HYPE version 5.24.0                  \n",
      " ---------------------------------------------\n",
      " New versions of HYPE at the HYPE Open Source \n",
      " Community website (hypecode.smhi.se), as well\n",
      " as information on up-coming courses.         \n",
      " ---------------------------------------------\n"
     ]
    },
    {
     "name": "stderr",
     "output_type": "stream",
     "text": [
      " -> Simulation will halt: successfully\n",
      "Note: The following floating-point exceptions are signalling: IEEE_UNDERFLOW_FLAG IEEE_DENORMAL\n",
      "STOP 0\n"
     ]
    },
    {
     "name": "stdout",
     "output_type": "stream",
     "text": [
      "end at Wed 17 Apr 2024 11:20:19 PM EDT\n"
     ]
    },
    {
     "name": "stderr",
     "output_type": "stream",
     "text": [
      "Restoring modules from user's fhimp-mods\n",
      " -> Simulation will halt: successfully\n",
      "Note: The following floating-point exceptions are signalling: IEEE_UNDERFLOW_FLAG IEEE_DENORMAL\n",
      "STOP 0\n"
     ]
    },
    {
     "name": "stdout",
     "output_type": "stream",
     "text": [
      "end at Wed 17 Apr 2024 11:20:21 PM EDT\n"
     ]
    },
    {
     "name": "stderr",
     "output_type": "stream",
     "text": [
      "Restoring modules from user's fhimp-mods\n",
      " -> Simulation will halt: successfully\n",
      "Note: The following floating-point exceptions are signalling: IEEE_UNDERFLOW_FLAG IEEE_DENORMAL\n",
      "STOP 0\n"
     ]
    },
    {
     "name": "stdout",
     "output_type": "stream",
     "text": [
      "end at Wed 17 Apr 2024 11:20:24 PM EDT\n",
      "start at Wed 17 Apr 2024 11:20:24 PM EDT\n",
      " ---------------------------------------------\n",
      "    HYPE version 5.24.0                  \n",
      " ---------------------------------------------\n",
      " New versions of HYPE at the HYPE Open Source \n",
      " Community website (hypecode.smhi.se), as well\n",
      " as information on up-coming courses.         \n",
      " ---------------------------------------------\n"
     ]
    },
    {
     "name": "stderr",
     "output_type": "stream",
     "text": [
      "Restoring modules from user's fhimp-mods\n"
     ]
    },
    {
     "name": "stdout",
     "output_type": "stream",
     "text": [
      "start at Wed 17 Apr 2024 11:20:26 PM EDT\n",
      " ---------------------------------------------\n",
      "    HYPE version 5.24.0                  \n",
      " ---------------------------------------------\n",
      " New versions of HYPE at the HYPE Open Source \n",
      " Community website (hypecode.smhi.se), as well\n",
      " as information on up-coming courses.         \n",
      " ---------------------------------------------\n",
      "start at Wed 17 Apr 2024 11:20:27 PM EDT\n",
      " ---------------------------------------------\n",
      "    HYPE version 5.24.0                  \n",
      " ---------------------------------------------\n",
      " New versions of HYPE at the HYPE Open Source \n",
      " Community website (hypecode.smhi.se), as well\n",
      " as information on up-coming courses.         \n",
      " ---------------------------------------------\n"
     ]
    },
    {
     "name": "stderr",
     "output_type": "stream",
     "text": [
      " -> Simulation will halt: successfully\n",
      "Note: The following floating-point exceptions are signalling: IEEE_UNDERFLOW_FLAG IEEE_DENORMAL\n",
      "STOP 0\n"
     ]
    },
    {
     "name": "stdout",
     "output_type": "stream",
     "text": [
      "end at Wed 17 Apr 2024 11:20:30 PM EDT\n"
     ]
    },
    {
     "name": "stderr",
     "output_type": "stream",
     "text": [
      "Restoring modules from user's fhimp-mods\n"
     ]
    },
    {
     "name": "stdout",
     "output_type": "stream",
     "text": [
      "start at Wed 17 Apr 2024 11:20:31 PM EDT\n",
      " ---------------------------------------------\n",
      "    HYPE version 5.24.0                  \n",
      " ---------------------------------------------\n",
      " New versions of HYPE at the HYPE Open Source \n",
      " Community website (hypecode.smhi.se), as well\n",
      " as information on up-coming courses.         \n",
      " ---------------------------------------------\n"
     ]
    },
    {
     "name": "stderr",
     "output_type": "stream",
     "text": [
      " -> Simulation will halt: successfully\n",
      "Note: The following floating-point exceptions are signalling: IEEE_UNDERFLOW_FLAG IEEE_DENORMAL\n",
      "STOP 0\n"
     ]
    },
    {
     "name": "stdout",
     "output_type": "stream",
     "text": [
      "end at Wed 17 Apr 2024 11:20:32 PM EDT\n"
     ]
    },
    {
     "name": "stderr",
     "output_type": "stream",
     "text": [
      "Restoring modules from user's fhimp-mods\n",
      " -> Simulation will halt: successfully\n",
      "Note: The following floating-point exceptions are signalling: IEEE_UNDERFLOW_FLAG IEEE_DENORMAL\n",
      "STOP 0\n"
     ]
    },
    {
     "name": "stdout",
     "output_type": "stream",
     "text": [
      "end at Wed 17 Apr 2024 11:20:33 PM EDT\n"
     ]
    },
    {
     "name": "stderr",
     "output_type": "stream",
     "text": [
      "Restoring modules from user's fhimp-mods\n"
     ]
    },
    {
     "name": "stdout",
     "output_type": "stream",
     "text": [
      "start at Wed 17 Apr 2024 11:20:37 PM EDT\n",
      " ---------------------------------------------\n",
      "    HYPE version 5.24.0                  \n",
      " ---------------------------------------------\n",
      " New versions of HYPE at the HYPE Open Source \n",
      " Community website (hypecode.smhi.se), as well\n",
      " as information on up-coming courses.         \n",
      " ---------------------------------------------\n",
      "end at Wed 17 Apr 2024 11:20:37 PM EDT\n"
     ]
    },
    {
     "name": "stderr",
     "output_type": "stream",
     "text": [
      " -> Simulation will halt: successfully\n",
      "Note: The following floating-point exceptions are signalling: IEEE_UNDERFLOW_FLAG IEEE_DENORMAL\n",
      "STOP 0\n",
      "Restoring modules from user's fhimp-mods\n"
     ]
    },
    {
     "name": "stdout",
     "output_type": "stream",
     "text": [
      "start at Wed 17 Apr 2024 11:20:38 PM EDT\n",
      " ---------------------------------------------\n",
      "    HYPE version 5.24.0                  \n",
      " ---------------------------------------------\n",
      " New versions of HYPE at the HYPE Open Source \n",
      " Community website (hypecode.smhi.se), as well\n",
      " as information on up-coming courses.         \n",
      " ---------------------------------------------\n",
      "start at Wed 17 Apr 2024 11:20:39 PM EDT\n",
      " ---------------------------------------------\n",
      "    HYPE version 5.24.0                  \n",
      " ---------------------------------------------\n",
      " New versions of HYPE at the HYPE Open Source \n",
      " Community website (hypecode.smhi.se), as well\n",
      " as information on up-coming courses.         \n",
      " ---------------------------------------------\n"
     ]
    },
    {
     "name": "stderr",
     "output_type": "stream",
     "text": [
      " -> Simulation will halt: successfully\n",
      "Note: The following floating-point exceptions are signalling: IEEE_UNDERFLOW_FLAG IEEE_DENORMAL\n",
      "STOP 0\n"
     ]
    },
    {
     "name": "stdout",
     "output_type": "stream",
     "text": [
      "end at Wed 17 Apr 2024 11:20:43 PM EDT\n"
     ]
    },
    {
     "name": "stderr",
     "output_type": "stream",
     "text": [
      "Restoring modules from user's fhimp-mods\n"
     ]
    },
    {
     "name": "stdout",
     "output_type": "stream",
     "text": [
      "start at Wed 17 Apr 2024 11:20:43 PM EDT\n",
      " ---------------------------------------------\n",
      "    HYPE version 5.24.0                  \n",
      " ---------------------------------------------\n",
      " New versions of HYPE at the HYPE Open Source \n",
      " Community website (hypecode.smhi.se), as well\n",
      " as information on up-coming courses.         \n",
      " ---------------------------------------------\n"
     ]
    },
    {
     "name": "stderr",
     "output_type": "stream",
     "text": [
      " -> Simulation will halt: successfully\n",
      "Note: The following floating-point exceptions are signalling: IEEE_UNDERFLOW_FLAG IEEE_DENORMAL\n",
      "STOP 0\n"
     ]
    },
    {
     "name": "stdout",
     "output_type": "stream",
     "text": [
      "end at Wed 17 Apr 2024 11:20:44 PM EDT\n"
     ]
    },
    {
     "name": "stderr",
     "output_type": "stream",
     "text": [
      "Restoring modules from user's fhimp-mods\n",
      " -> Simulation will halt: successfully\n",
      "Note: The following floating-point exceptions are signalling: IEEE_UNDERFLOW_FLAG IEEE_DENORMAL\n",
      "STOP 0\n"
     ]
    },
    {
     "name": "stdout",
     "output_type": "stream",
     "text": [
      "end at Wed 17 Apr 2024 11:20:46 PM EDT\n"
     ]
    },
    {
     "name": "stderr",
     "output_type": "stream",
     "text": [
      "Restoring modules from user's fhimp-mods\n"
     ]
    },
    {
     "name": "stdout",
     "output_type": "stream",
     "text": [
      "start at Wed 17 Apr 2024 11:20:49 PM EDT\n",
      " ---------------------------------------------\n",
      "    HYPE version 5.24.0                  \n",
      " ---------------------------------------------\n",
      " New versions of HYPE at the HYPE Open Source \n",
      " Community website (hypecode.smhi.se), as well\n",
      " as information on up-coming courses.         \n",
      " ---------------------------------------------\n"
     ]
    },
    {
     "name": "stderr",
     "output_type": "stream",
     "text": [
      " -> Simulation will halt: successfully\n",
      "Note: The following floating-point exceptions are signalling: IEEE_UNDERFLOW_FLAG IEEE_DENORMAL\n",
      "STOP 0\n"
     ]
    },
    {
     "name": "stdout",
     "output_type": "stream",
     "text": [
      "end at Wed 17 Apr 2024 11:20:49 PM EDT\n"
     ]
    },
    {
     "name": "stderr",
     "output_type": "stream",
     "text": [
      "Restoring modules from user's fhimp-mods\n"
     ]
    },
    {
     "name": "stdout",
     "output_type": "stream",
     "text": [
      "start at Wed 17 Apr 2024 11:20:50 PM EDT\n",
      " ---------------------------------------------\n",
      "    HYPE version 5.24.0                  \n",
      " ---------------------------------------------\n",
      " New versions of HYPE at the HYPE Open Source \n",
      " Community website (hypecode.smhi.se), as well\n",
      " as information on up-coming courses.         \n",
      " ---------------------------------------------\n",
      "start at Wed 17 Apr 2024 11:20:52 PM EDT\n",
      " ---------------------------------------------\n",
      "    HYPE version 5.24.0                  \n",
      " ---------------------------------------------\n",
      " New versions of HYPE at the HYPE Open Source \n",
      " Community website (hypecode.smhi.se), as well\n",
      " as information on up-coming courses.         \n",
      " ---------------------------------------------\n"
     ]
    },
    {
     "name": "stderr",
     "output_type": "stream",
     "text": [
      " -> Simulation will halt: successfully\n",
      "Note: The following floating-point exceptions are signalling: IEEE_UNDERFLOW_FLAG IEEE_DENORMAL\n",
      "STOP 0\n"
     ]
    },
    {
     "name": "stdout",
     "output_type": "stream",
     "text": [
      "end at Wed 17 Apr 2024 11:20:55 PM EDT\n"
     ]
    },
    {
     "name": "stderr",
     "output_type": "stream",
     "text": [
      "Restoring modules from user's fhimp-mods\n"
     ]
    },
    {
     "name": "stdout",
     "output_type": "stream",
     "text": [
      "start at Wed 17 Apr 2024 11:20:56 PM EDT\n",
      " ---------------------------------------------\n",
      "    HYPE version 5.24.0                  \n",
      " ---------------------------------------------\n",
      " New versions of HYPE at the HYPE Open Source \n",
      " Community website (hypecode.smhi.se), as well\n",
      " as information on up-coming courses.         \n",
      " ---------------------------------------------\n"
     ]
    },
    {
     "name": "stderr",
     "output_type": "stream",
     "text": [
      " -> Simulation will halt: successfully\n",
      "Note: The following floating-point exceptions are signalling: IEEE_UNDERFLOW_FLAG IEEE_DENORMAL\n",
      "STOP 0\n"
     ]
    },
    {
     "name": "stdout",
     "output_type": "stream",
     "text": [
      "end at Wed 17 Apr 2024 11:20:56 PM EDT\n"
     ]
    },
    {
     "name": "stderr",
     "output_type": "stream",
     "text": [
      "Restoring modules from user's fhimp-mods\n",
      " -> Simulation will halt: successfully\n",
      "Note: The following floating-point exceptions are signalling: IEEE_UNDERFLOW_FLAG IEEE_DENORMAL\n",
      "STOP 0\n"
     ]
    },
    {
     "name": "stdout",
     "output_type": "stream",
     "text": [
      "end at Wed 17 Apr 2024 11:20:58 PM EDT\n"
     ]
    },
    {
     "name": "stderr",
     "output_type": "stream",
     "text": [
      "Restoring modules from user's fhimp-mods\n"
     ]
    },
    {
     "name": "stdout",
     "output_type": "stream",
     "text": [
      "start at Wed 17 Apr 2024 11:21:01 PM EDT\n",
      " ---------------------------------------------\n",
      "    HYPE version 5.24.0                  \n",
      " ---------------------------------------------\n",
      " New versions of HYPE at the HYPE Open Source \n",
      " Community website (hypecode.smhi.se), as well\n",
      " as information on up-coming courses.         \n",
      " ---------------------------------------------\n"
     ]
    },
    {
     "name": "stderr",
     "output_type": "stream",
     "text": [
      " -> Simulation will halt: successfully\n",
      "Note: The following floating-point exceptions are signalling: IEEE_UNDERFLOW_FLAG IEEE_DENORMAL\n",
      "STOP 0\n"
     ]
    },
    {
     "name": "stdout",
     "output_type": "stream",
     "text": [
      "end at Wed 17 Apr 2024 11:21:02 PM EDT\n"
     ]
    },
    {
     "name": "stderr",
     "output_type": "stream",
     "text": [
      "Restoring modules from user's fhimp-mods\n"
     ]
    },
    {
     "name": "stdout",
     "output_type": "stream",
     "text": [
      "start at Wed 17 Apr 2024 11:21:03 PM EDT\n",
      " ---------------------------------------------\n",
      "    HYPE version 5.24.0                  \n",
      " ---------------------------------------------\n",
      " New versions of HYPE at the HYPE Open Source \n",
      " Community website (hypecode.smhi.se), as well\n",
      " as information on up-coming courses.         \n",
      " ---------------------------------------------\n",
      "start at Wed 17 Apr 2024 11:21:04 PM EDT\n",
      " ---------------------------------------------\n",
      "    HYPE version 5.24.0                  \n",
      " ---------------------------------------------\n",
      " New versions of HYPE at the HYPE Open Source \n",
      " Community website (hypecode.smhi.se), as well\n",
      " as information on up-coming courses.         \n",
      " ---------------------------------------------\n"
     ]
    },
    {
     "name": "stderr",
     "output_type": "stream",
     "text": [
      " -> Simulation will halt: successfully\n",
      "Note: The following floating-point exceptions are signalling: IEEE_UNDERFLOW_FLAG IEEE_DENORMAL\n",
      "STOP 0\n"
     ]
    },
    {
     "name": "stdout",
     "output_type": "stream",
     "text": [
      "end at Wed 17 Apr 2024 11:21:07 PM EDT\n"
     ]
    },
    {
     "name": "stderr",
     "output_type": "stream",
     "text": [
      "Restoring modules from user's fhimp-mods\n"
     ]
    },
    {
     "name": "stdout",
     "output_type": "stream",
     "text": [
      "start at Wed 17 Apr 2024 11:21:08 PM EDT\n",
      " ---------------------------------------------\n",
      "    HYPE version 5.24.0                  \n",
      " ---------------------------------------------\n",
      " New versions of HYPE at the HYPE Open Source \n",
      " Community website (hypecode.smhi.se), as well\n",
      " as information on up-coming courses.         \n",
      " ---------------------------------------------\n",
      "end at Wed 17 Apr 2024 11:21:09 PM EDT\n"
     ]
    },
    {
     "name": "stderr",
     "output_type": "stream",
     "text": [
      " -> Simulation will halt: successfully\n",
      "Note: The following floating-point exceptions are signalling: IEEE_UNDERFLOW_FLAG IEEE_DENORMAL\n",
      "STOP 0\n",
      "Restoring modules from user's fhimp-mods\n",
      " -> Simulation will halt: successfully\n",
      "Note: The following floating-point exceptions are signalling: IEEE_UNDERFLOW_FLAG IEEE_DENORMAL\n",
      "STOP 0\n"
     ]
    },
    {
     "name": "stdout",
     "output_type": "stream",
     "text": [
      "end at Wed 17 Apr 2024 11:21:10 PM EDT\n"
     ]
    },
    {
     "name": "stderr",
     "output_type": "stream",
     "text": [
      "Restoring modules from user's fhimp-mods\n"
     ]
    },
    {
     "name": "stdout",
     "output_type": "stream",
     "text": [
      "start at Wed 17 Apr 2024 11:21:14 PM EDT\n",
      " ---------------------------------------------\n",
      "    HYPE version 5.24.0                  \n",
      " ---------------------------------------------\n",
      " New versions of HYPE at the HYPE Open Source \n",
      " Community website (hypecode.smhi.se), as well\n",
      " as information on up-coming courses.         \n",
      " ---------------------------------------------\n"
     ]
    },
    {
     "name": "stderr",
     "output_type": "stream",
     "text": [
      " -> Simulation will halt: successfully\n",
      "Note: The following floating-point exceptions are signalling: IEEE_UNDERFLOW_FLAG IEEE_DENORMAL\n",
      "STOP 0\n"
     ]
    },
    {
     "name": "stdout",
     "output_type": "stream",
     "text": [
      "end at Wed 17 Apr 2024 11:21:14 PM EDT\n"
     ]
    },
    {
     "name": "stderr",
     "output_type": "stream",
     "text": [
      "Restoring modules from user's fhimp-mods\n"
     ]
    },
    {
     "name": "stdout",
     "output_type": "stream",
     "text": [
      "start at Wed 17 Apr 2024 11:21:15 PM EDT\n",
      " ---------------------------------------------\n",
      "    HYPE version 5.24.0                  \n",
      " ---------------------------------------------\n",
      " New versions of HYPE at the HYPE Open Source \n",
      " Community website (hypecode.smhi.se), as well\n",
      " as information on up-coming courses.         \n",
      " ---------------------------------------------\n",
      "start at Wed 17 Apr 2024 11:21:17 PM EDT\n",
      " ---------------------------------------------\n",
      "    HYPE version 5.24.0                  \n",
      " ---------------------------------------------\n",
      " New versions of HYPE at the HYPE Open Source \n",
      " Community website (hypecode.smhi.se), as well\n",
      " as information on up-coming courses.         \n",
      " ---------------------------------------------\n"
     ]
    },
    {
     "name": "stderr",
     "output_type": "stream",
     "text": [
      " -> Simulation will halt: successfully\n",
      "Note: The following floating-point exceptions are signalling: IEEE_UNDERFLOW_FLAG IEEE_DENORMAL\n",
      "STOP 0\n"
     ]
    },
    {
     "name": "stdout",
     "output_type": "stream",
     "text": [
      "end at Wed 17 Apr 2024 11:21:20 PM EDT\n"
     ]
    },
    {
     "name": "stderr",
     "output_type": "stream",
     "text": [
      "Restoring modules from user's fhimp-mods\n"
     ]
    },
    {
     "name": "stdout",
     "output_type": "stream",
     "text": [
      "start at Wed 17 Apr 2024 11:21:21 PM EDT\n",
      " ---------------------------------------------\n",
      "    HYPE version 5.24.0                  \n",
      " ---------------------------------------------\n",
      " New versions of HYPE at the HYPE Open Source \n",
      " Community website (hypecode.smhi.se), as well\n",
      " as information on up-coming courses.         \n",
      " ---------------------------------------------\n",
      "end at Wed 17 Apr 2024 11:21:21 PM EDT\n"
     ]
    },
    {
     "name": "stderr",
     "output_type": "stream",
     "text": [
      " -> Simulation will halt: successfully\n",
      "Note: The following floating-point exceptions are signalling: IEEE_UNDERFLOW_FLAG IEEE_DENORMAL\n",
      "STOP 0\n",
      "Restoring modules from user's fhimp-mods\n",
      " -> Simulation will halt: successfully\n",
      "Note: The following floating-point exceptions are signalling: IEEE_UNDERFLOW_FLAG IEEE_DENORMAL\n",
      "STOP 0\n"
     ]
    },
    {
     "name": "stdout",
     "output_type": "stream",
     "text": [
      "end at Wed 17 Apr 2024 11:21:23 PM EDT\n"
     ]
    },
    {
     "name": "stderr",
     "output_type": "stream",
     "text": [
      "Restoring modules from user's fhimp-mods\n"
     ]
    },
    {
     "name": "stdout",
     "output_type": "stream",
     "text": [
      "start at Wed 17 Apr 2024 11:21:26 PM EDT\n",
      " ---------------------------------------------\n",
      "    HYPE version 5.24.0                  \n",
      " ---------------------------------------------\n",
      " New versions of HYPE at the HYPE Open Source \n",
      " Community website (hypecode.smhi.se), as well\n",
      " as information on up-coming courses.         \n",
      " ---------------------------------------------\n"
     ]
    },
    {
     "name": "stderr",
     "output_type": "stream",
     "text": [
      " -> Simulation will halt: successfully\n",
      "Note: The following floating-point exceptions are signalling: IEEE_UNDERFLOW_FLAG IEEE_DENORMAL\n",
      "STOP 0\n"
     ]
    },
    {
     "name": "stdout",
     "output_type": "stream",
     "text": [
      "end at Wed 17 Apr 2024 11:21:27 PM EDT\n"
     ]
    },
    {
     "name": "stderr",
     "output_type": "stream",
     "text": [
      "Restoring modules from user's fhimp-mods\n"
     ]
    },
    {
     "name": "stdout",
     "output_type": "stream",
     "text": [
      "start at Wed 17 Apr 2024 11:21:28 PM EDT\n",
      " ---------------------------------------------\n",
      "    HYPE version 5.24.0                  \n",
      " ---------------------------------------------\n",
      " New versions of HYPE at the HYPE Open Source \n",
      " Community website (hypecode.smhi.se), as well\n",
      " as information on up-coming courses.         \n",
      " ---------------------------------------------\n",
      "start at Wed 17 Apr 2024 11:21:29 PM EDT\n",
      " ---------------------------------------------\n",
      "    HYPE version 5.24.0                  \n",
      " ---------------------------------------------\n",
      " New versions of HYPE at the HYPE Open Source \n",
      " Community website (hypecode.smhi.se), as well\n",
      " as information on up-coming courses.         \n",
      " ---------------------------------------------\n"
     ]
    },
    {
     "name": "stderr",
     "output_type": "stream",
     "text": [
      " -> Simulation will halt: successfully\n",
      "Note: The following floating-point exceptions are signalling: IEEE_UNDERFLOW_FLAG IEEE_DENORMAL\n",
      "STOP 0\n"
     ]
    },
    {
     "name": "stdout",
     "output_type": "stream",
     "text": [
      "end at Wed 17 Apr 2024 11:21:32 PM EDT\n"
     ]
    },
    {
     "name": "stderr",
     "output_type": "stream",
     "text": [
      "Restoring modules from user's fhimp-mods\n"
     ]
    },
    {
     "name": "stdout",
     "output_type": "stream",
     "text": [
      "start at Wed 17 Apr 2024 11:21:34 PM EDT\n",
      " ---------------------------------------------\n",
      "    HYPE version 5.24.0                  \n",
      " ---------------------------------------------\n",
      " New versions of HYPE at the HYPE Open Source \n",
      " Community website (hypecode.smhi.se), as well\n",
      " as information on up-coming courses.         \n",
      " ---------------------------------------------\n",
      "end at Wed 17 Apr 2024 11:21:34 PM EDT\n"
     ]
    },
    {
     "name": "stderr",
     "output_type": "stream",
     "text": [
      " -> Simulation will halt: successfully\n",
      "Note: The following floating-point exceptions are signalling: IEEE_UNDERFLOW_FLAG IEEE_DENORMAL\n",
      "STOP 0\n",
      "Restoring modules from user's fhimp-mods\n",
      " -> Simulation will halt: successfully\n",
      "Note: The following floating-point exceptions are signalling: IEEE_UNDERFLOW_FLAG IEEE_DENORMAL\n",
      "STOP 0\n"
     ]
    },
    {
     "name": "stdout",
     "output_type": "stream",
     "text": [
      "end at Wed 17 Apr 2024 11:21:35 PM EDT\n"
     ]
    },
    {
     "name": "stderr",
     "output_type": "stream",
     "text": [
      "Restoring modules from user's fhimp-mods\n"
     ]
    },
    {
     "name": "stdout",
     "output_type": "stream",
     "text": [
      "start at Wed 17 Apr 2024 11:21:38 PM EDT\n",
      " ---------------------------------------------\n",
      "    HYPE version 5.24.0                  \n",
      " ---------------------------------------------\n",
      " New versions of HYPE at the HYPE Open Source \n",
      " Community website (hypecode.smhi.se), as well\n",
      " as information on up-coming courses.         \n",
      " ---------------------------------------------\n"
     ]
    },
    {
     "name": "stderr",
     "output_type": "stream",
     "text": [
      " -> Simulation will halt: successfully\n",
      "Note: The following floating-point exceptions are signalling: IEEE_UNDERFLOW_FLAG IEEE_DENORMAL\n",
      "STOP 0\n"
     ]
    },
    {
     "name": "stdout",
     "output_type": "stream",
     "text": [
      "end at Wed 17 Apr 2024 11:21:40 PM EDT\n"
     ]
    },
    {
     "name": "stderr",
     "output_type": "stream",
     "text": [
      "Restoring modules from user's fhimp-mods\n"
     ]
    },
    {
     "name": "stdout",
     "output_type": "stream",
     "text": [
      "start at Wed 17 Apr 2024 11:21:40 PM EDT\n",
      " ---------------------------------------------\n",
      "    HYPE version 5.24.0                  \n",
      " ---------------------------------------------\n",
      " New versions of HYPE at the HYPE Open Source \n",
      " Community website (hypecode.smhi.se), as well\n",
      " as information on up-coming courses.         \n",
      " ---------------------------------------------\n",
      "start at Wed 17 Apr 2024 11:21:42 PM EDT\n",
      " ---------------------------------------------\n",
      "    HYPE version 5.24.0                  \n",
      " ---------------------------------------------\n",
      " New versions of HYPE at the HYPE Open Source \n",
      " Community website (hypecode.smhi.se), as well\n",
      " as information on up-coming courses.         \n",
      " ---------------------------------------------\n"
     ]
    },
    {
     "name": "stderr",
     "output_type": "stream",
     "text": [
      " -> Simulation will halt: successfully\n",
      "Note: The following floating-point exceptions are signalling: IEEE_UNDERFLOW_FLAG IEEE_DENORMAL\n",
      "STOP 0\n"
     ]
    },
    {
     "name": "stdout",
     "output_type": "stream",
     "text": [
      "end at Wed 17 Apr 2024 11:21:44 PM EDT\n"
     ]
    },
    {
     "name": "stderr",
     "output_type": "stream",
     "text": [
      "Restoring modules from user's fhimp-mods\n",
      " -> Simulation will halt: successfully\n",
      "Note: The following floating-point exceptions are signalling: IEEE_UNDERFLOW_FLAG IEEE_DENORMAL\n",
      "STOP 0\n"
     ]
    },
    {
     "name": "stdout",
     "output_type": "stream",
     "text": [
      "end at Wed 17 Apr 2024 11:21:46 PM EDT\n",
      "start at Wed 17 Apr 2024 11:21:46 PM EDT\n",
      " ---------------------------------------------\n",
      "    HYPE version 5.24.0                  \n",
      " ---------------------------------------------\n",
      " New versions of HYPE at the HYPE Open Source \n",
      " Community website (hypecode.smhi.se), as well\n",
      " as information on up-coming courses.         \n",
      " ---------------------------------------------\n"
     ]
    },
    {
     "name": "stderr",
     "output_type": "stream",
     "text": [
      "Restoring modules from user's fhimp-mods\n",
      " -> Simulation will halt: successfully\n",
      "Note: The following floating-point exceptions are signalling: IEEE_UNDERFLOW_FLAG IEEE_DENORMAL\n",
      "STOP 0\n"
     ]
    },
    {
     "name": "stdout",
     "output_type": "stream",
     "text": [
      "end at Wed 17 Apr 2024 11:21:48 PM EDT\n"
     ]
    },
    {
     "name": "stderr",
     "output_type": "stream",
     "text": [
      "Restoring modules from user's fhimp-mods\n"
     ]
    },
    {
     "name": "stdout",
     "output_type": "stream",
     "text": [
      "start at Wed 17 Apr 2024 11:21:51 PM EDT\n",
      " ---------------------------------------------\n",
      "    HYPE version 5.24.0                  \n",
      " ---------------------------------------------\n",
      " New versions of HYPE at the HYPE Open Source \n",
      " Community website (hypecode.smhi.se), as well\n",
      " as information on up-coming courses.         \n",
      " ---------------------------------------------\n"
     ]
    },
    {
     "name": "stderr",
     "output_type": "stream",
     "text": [
      " -> Simulation will halt: successfully\n",
      "Note: The following floating-point exceptions are signalling: IEEE_UNDERFLOW_FLAG IEEE_DENORMAL\n",
      "STOP 0\n"
     ]
    },
    {
     "name": "stdout",
     "output_type": "stream",
     "text": [
      "end at Wed 17 Apr 2024 11:21:52 PM EDT\n",
      "start at Wed 17 Apr 2024 11:21:53 PM EDT\n",
      " ---------------------------------------------\n",
      "    HYPE version 5.24.0                  \n",
      " ---------------------------------------------\n",
      " New versions of HYPE at the HYPE Open Source \n",
      " Community website (hypecode.smhi.se), as well\n",
      " as information on up-coming courses.         \n",
      " ---------------------------------------------\n"
     ]
    },
    {
     "name": "stderr",
     "output_type": "stream",
     "text": [
      "Restoring modules from user's fhimp-mods\n"
     ]
    },
    {
     "name": "stdout",
     "output_type": "stream",
     "text": [
      "start at Wed 17 Apr 2024 11:21:54 PM EDT\n",
      " ---------------------------------------------\n",
      "    HYPE version 5.24.0                  \n",
      " ---------------------------------------------\n",
      " New versions of HYPE at the HYPE Open Source \n",
      " Community website (hypecode.smhi.se), as well\n",
      " as information on up-coming courses.         \n",
      " ---------------------------------------------\n"
     ]
    },
    {
     "name": "stderr",
     "output_type": "stream",
     "text": [
      " -> Simulation will halt: successfully\n",
      "Note: The following floating-point exceptions are signalling: IEEE_UNDERFLOW_FLAG IEEE_DENORMAL\n",
      "STOP 0\n"
     ]
    },
    {
     "name": "stdout",
     "output_type": "stream",
     "text": [
      "end at Wed 17 Apr 2024 11:21:57 PM EDT\n"
     ]
    },
    {
     "name": "stderr",
     "output_type": "stream",
     "text": [
      "Restoring modules from user's fhimp-mods\n",
      " -> Simulation will halt: successfully\n",
      "Note: The following floating-point exceptions are signalling: IEEE_UNDERFLOW_FLAG IEEE_DENORMAL\n",
      "STOP 0\n"
     ]
    },
    {
     "name": "stdout",
     "output_type": "stream",
     "text": [
      "end at Wed 17 Apr 2024 11:21:59 PM EDT\n"
     ]
    },
    {
     "name": "stderr",
     "output_type": "stream",
     "text": [
      "Restoring modules from user's fhimp-mods\n"
     ]
    },
    {
     "name": "stdout",
     "output_type": "stream",
     "text": [
      "start at Wed 17 Apr 2024 11:21:59 PM EDT\n",
      " ---------------------------------------------\n",
      "    HYPE version 5.24.0                  \n",
      " ---------------------------------------------\n",
      " New versions of HYPE at the HYPE Open Source \n",
      " Community website (hypecode.smhi.se), as well\n",
      " as information on up-coming courses.         \n",
      " ---------------------------------------------\n"
     ]
    },
    {
     "name": "stderr",
     "output_type": "stream",
     "text": [
      " -> Simulation will halt: successfully\n",
      "Note: The following floating-point exceptions are signalling: IEEE_UNDERFLOW_FLAG IEEE_DENORMAL\n",
      "STOP 0\n"
     ]
    },
    {
     "name": "stdout",
     "output_type": "stream",
     "text": [
      "end at Wed 17 Apr 2024 11:22:00 PM EDT\n"
     ]
    },
    {
     "name": "stderr",
     "output_type": "stream",
     "text": [
      "Restoring modules from user's fhimp-mods\n"
     ]
    },
    {
     "name": "stdout",
     "output_type": "stream",
     "text": [
      "start at Wed 17 Apr 2024 11:22:03 PM EDT\n",
      " ---------------------------------------------\n",
      "    HYPE version 5.24.0                  \n",
      " ---------------------------------------------\n",
      " New versions of HYPE at the HYPE Open Source \n",
      " Community website (hypecode.smhi.se), as well\n",
      " as information on up-coming courses.         \n",
      " ---------------------------------------------\n",
      "start at Wed 17 Apr 2024 11:22:05 PM EDT\n",
      " ---------------------------------------------\n",
      "    HYPE version 5.24.0                  \n",
      " ---------------------------------------------\n",
      " New versions of HYPE at the HYPE Open Source \n",
      " Community website (hypecode.smhi.se), as well\n",
      " as information on up-coming courses.         \n",
      " ---------------------------------------------\n",
      "end at Wed 17 Apr 2024 11:22:05 PM EDT\n"
     ]
    },
    {
     "name": "stderr",
     "output_type": "stream",
     "text": [
      " -> Simulation will halt: successfully\n",
      "Note: The following floating-point exceptions are signalling: IEEE_UNDERFLOW_FLAG IEEE_DENORMAL\n",
      "STOP 0\n",
      "Restoring modules from user's fhimp-mods\n"
     ]
    },
    {
     "name": "stdout",
     "output_type": "stream",
     "text": [
      "start at Wed 17 Apr 2024 11:22:06 PM EDT\n",
      " ---------------------------------------------\n",
      "    HYPE version 5.24.0                  \n",
      " ---------------------------------------------\n",
      " New versions of HYPE at the HYPE Open Source \n",
      " Community website (hypecode.smhi.se), as well\n",
      " as information on up-coming courses.         \n",
      " ---------------------------------------------\n"
     ]
    },
    {
     "name": "stderr",
     "output_type": "stream",
     "text": [
      " -> Simulation will halt: successfully\n",
      "Note: The following floating-point exceptions are signalling: IEEE_UNDERFLOW_FLAG IEEE_DENORMAL\n",
      "STOP 0\n"
     ]
    },
    {
     "name": "stdout",
     "output_type": "stream",
     "text": [
      "end at Wed 17 Apr 2024 11:22:09 PM EDT\n"
     ]
    },
    {
     "name": "stderr",
     "output_type": "stream",
     "text": [
      "Restoring modules from user's fhimp-mods\n",
      " -> Simulation will halt: successfully\n",
      "Note: The following floating-point exceptions are signalling: IEEE_UNDERFLOW_FLAG IEEE_DENORMAL\n",
      "STOP 0\n"
     ]
    },
    {
     "name": "stdout",
     "output_type": "stream",
     "text": [
      "end at Wed 17 Apr 2024 11:22:11 PM EDT\n"
     ]
    },
    {
     "name": "stderr",
     "output_type": "stream",
     "text": [
      "Restoring modules from user's fhimp-mods\n"
     ]
    },
    {
     "name": "stdout",
     "output_type": "stream",
     "text": [
      "start at Wed 17 Apr 2024 11:22:12 PM EDT\n",
      " ---------------------------------------------\n",
      "    HYPE version 5.24.0                  \n",
      " ---------------------------------------------\n",
      " New versions of HYPE at the HYPE Open Source \n",
      " Community website (hypecode.smhi.se), as well\n",
      " as information on up-coming courses.         \n",
      " ---------------------------------------------\n"
     ]
    },
    {
     "name": "stderr",
     "output_type": "stream",
     "text": [
      " -> Simulation will halt: successfully\n",
      "Note: The following floating-point exceptions are signalling: IEEE_UNDERFLOW_FLAG IEEE_DENORMAL\n",
      "STOP 0\n"
     ]
    },
    {
     "name": "stdout",
     "output_type": "stream",
     "text": [
      "end at Wed 17 Apr 2024 11:22:12 PM EDT\n"
     ]
    },
    {
     "name": "stderr",
     "output_type": "stream",
     "text": [
      "Restoring modules from user's fhimp-mods\n"
     ]
    },
    {
     "name": "stdout",
     "output_type": "stream",
     "text": [
      "start at Wed 17 Apr 2024 11:22:16 PM EDT\n",
      " ---------------------------------------------\n",
      "    HYPE version 5.24.0                  \n",
      " ---------------------------------------------\n",
      " New versions of HYPE at the HYPE Open Source \n",
      " Community website (hypecode.smhi.se), as well\n",
      " as information on up-coming courses.         \n",
      " ---------------------------------------------\n",
      "start at Wed 17 Apr 2024 11:22:17 PM EDT\n",
      " ---------------------------------------------\n",
      "    HYPE version 5.24.0                  \n",
      " ---------------------------------------------\n",
      " New versions of HYPE at the HYPE Open Source \n",
      " Community website (hypecode.smhi.se), as well\n",
      " as information on up-coming courses.         \n",
      " ---------------------------------------------\n"
     ]
    },
    {
     "name": "stderr",
     "output_type": "stream",
     "text": [
      " -> Simulation will halt: successfully\n",
      "Note: The following floating-point exceptions are signalling: IEEE_UNDERFLOW_FLAG IEEE_DENORMAL\n",
      "STOP 0\n"
     ]
    },
    {
     "name": "stdout",
     "output_type": "stream",
     "text": [
      "end at Wed 17 Apr 2024 11:22:18 PM EDT\n"
     ]
    },
    {
     "name": "stderr",
     "output_type": "stream",
     "text": [
      "Restoring modules from user's fhimp-mods\n"
     ]
    },
    {
     "name": "stdout",
     "output_type": "stream",
     "text": [
      "start at Wed 17 Apr 2024 11:22:19 PM EDT\n",
      " ---------------------------------------------\n",
      "    HYPE version 5.24.0                  \n",
      " ---------------------------------------------\n",
      " New versions of HYPE at the HYPE Open Source \n",
      " Community website (hypecode.smhi.se), as well\n",
      " as information on up-coming courses.         \n",
      " ---------------------------------------------\n"
     ]
    },
    {
     "name": "stderr",
     "output_type": "stream",
     "text": [
      " -> Simulation will halt: successfully\n",
      "Note: The following floating-point exceptions are signalling: IEEE_UNDERFLOW_FLAG IEEE_DENORMAL\n",
      "STOP 0\n"
     ]
    },
    {
     "name": "stdout",
     "output_type": "stream",
     "text": [
      "end at Wed 17 Apr 2024 11:22:22 PM EDT\n"
     ]
    },
    {
     "name": "stderr",
     "output_type": "stream",
     "text": [
      "Restoring modules from user's fhimp-mods\n",
      " -> Simulation will halt: successfully\n",
      "Note: The following floating-point exceptions are signalling: IEEE_UNDERFLOW_FLAG IEEE_DENORMAL\n",
      "STOP 0\n"
     ]
    },
    {
     "name": "stdout",
     "output_type": "stream",
     "text": [
      "end at Wed 17 Apr 2024 11:22:23 PM EDT\n"
     ]
    },
    {
     "name": "stderr",
     "output_type": "stream",
     "text": [
      "Restoring modules from user's fhimp-mods\n"
     ]
    },
    {
     "name": "stdout",
     "output_type": "stream",
     "text": [
      "start at Wed 17 Apr 2024 11:22:25 PM EDT\n",
      " ---------------------------------------------\n",
      "    HYPE version 5.24.0                  \n",
      " ---------------------------------------------\n",
      " New versions of HYPE at the HYPE Open Source \n",
      " Community website (hypecode.smhi.se), as well\n",
      " as information on up-coming courses.         \n",
      " ---------------------------------------------\n"
     ]
    },
    {
     "name": "stderr",
     "output_type": "stream",
     "text": [
      " -> Simulation will halt: successfully\n",
      "Note: The following floating-point exceptions are signalling: IEEE_UNDERFLOW_FLAG IEEE_DENORMAL\n",
      "STOP 0\n"
     ]
    },
    {
     "name": "stdout",
     "output_type": "stream",
     "text": [
      "end at Wed 17 Apr 2024 11:22:25 PM EDT\n"
     ]
    },
    {
     "name": "stderr",
     "output_type": "stream",
     "text": [
      "Restoring modules from user's fhimp-mods\n"
     ]
    },
    {
     "name": "stdout",
     "output_type": "stream",
     "text": [
      "start at Wed 17 Apr 2024 11:22:28 PM EDT\n",
      " ---------------------------------------------\n",
      "    HYPE version 5.24.0                  \n",
      " ---------------------------------------------\n",
      " New versions of HYPE at the HYPE Open Source \n",
      " Community website (hypecode.smhi.se), as well\n",
      " as information on up-coming courses.         \n",
      " ---------------------------------------------\n",
      "start at Wed 17 Apr 2024 11:22:30 PM EDT\n",
      " ---------------------------------------------\n",
      "    HYPE version 5.24.0                  \n",
      " ---------------------------------------------\n",
      " New versions of HYPE at the HYPE Open Source \n",
      " Community website (hypecode.smhi.se), as well\n",
      " as information on up-coming courses.         \n",
      " ---------------------------------------------\n"
     ]
    },
    {
     "name": "stderr",
     "output_type": "stream",
     "text": [
      " -> Simulation will halt: successfully\n",
      "Note: The following floating-point exceptions are signalling: IEEE_UNDERFLOW_FLAG IEEE_DENORMAL\n",
      "STOP 0\n"
     ]
    },
    {
     "name": "stdout",
     "output_type": "stream",
     "text": [
      "end at Wed 17 Apr 2024 11:22:31 PM EDT\n"
     ]
    },
    {
     "name": "stderr",
     "output_type": "stream",
     "text": [
      "Restoring modules from user's fhimp-mods\n"
     ]
    },
    {
     "name": "stdout",
     "output_type": "stream",
     "text": [
      "start at Wed 17 Apr 2024 11:22:31 PM EDT\n",
      " ---------------------------------------------\n",
      "    HYPE version 5.24.0                  \n",
      " ---------------------------------------------\n",
      " New versions of HYPE at the HYPE Open Source \n",
      " Community website (hypecode.smhi.se), as well\n",
      " as information on up-coming courses.         \n",
      " ---------------------------------------------\n"
     ]
    },
    {
     "name": "stderr",
     "output_type": "stream",
     "text": [
      " -> Simulation will halt: successfully\n",
      "Note: The following floating-point exceptions are signalling: IEEE_UNDERFLOW_FLAG IEEE_DENORMAL\n",
      "STOP 0\n"
     ]
    },
    {
     "name": "stdout",
     "output_type": "stream",
     "text": [
      "end at Wed 17 Apr 2024 11:22:34 PM EDT\n"
     ]
    },
    {
     "name": "stderr",
     "output_type": "stream",
     "text": [
      "Restoring modules from user's fhimp-mods\n",
      " -> Simulation will halt: successfully\n",
      "Note: The following floating-point exceptions are signalling: IEEE_UNDERFLOW_FLAG IEEE_DENORMAL\n",
      "STOP 0\n"
     ]
    },
    {
     "name": "stdout",
     "output_type": "stream",
     "text": [
      "end at Wed 17 Apr 2024 11:22:36 PM EDT\n"
     ]
    },
    {
     "name": "stderr",
     "output_type": "stream",
     "text": [
      "Restoring modules from user's fhimp-mods\n",
      " -> Simulation will halt: successfully\n",
      "Note: The following floating-point exceptions are signalling: IEEE_UNDERFLOW_FLAG IEEE_DENORMAL\n",
      "STOP 0\n"
     ]
    },
    {
     "name": "stdout",
     "output_type": "stream",
     "text": [
      "end at Wed 17 Apr 2024 11:22:37 PM EDT\n",
      "start at Wed 17 Apr 2024 11:22:37 PM EDT\n",
      " ---------------------------------------------\n",
      "    HYPE version 5.24.0                  \n",
      " ---------------------------------------------\n",
      " New versions of HYPE at the HYPE Open Source \n",
      " Community website (hypecode.smhi.se), as well\n",
      " as information on up-coming courses.         \n",
      " ---------------------------------------------\n"
     ]
    },
    {
     "name": "stderr",
     "output_type": "stream",
     "text": [
      "Restoring modules from user's fhimp-mods\n"
     ]
    },
    {
     "name": "stdout",
     "output_type": "stream",
     "text": [
      "start at Wed 17 Apr 2024 11:22:41 PM EDT\n",
      " ---------------------------------------------\n",
      "    HYPE version 5.24.0                  \n",
      " ---------------------------------------------\n",
      " New versions of HYPE at the HYPE Open Source \n",
      " Community website (hypecode.smhi.se), as well\n",
      " as information on up-coming courses.         \n",
      " ---------------------------------------------\n",
      "start at Wed 17 Apr 2024 11:22:42 PM EDT\n",
      " ---------------------------------------------\n",
      "    HYPE version 5.24.0                  \n",
      " ---------------------------------------------\n",
      " New versions of HYPE at the HYPE Open Source \n",
      " Community website (hypecode.smhi.se), as well\n",
      " as information on up-coming courses.         \n",
      " ---------------------------------------------\n"
     ]
    },
    {
     "name": "stderr",
     "output_type": "stream",
     "text": [
      " -> Simulation will halt: successfully\n",
      "Note: The following floating-point exceptions are signalling: IEEE_UNDERFLOW_FLAG IEEE_DENORMAL\n",
      "STOP 0\n"
     ]
    },
    {
     "name": "stdout",
     "output_type": "stream",
     "text": [
      "end at Wed 17 Apr 2024 11:22:43 PM EDT\n",
      "start at Wed 17 Apr 2024 11:22:44 PM EDT\n",
      " ---------------------------------------------\n",
      "    HYPE version 5.24.0                  \n",
      " ---------------------------------------------\n",
      " New versions of HYPE at the HYPE Open Source \n",
      " Community website (hypecode.smhi.se), as well\n",
      " as information on up-coming courses.         \n",
      " ---------------------------------------------\n"
     ]
    },
    {
     "name": "stderr",
     "output_type": "stream",
     "text": [
      "Restoring modules from user's fhimp-mods\n",
      " -> Simulation will halt: successfully\n",
      "Note: The following floating-point exceptions are signalling: IEEE_UNDERFLOW_FLAG IEEE_DENORMAL\n",
      "STOP 0\n"
     ]
    },
    {
     "name": "stdout",
     "output_type": "stream",
     "text": [
      "end at Wed 17 Apr 2024 11:22:47 PM EDT\n"
     ]
    },
    {
     "name": "stderr",
     "output_type": "stream",
     "text": [
      "Restoring modules from user's fhimp-mods\n",
      " -> Simulation will halt: successfully\n",
      "Note: The following floating-point exceptions are signalling: IEEE_UNDERFLOW_FLAG IEEE_DENORMAL\n",
      "STOP 0\n"
     ]
    },
    {
     "name": "stdout",
     "output_type": "stream",
     "text": [
      "end at Wed 17 Apr 2024 11:22:48 PM EDT\n"
     ]
    },
    {
     "name": "stderr",
     "output_type": "stream",
     "text": [
      "Restoring modules from user's fhimp-mods\n",
      " -> Simulation will halt: successfully\n",
      "Note: The following floating-point exceptions are signalling: IEEE_UNDERFLOW_FLAG IEEE_DENORMAL\n",
      "STOP 0\n"
     ]
    },
    {
     "name": "stdout",
     "output_type": "stream",
     "text": [
      "end at Wed 17 Apr 2024 11:22:50 PM EDT\n",
      "start at Wed 17 Apr 2024 11:22:50 PM EDT\n",
      " ---------------------------------------------\n",
      "    HYPE version 5.24.0                  \n",
      " ---------------------------------------------\n",
      " New versions of HYPE at the HYPE Open Source \n",
      " Community website (hypecode.smhi.se), as well\n",
      " as information on up-coming courses.         \n",
      " ---------------------------------------------\n"
     ]
    },
    {
     "name": "stderr",
     "output_type": "stream",
     "text": [
      "Restoring modules from user's fhimp-mods\n"
     ]
    },
    {
     "name": "stdout",
     "output_type": "stream",
     "text": [
      "start at Wed 17 Apr 2024 11:22:53 PM EDT\n",
      " ---------------------------------------------\n",
      "    HYPE version 5.24.0                  \n",
      " ---------------------------------------------\n",
      " New versions of HYPE at the HYPE Open Source \n",
      " Community website (hypecode.smhi.se), as well\n",
      " as information on up-coming courses.         \n",
      " ---------------------------------------------\n",
      "start at Wed 17 Apr 2024 11:22:55 PM EDT\n",
      " ---------------------------------------------\n",
      "    HYPE version 5.24.0                  \n",
      " ---------------------------------------------\n",
      " New versions of HYPE at the HYPE Open Source \n",
      " Community website (hypecode.smhi.se), as well\n",
      " as information on up-coming courses.         \n",
      " ---------------------------------------------\n"
     ]
    },
    {
     "name": "stderr",
     "output_type": "stream",
     "text": [
      " -> Simulation will halt: successfully\n",
      "Note: The following floating-point exceptions are signalling: IEEE_UNDERFLOW_FLAG IEEE_DENORMAL\n",
      "STOP 0\n"
     ]
    },
    {
     "name": "stdout",
     "output_type": "stream",
     "text": [
      "end at Wed 17 Apr 2024 11:22:56 PM EDT\n"
     ]
    },
    {
     "name": "stderr",
     "output_type": "stream",
     "text": [
      "Restoring modules from user's fhimp-mods\n"
     ]
    },
    {
     "name": "stdout",
     "output_type": "stream",
     "text": [
      "start at Wed 17 Apr 2024 11:22:56 PM EDT\n",
      " ---------------------------------------------\n",
      "    HYPE version 5.24.0                  \n",
      " ---------------------------------------------\n",
      " New versions of HYPE at the HYPE Open Source \n",
      " Community website (hypecode.smhi.se), as well\n",
      " as information on up-coming courses.         \n",
      " ---------------------------------------------\n"
     ]
    },
    {
     "name": "stderr",
     "output_type": "stream",
     "text": [
      " -> Simulation will halt: successfully\n",
      "Note: The following floating-point exceptions are signalling: IEEE_UNDERFLOW_FLAG IEEE_DENORMAL\n",
      "STOP 0\n"
     ]
    },
    {
     "name": "stdout",
     "output_type": "stream",
     "text": [
      "end at Wed 17 Apr 2024 11:22:59 PM EDT\n"
     ]
    },
    {
     "name": "stderr",
     "output_type": "stream",
     "text": [
      "Restoring modules from user's fhimp-mods\n",
      " -> Simulation will halt: successfully\n",
      "Note: The following floating-point exceptions are signalling: IEEE_UNDERFLOW_FLAG IEEE_DENORMAL\n",
      "STOP 0\n"
     ]
    },
    {
     "name": "stdout",
     "output_type": "stream",
     "text": [
      "end at Wed 17 Apr 2024 11:23:01 PM EDT\n"
     ]
    },
    {
     "name": "stderr",
     "output_type": "stream",
     "text": [
      "Restoring modules from user's fhimp-mods\n"
     ]
    },
    {
     "name": "stdout",
     "output_type": "stream",
     "text": [
      "start at Wed 17 Apr 2024 11:23:03 PM EDT\n",
      " ---------------------------------------------\n",
      "    HYPE version 5.24.0                  \n",
      " ---------------------------------------------\n",
      " New versions of HYPE at the HYPE Open Source \n",
      " Community website (hypecode.smhi.se), as well\n",
      " as information on up-coming courses.         \n",
      " ---------------------------------------------\n",
      "end at Wed 17 Apr 2024 11:23:03 PM EDT\n"
     ]
    },
    {
     "name": "stderr",
     "output_type": "stream",
     "text": [
      " -> Simulation will halt: successfully\n",
      "Note: The following floating-point exceptions are signalling: IEEE_UNDERFLOW_FLAG IEEE_DENORMAL\n",
      "STOP 0\n",
      "Restoring modules from user's fhimp-mods\n"
     ]
    },
    {
     "name": "stdout",
     "output_type": "stream",
     "text": [
      "start at Wed 17 Apr 2024 11:23:05 PM EDT\n",
      " ---------------------------------------------\n",
      "    HYPE version 5.24.0                  \n",
      " ---------------------------------------------\n",
      " New versions of HYPE at the HYPE Open Source \n",
      " Community website (hypecode.smhi.se), as well\n",
      " as information on up-coming courses.         \n",
      " ---------------------------------------------\n",
      "start at Wed 17 Apr 2024 11:23:07 PM EDT\n",
      " ---------------------------------------------\n",
      "    HYPE version 5.24.0                  \n",
      " ---------------------------------------------\n",
      " New versions of HYPE at the HYPE Open Source \n",
      " Community website (hypecode.smhi.se), as well\n",
      " as information on up-coming courses.         \n",
      " ---------------------------------------------\n"
     ]
    },
    {
     "name": "stderr",
     "output_type": "stream",
     "text": [
      " -> Simulation will halt: successfully\n",
      "Note: The following floating-point exceptions are signalling: IEEE_UNDERFLOW_FLAG IEEE_DENORMAL\n",
      "STOP 0\n"
     ]
    },
    {
     "name": "stdout",
     "output_type": "stream",
     "text": [
      "end at Wed 17 Apr 2024 11:23:09 PM EDT\n"
     ]
    },
    {
     "name": "stderr",
     "output_type": "stream",
     "text": [
      "Restoring modules from user's fhimp-mods\n"
     ]
    },
    {
     "name": "stdout",
     "output_type": "stream",
     "text": [
      "start at Wed 17 Apr 2024 11:23:09 PM EDT\n",
      " ---------------------------------------------\n",
      "    HYPE version 5.24.0                  \n",
      " ---------------------------------------------\n",
      " New versions of HYPE at the HYPE Open Source \n",
      " Community website (hypecode.smhi.se), as well\n",
      " as information on up-coming courses.         \n",
      " ---------------------------------------------\n"
     ]
    },
    {
     "name": "stderr",
     "output_type": "stream",
     "text": [
      " -> Simulation will halt: successfully\n",
      "Note: The following floating-point exceptions are signalling: IEEE_UNDERFLOW_FLAG IEEE_DENORMAL\n",
      "STOP 0\n"
     ]
    },
    {
     "name": "stdout",
     "output_type": "stream",
     "text": [
      "end at Wed 17 Apr 2024 11:23:11 PM EDT\n"
     ]
    },
    {
     "name": "stderr",
     "output_type": "stream",
     "text": [
      "/cvmfs/soft.computecanada.ca/custom/software/lua/bin/lua: ...stom/software/lmod/lmod/libexec/../tools/capture.lua:75: interrupted!\n",
      "stack traceback:\n",
      "\t[C]: in function 'read'\n",
      "\t...stom/software/lmod/lmod/libexec/../tools/capture.lua:75: in function 'capture'\n",
      "\t...tecanada.ca/custom/software/lmod/lmod/libexec/MT.lua:1103: in function 'setHashSum'\n",
      "\t...tecanada.ca/custom/software/lmod/lmod/libexec/MT.lua:1298: in function 'getMTfromFile'\n",
      "\t...da.ca/custom/software/lmod/lmod/libexec/cmdfuncs.lua:688: in function 'cmd'\n",
      "\t...putecanada.ca/custom/software/lmod/lmod/libexec/lmod:497: in function 'main'\n",
      "\t...putecanada.ca/custom/software/lmod/lmod/libexec/lmod:567: in main chunk\n",
      "\t[C]: ?\n",
      "Restoring modules from user's fhimp-mods\n"
     ]
    },
    {
     "name": "stdout",
     "output_type": "stream",
     "text": [
      "start at Wed 17 Apr 2024 11:23:11 PM EDT\n",
      " ---------------------------------------------\n",
      "    HYPE version 5.24.0                  \n",
      " ---------------------------------------------\n",
      " New versions of HYPE at the HYPE Open Source \n",
      " Community website (hypecode.smhi.se), as well\n",
      " as information on up-coming courses.         \n",
      " ---------------------------------------------\n"
     ]
    },
    {
     "name": "stderr",
     "output_type": "stream",
     "text": [
      " -> Simulation will halt: successfully\n",
      "Note: The following floating-point exceptions are signalling: IEEE_UNDERFLOW_FLAG IEEE_DENORMAL\n",
      "STOP 0\n"
     ]
    },
    {
     "name": "stdout",
     "output_type": "stream",
     "text": [
      "end at Wed 17 Apr 2024 11:23:13 PM EDT\n"
     ]
    },
    {
     "name": "stderr",
     "output_type": "stream",
     "text": [
      "Restoring modules from user's fhimp-mods\n",
      " -> Simulation will halt: successfully\n",
      "Note: The following floating-point exceptions are signalling: IEEE_UNDERFLOW_FLAG IEEE_DENORMAL\n",
      "STOP 0\n"
     ]
    },
    {
     "name": "stdout",
     "output_type": "stream",
     "text": [
      "end at Wed 17 Apr 2024 11:23:15 PM EDT\n"
     ]
    },
    {
     "name": "stderr",
     "output_type": "stream",
     "text": [
      "Restoring modules from user's fhimp-mods\n",
      " -> Simulation will halt: successfully\n",
      "Note: The following floating-point exceptions are signalling: IEEE_UNDERFLOW_FLAG IEEE_DENORMAL\n",
      "STOP 0\n"
     ]
    },
    {
     "name": "stdout",
     "output_type": "stream",
     "text": [
      "end at Wed 17 Apr 2024 11:23:17 PM EDT\n",
      "start at Wed 17 Apr 2024 11:23:18 PM EDT\n",
      " ---------------------------------------------\n",
      "    HYPE version 5.24.0                  \n",
      " ---------------------------------------------\n",
      " New versions of HYPE at the HYPE Open Source \n",
      " Community website (hypecode.smhi.se), as well\n",
      " as information on up-coming courses.         \n",
      " ---------------------------------------------\n"
     ]
    },
    {
     "name": "stderr",
     "output_type": "stream",
     "text": [
      "Restoring modules from user's fhimp-mods\n"
     ]
    },
    {
     "name": "stdout",
     "output_type": "stream",
     "text": [
      "start at Wed 17 Apr 2024 11:23:19 PM EDT\n",
      " ---------------------------------------------\n",
      "    HYPE version 5.24.0                  \n",
      " ---------------------------------------------\n",
      " New versions of HYPE at the HYPE Open Source \n",
      " Community website (hypecode.smhi.se), as well\n",
      " as information on up-coming courses.         \n",
      " ---------------------------------------------\n",
      "start at Wed 17 Apr 2024 11:23:20 PM EDT\n",
      " ---------------------------------------------\n",
      "    HYPE version 5.24.0                  \n",
      " ---------------------------------------------\n",
      " New versions of HYPE at the HYPE Open Source \n",
      " Community website (hypecode.smhi.se), as well\n",
      " as information on up-coming courses.         \n",
      " ---------------------------------------------\n"
     ]
    },
    {
     "name": "stderr",
     "output_type": "stream",
     "text": [
      "/cvmfs/soft.computecanada.ca/custom/software/lua/bin/lua: interrupted!\n",
      "stack traceback:\n",
      "\t[C]: ?\n",
      "\t[C]: in function 'require'\n",
      "\t...ada.ca/custom/software/lmod/lmod/libexec/sandbox.lua:53: in main chunk\n",
      "\t[C]: in function 'require'\n",
      "\t...custom/software/lmod/lmod/libexec/loadModuleFile.lua:47: in main chunk\n",
      "\t[C]: in function 'require'\n",
      "\t...nada.ca/custom/software/lmod/lmod/libexec/Master.lua:40: in main chunk\n",
      "\t[C]: in function 'require'\n",
      "\t.../custom/software/lmod/lmod/libexec/MasterControl.lua:43: in main chunk\n",
      "\t[C]: in function 'require'\n",
      "\t....ca/custom/software/lmod/lmod/libexec/computeHashSum:99: in main chunk\n",
      "\t[C]: ?\n",
      "/cvmfs/soft.computecanada.ca/custom/software/lua/bin/lua: ...stom/software/lmod/lmod/libexec/../tools/capture.lua:75: interrupted!\n",
      "stack traceback:\n",
      "\t[C]: in function 'read'\n",
      "\t...stom/software/lmod/lmod/libexec/../tools/capture.lua:75: in function 'capture'\n",
      "\t...tecanada.ca/custom/software/lmod/lmod/libexec/MT.lua:1103: in function 'setHashSum'\n",
      "\t...tecanada.ca/custom/software/lmod/lmod/libexec/MT.lua:1298: in function 'getMTfromFile'\n",
      "\t...da.ca/custom/software/lmod/lmod/libexec/cmdfuncs.lua:688: in function 'cmd'\n",
      "\t...putecanada.ca/custom/software/lmod/lmod/libexec/lmod:497: in function 'main'\n",
      "\t...putecanada.ca/custom/software/lmod/lmod/libexec/lmod:567: in main chunk\n",
      "\t[C]: ?\n",
      "/cvmfs/soft.computecanada.ca/custom/software/lua/bin/lua: interrupted!\n",
      "stack traceback:\n",
      "\t[C]: ?\n",
      "\t[C]: in function 'require'\n",
      "\t...m/software/lmod/lmod/libexec/../shells/BaseShell.lua:290: in function 'l_createShellTbl'\n",
      "\t...m/software/lmod/lmod/libexec/../shells/BaseShell.lua:330: in function 'build'\n",
      "\t....ca/custom/software/lmod/lmod/libexec/computeHashSum:130: in function 'main'\n",
      "\t....ca/custom/software/lmod/lmod/libexec/computeHashSum:246: in main chunk\n",
      "\t[C]: ?\n",
      "/cvmfs/soft.computecanada.ca/custom/software/lua/bin/lua: ...stom/software/lmod/lmod/libexec/../tools/capture.lua:75: interrupted!\n",
      "stack traceback:\n",
      "\t[C]: in function 'read'\n",
      "\t...stom/software/lmod/lmod/libexec/../tools/capture.lua:75: in function 'capture'\n",
      "\t...tecanada.ca/custom/software/lmod/lmod/libexec/MT.lua:1103: in function 'setHashSum'\n",
      "\t...tecanada.ca/custom/software/lmod/lmod/libexec/MT.lua:1298: in function 'getMTfromFile'\n",
      "\t...da.ca/custom/software/lmod/lmod/libexec/cmdfuncs.lua:688: in function 'cmd'\n",
      "\t...putecanada.ca/custom/software/lmod/lmod/libexec/lmod:497: in function 'main'\n",
      "\t...putecanada.ca/custom/software/lmod/lmod/libexec/lmod:567: in main chunk\n",
      "\t[C]: ?\n",
      "date: write error: Broken pipe\n"
     ]
    }
   ],
   "source": [
    "UPDobj =  UDP(CaseName = 'HYPE',\n",
    "              ParametersDictionary = {'param_temp': {'file': './HYPE/GeoClass.txt', 'lower': 0.2, 'upper': 1}},\n",
    "              NumberObj = 1,\n",
    "              WorkingFolder = '/home/shg096/pygmo_mizuRoute_Diefenbaker/HYPE_run/',\n",
    "              ModelSetupFolder = '/home/shg096/pygmo_mizuRoute_Diefenbaker/HYPE_temp/')\n",
    "\n",
    "# print(UPDobj.CaseName)\n",
    "# print(UPDobj.ParametersNames)\n",
    "# print(UPDobj.ParametersNames)\n",
    "# print(type(UPDobj.ParametersNames))\n",
    "\n",
    "\n",
    "# # serial\n",
    "# prob = pg.problem(UPDobj)\n",
    "# algo = pg.algorithm(pg.sga())\n",
    "# pop = pg.population(prob, size=200)\n",
    "# pop = algo.evolve(pop)\n",
    "# print(pop)\n",
    "# # extract results\n",
    "# fits, vectors = pop.get_f(), pop.get_x()\n",
    "# print(fits[0])\n",
    "# print(vectors[0,:])\n",
    "# # extract and print non-dominated fronts\n",
    "# ndf, dl, dc, ndr = pg.fast_non_dominated_sorting(fits)\n",
    "\n",
    "\n",
    "if __name__ == \"__main__\": # https://github.com/esa/pagmo2/issues/199\n",
    "    \n",
    "    # set up the number of processors\n",
    "    nworkers = GetNumProcessor()\n",
    "    print('number of network is: ',nworkers)\n",
    "    pg.mp_island.init_pool(nworkers)\n",
    "\n",
    "    # Problem definition\n",
    "    prob = pg.problem(UPDobj)\n",
    "\n",
    "    # algorithm\n",
    "    # algo = pg.algorithm(pg.sga())\n",
    "    # algo = pg.algorithm(pg.de())\n",
    "    # algo = pg.algorithm(pg.sea())\n",
    "    algo = pg.algorithm(pg.pso())\n",
    "    # algo = pg.algorithm(pg.pso_gen())\n",
    "\n",
    "    # set up archiopelago\n",
    "    archi = pg.archipelago(n= nworkers, algo = algo, prob = prob, pop_size = 20, udi=pg.mp_island())\n",
    "\n",
    "    # evolve the archis\n",
    "    archi.evolve(20)\n",
    "    archi.wait()\n",
    "    print(archi)\n",
    "    print(archi.get_champions_f())\n",
    "    print(archi.get_champions_x())\n",
    "    print('-----------------------------------')"
   ]
  },
  {
   "cell_type": "code",
   "execution_count": null,
   "id": "637df995-d55e-47d5-a1b7-d48097b9bce5",
   "metadata": {},
   "outputs": [],
   "source": [
    "import xarray as xr\n",
    "\n",
    "ds = xr.open_dataset('HYPE/results/timeCOUT.nc')\n",
    "ds"
   ]
  },
  {
   "cell_type": "code",
   "execution_count": null,
   "id": "d2479d54-8f47-4c22-bfbe-37fcd4dfc86b",
   "metadata": {},
   "outputs": [],
   "source": [
    "import xarray as xr\n",
    "\n",
    "ds = xr.open_dataset('observation/observation.nc')\n",
    "ds"
   ]
  },
  {
   "cell_type": "code",
   "execution_count": null,
   "id": "63c85a45-e3fe-4428-b68a-6eb02d637a47",
   "metadata": {},
   "outputs": [],
   "source": []
  }
 ],
 "metadata": {
  "kernelspec": {
   "display_name": "pygmo-env",
   "language": "python",
   "name": "pygmo-env"
  },
  "language_info": {
   "codemirror_mode": {
    "name": "ipython",
    "version": 3
   },
   "file_extension": ".py",
   "mimetype": "text/x-python",
   "name": "python",
   "nbconvert_exporter": "python",
   "pygments_lexer": "ipython3",
   "version": "3.8.10"
  }
 },
 "nbformat": 4,
 "nbformat_minor": 5
}
